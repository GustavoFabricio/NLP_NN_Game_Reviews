{
 "cells": [
  {
   "cell_type": "markdown",
   "metadata": {},
   "source": [
    "# 1. Import Libraries"
   ]
  },
  {
   "cell_type": "code",
   "execution_count": 1,
   "metadata": {},
   "outputs": [
    {
     "name": "stderr",
     "output_type": "stream",
     "text": [
      "Using TensorFlow backend.\n"
     ]
    }
   ],
   "source": [
    "import numpy as np\n",
    "import pandas as pd\n",
    "import matplotlib.pyplot as plt\n",
    "import re\n",
    "import os\n",
    "from tqdm import tqdm_notebook as tqdm\n",
    "from nltk.corpus import stopwords\n",
    "from nltk.stem.wordnet import WordNetLemmatizer\n",
    "from nltk.tokenize import word_tokenize\n",
    "from nltk.corpus import wordnet\n",
    "from nltk.stem import SnowballStemmer\n",
    "from bs4 import BeautifulSoup\n",
    "import string\n",
    "import nltk\n",
    "from sklearn.feature_extraction.text import CountVectorizer\n",
    "from sklearn.metrics import classification_report\n",
    "from sklearn.metrics import confusion_matrix\n",
    "from sklearn.model_selection import train_test_split\n",
    "from langdetect import detect\n",
    "import random\n",
    "from random import shuffle\n",
    "import pandas as pd\n",
    "from tensorflow.keras.layers import Dense\n",
    "from tensorflow.keras.models import Sequential\n",
    "from sklearn.feature_extraction.text import CountVectorizer\n",
    "from sklearn.model_selection import train_test_split\n",
    "from tensorflow.keras.callbacks import CSVLogger\n",
    "from keras import backend as K\n",
    "from tensorflow.keras import regularizers\n",
    "from tensorflow.keras.layers import Dropout\n",
    "from tensorflow.keras.layers import Flatten\n",
    "from tensorflow.keras.models import load_model\n",
    "from tensorflow.keras.models import model_from_json\n",
    "import json"
   ]
  },
  {
   "cell_type": "markdown",
   "metadata": {},
   "source": [
    "# 2. Import Data, Overview"
   ]
  },
  {
   "cell_type": "code",
   "execution_count": 2,
   "metadata": {},
   "outputs": [],
   "source": [
    "data_reviews = pd.read_csv('steam_reviews.csv')"
   ]
  },
  {
   "cell_type": "code",
   "execution_count": 3,
   "metadata": {},
   "outputs": [
    {
     "data": {
      "text/html": [
       "<div>\n",
       "<style scoped>\n",
       "    .dataframe tbody tr th:only-of-type {\n",
       "        vertical-align: middle;\n",
       "    }\n",
       "\n",
       "    .dataframe tbody tr th {\n",
       "        vertical-align: top;\n",
       "    }\n",
       "\n",
       "    .dataframe thead th {\n",
       "        text-align: right;\n",
       "    }\n",
       "</style>\n",
       "<table border=\"1\" class=\"dataframe\">\n",
       "  <thead>\n",
       "    <tr style=\"text-align: right;\">\n",
       "      <th></th>\n",
       "      <th>date_posted</th>\n",
       "      <th>funny</th>\n",
       "      <th>helpful</th>\n",
       "      <th>hour_played</th>\n",
       "      <th>is_early_access_review</th>\n",
       "      <th>recommendation</th>\n",
       "      <th>review</th>\n",
       "      <th>title</th>\n",
       "    </tr>\n",
       "  </thead>\n",
       "  <tbody>\n",
       "    <tr>\n",
       "      <th>0</th>\n",
       "      <td>2019-02-10</td>\n",
       "      <td>2</td>\n",
       "      <td>4</td>\n",
       "      <td>578</td>\n",
       "      <td>False</td>\n",
       "      <td>Recommended</td>\n",
       "      <td>&amp;gt Played as German Reich&amp;gt Declare war on B...</td>\n",
       "      <td>Expansion - Hearts of Iron IV: Man the Guns</td>\n",
       "    </tr>\n",
       "    <tr>\n",
       "      <th>1</th>\n",
       "      <td>2019-02-10</td>\n",
       "      <td>0</td>\n",
       "      <td>0</td>\n",
       "      <td>184</td>\n",
       "      <td>False</td>\n",
       "      <td>Recommended</td>\n",
       "      <td>yes.</td>\n",
       "      <td>Expansion - Hearts of Iron IV: Man the Guns</td>\n",
       "    </tr>\n",
       "    <tr>\n",
       "      <th>2</th>\n",
       "      <td>2019-02-07</td>\n",
       "      <td>0</td>\n",
       "      <td>0</td>\n",
       "      <td>892</td>\n",
       "      <td>False</td>\n",
       "      <td>Recommended</td>\n",
       "      <td>Very good game although a bit overpriced in my...</td>\n",
       "      <td>Expansion - Hearts of Iron IV: Man the Guns</td>\n",
       "    </tr>\n",
       "    <tr>\n",
       "      <th>3</th>\n",
       "      <td>2018-06-14</td>\n",
       "      <td>126</td>\n",
       "      <td>1086</td>\n",
       "      <td>676</td>\n",
       "      <td>False</td>\n",
       "      <td>Recommended</td>\n",
       "      <td>Out of all the reviews I wrote This one is pro...</td>\n",
       "      <td>Dead by Daylight</td>\n",
       "    </tr>\n",
       "    <tr>\n",
       "      <th>4</th>\n",
       "      <td>2017-06-20</td>\n",
       "      <td>85</td>\n",
       "      <td>2139</td>\n",
       "      <td>612</td>\n",
       "      <td>False</td>\n",
       "      <td>Recommended</td>\n",
       "      <td>Disclaimer I survivor main. I play games for f...</td>\n",
       "      <td>Dead by Daylight</td>\n",
       "    </tr>\n",
       "  </tbody>\n",
       "</table>\n",
       "</div>"
      ],
      "text/plain": [
       "  date_posted  funny  helpful  hour_played  is_early_access_review  \\\n",
       "0  2019-02-10      2        4          578                   False   \n",
       "1  2019-02-10      0        0          184                   False   \n",
       "2  2019-02-07      0        0          892                   False   \n",
       "3  2018-06-14    126     1086          676                   False   \n",
       "4  2017-06-20     85     2139          612                   False   \n",
       "\n",
       "  recommendation                                             review  \\\n",
       "0    Recommended  &gt Played as German Reich&gt Declare war on B...   \n",
       "1    Recommended                                               yes.   \n",
       "2    Recommended  Very good game although a bit overpriced in my...   \n",
       "3    Recommended  Out of all the reviews I wrote This one is pro...   \n",
       "4    Recommended  Disclaimer I survivor main. I play games for f...   \n",
       "\n",
       "                                         title  \n",
       "0  Expansion - Hearts of Iron IV: Man the Guns  \n",
       "1  Expansion - Hearts of Iron IV: Man the Guns  \n",
       "2  Expansion - Hearts of Iron IV: Man the Guns  \n",
       "3                             Dead by Daylight  \n",
       "4                             Dead by Daylight  "
      ]
     },
     "execution_count": 3,
     "metadata": {},
     "output_type": "execute_result"
    }
   ],
   "source": [
    "data_reviews.head()"
   ]
  },
  {
   "cell_type": "code",
   "execution_count": 4,
   "metadata": {},
   "outputs": [
    {
     "data": {
      "text/html": [
       "<div>\n",
       "<style scoped>\n",
       "    .dataframe tbody tr th:only-of-type {\n",
       "        vertical-align: middle;\n",
       "    }\n",
       "\n",
       "    .dataframe tbody tr th {\n",
       "        vertical-align: top;\n",
       "    }\n",
       "\n",
       "    .dataframe thead th {\n",
       "        text-align: right;\n",
       "    }\n",
       "</style>\n",
       "<table border=\"1\" class=\"dataframe\">\n",
       "  <thead>\n",
       "    <tr style=\"text-align: right;\">\n",
       "      <th></th>\n",
       "      <th>funny</th>\n",
       "      <th>helpful</th>\n",
       "      <th>hour_played</th>\n",
       "    </tr>\n",
       "  </thead>\n",
       "  <tbody>\n",
       "    <tr>\n",
       "      <th>count</th>\n",
       "      <td>4.348910e+05</td>\n",
       "      <td>434891.000000</td>\n",
       "      <td>434891.000000</td>\n",
       "    </tr>\n",
       "    <tr>\n",
       "      <th>mean</th>\n",
       "      <td>5.333024e+05</td>\n",
       "      <td>1.004114</td>\n",
       "      <td>364.130773</td>\n",
       "    </tr>\n",
       "    <tr>\n",
       "      <th>std</th>\n",
       "      <td>4.785640e+07</td>\n",
       "      <td>59.462935</td>\n",
       "      <td>545.961198</td>\n",
       "    </tr>\n",
       "    <tr>\n",
       "      <th>min</th>\n",
       "      <td>0.000000e+00</td>\n",
       "      <td>0.000000</td>\n",
       "      <td>0.000000</td>\n",
       "    </tr>\n",
       "    <tr>\n",
       "      <th>25%</th>\n",
       "      <td>0.000000e+00</td>\n",
       "      <td>0.000000</td>\n",
       "      <td>62.000000</td>\n",
       "    </tr>\n",
       "    <tr>\n",
       "      <th>50%</th>\n",
       "      <td>0.000000e+00</td>\n",
       "      <td>0.000000</td>\n",
       "      <td>190.000000</td>\n",
       "    </tr>\n",
       "    <tr>\n",
       "      <th>75%</th>\n",
       "      <td>0.000000e+00</td>\n",
       "      <td>0.000000</td>\n",
       "      <td>450.000000</td>\n",
       "    </tr>\n",
       "    <tr>\n",
       "      <th>max</th>\n",
       "      <td>4.294967e+09</td>\n",
       "      <td>28171.000000</td>\n",
       "      <td>31962.000000</td>\n",
       "    </tr>\n",
       "  </tbody>\n",
       "</table>\n",
       "</div>"
      ],
      "text/plain": [
       "              funny        helpful    hour_played\n",
       "count  4.348910e+05  434891.000000  434891.000000\n",
       "mean   5.333024e+05       1.004114     364.130773\n",
       "std    4.785640e+07      59.462935     545.961198\n",
       "min    0.000000e+00       0.000000       0.000000\n",
       "25%    0.000000e+00       0.000000      62.000000\n",
       "50%    0.000000e+00       0.000000     190.000000\n",
       "75%    0.000000e+00       0.000000     450.000000\n",
       "max    4.294967e+09   28171.000000   31962.000000"
      ]
     },
     "execution_count": 4,
     "metadata": {},
     "output_type": "execute_result"
    }
   ],
   "source": [
    "data_reviews.describe()"
   ]
  },
  {
   "cell_type": "markdown",
   "metadata": {},
   "source": [
    "#### Checking if there are rows with empty cells:"
   ]
  },
  {
   "cell_type": "code",
   "execution_count": 5,
   "metadata": {},
   "outputs": [
    {
     "data": {
      "text/plain": [
       "date_posted                  0\n",
       "funny                        0\n",
       "helpful                      0\n",
       "hour_played                  0\n",
       "is_early_access_review       0\n",
       "recommendation               0\n",
       "review                    1516\n",
       "title                        0\n",
       "dtype: int64"
      ]
     },
     "execution_count": 5,
     "metadata": {},
     "output_type": "execute_result"
    }
   ],
   "source": [
    "data_reviews.isna().sum()"
   ]
  },
  {
   "cell_type": "code",
   "execution_count": 6,
   "metadata": {},
   "outputs": [],
   "source": [
    "data_reviews.dropna(inplace = True)\n",
    "data_reviews.reset_index(drop = True, inplace = True)"
   ]
  },
  {
   "cell_type": "code",
   "execution_count": 7,
   "metadata": {},
   "outputs": [
    {
     "data": {
      "text/plain": [
       "(433375, 8)"
      ]
     },
     "execution_count": 7,
     "metadata": {},
     "output_type": "execute_result"
    }
   ],
   "source": [
    "data_reviews.shape"
   ]
  },
  {
   "cell_type": "markdown",
   "metadata": {},
   "source": [
    "# 3. Preprocessing"
   ]
  },
  {
   "cell_type": "markdown",
   "metadata": {},
   "source": [
    "## The result of all the pre-processing is saved in the file \"Data_Processed.csv\" and loaded in chapter 4"
   ]
  },
  {
   "cell_type": "markdown",
   "metadata": {},
   "source": [
    "- The fisrt step is clean the reviews of the dataset of words that are not important for the analysis, remove every numerical data and puctuation, transform all the text into lowercase...etc"
   ]
  },
  {
   "cell_type": "code",
   "execution_count": 8,
   "metadata": {},
   "outputs": [],
   "source": [
    "def clean(text_list, lemmatize, stemmer, stop_word):\n",
    "    \"\"\"\n",
    "    Function that a receives a list of strings and preprocesses it.\n",
    "    \n",
    "    :param text_list: List of strings.\n",
    "    :param lemmatize: Tag to apply lemmatization if True.\n",
    "    :param stemmer: Tag to apply the stemmer if True.\n",
    "    \"\"\"\n",
    "    updates = []\n",
    "    \n",
    "    for j in tqdm(range(len(text_list))):\n",
    "        \n",
    "        text = text_list[j]\n",
    "        \n",
    "        #LOWERCASE TEXT\n",
    "        text = text.lower()\n",
    "        \n",
    "        #REMOVE NUMERICAL DATA AND PUNCTUATION\n",
    "        text = re.sub(\"[^a-zA-Z-zÀ-ÿ]\", ' ', text)\n",
    "        \n",
    "        #REMOVE TAGS\n",
    "        text = BeautifulSoup(text).get_text()\n",
    "        \n",
    "        if lemmatize:\n",
    "            text = \" \".join(lemma.lemmatize(word) for word in text.split())\n",
    "        \n",
    "        if stemmer:\n",
    "            text = \" \".join(snowball_stemmer.stem(word) for word in text.split())\n",
    "            \n",
    "        if stop_word:\n",
    "            text = [w for w in text.split() if not w in stop]\n",
    "            text = \" \".join(text)\n",
    "        \n",
    "        updates.append(text)\n",
    "        \n",
    "    return updates\n",
    "\n",
    "def update_df(dataframe, list_updated):\n",
    "    dataframe.update(pd.DataFrame({\"review\": list_updated}))"
   ]
  },
  {
   "cell_type": "markdown",
   "metadata": {},
   "source": [
    "- Here is a collection of English words that are considered as non important:"
   ]
  },
  {
   "cell_type": "code",
   "execution_count": 9,
   "metadata": {},
   "outputs": [],
   "source": [
    "stop = set(stopwords.words('english'))\n",
    "exclude = set(string.punctuation)\n",
    "lemma = WordNetLemmatizer()"
   ]
  },
  {
   "cell_type": "code",
   "execution_count": 10,
   "metadata": {},
   "outputs": [],
   "source": [
    "stop_words = {'a', 'about', 'above', 'after', 'again', 'against', 'ain', 'all', 'am', 'an', 'and', 'any',\n",
    " 'are', 'aren', 'as', 'at', 'be', 'because', 'been', 'before',\n",
    " 'being', 'below', 'between', 'both', 'but', 'by', 'can', 'd', 'did', 'didn', 'do', 'does', 'doing', 'don', 'down', 'during', 'each',\n",
    " 'few', 'for', 'from', 'further', 'had', 'has', 'hasn', 'have', 'haven', 'having', 'he', 'her', 'here',\n",
    " 'hers', 'herself', 'him', 'himself', 'his', 'how', 'i', 'if', 'in', 'into', 'is', 'it', \"it's\", 'its', 'itself',\n",
    " 'just', 'll', 'm', 'ma', 'me', 'mightn', 'more',\n",
    " 'most', 'mustn', 'my', 'myself', 'no', 'nor', 'now', 'o', 'of', 'off', 'on', 'once', 'only', 'or',\n",
    " 'other', 'our', 'ours', 'ourselves', 'out', 'over', 'own', 're',\n",
    " 's', 'same', 'shan', \"shan't\", 'she', \"she's\", 'should', \"should've\", 'so', 'some', 'such', 't', 'than',\n",
    " 'that', \"that'll\", 'the', 'their', 'theirs', 'them', 'themselves', 'then', 'there', 'these', 'they', 'this', 'those', 'through',\n",
    " 'to', 'too', 'under', 'until', 'up', 've', 'very', 'was', 'we', 'were', 'weren', 'what', 'when', 'where', 'which', 'while', 'who', 'whom',\n",
    " 'why', 'will', 'with', 'won', 'y', 'you', \"you'd\", \"you'll\", \"you're\", \"you've\", 'your', 'yours', 'yourself', 'yourselves'}"
   ]
  },
  {
   "cell_type": "code",
   "execution_count": 11,
   "metadata": {},
   "outputs": [
    {
     "name": "stderr",
     "output_type": "stream",
     "text": [
      "D:\\Programs_Inst\\Anaconda\\envs\\Deep Learning\\lib\\site-packages\\ipykernel_launcher.py:11: TqdmDeprecationWarning: This function will be removed in tqdm==5.0.0\n",
      "Please use `tqdm.notebook.tqdm` instead of `tqdm.tqdm_notebook`\n",
      "  # This is added back by InteractiveShellApp.init_path()\n"
     ]
    },
    {
     "data": {
      "application/vnd.jupyter.widget-view+json": {
       "model_id": "3dd5fffce254490fada9bd9e41b58dda",
       "version_major": 2,
       "version_minor": 0
      },
      "text/plain": [
       "HBox(children=(FloatProgress(value=0.0, max=433375.0), HTML(value='')))"
      ]
     },
     "metadata": {},
     "output_type": "display_data"
    },
    {
     "name": "stdout",
     "output_type": "stream",
     "text": [
      "\n"
     ]
    }
   ],
   "source": [
    "updates = clean(data_reviews['review'], lemmatize = True, stemmer = False, stop_word = True)"
   ]
  },
  {
   "cell_type": "code",
   "execution_count": 12,
   "metadata": {},
   "outputs": [],
   "source": [
    "update_df(data_reviews, updates)"
   ]
  },
  {
   "cell_type": "markdown",
   "metadata": {},
   "source": [
    "- Next step is to calculate the number of words per review. With that values we are going to remove the reviews with just one word.\n",
    "- The goal is to identify the reviews that are writed in English and simplify the data. It is neccesary more that one word in order to identify the language."
   ]
  },
  {
   "cell_type": "code",
   "execution_count": 13,
   "metadata": {},
   "outputs": [],
   "source": [
    "length_review = []\n",
    "for i in range(0, len(data_reviews)):\n",
    "    length_review.append(len(data_reviews['review'][i].split(' ')))"
   ]
  },
  {
   "cell_type": "code",
   "execution_count": 14,
   "metadata": {},
   "outputs": [],
   "source": [
    "data_reviews['length_review'] = length_review"
   ]
  },
  {
   "cell_type": "code",
   "execution_count": 15,
   "metadata": {},
   "outputs": [
    {
     "data": {
      "text/html": [
       "<div>\n",
       "<style scoped>\n",
       "    .dataframe tbody tr th:only-of-type {\n",
       "        vertical-align: middle;\n",
       "    }\n",
       "\n",
       "    .dataframe tbody tr th {\n",
       "        vertical-align: top;\n",
       "    }\n",
       "\n",
       "    .dataframe thead th {\n",
       "        text-align: right;\n",
       "    }\n",
       "</style>\n",
       "<table border=\"1\" class=\"dataframe\">\n",
       "  <thead>\n",
       "    <tr style=\"text-align: right;\">\n",
       "      <th></th>\n",
       "      <th>date_posted</th>\n",
       "      <th>funny</th>\n",
       "      <th>helpful</th>\n",
       "      <th>hour_played</th>\n",
       "      <th>is_early_access_review</th>\n",
       "      <th>recommendation</th>\n",
       "      <th>review</th>\n",
       "      <th>title</th>\n",
       "      <th>length_review</th>\n",
       "    </tr>\n",
       "  </thead>\n",
       "  <tbody>\n",
       "    <tr>\n",
       "      <th>0</th>\n",
       "      <td>2019-02-10</td>\n",
       "      <td>2</td>\n",
       "      <td>4</td>\n",
       "      <td>578</td>\n",
       "      <td>False</td>\n",
       "      <td>Recommended</td>\n",
       "      <td>gt played german reich gt declare war belgium ...</td>\n",
       "      <td>Expansion - Hearts of Iron IV: Man the Guns</td>\n",
       "      <td>26</td>\n",
       "    </tr>\n",
       "    <tr>\n",
       "      <th>1</th>\n",
       "      <td>2019-02-10</td>\n",
       "      <td>0</td>\n",
       "      <td>0</td>\n",
       "      <td>184</td>\n",
       "      <td>False</td>\n",
       "      <td>Recommended</td>\n",
       "      <td>yes</td>\n",
       "      <td>Expansion - Hearts of Iron IV: Man the Guns</td>\n",
       "      <td>1</td>\n",
       "    </tr>\n",
       "    <tr>\n",
       "      <th>2</th>\n",
       "      <td>2019-02-07</td>\n",
       "      <td>0</td>\n",
       "      <td>0</td>\n",
       "      <td>892</td>\n",
       "      <td>False</td>\n",
       "      <td>Recommended</td>\n",
       "      <td>good game although bit overpriced opinion pref...</td>\n",
       "      <td>Expansion - Hearts of Iron IV: Man the Guns</td>\n",
       "      <td>17</td>\n",
       "    </tr>\n",
       "    <tr>\n",
       "      <th>3</th>\n",
       "      <td>2018-06-14</td>\n",
       "      <td>126</td>\n",
       "      <td>1086</td>\n",
       "      <td>676</td>\n",
       "      <td>False</td>\n",
       "      <td>Recommended</td>\n",
       "      <td>review wrote one probably serious one wrote st...</td>\n",
       "      <td>Dead by Daylight</td>\n",
       "      <td>191</td>\n",
       "    </tr>\n",
       "    <tr>\n",
       "      <th>4</th>\n",
       "      <td>2017-06-20</td>\n",
       "      <td>85</td>\n",
       "      <td>2139</td>\n",
       "      <td>612</td>\n",
       "      <td>False</td>\n",
       "      <td>Recommended</td>\n",
       "      <td>disclaimer survivor main play game fun competi...</td>\n",
       "      <td>Dead by Daylight</td>\n",
       "      <td>132</td>\n",
       "    </tr>\n",
       "    <tr>\n",
       "      <th>...</th>\n",
       "      <td>...</td>\n",
       "      <td>...</td>\n",
       "      <td>...</td>\n",
       "      <td>...</td>\n",
       "      <td>...</td>\n",
       "      <td>...</td>\n",
       "      <td>...</td>\n",
       "      <td>...</td>\n",
       "      <td>...</td>\n",
       "    </tr>\n",
       "    <tr>\n",
       "      <th>431794</th>\n",
       "      <td>2017-09-07</td>\n",
       "      <td>0</td>\n",
       "      <td>0</td>\n",
       "      <td>21</td>\n",
       "      <td>False</td>\n",
       "      <td>Recommended</td>\n",
       "      <td>product received free update fall creator upda...</td>\n",
       "      <td>The Elder Scrolls V: Skyrim Special Edition</td>\n",
       "      <td>532</td>\n",
       "    </tr>\n",
       "    <tr>\n",
       "      <th>431995</th>\n",
       "      <td>2016-10-30</td>\n",
       "      <td>1</td>\n",
       "      <td>4</td>\n",
       "      <td>94</td>\n",
       "      <td>False</td>\n",
       "      <td>Recommended</td>\n",
       "      <td>product received free opinion game little wier...</td>\n",
       "      <td>The Elder Scrolls V: Skyrim Special Edition</td>\n",
       "      <td>516</td>\n",
       "    </tr>\n",
       "    <tr>\n",
       "      <th>432943</th>\n",
       "      <td>2017-10-04</td>\n",
       "      <td>0</td>\n",
       "      <td>0</td>\n",
       "      <td>138</td>\n",
       "      <td>False</td>\n",
       "      <td>Not Recommended</td>\n",
       "      <td>product received free tl drdecent change alrea...</td>\n",
       "      <td>The Elder Scrolls V: Skyrim Special Edition</td>\n",
       "      <td>680</td>\n",
       "    </tr>\n",
       "    <tr>\n",
       "      <th>433264</th>\n",
       "      <td>2019-01-03</td>\n",
       "      <td>0</td>\n",
       "      <td>0</td>\n",
       "      <td>10</td>\n",
       "      <td>False</td>\n",
       "      <td>Recommended</td>\n",
       "      <td>sonic blast also known sonic flickies island e...</td>\n",
       "      <td>Human: Fall Flat</td>\n",
       "      <td>775</td>\n",
       "    </tr>\n",
       "    <tr>\n",
       "      <th>433365</th>\n",
       "      <td>2019-02-01</td>\n",
       "      <td>5</td>\n",
       "      <td>210</td>\n",
       "      <td>15</td>\n",
       "      <td>False</td>\n",
       "      <td>Recommended</td>\n",
       "      <td>paper indie game made lesser known french stud...</td>\n",
       "      <td>Warhammer 40,000: Mechanicus</td>\n",
       "      <td>519</td>\n",
       "    </tr>\n",
       "  </tbody>\n",
       "</table>\n",
       "<p>2902 rows × 9 columns</p>\n",
       "</div>"
      ],
      "text/plain": [
       "       date_posted  funny  helpful  hour_played  is_early_access_review  \\\n",
       "0       2019-02-10      2        4          578                   False   \n",
       "1       2019-02-10      0        0          184                   False   \n",
       "2       2019-02-07      0        0          892                   False   \n",
       "3       2018-06-14    126     1086          676                   False   \n",
       "4       2017-06-20     85     2139          612                   False   \n",
       "...            ...    ...      ...          ...                     ...   \n",
       "431794  2017-09-07      0        0           21                   False   \n",
       "431995  2016-10-30      1        4           94                   False   \n",
       "432943  2017-10-04      0        0          138                   False   \n",
       "433264  2019-01-03      0        0           10                   False   \n",
       "433365  2019-02-01      5      210           15                   False   \n",
       "\n",
       "         recommendation                                             review  \\\n",
       "0           Recommended  gt played german reich gt declare war belgium ...   \n",
       "1           Recommended                                                yes   \n",
       "2           Recommended  good game although bit overpriced opinion pref...   \n",
       "3           Recommended  review wrote one probably serious one wrote st...   \n",
       "4           Recommended  disclaimer survivor main play game fun competi...   \n",
       "...                 ...                                                ...   \n",
       "431794      Recommended  product received free update fall creator upda...   \n",
       "431995      Recommended  product received free opinion game little wier...   \n",
       "432943  Not Recommended  product received free tl drdecent change alrea...   \n",
       "433264      Recommended  sonic blast also known sonic flickies island e...   \n",
       "433365      Recommended  paper indie game made lesser known french stud...   \n",
       "\n",
       "                                              title  length_review  \n",
       "0       Expansion - Hearts of Iron IV: Man the Guns             26  \n",
       "1       Expansion - Hearts of Iron IV: Man the Guns              1  \n",
       "2       Expansion - Hearts of Iron IV: Man the Guns             17  \n",
       "3                                  Dead by Daylight            191  \n",
       "4                                  Dead by Daylight            132  \n",
       "...                                             ...            ...  \n",
       "431794  The Elder Scrolls V: Skyrim Special Edition            532  \n",
       "431995  The Elder Scrolls V: Skyrim Special Edition            516  \n",
       "432943  The Elder Scrolls V: Skyrim Special Edition            680  \n",
       "433264                             Human: Fall Flat            775  \n",
       "433365                 Warhammer 40,000: Mechanicus            519  \n",
       "\n",
       "[2902 rows x 9 columns]"
      ]
     },
     "execution_count": 15,
     "metadata": {},
     "output_type": "execute_result"
    }
   ],
   "source": [
    "data_reviews.groupby('length_review').head()"
   ]
  },
  {
   "cell_type": "code",
   "execution_count": 16,
   "metadata": {},
   "outputs": [
    {
     "data": {
      "text/plain": [
       "length_review\n",
       "1     43723\n",
       "2     45964\n",
       "3     32044\n",
       "4     28987\n",
       "5     24933\n",
       "6     20532\n",
       "7     17082\n",
       "8     14766\n",
       "9     13083\n",
       "10    11592\n",
       "Name: recommendation, dtype: int64"
      ]
     },
     "execution_count": 16,
     "metadata": {},
     "output_type": "execute_result"
    }
   ],
   "source": [
    "data_reviews.groupby('length_review')['recommendation'].count().head(10)"
   ]
  },
  {
   "cell_type": "code",
   "execution_count": 17,
   "metadata": {},
   "outputs": [],
   "source": [
    "data_reviews = data_reviews[data_reviews['length_review'] > 1].reset_index(drop = True)"
   ]
  },
  {
   "cell_type": "code",
   "execution_count": 18,
   "metadata": {},
   "outputs": [
    {
     "data": {
      "text/html": [
       "<div>\n",
       "<style scoped>\n",
       "    .dataframe tbody tr th:only-of-type {\n",
       "        vertical-align: middle;\n",
       "    }\n",
       "\n",
       "    .dataframe tbody tr th {\n",
       "        vertical-align: top;\n",
       "    }\n",
       "\n",
       "    .dataframe thead th {\n",
       "        text-align: right;\n",
       "    }\n",
       "</style>\n",
       "<table border=\"1\" class=\"dataframe\">\n",
       "  <thead>\n",
       "    <tr style=\"text-align: right;\">\n",
       "      <th></th>\n",
       "      <th>date_posted</th>\n",
       "      <th>funny</th>\n",
       "      <th>helpful</th>\n",
       "      <th>hour_played</th>\n",
       "      <th>is_early_access_review</th>\n",
       "      <th>recommendation</th>\n",
       "      <th>review</th>\n",
       "      <th>title</th>\n",
       "      <th>length_review</th>\n",
       "    </tr>\n",
       "  </thead>\n",
       "  <tbody>\n",
       "    <tr>\n",
       "      <th>0</th>\n",
       "      <td>2019-02-10</td>\n",
       "      <td>2</td>\n",
       "      <td>4</td>\n",
       "      <td>578</td>\n",
       "      <td>False</td>\n",
       "      <td>Recommended</td>\n",
       "      <td>gt played german reich gt declare war belgium ...</td>\n",
       "      <td>Expansion - Hearts of Iron IV: Man the Guns</td>\n",
       "      <td>26</td>\n",
       "    </tr>\n",
       "    <tr>\n",
       "      <th>1</th>\n",
       "      <td>2019-02-07</td>\n",
       "      <td>0</td>\n",
       "      <td>0</td>\n",
       "      <td>892</td>\n",
       "      <td>False</td>\n",
       "      <td>Recommended</td>\n",
       "      <td>good game although bit overpriced opinion pref...</td>\n",
       "      <td>Expansion - Hearts of Iron IV: Man the Guns</td>\n",
       "      <td>17</td>\n",
       "    </tr>\n",
       "    <tr>\n",
       "      <th>2</th>\n",
       "      <td>2018-06-14</td>\n",
       "      <td>126</td>\n",
       "      <td>1086</td>\n",
       "      <td>676</td>\n",
       "      <td>False</td>\n",
       "      <td>Recommended</td>\n",
       "      <td>review wrote one probably serious one wrote st...</td>\n",
       "      <td>Dead by Daylight</td>\n",
       "      <td>191</td>\n",
       "    </tr>\n",
       "    <tr>\n",
       "      <th>3</th>\n",
       "      <td>2017-06-20</td>\n",
       "      <td>85</td>\n",
       "      <td>2139</td>\n",
       "      <td>612</td>\n",
       "      <td>False</td>\n",
       "      <td>Recommended</td>\n",
       "      <td>disclaimer survivor main play game fun competi...</td>\n",
       "      <td>Dead by Daylight</td>\n",
       "      <td>132</td>\n",
       "    </tr>\n",
       "    <tr>\n",
       "      <th>4</th>\n",
       "      <td>2016-12-12</td>\n",
       "      <td>4</td>\n",
       "      <td>55</td>\n",
       "      <td>2694</td>\n",
       "      <td>False</td>\n",
       "      <td>Recommended</td>\n",
       "      <td>english playing two year given task reviewing ...</td>\n",
       "      <td>Dead by Daylight</td>\n",
       "      <td>567</td>\n",
       "    </tr>\n",
       "    <tr>\n",
       "      <th>5</th>\n",
       "      <td>2017-09-17</td>\n",
       "      <td>12</td>\n",
       "      <td>228</td>\n",
       "      <td>48</td>\n",
       "      <td>False</td>\n",
       "      <td>Recommended</td>\n",
       "      <td>review wrote one probably serious one wrote st...</td>\n",
       "      <td>Dead by Daylight</td>\n",
       "      <td>191</td>\n",
       "    </tr>\n",
       "    <tr>\n",
       "      <th>6</th>\n",
       "      <td>2018-12-24</td>\n",
       "      <td>295</td>\n",
       "      <td>219</td>\n",
       "      <td>71</td>\n",
       "      <td>False</td>\n",
       "      <td>Recommended</td>\n",
       "      <td>never told kill playing game</td>\n",
       "      <td>Dead by Daylight</td>\n",
       "      <td>5</td>\n",
       "    </tr>\n",
       "    <tr>\n",
       "      <th>7</th>\n",
       "      <td>2018-09-21</td>\n",
       "      <td>2</td>\n",
       "      <td>54</td>\n",
       "      <td>400</td>\n",
       "      <td>False</td>\n",
       "      <td>Recommended</td>\n",
       "      <td>longtime dead daylight player know horror game...</td>\n",
       "      <td>Dead by Daylight</td>\n",
       "      <td>164</td>\n",
       "    </tr>\n",
       "    <tr>\n",
       "      <th>8</th>\n",
       "      <td>2018-12-05</td>\n",
       "      <td>380</td>\n",
       "      <td>271</td>\n",
       "      <td>414</td>\n",
       "      <td>False</td>\n",
       "      <td>Recommended</td>\n",
       "      <td>think c go toxic try game</td>\n",
       "      <td>Dead by Daylight</td>\n",
       "      <td>6</td>\n",
       "    </tr>\n",
       "    <tr>\n",
       "      <th>9</th>\n",
       "      <td>2018-12-04</td>\n",
       "      <td>11</td>\n",
       "      <td>106</td>\n",
       "      <td>900</td>\n",
       "      <td>False</td>\n",
       "      <td>Recommended</td>\n",
       "      <td>simultaneously fun infuriating game played lon...</td>\n",
       "      <td>Dead by Daylight</td>\n",
       "      <td>170</td>\n",
       "    </tr>\n",
       "  </tbody>\n",
       "</table>\n",
       "</div>"
      ],
      "text/plain": [
       "  date_posted  funny  helpful  hour_played  is_early_access_review  \\\n",
       "0  2019-02-10      2        4          578                   False   \n",
       "1  2019-02-07      0        0          892                   False   \n",
       "2  2018-06-14    126     1086          676                   False   \n",
       "3  2017-06-20     85     2139          612                   False   \n",
       "4  2016-12-12      4       55         2694                   False   \n",
       "5  2017-09-17     12      228           48                   False   \n",
       "6  2018-12-24    295      219           71                   False   \n",
       "7  2018-09-21      2       54          400                   False   \n",
       "8  2018-12-05    380      271          414                   False   \n",
       "9  2018-12-04     11      106          900                   False   \n",
       "\n",
       "  recommendation                                             review  \\\n",
       "0    Recommended  gt played german reich gt declare war belgium ...   \n",
       "1    Recommended  good game although bit overpriced opinion pref...   \n",
       "2    Recommended  review wrote one probably serious one wrote st...   \n",
       "3    Recommended  disclaimer survivor main play game fun competi...   \n",
       "4    Recommended  english playing two year given task reviewing ...   \n",
       "5    Recommended  review wrote one probably serious one wrote st...   \n",
       "6    Recommended                       never told kill playing game   \n",
       "7    Recommended  longtime dead daylight player know horror game...   \n",
       "8    Recommended                          think c go toxic try game   \n",
       "9    Recommended  simultaneously fun infuriating game played lon...   \n",
       "\n",
       "                                         title  length_review  \n",
       "0  Expansion - Hearts of Iron IV: Man the Guns             26  \n",
       "1  Expansion - Hearts of Iron IV: Man the Guns             17  \n",
       "2                             Dead by Daylight            191  \n",
       "3                             Dead by Daylight            132  \n",
       "4                             Dead by Daylight            567  \n",
       "5                             Dead by Daylight            191  \n",
       "6                             Dead by Daylight              5  \n",
       "7                             Dead by Daylight            164  \n",
       "8                             Dead by Daylight              6  \n",
       "9                             Dead by Daylight            170  "
      ]
     },
     "execution_count": 18,
     "metadata": {},
     "output_type": "execute_result"
    }
   ],
   "source": [
    "data_reviews.head(10)"
   ]
  },
  {
   "cell_type": "markdown",
   "metadata": {},
   "source": [
    "- Next step is to detect the reviews writed in English. This process is slow. It takes around an hour..."
   ]
  },
  {
   "cell_type": "code",
   "execution_count": 19,
   "metadata": {},
   "outputs": [
    {
     "name": "stderr",
     "output_type": "stream",
     "text": [
      "D:\\Programs_Inst\\Anaconda\\envs\\Deep Learning\\lib\\site-packages\\ipykernel_launcher.py:2: TqdmDeprecationWarning: This function will be removed in tqdm==5.0.0\n",
      "Please use `tqdm.notebook.tqdm` instead of `tqdm.tqdm_notebook`\n",
      "  \n"
     ]
    },
    {
     "data": {
      "application/vnd.jupyter.widget-view+json": {
       "model_id": "987640b0c2e7413da3a0c8318e3e4359",
       "version_major": 2,
       "version_minor": 0
      },
      "text/plain": [
       "HBox(children=(FloatProgress(value=0.0, max=389652.0), HTML(value='')))"
      ]
     },
     "metadata": {},
     "output_type": "display_data"
    },
    {
     "name": "stdout",
     "output_type": "stream",
     "text": [
      "\n"
     ]
    }
   ],
   "source": [
    "language = []\n",
    "for i in tqdm(range(0,len(data_reviews))):\n",
    "    language.append(detect(data_reviews['review'][i]))"
   ]
  },
  {
   "cell_type": "code",
   "execution_count": 20,
   "metadata": {},
   "outputs": [],
   "source": [
    "data_reviews['language'] = language"
   ]
  },
  {
   "cell_type": "code",
   "execution_count": 21,
   "metadata": {
    "scrolled": true
   },
   "outputs": [
    {
     "data": {
      "text/html": [
       "<div>\n",
       "<style scoped>\n",
       "    .dataframe tbody tr th:only-of-type {\n",
       "        vertical-align: middle;\n",
       "    }\n",
       "\n",
       "    .dataframe tbody tr th {\n",
       "        vertical-align: top;\n",
       "    }\n",
       "\n",
       "    .dataframe thead th {\n",
       "        text-align: right;\n",
       "    }\n",
       "</style>\n",
       "<table border=\"1\" class=\"dataframe\">\n",
       "  <thead>\n",
       "    <tr style=\"text-align: right;\">\n",
       "      <th></th>\n",
       "      <th>date_posted</th>\n",
       "      <th>funny</th>\n",
       "      <th>helpful</th>\n",
       "      <th>hour_played</th>\n",
       "      <th>is_early_access_review</th>\n",
       "      <th>recommendation</th>\n",
       "      <th>review</th>\n",
       "      <th>title</th>\n",
       "      <th>length_review</th>\n",
       "      <th>language</th>\n",
       "    </tr>\n",
       "  </thead>\n",
       "  <tbody>\n",
       "    <tr>\n",
       "      <th>0</th>\n",
       "      <td>2019-02-10</td>\n",
       "      <td>2</td>\n",
       "      <td>4</td>\n",
       "      <td>578</td>\n",
       "      <td>False</td>\n",
       "      <td>Recommended</td>\n",
       "      <td>gt played german reich gt declare war belgium ...</td>\n",
       "      <td>Expansion - Hearts of Iron IV: Man the Guns</td>\n",
       "      <td>26</td>\n",
       "      <td>nl</td>\n",
       "    </tr>\n",
       "    <tr>\n",
       "      <th>1</th>\n",
       "      <td>2019-02-07</td>\n",
       "      <td>0</td>\n",
       "      <td>0</td>\n",
       "      <td>892</td>\n",
       "      <td>False</td>\n",
       "      <td>Recommended</td>\n",
       "      <td>good game although bit overpriced opinion pref...</td>\n",
       "      <td>Expansion - Hearts of Iron IV: Man the Guns</td>\n",
       "      <td>17</td>\n",
       "      <td>en</td>\n",
       "    </tr>\n",
       "    <tr>\n",
       "      <th>2</th>\n",
       "      <td>2018-06-14</td>\n",
       "      <td>126</td>\n",
       "      <td>1086</td>\n",
       "      <td>676</td>\n",
       "      <td>False</td>\n",
       "      <td>Recommended</td>\n",
       "      <td>review wrote one probably serious one wrote st...</td>\n",
       "      <td>Dead by Daylight</td>\n",
       "      <td>191</td>\n",
       "      <td>en</td>\n",
       "    </tr>\n",
       "    <tr>\n",
       "      <th>3</th>\n",
       "      <td>2017-06-20</td>\n",
       "      <td>85</td>\n",
       "      <td>2139</td>\n",
       "      <td>612</td>\n",
       "      <td>False</td>\n",
       "      <td>Recommended</td>\n",
       "      <td>disclaimer survivor main play game fun competi...</td>\n",
       "      <td>Dead by Daylight</td>\n",
       "      <td>132</td>\n",
       "      <td>en</td>\n",
       "    </tr>\n",
       "    <tr>\n",
       "      <th>4</th>\n",
       "      <td>2016-12-12</td>\n",
       "      <td>4</td>\n",
       "      <td>55</td>\n",
       "      <td>2694</td>\n",
       "      <td>False</td>\n",
       "      <td>Recommended</td>\n",
       "      <td>english playing two year given task reviewing ...</td>\n",
       "      <td>Dead by Daylight</td>\n",
       "      <td>567</td>\n",
       "      <td>es</td>\n",
       "    </tr>\n",
       "  </tbody>\n",
       "</table>\n",
       "</div>"
      ],
      "text/plain": [
       "  date_posted  funny  helpful  hour_played  is_early_access_review  \\\n",
       "0  2019-02-10      2        4          578                   False   \n",
       "1  2019-02-07      0        0          892                   False   \n",
       "2  2018-06-14    126     1086          676                   False   \n",
       "3  2017-06-20     85     2139          612                   False   \n",
       "4  2016-12-12      4       55         2694                   False   \n",
       "\n",
       "  recommendation                                             review  \\\n",
       "0    Recommended  gt played german reich gt declare war belgium ...   \n",
       "1    Recommended  good game although bit overpriced opinion pref...   \n",
       "2    Recommended  review wrote one probably serious one wrote st...   \n",
       "3    Recommended  disclaimer survivor main play game fun competi...   \n",
       "4    Recommended  english playing two year given task reviewing ...   \n",
       "\n",
       "                                         title  length_review language  \n",
       "0  Expansion - Hearts of Iron IV: Man the Guns             26       nl  \n",
       "1  Expansion - Hearts of Iron IV: Man the Guns             17       en  \n",
       "2                             Dead by Daylight            191       en  \n",
       "3                             Dead by Daylight            132       en  \n",
       "4                             Dead by Daylight            567       es  "
      ]
     },
     "execution_count": 21,
     "metadata": {},
     "output_type": "execute_result"
    }
   ],
   "source": [
    "data_reviews.head(5)"
   ]
  },
  {
   "cell_type": "markdown",
   "metadata": {},
   "source": [
    "- Transforming into a binary classification:"
   ]
  },
  {
   "cell_type": "code",
   "execution_count": 22,
   "metadata": {},
   "outputs": [],
   "source": [
    "data_reviews.loc[data_reviews['recommendation'] == 'Not Recommended', 'Label'] = 0\n",
    "data_reviews.loc[data_reviews['recommendation'] == 'Recommended', 'Label'] = 1"
   ]
  },
  {
   "cell_type": "markdown",
   "metadata": {},
   "source": [
    "- Saving the processed dataset into a .csv file:"
   ]
  },
  {
   "cell_type": "code",
   "execution_count": 23,
   "metadata": {},
   "outputs": [],
   "source": [
    "data_reviews.to_csv('Data_Processed.csv', index=False)"
   ]
  },
  {
   "cell_type": "markdown",
   "metadata": {},
   "source": [
    "# 4) MODELS"
   ]
  },
  {
   "cell_type": "markdown",
   "metadata": {},
   "source": [
    "### Every model created and trained during this notebook is saved in a .h5 file in order to be loaded when it is necessary with its history saved in a .csv file."
   ]
  },
  {
   "cell_type": "markdown",
   "metadata": {},
   "source": [
    "- Analyzing which is the most common language and keeping just the reviews writed in that language:"
   ]
  },
  {
   "cell_type": "code",
   "execution_count": 24,
   "metadata": {},
   "outputs": [],
   "source": [
    "data_reviews = pd.read_csv('Data_Processed.csv')"
   ]
  },
  {
   "cell_type": "code",
   "execution_count": 25,
   "metadata": {},
   "outputs": [
    {
     "data": {
      "text/plain": [
       "language\n",
       "en    297246\n",
       "da     13821\n",
       "so     11103\n",
       "no      8531\n",
       "af      7667\n",
       "Name: recommendation, dtype: int64"
      ]
     },
     "execution_count": 25,
     "metadata": {},
     "output_type": "execute_result"
    }
   ],
   "source": [
    "data_reviews.groupby('language').count().sort_values(['recommendation'], ascending=False)['recommendation'].head(5)"
   ]
  },
  {
   "cell_type": "code",
   "execution_count": 26,
   "metadata": {},
   "outputs": [],
   "source": [
    "data_reviewsEN = data_reviews[data_reviews['language'] == 'en']"
   ]
  },
  {
   "cell_type": "code",
   "execution_count": 27,
   "metadata": {},
   "outputs": [
    {
     "data": {
      "text/plain": [
       "(297246, 11)"
      ]
     },
     "execution_count": 27,
     "metadata": {},
     "output_type": "execute_result"
    }
   ],
   "source": [
    "data_reviewsEN.shape"
   ]
  },
  {
   "cell_type": "code",
   "execution_count": 28,
   "metadata": {},
   "outputs": [
    {
     "data": {
      "text/html": [
       "<div>\n",
       "<style scoped>\n",
       "    .dataframe tbody tr th:only-of-type {\n",
       "        vertical-align: middle;\n",
       "    }\n",
       "\n",
       "    .dataframe tbody tr th {\n",
       "        vertical-align: top;\n",
       "    }\n",
       "\n",
       "    .dataframe thead th {\n",
       "        text-align: right;\n",
       "    }\n",
       "</style>\n",
       "<table border=\"1\" class=\"dataframe\">\n",
       "  <thead>\n",
       "    <tr style=\"text-align: right;\">\n",
       "      <th></th>\n",
       "      <th>date_posted</th>\n",
       "      <th>funny</th>\n",
       "      <th>helpful</th>\n",
       "      <th>hour_played</th>\n",
       "      <th>is_early_access_review</th>\n",
       "      <th>recommendation</th>\n",
       "      <th>review</th>\n",
       "      <th>title</th>\n",
       "      <th>length_review</th>\n",
       "      <th>language</th>\n",
       "      <th>Label</th>\n",
       "    </tr>\n",
       "  </thead>\n",
       "  <tbody>\n",
       "    <tr>\n",
       "      <th>1</th>\n",
       "      <td>2019-02-07</td>\n",
       "      <td>0</td>\n",
       "      <td>0</td>\n",
       "      <td>892</td>\n",
       "      <td>False</td>\n",
       "      <td>Recommended</td>\n",
       "      <td>good game although bit overpriced opinion pref...</td>\n",
       "      <td>Expansion - Hearts of Iron IV: Man the Guns</td>\n",
       "      <td>17</td>\n",
       "      <td>en</td>\n",
       "      <td>1.0</td>\n",
       "    </tr>\n",
       "    <tr>\n",
       "      <th>2</th>\n",
       "      <td>2018-06-14</td>\n",
       "      <td>126</td>\n",
       "      <td>1086</td>\n",
       "      <td>676</td>\n",
       "      <td>False</td>\n",
       "      <td>Recommended</td>\n",
       "      <td>review wrote one probably serious one wrote st...</td>\n",
       "      <td>Dead by Daylight</td>\n",
       "      <td>191</td>\n",
       "      <td>en</td>\n",
       "      <td>1.0</td>\n",
       "    </tr>\n",
       "    <tr>\n",
       "      <th>3</th>\n",
       "      <td>2017-06-20</td>\n",
       "      <td>85</td>\n",
       "      <td>2139</td>\n",
       "      <td>612</td>\n",
       "      <td>False</td>\n",
       "      <td>Recommended</td>\n",
       "      <td>disclaimer survivor main play game fun competi...</td>\n",
       "      <td>Dead by Daylight</td>\n",
       "      <td>132</td>\n",
       "      <td>en</td>\n",
       "      <td>1.0</td>\n",
       "    </tr>\n",
       "    <tr>\n",
       "      <th>5</th>\n",
       "      <td>2017-09-17</td>\n",
       "      <td>12</td>\n",
       "      <td>228</td>\n",
       "      <td>48</td>\n",
       "      <td>False</td>\n",
       "      <td>Recommended</td>\n",
       "      <td>review wrote one probably serious one wrote st...</td>\n",
       "      <td>Dead by Daylight</td>\n",
       "      <td>191</td>\n",
       "      <td>en</td>\n",
       "      <td>1.0</td>\n",
       "    </tr>\n",
       "    <tr>\n",
       "      <th>7</th>\n",
       "      <td>2018-09-21</td>\n",
       "      <td>2</td>\n",
       "      <td>54</td>\n",
       "      <td>400</td>\n",
       "      <td>False</td>\n",
       "      <td>Recommended</td>\n",
       "      <td>longtime dead daylight player know horror game...</td>\n",
       "      <td>Dead by Daylight</td>\n",
       "      <td>164</td>\n",
       "      <td>en</td>\n",
       "      <td>1.0</td>\n",
       "    </tr>\n",
       "  </tbody>\n",
       "</table>\n",
       "</div>"
      ],
      "text/plain": [
       "  date_posted  funny  helpful  hour_played  is_early_access_review  \\\n",
       "1  2019-02-07      0        0          892                   False   \n",
       "2  2018-06-14    126     1086          676                   False   \n",
       "3  2017-06-20     85     2139          612                   False   \n",
       "5  2017-09-17     12      228           48                   False   \n",
       "7  2018-09-21      2       54          400                   False   \n",
       "\n",
       "  recommendation                                             review  \\\n",
       "1    Recommended  good game although bit overpriced opinion pref...   \n",
       "2    Recommended  review wrote one probably serious one wrote st...   \n",
       "3    Recommended  disclaimer survivor main play game fun competi...   \n",
       "5    Recommended  review wrote one probably serious one wrote st...   \n",
       "7    Recommended  longtime dead daylight player know horror game...   \n",
       "\n",
       "                                         title  length_review language  Label  \n",
       "1  Expansion - Hearts of Iron IV: Man the Guns             17       en    1.0  \n",
       "2                             Dead by Daylight            191       en    1.0  \n",
       "3                             Dead by Daylight            132       en    1.0  \n",
       "5                             Dead by Daylight            191       en    1.0  \n",
       "7                             Dead by Daylight            164       en    1.0  "
      ]
     },
     "execution_count": 28,
     "metadata": {},
     "output_type": "execute_result"
    }
   ],
   "source": [
    "data_reviewsEN.head()"
   ]
  },
  {
   "cell_type": "code",
   "execution_count": 29,
   "metadata": {},
   "outputs": [
    {
     "data": {
      "text/plain": [
       "recommendation\n",
       "Not Recommended    121306\n",
       "Recommended        268346\n",
       "Name: Label, dtype: int64"
      ]
     },
     "execution_count": 29,
     "metadata": {},
     "output_type": "execute_result"
    }
   ],
   "source": [
    "data_reviews.groupby('recommendation').count()['Label']"
   ]
  },
  {
   "cell_type": "markdown",
   "metadata": {},
   "source": [
    "### 4.1) Preparing the training, validation and test set:"
   ]
  },
  {
   "cell_type": "code",
   "execution_count": 30,
   "metadata": {},
   "outputs": [],
   "source": [
    "English_reviews = data_reviewsEN.sample(frac=0.7, random_state=1)"
   ]
  },
  {
   "cell_type": "markdown",
   "metadata": {},
   "source": [
    "- Creating vectors with n-grams between 1 and 3 words:"
   ]
  },
  {
   "cell_type": "code",
   "execution_count": 31,
   "metadata": {},
   "outputs": [],
   "source": [
    "vectorizer = CountVectorizer(max_df = 0.9, min_df=0.003, max_features= 2500, binary= False, ngram_range=(1, 3))"
   ]
  },
  {
   "cell_type": "code",
   "execution_count": 32,
   "metadata": {},
   "outputs": [],
   "source": [
    "train = vectorizer.fit_transform(English_reviews['review'])"
   ]
  },
  {
   "cell_type": "code",
   "execution_count": 33,
   "metadata": {},
   "outputs": [],
   "source": [
    "target = English_reviews['Label']"
   ]
  },
  {
   "cell_type": "code",
   "execution_count": 34,
   "metadata": {},
   "outputs": [
    {
     "data": {
      "text/plain": [
       "341269    1.0\n",
       "338420    0.0\n",
       "280475    1.0\n",
       "210089    1.0\n",
       "73039     1.0\n",
       "         ... \n",
       "204180    0.0\n",
       "81900     1.0\n",
       "195257    0.0\n",
       "60691     0.0\n",
       "148883    1.0\n",
       "Name: Label, Length: 208072, dtype: float64"
      ]
     },
     "execution_count": 34,
     "metadata": {},
     "output_type": "execute_result"
    }
   ],
   "source": [
    "target"
   ]
  },
  {
   "cell_type": "code",
   "execution_count": 35,
   "metadata": {},
   "outputs": [],
   "source": [
    "train = train.toarray()"
   ]
  },
  {
   "cell_type": "code",
   "execution_count": 36,
   "metadata": {},
   "outputs": [
    {
     "data": {
      "text/plain": [
       "array([[0, 0, 0, ..., 0, 0, 0],\n",
       "       [0, 0, 0, ..., 0, 0, 0],\n",
       "       [0, 0, 0, ..., 0, 0, 0],\n",
       "       ...,\n",
       "       [0, 0, 0, ..., 0, 0, 0],\n",
       "       [0, 0, 0, ..., 0, 0, 0],\n",
       "       [0, 0, 0, ..., 0, 0, 0]], dtype=int64)"
      ]
     },
     "execution_count": 36,
     "metadata": {},
     "output_type": "execute_result"
    }
   ],
   "source": [
    "train"
   ]
  },
  {
   "cell_type": "markdown",
   "metadata": {},
   "source": [
    "- Spitting the data:"
   ]
  },
  {
   "cell_type": "code",
   "execution_count": 37,
   "metadata": {},
   "outputs": [],
   "source": [
    "X_train, x_val_test, y_train, y_val_test = train_test_split(train, target,\n",
    "                                                    test_size = 0.3,\n",
    "                                                    random_state = 500\n",
    "                                                    ,stratify = target)"
   ]
  },
  {
   "cell_type": "code",
   "execution_count": 38,
   "metadata": {},
   "outputs": [],
   "source": [
    "X_val, X_test, y_val, y_test = train_test_split(x_val_test, y_val_test,\n",
    "                                                    test_size = 0.3,\n",
    "                                                    random_state = 200\n",
    "                                                    ,stratify = y_val_test)"
   ]
  },
  {
   "cell_type": "code",
   "execution_count": 39,
   "metadata": {},
   "outputs": [
    {
     "data": {
      "text/plain": [
       "(145650, 1641)"
      ]
     },
     "execution_count": 39,
     "metadata": {},
     "output_type": "execute_result"
    }
   ],
   "source": [
    "X_train.shape"
   ]
  },
  {
   "cell_type": "code",
   "execution_count": 40,
   "metadata": {},
   "outputs": [
    {
     "data": {
      "text/plain": [
       "(43695, 1641)"
      ]
     },
     "execution_count": 40,
     "metadata": {},
     "output_type": "execute_result"
    }
   ],
   "source": [
    "X_val.shape"
   ]
  },
  {
   "cell_type": "code",
   "execution_count": 41,
   "metadata": {},
   "outputs": [
    {
     "data": {
      "text/plain": [
       "(18727, 1641)"
      ]
     },
     "execution_count": 41,
     "metadata": {},
     "output_type": "execute_result"
    }
   ],
   "source": [
    "X_test.shape"
   ]
  },
  {
   "cell_type": "markdown",
   "metadata": {},
   "source": [
    "### 4.2) Building and Training the models:"
   ]
  },
  {
   "cell_type": "markdown",
   "metadata": {},
   "source": [
    "##### First Model (simple):"
   ]
  },
  {
   "cell_type": "markdown",
   "metadata": {},
   "source": [
    "- Due to the imbalanced dataset where there are half of non-recommended than recommended games, we will based our evaluation in the \"accuracy\" and \"f1_score\". Being \"f1_score\" one of the most used metrics to evaluate the results of models trained with imbalanced datasets."
   ]
  },
  {
   "cell_type": "code",
   "execution_count": 2,
   "metadata": {},
   "outputs": [],
   "source": [
    "def recall_m(y_true, y_pred):\n",
    "    true_positives = K.sum(K.round(K.clip(y_true * y_pred, 0, 1)))\n",
    "    possible_positives = K.sum(K.round(K.clip(y_true, 0, 1)))\n",
    "    recall = true_positives / (possible_positives + K.epsilon())\n",
    "    return recall\n",
    "\n",
    "def precision_m(y_true, y_pred):\n",
    "    true_positives = K.sum(K.round(K.clip(y_true * y_pred, 0, 1)))\n",
    "    predicted_positives = K.sum(K.round(K.clip(y_pred, 0, 1)))\n",
    "    precision = true_positives / (predicted_positives + K.epsilon())\n",
    "    return precision\n",
    "\n",
    "def f1_m(y_true, y_pred):\n",
    "    precision = precision_m(y_true, y_pred)\n",
    "    recall = recall_m(y_true, y_pred)\n",
    "    return 2*((precision*recall)/(precision+recall+K.epsilon()))"
   ]
  },
  {
   "cell_type": "markdown",
   "metadata": {},
   "source": [
    "- The first model is a simple model with just one layer and 16 elements:"
   ]
  },
  {
   "cell_type": "code",
   "execution_count": 43,
   "metadata": {},
   "outputs": [],
   "source": [
    "model = Sequential()\n",
    "\n",
    "model.add(Dense(16,activation = 'relu', input_dim = len(train[1])))\n",
    "model.add(Dense(1,activation = 'sigmoid'))"
   ]
  },
  {
   "cell_type": "code",
   "execution_count": 44,
   "metadata": {},
   "outputs": [
    {
     "name": "stdout",
     "output_type": "stream",
     "text": [
      "Model: \"sequential\"\n",
      "_________________________________________________________________\n",
      "Layer (type)                 Output Shape              Param #   \n",
      "=================================================================\n",
      "dense (Dense)                (None, 16)                26272     \n",
      "_________________________________________________________________\n",
      "dense_1 (Dense)              (None, 1)                 17        \n",
      "=================================================================\n",
      "Total params: 26,289\n",
      "Trainable params: 26,289\n",
      "Non-trainable params: 0\n",
      "_________________________________________________________________\n"
     ]
    }
   ],
   "source": [
    "model.summary()"
   ]
  },
  {
   "cell_type": "code",
   "execution_count": 45,
   "metadata": {},
   "outputs": [],
   "source": [
    "model.compile(optimizer = 'adam', loss = 'binary_crossentropy', metrics = [f1_m,'accuracy'] )"
   ]
  },
  {
   "cell_type": "code",
   "execution_count": 46,
   "metadata": {},
   "outputs": [],
   "source": [
    "csv_logger = CSVLogger('model_simple.log', separator=',', append=False)"
   ]
  },
  {
   "cell_type": "code",
   "execution_count": 47,
   "metadata": {},
   "outputs": [
    {
     "name": "stdout",
     "output_type": "stream",
     "text": [
      "Train on 145650 samples, validate on 43695 samples\n",
      "Epoch 1/30\n",
      "145650/145650 [==============================] - 6s 44us/sample - loss: 0.4186 - f1_m: 0.8748 - accuracy: 0.8302 - val_loss: 0.3706 - val_f1_m: 0.8880 - val_accuracy: 0.8476\n",
      "Epoch 2/30\n",
      "145650/145650 [==============================] - 3s 23us/sample - loss: 0.3484 - f1_m: 0.8927 - accuracy: 0.8543 - val_loss: 0.3448 - val_f1_m: 0.8894 - val_accuracy: 0.8506\n",
      "Epoch 3/30\n",
      "145650/145650 [==============================] - 3s 23us/sample - loss: 0.3263 - f1_m: 0.8959 - accuracy: 0.8598 - val_loss: 0.3362 - val_f1_m: 0.8902 - val_accuracy: 0.8534\n",
      "Epoch 4/30\n",
      "145650/145650 [==============================] - 3s 23us/sample - loss: 0.3152 - f1_m: 0.8987 - accuracy: 0.8642 - val_loss: 0.3345 - val_f1_m: 0.8906 - val_accuracy: 0.8536\n",
      "Epoch 5/30\n",
      "145650/145650 [==============================] - 4s 24us/sample - loss: 0.3075 - f1_m: 0.9011 - accuracy: 0.8676 - val_loss: 0.3327 - val_f1_m: 0.8918 - val_accuracy: 0.8552\n",
      "Epoch 6/30\n",
      "145650/145650 [==============================] - 4s 26us/sample - loss: 0.3007 - f1_m: 0.9037 - accuracy: 0.8712 - val_loss: 0.3328 - val_f1_m: 0.8913 - val_accuracy: 0.8554\n",
      "Epoch 7/30\n",
      "145650/145650 [==============================] - 4s 29us/sample - loss: 0.2945 - f1_m: 0.9062 - accuracy: 0.8746 - val_loss: 0.3344 - val_f1_m: 0.8901 - val_accuracy: 0.8541\n",
      "Epoch 8/30\n",
      "145650/145650 [==============================] - 3s 23us/sample - loss: 0.2884 - f1_m: 0.9082 - accuracy: 0.8776 - val_loss: 0.3358 - val_f1_m: 0.8909 - val_accuracy: 0.8544\n",
      "Epoch 9/30\n",
      "145650/145650 [==============================] - 3s 23us/sample - loss: 0.2825 - f1_m: 0.9103 - accuracy: 0.8804 - val_loss: 0.3375 - val_f1_m: 0.8908 - val_accuracy: 0.8538\n",
      "Epoch 10/30\n",
      "145650/145650 [==============================] - 3s 24us/sample - loss: 0.2768 - f1_m: 0.9126 - accuracy: 0.8835 - val_loss: 0.3405 - val_f1_m: 0.8907 - val_accuracy: 0.8540\n",
      "Epoch 11/30\n",
      "145650/145650 [==============================] - 3s 24us/sample - loss: 0.2718 - f1_m: 0.9143 - accuracy: 0.8859 - val_loss: 0.3447 - val_f1_m: 0.8896 - val_accuracy: 0.8522\n",
      "Epoch 12/30\n",
      "145650/145650 [==============================] - 4s 26us/sample - loss: 0.2665 - f1_m: 0.9162 - accuracy: 0.8883 - val_loss: 0.3471 - val_f1_m: 0.8886 - val_accuracy: 0.8517\n",
      "Epoch 13/30\n",
      "145650/145650 [==============================] - 4s 28us/sample - loss: 0.2617 - f1_m: 0.9181 - accuracy: 0.8912 - val_loss: 0.3523 - val_f1_m: 0.8884 - val_accuracy: 0.8512\n",
      "Epoch 14/30\n",
      "145650/145650 [==============================] - 4s 27us/sample - loss: 0.2569 - f1_m: 0.9199 - accuracy: 0.8935 - val_loss: 0.3568 - val_f1_m: 0.8872 - val_accuracy: 0.8504\n",
      "Epoch 15/30\n",
      "145650/145650 [==============================] - 3s 23us/sample - loss: 0.2522 - f1_m: 0.9216 - accuracy: 0.8956 - val_loss: 0.3632 - val_f1_m: 0.8855 - val_accuracy: 0.8491\n",
      "Epoch 16/30\n",
      "145650/145650 [==============================] - 4s 24us/sample - loss: 0.2483 - f1_m: 0.9228 - accuracy: 0.8973 - val_loss: 0.3664 - val_f1_m: 0.8863 - val_accuracy: 0.8494\n",
      "Epoch 17/30\n",
      "145650/145650 [==============================] - 3s 23us/sample - loss: 0.2442 - f1_m: 0.9242 - accuracy: 0.8991 - val_loss: 0.3693 - val_f1_m: 0.8854 - val_accuracy: 0.8482\n",
      "Epoch 18/30\n",
      "145650/145650 [==============================] - 4s 24us/sample - loss: 0.2399 - f1_m: 0.9258 - accuracy: 0.9013 - val_loss: 0.3762 - val_f1_m: 0.8852 - val_accuracy: 0.8478\n",
      "Epoch 19/30\n",
      "145650/145650 [==============================] - 4s 24us/sample - loss: 0.2360 - f1_m: 0.9272 - accuracy: 0.9032 - val_loss: 0.3811 - val_f1_m: 0.8859 - val_accuracy: 0.8478\n",
      "Epoch 20/30\n",
      "145650/145650 [==============================] - 4s 25us/sample - loss: 0.2323 - f1_m: 0.9283 - accuracy: 0.9048 - val_loss: 0.3882 - val_f1_m: 0.8859 - val_accuracy: 0.8472\n",
      "Epoch 21/30\n",
      "145650/145650 [==============================] - 4s 27us/sample - loss: 0.2289 - f1_m: 0.9294 - accuracy: 0.9060 - val_loss: 0.3930 - val_f1_m: 0.8841 - val_accuracy: 0.8465\n",
      "Epoch 22/30\n",
      "145650/145650 [==============================] - 5s 32us/sample - loss: 0.2255 - f1_m: 0.9307 - accuracy: 0.9080 - val_loss: 0.3987 - val_f1_m: 0.8834 - val_accuracy: 0.8455\n",
      "Epoch 23/30\n",
      "145650/145650 [==============================] - 5s 32us/sample - loss: 0.2224 - f1_m: 0.9320 - accuracy: 0.9097 - val_loss: 0.4077 - val_f1_m: 0.8829 - val_accuracy: 0.8438\n",
      "Epoch 24/30\n",
      "145650/145650 [==============================] - 4s 24us/sample - loss: 0.2194 - f1_m: 0.9332 - accuracy: 0.9113 - val_loss: 0.4123 - val_f1_m: 0.8804 - val_accuracy: 0.8423\n",
      "Epoch 25/30\n",
      "145650/145650 [==============================] - 4s 24us/sample - loss: 0.2168 - f1_m: 0.9341 - accuracy: 0.9126 - val_loss: 0.4186 - val_f1_m: 0.8814 - val_accuracy: 0.8424\n",
      "Epoch 26/30\n",
      "145650/145650 [==============================] - 4s 24us/sample - loss: 0.2141 - f1_m: 0.9350 - accuracy: 0.9137 - val_loss: 0.4245 - val_f1_m: 0.8812 - val_accuracy: 0.8426\n",
      "Epoch 27/30\n",
      "145650/145650 [==============================] - 4s 26us/sample - loss: 0.2120 - f1_m: 0.9356 - accuracy: 0.9145 - val_loss: 0.4301 - val_f1_m: 0.8796 - val_accuracy: 0.8406\n",
      "Epoch 28/30\n",
      "145650/145650 [==============================] - 4s 29us/sample - loss: 0.2099 - f1_m: 0.9359 - accuracy: 0.9151 - val_loss: 0.4382 - val_f1_m: 0.8799 - val_accuracy: 0.8411\n",
      "Epoch 29/30\n",
      "145650/145650 [==============================] - 4s 27us/sample - loss: 0.2076 - f1_m: 0.9372 - accuracy: 0.9166 - val_loss: 0.4442 - val_f1_m: 0.8784 - val_accuracy: 0.8393\n",
      "Epoch 30/30\n",
      "145650/145650 [==============================] - 3s 23us/sample - loss: 0.2053 - f1_m: 0.9378 - accuracy: 0.9176 - val_loss: 0.4527 - val_f1_m: 0.8772 - val_accuracy: 0.8387\n"
     ]
    }
   ],
   "source": [
    "history = model.fit(X_train,\n",
    "                    y_train,\n",
    "                    epochs = 30,\n",
    "                    batch_size = 200,\n",
    "                    validation_data = (X_val, y_val),\n",
    "                    callbacks=[csv_logger])"
   ]
  },
  {
   "cell_type": "code",
   "execution_count": 48,
   "metadata": {},
   "outputs": [],
   "source": [
    "#Saving the model:\n",
    "model.save('model_simple.h5')"
   ]
  },
  {
   "cell_type": "markdown",
   "metadata": {},
   "source": [
    "- Plot of the three parameters evaluated in the model:"
   ]
  },
  {
   "cell_type": "code",
   "execution_count": 49,
   "metadata": {},
   "outputs": [
    {
     "data": {
      "text/plain": [
       "<matplotlib.legend.Legend at 0x255f03dfd08>"
      ]
     },
     "execution_count": 49,
     "metadata": {},
     "output_type": "execute_result"
    },
    {
     "data": {
      "image/png": "[encoded data removed]",
      "text/plain": [
       "<Figure size 432x288 with 1 Axes>"
      ]
     },
     "metadata": {
      "needs_background": "light"
     },
     "output_type": "display_data"
    }
   ],
   "source": [
    "history_dict = history.history\n",
    "loss_values = history_dict['loss']\n",
    "val_loss_values = history_dict['val_loss']\n",
    "\n",
    "epochs = range(1, len(loss_values) + 1)\n",
    "\n",
    "plt.plot(epochs, loss_values, 'bo', label = 'Training Loss')\n",
    "plt.plot(epochs, val_loss_values, 'b', label = 'Validation Loss')\n",
    "plt.title('Training and Validation Loss')\n",
    "plt.xlabel('Epochs')\n",
    "plt.ylabel('Loss')\n",
    "plt.legend()"
   ]
  },
  {
   "cell_type": "code",
   "execution_count": 50,
   "metadata": {},
   "outputs": [
    {
     "data": {
      "text/plain": [
       "<matplotlib.legend.Legend at 0x255893909c8>"
      ]
     },
     "execution_count": 50,
     "metadata": {},
     "output_type": "execute_result"
    },
    {
     "data": {
      "image/png": "[encoded data removed]",
      "text/plain": [
       "<Figure size 432x288 with 1 Axes>"
      ]
     },
     "metadata": {
      "needs_background": "light"
     },
     "output_type": "display_data"
    }
   ],
   "source": [
    "history_dict = history.history\n",
    "accuracy_values = history_dict['accuracy']\n",
    "val_accuracy_values = history_dict['val_accuracy']\n",
    "\n",
    "epochs = range(1, len(accuracy_values) + 1)\n",
    "\n",
    "plt.plot(epochs, accuracy_values, 'bo', label = 'Training Accuracy')\n",
    "plt.plot(epochs, val_accuracy_values, 'b', label = 'Validation Accuracy')\n",
    "plt.title('Training and Validation Accuracy')\n",
    "plt.xlabel('Epochs')\n",
    "plt.ylabel('Accuracy')\n",
    "plt.legend()"
   ]
  },
  {
   "cell_type": "code",
   "execution_count": 51,
   "metadata": {},
   "outputs": [
    {
     "data": {
      "text/plain": [
       "<matplotlib.legend.Legend at 0x255a9d50f88>"
      ]
     },
     "execution_count": 51,
     "metadata": {},
     "output_type": "execute_result"
    },
    {
     "data": {
      "image/png": "[encoded data removed]",
      "text/plain": [
       "<Figure size 432x288 with 1 Axes>"
      ]
     },
     "metadata": {
      "needs_background": "light"
     },
     "output_type": "display_data"
    }
   ],
   "source": [
    "history_dict = history.history\n",
    "accuracy_values = history_dict['f1_m']\n",
    "val_accuracy_values = history_dict['val_f1_m']\n",
    "\n",
    "epochs = range(1, len(accuracy_values) + 1)\n",
    "\n",
    "plt.plot(epochs, accuracy_values, 'bo', label = 'Training f1_m')\n",
    "plt.plot(epochs, val_accuracy_values, 'b', label = 'Validation f1_m')\n",
    "plt.title('Training and Validation f1')\n",
    "plt.xlabel('Epochs')\n",
    "plt.ylabel('f1')\n",
    "plt.legend()"
   ]
  },
  {
   "cell_type": "markdown",
   "metadata": {},
   "source": [
    "- Evaluating the model with the test set:"
   ]
  },
  {
   "cell_type": "code",
   "execution_count": 52,
   "metadata": {},
   "outputs": [
    {
     "name": "stdout",
     "output_type": "stream",
     "text": [
      "18727/18727 [==============================] - 1s 37us/sample - loss: 0.4447 - f1_m: 0.8786 - accuracy: 0.8430\n"
     ]
    }
   ],
   "source": [
    "results = model.evaluate(X_test , y_test)"
   ]
  },
  {
   "cell_type": "code",
   "execution_count": 53,
   "metadata": {},
   "outputs": [
    {
     "name": "stdout",
     "output_type": "stream",
     "text": [
      "The loss is:  0.44465154416559965\n",
      "The f1_score is:  0.8785892\n",
      "The accuracy is:  0.84295404\n"
     ]
    }
   ],
   "source": [
    "print('The loss is: ', results[0])\n",
    "print('The f1_score is: ', results[1])\n",
    "print('The accuracy is: ', results[2])"
   ]
  },
  {
   "cell_type": "markdown",
   "metadata": {},
   "source": [
    "                                     ##### The model is crearly overfitted #####"
   ]
  },
  {
   "cell_type": "markdown",
   "metadata": {},
   "source": [
    "##### Second Model (medium-complex):"
   ]
  },
  {
   "cell_type": "code",
   "execution_count": 54,
   "metadata": {},
   "outputs": [],
   "source": [
    "model = Sequential()\n",
    "\n",
    "model.add(Dense(64,activation = 'relu', input_dim = len(train[1])))\n",
    "model.add(Dense(64,activation = 'relu'))\n",
    "model.add(Dense(1,activation = 'sigmoid'))"
   ]
  },
  {
   "cell_type": "code",
   "execution_count": 55,
   "metadata": {},
   "outputs": [
    {
     "name": "stdout",
     "output_type": "stream",
     "text": [
      "Model: \"sequential_1\"\n",
      "_________________________________________________________________\n",
      "Layer (type)                 Output Shape              Param #   \n",
      "=================================================================\n",
      "dense_2 (Dense)              (None, 64)                105088    \n",
      "_________________________________________________________________\n",
      "dense_3 (Dense)              (None, 64)                4160      \n",
      "_________________________________________________________________\n",
      "dense_4 (Dense)              (None, 1)                 65        \n",
      "=================================================================\n",
      "Total params: 109,313\n",
      "Trainable params: 109,313\n",
      "Non-trainable params: 0\n",
      "_________________________________________________________________\n"
     ]
    }
   ],
   "source": [
    "model.summary()"
   ]
  },
  {
   "cell_type": "code",
   "execution_count": 56,
   "metadata": {},
   "outputs": [],
   "source": [
    "model.compile(optimizer = 'adam', loss = 'binary_crossentropy', metrics = [f1_m,'accuracy'] )"
   ]
  },
  {
   "cell_type": "code",
   "execution_count": 57,
   "metadata": {},
   "outputs": [],
   "source": [
    "csv_logger = CSVLogger('model_medium-complex.log', separator=',', append=False)"
   ]
  },
  {
   "cell_type": "code",
   "execution_count": 58,
   "metadata": {},
   "outputs": [
    {
     "name": "stdout",
     "output_type": "stream",
     "text": [
      "Train on 145650 samples, validate on 43695 samples\n",
      "Epoch 1/10\n",
      "145650/145650 [==============================] - 5s 33us/sample - loss: 0.3646 - f1_m: 0.8831 - accuracy: 0.8405 - val_loss: 0.3319 - val_f1_m: 0.8920 - val_accuracy: 0.8555\n",
      "Epoch 2/10\n",
      "145650/145650 [==============================] - 4s 28us/sample - loss: 0.3090 - f1_m: 0.9004 - accuracy: 0.8674 - val_loss: 0.3303 - val_f1_m: 0.8913 - val_accuracy: 0.8553\n",
      "Epoch 3/10\n",
      "145650/145650 [==============================] - 4s 27us/sample - loss: 0.2829 - f1_m: 0.9100 - accuracy: 0.8803 - val_loss: 0.3313 - val_f1_m: 0.8910 - val_accuracy: 0.8553\n",
      "Epoch 4/10\n",
      "145650/145650 [==============================] - 6s 40us/sample - loss: 0.2535 - f1_m: 0.9209 - accuracy: 0.8949 - val_loss: 0.3542 - val_f1_m: 0.8872 - val_accuracy: 0.8521\n",
      "Epoch 5/10\n",
      "145650/145650 [==============================] - 7s 49us/sample - loss: 0.2230 - f1_m: 0.9323 - accuracy: 0.9101 - val_loss: 0.3758 - val_f1_m: 0.8856 - val_accuracy: 0.8499\n",
      "Epoch 6/10\n",
      "145650/145650 [==============================] - 4s 28us/sample - loss: 0.1938 - f1_m: 0.9414 - accuracy: 0.9223 - val_loss: 0.4147 - val_f1_m: 0.8831 - val_accuracy: 0.8469\n",
      "Epoch 7/10\n",
      "145650/145650 [==============================] - 4s 27us/sample - loss: 0.1685 - f1_m: 0.9495 - accuracy: 0.9331 - val_loss: 0.4611 - val_f1_m: 0.8829 - val_accuracy: 0.8443\n",
      "Epoch 8/10\n",
      "145650/145650 [==============================] - 4s 28us/sample - loss: 0.1495 - f1_m: 0.9557 - accuracy: 0.9414 - val_loss: 0.5186 - val_f1_m: 0.8827 - val_accuracy: 0.8425\n",
      "Epoch 9/10\n",
      "145650/145650 [==============================] - 6s 44us/sample - loss: 0.1313 - f1_m: 0.9611 - accuracy: 0.9486 - val_loss: 0.5979 - val_f1_m: 0.8782 - val_accuracy: 0.8395\n",
      "Epoch 10/10\n",
      "145650/145650 [==============================] - 6s 40us/sample - loss: 0.1198 - f1_m: 0.9650 - accuracy: 0.9537 - val_loss: 0.6437 - val_f1_m: 0.8798 - val_accuracy: 0.8400\n"
     ]
    }
   ],
   "source": [
    "history = model.fit(X_train,\n",
    "                    y_train,\n",
    "                    epochs = 10,\n",
    "                    batch_size = 200,\n",
    "                    validation_data = (X_val, y_val),\n",
    "                    callbacks=[csv_logger])"
   ]
  },
  {
   "cell_type": "code",
   "execution_count": 59,
   "metadata": {},
   "outputs": [],
   "source": [
    "#Saving the model:\n",
    "model.save('model_medium-complex.h5')"
   ]
  },
  {
   "cell_type": "markdown",
   "metadata": {},
   "source": [
    "- Plot of the three parameters evaluated in the model:"
   ]
  },
  {
   "cell_type": "code",
   "execution_count": 60,
   "metadata": {},
   "outputs": [
    {
     "data": {
      "text/plain": [
       "<matplotlib.legend.Legend at 0x255b6bd9ac8>"
      ]
     },
     "execution_count": 60,
     "metadata": {},
     "output_type": "execute_result"
    },
    {
     "data": {
      "image/png": "[encoded data removed]",
      "text/plain": [
       "<Figure size 432x288 with 1 Axes>"
      ]
     },
     "metadata": {
      "needs_background": "light"
     },
     "output_type": "display_data"
    }
   ],
   "source": [
    "history_dict = history.history\n",
    "loss_values = history_dict['loss']\n",
    "val_loss_values = history_dict['val_loss']\n",
    "\n",
    "epochs = range(1, len(loss_values) + 1)\n",
    "\n",
    "plt.plot(epochs, loss_values, 'bo', label = 'Training Loss')\n",
    "plt.plot(epochs, val_loss_values, 'b', label = 'Validation Loss')\n",
    "plt.title('Training and Validation Loss')\n",
    "plt.xlabel('Epochs')\n",
    "plt.ylabel('Loss')\n",
    "plt.legend()"
   ]
  },
  {
   "cell_type": "code",
   "execution_count": 61,
   "metadata": {},
   "outputs": [
    {
     "data": {
      "text/plain": [
       "<matplotlib.legend.Legend at 0x255b5981e48>"
      ]
     },
     "execution_count": 61,
     "metadata": {},
     "output_type": "execute_result"
    },
    {
     "data": {
      "image/png": "[encoded data removed]",
      "text/plain": [
       "<Figure size 432x288 with 1 Axes>"
      ]
     },
     "metadata": {
      "needs_background": "light"
     },
     "output_type": "display_data"
    }
   ],
   "source": [
    "history_dict = history.history\n",
    "accuracy_values = history_dict['accuracy']\n",
    "val_accuracy_values = history_dict['val_accuracy']\n",
    "\n",
    "epochs = range(1, len(accuracy_values) + 1)\n",
    "\n",
    "plt.plot(epochs, accuracy_values, 'bo', label = 'Training Accuracy')\n",
    "plt.plot(epochs, val_accuracy_values, 'b', label = 'Validation Accuracy')\n",
    "plt.title('Training and Validation Accuracy')\n",
    "plt.xlabel('Epochs')\n",
    "plt.ylabel('Accuracy')\n",
    "plt.legend()"
   ]
  },
  {
   "cell_type": "code",
   "execution_count": 62,
   "metadata": {},
   "outputs": [
    {
     "data": {
      "text/plain": [
       "<matplotlib.legend.Legend at 0x2559bcf0188>"
      ]
     },
     "execution_count": 62,
     "metadata": {},
     "output_type": "execute_result"
    },
    {
     "data": {
      "image/png": "[encoded data removed]",
      "text/plain": [
       "<Figure size 432x288 with 1 Axes>"
      ]
     },
     "metadata": {
      "needs_background": "light"
     },
     "output_type": "display_data"
    }
   ],
   "source": [
    "history_dict = history.history\n",
    "accuracy_values = history_dict['f1_m']\n",
    "val_accuracy_values = history_dict['val_f1_m']\n",
    "\n",
    "epochs = range(1, len(accuracy_values) + 1)\n",
    "\n",
    "plt.plot(epochs, accuracy_values, 'bo', label = 'Training f1_m')\n",
    "plt.plot(epochs, val_accuracy_values, 'b', label = 'Validation f1_m')\n",
    "plt.title('Training and Validation f1')\n",
    "plt.xlabel('Epochs')\n",
    "plt.ylabel('f1')\n",
    "plt.legend()"
   ]
  },
  {
   "cell_type": "markdown",
   "metadata": {},
   "source": [
    "- Evaluating the model with the test set:"
   ]
  },
  {
   "cell_type": "code",
   "execution_count": 63,
   "metadata": {},
   "outputs": [
    {
     "name": "stdout",
     "output_type": "stream",
     "text": [
      "18727/18727 [==============================] - 1s 39us/sample - loss: 0.6324 - f1_m: 0.8778 - accuracy: 0.8397\n"
     ]
    }
   ],
   "source": [
    "results = model.evaluate(X_test , y_test)"
   ]
  },
  {
   "cell_type": "code",
   "execution_count": 64,
   "metadata": {},
   "outputs": [
    {
     "name": "stdout",
     "output_type": "stream",
     "text": [
      "The loss is:  0.63237733358904\n",
      "The f1_score is:  0.8777612\n",
      "The accuracy is:  0.8396967\n"
     ]
    }
   ],
   "source": [
    "print('The loss is: ', results[0])\n",
    "print('The f1_score is: ', results[1])\n",
    "print('The accuracy is: ', results[2])"
   ]
  },
  {
   "cell_type": "markdown",
   "metadata": {},
   "source": [
    "                      ##### The model is crearly overfitted and worse than the simple model#####"
   ]
  },
  {
   "cell_type": "markdown",
   "metadata": {},
   "source": [
    "# 5) Handling Overfitting"
   ]
  },
  {
   "cell_type": "markdown",
   "metadata": {},
   "source": [
    "Now, we can try to do something about the overfitting. We are going to try three different options to do that:\n",
    "    - Reduce the network’s capacity by removing layers or reducing the number of elements in the hidden layers\n",
    "    - Apply regularization, which comes down to adding a cost to the loss function for large weights\n",
    "    - Use Dropout layers, which will randomly remove certain features by setting them to zero"
   ]
  },
  {
   "cell_type": "markdown",
   "metadata": {},
   "source": [
    "##### 1) Reduce the number of elements:"
   ]
  },
  {
   "cell_type": "code",
   "execution_count": 65,
   "metadata": {},
   "outputs": [],
   "source": [
    "model = Sequential()\n",
    "\n",
    "model.add(Dense(8,activation = 'relu', input_dim = len(train[1])))\n",
    "model.add(Dense(1,activation = 'sigmoid'))"
   ]
  },
  {
   "cell_type": "code",
   "execution_count": 66,
   "metadata": {},
   "outputs": [
    {
     "name": "stdout",
     "output_type": "stream",
     "text": [
      "Model: \"sequential_2\"\n",
      "_________________________________________________________________\n",
      "Layer (type)                 Output Shape              Param #   \n",
      "=================================================================\n",
      "dense_5 (Dense)              (None, 8)                 13136     \n",
      "_________________________________________________________________\n",
      "dense_6 (Dense)              (None, 1)                 9         \n",
      "=================================================================\n",
      "Total params: 13,145\n",
      "Trainable params: 13,145\n",
      "Non-trainable params: 0\n",
      "_________________________________________________________________\n"
     ]
    }
   ],
   "source": [
    "model.summary()"
   ]
  },
  {
   "cell_type": "code",
   "execution_count": 67,
   "metadata": {},
   "outputs": [],
   "source": [
    "model.compile(optimizer = 'adam', loss = 'binary_crossentropy', metrics = [f1_m,'accuracy'] )"
   ]
  },
  {
   "cell_type": "code",
   "execution_count": 68,
   "metadata": {},
   "outputs": [],
   "source": [
    "csv_logger = CSVLogger('model_simple_reduce_elements.log', separator=',', append=False)"
   ]
  },
  {
   "cell_type": "code",
   "execution_count": 69,
   "metadata": {},
   "outputs": [
    {
     "name": "stdout",
     "output_type": "stream",
     "text": [
      "Train on 145650 samples, validate on 43695 samples\n",
      "Epoch 1/30\n",
      "145650/145650 [==============================] - 4s 28us/sample - loss: 0.4277 - f1_m: 0.8756 - accuracy: 0.8256 - val_loss: 0.3872 - val_f1_m: 0.8842 - val_accuracy: 0.8415\n",
      "Epoch 2/30\n",
      "145650/145650 [==============================] - 4s 25us/sample - loss: 0.3712 - f1_m: 0.8886 - accuracy: 0.8477 - val_loss: 0.3629 - val_f1_m: 0.8857 - val_accuracy: 0.8453\n",
      "Epoch 3/30\n",
      "145650/145650 [==============================] - 3s 23us/sample - loss: 0.3449 - f1_m: 0.8916 - accuracy: 0.8540 - val_loss: 0.3468 - val_f1_m: 0.8879 - val_accuracy: 0.8497\n",
      "Epoch 4/30\n",
      "145650/145650 [==============================] - 5s 37us/sample - loss: 0.3297 - f1_m: 0.8944 - accuracy: 0.8586 - val_loss: 0.3396 - val_f1_m: 0.8886 - val_accuracy: 0.8522\n",
      "Epoch 5/30\n",
      "145650/145650 [==============================] - 6s 43us/sample - loss: 0.3203 - f1_m: 0.8964 - accuracy: 0.8617 - val_loss: 0.3349 - val_f1_m: 0.8922 - val_accuracy: 0.8558\n",
      "Epoch 6/30\n",
      "145650/145650 [==============================] - 3s 23us/sample - loss: 0.3134 - f1_m: 0.8988 - accuracy: 0.8649 - val_loss: 0.3335 - val_f1_m: 0.8911 - val_accuracy: 0.8549\n",
      "Epoch 7/30\n",
      "145650/145650 [==============================] - 3s 23us/sample - loss: 0.3083 - f1_m: 0.9005 - accuracy: 0.8674 - val_loss: 0.3326 - val_f1_m: 0.8912 - val_accuracy: 0.8557\n",
      "Epoch 8/30\n",
      "145650/145650 [==============================] - 3s 23us/sample - loss: 0.3042 - f1_m: 0.9022 - accuracy: 0.8696 - val_loss: 0.3330 - val_f1_m: 0.8905 - val_accuracy: 0.8550\n",
      "Epoch 9/30\n",
      "145650/145650 [==============================] - 4s 28us/sample - loss: 0.3006 - f1_m: 0.9032 - accuracy: 0.8710 - val_loss: 0.3330 - val_f1_m: 0.8912 - val_accuracy: 0.8553\n",
      "Epoch 10/30\n",
      "145650/145650 [==============================] - 8s 52us/sample - loss: 0.2973 - f1_m: 0.9045 - accuracy: 0.8727 - val_loss: 0.3351 - val_f1_m: 0.8895 - val_accuracy: 0.8539\n",
      "Epoch 11/30\n",
      "145650/145650 [==============================] - 4s 27us/sample - loss: 0.2947 - f1_m: 0.9052 - accuracy: 0.8739 - val_loss: 0.3350 - val_f1_m: 0.8904 - val_accuracy: 0.8547\n",
      "Epoch 12/30\n",
      "145650/145650 [==============================] - 3s 23us/sample - loss: 0.2919 - f1_m: 0.9065 - accuracy: 0.8754 - val_loss: 0.3366 - val_f1_m: 0.8901 - val_accuracy: 0.8545\n",
      "Epoch 13/30\n",
      "145650/145650 [==============================] - 3s 23us/sample - loss: 0.2896 - f1_m: 0.9070 - accuracy: 0.8762 - val_loss: 0.3377 - val_f1_m: 0.8890 - val_accuracy: 0.8532\n",
      "Epoch 14/30\n",
      "145650/145650 [==============================] - 3s 23us/sample - loss: 0.2871 - f1_m: 0.9080 - accuracy: 0.8775 - val_loss: 0.3391 - val_f1_m: 0.8893 - val_accuracy: 0.8534\n",
      "Epoch 15/30\n",
      "145650/145650 [==============================] - 5s 31us/sample - loss: 0.2850 - f1_m: 0.9088 - accuracy: 0.8786 - val_loss: 0.3406 - val_f1_m: 0.8892 - val_accuracy: 0.8528\n",
      "Epoch 16/30\n",
      "145650/145650 [==============================] - 6s 44us/sample - loss: 0.2826 - f1_m: 0.9095 - accuracy: 0.8795 - val_loss: 0.3423 - val_f1_m: 0.8889 - val_accuracy: 0.8519\n",
      "Epoch 17/30\n",
      "145650/145650 [==============================] - 3s 24us/sample - loss: 0.2809 - f1_m: 0.9104 - accuracy: 0.8807 - val_loss: 0.3447 - val_f1_m: 0.8886 - val_accuracy: 0.8519\n",
      "Epoch 18/30\n",
      "145650/145650 [==============================] - 3s 23us/sample - loss: 0.2789 - f1_m: 0.9111 - accuracy: 0.8816 - val_loss: 0.3463 - val_f1_m: 0.8891 - val_accuracy: 0.8523\n",
      "Epoch 19/30\n",
      "145650/145650 [==============================] - 4s 24us/sample - loss: 0.2773 - f1_m: 0.9119 - accuracy: 0.8827 - val_loss: 0.3480 - val_f1_m: 0.8885 - val_accuracy: 0.8510\n",
      "Epoch 20/30\n",
      "145650/145650 [==============================] - 3s 24us/sample - loss: 0.2757 - f1_m: 0.9123 - accuracy: 0.8834 - val_loss: 0.3494 - val_f1_m: 0.8877 - val_accuracy: 0.8512\n",
      "Epoch 21/30\n",
      "145650/145650 [==============================] - 5s 36us/sample - loss: 0.2738 - f1_m: 0.9129 - accuracy: 0.8842 - val_loss: 0.3516 - val_f1_m: 0.8880 - val_accuracy: 0.8509\n",
      "Epoch 22/30\n",
      "145650/145650 [==============================] - 6s 41us/sample - loss: 0.2721 - f1_m: 0.9132 - accuracy: 0.8845 - val_loss: 0.3532 - val_f1_m: 0.8864 - val_accuracy: 0.8499\n",
      "Epoch 23/30\n",
      "145650/145650 [==============================] - 3s 23us/sample - loss: 0.2708 - f1_m: 0.9138 - accuracy: 0.8852 - val_loss: 0.3565 - val_f1_m: 0.8872 - val_accuracy: 0.8499\n",
      "Epoch 24/30\n",
      "145650/145650 [==============================] - 3s 23us/sample - loss: 0.2694 - f1_m: 0.9144 - accuracy: 0.8861 - val_loss: 0.3575 - val_f1_m: 0.8861 - val_accuracy: 0.8493\n",
      "Epoch 25/30\n",
      "145650/145650 [==============================] - 3s 24us/sample - loss: 0.2682 - f1_m: 0.9148 - accuracy: 0.8867 - val_loss: 0.3594 - val_f1_m: 0.8861 - val_accuracy: 0.8493\n",
      "Epoch 26/30\n",
      "145650/145650 [==============================] - 4s 25us/sample - loss: 0.2671 - f1_m: 0.9151 - accuracy: 0.8871 - val_loss: 0.3616 - val_f1_m: 0.8870 - val_accuracy: 0.8495\n",
      "Epoch 27/30\n",
      "145650/145650 [==============================] - 6s 42us/sample - loss: 0.2658 - f1_m: 0.9154 - accuracy: 0.8876 - val_loss: 0.3642 - val_f1_m: 0.8857 - val_accuracy: 0.8483\n",
      "Epoch 28/30\n",
      "145650/145650 [==============================] - 5s 37us/sample - loss: 0.2649 - f1_m: 0.9159 - accuracy: 0.8882 - val_loss: 0.3650 - val_f1_m: 0.8848 - val_accuracy: 0.8480\n",
      "Epoch 29/30\n",
      "145650/145650 [==============================] - 3s 22us/sample - loss: 0.2638 - f1_m: 0.9157 - accuracy: 0.8880 - val_loss: 0.3678 - val_f1_m: 0.8852 - val_accuracy: 0.8480\n",
      "Epoch 30/30\n",
      "145650/145650 [==============================] - 3s 23us/sample - loss: 0.2626 - f1_m: 0.9167 - accuracy: 0.8891 - val_loss: 0.3691 - val_f1_m: 0.8853 - val_accuracy: 0.8481\n"
     ]
    }
   ],
   "source": [
    "history = model.fit(X_train,\n",
    "                    y_train,\n",
    "                    epochs = 30,\n",
    "                    batch_size = 200,\n",
    "                    validation_data = (X_val, y_val),\n",
    "                    callbacks=[csv_logger])"
   ]
  },
  {
   "cell_type": "code",
   "execution_count": 70,
   "metadata": {},
   "outputs": [],
   "source": [
    "#Saving the model:\n",
    "model.save('model_simple_reduce_elements.h5')"
   ]
  },
  {
   "cell_type": "markdown",
   "metadata": {},
   "source": [
    "- Plot of the three parameters evaluated in the model:"
   ]
  },
  {
   "cell_type": "code",
   "execution_count": 71,
   "metadata": {},
   "outputs": [
    {
     "data": {
      "text/plain": [
       "<matplotlib.legend.Legend at 0x255ad96db88>"
      ]
     },
     "execution_count": 71,
     "metadata": {},
     "output_type": "execute_result"
    },
    {
     "data": {
      "image/png": "[encoded data removed]",
      "text/plain": [
       "<Figure size 432x288 with 1 Axes>"
      ]
     },
     "metadata": {
      "needs_background": "light"
     },
     "output_type": "display_data"
    }
   ],
   "source": [
    "history_dict = history.history\n",
    "loss_values = history_dict['loss']\n",
    "val_loss_values = history_dict['val_loss']\n",
    "\n",
    "epochs = range(1, len(loss_values) + 1)\n",
    "\n",
    "plt.plot(epochs, loss_values, 'bo', label = 'Training Loss')\n",
    "plt.plot(epochs, val_loss_values, 'b', label = 'Validation Loss')\n",
    "plt.title('Training and Validation Loss')\n",
    "plt.xlabel('Epochs')\n",
    "plt.ylabel('Loss')\n",
    "plt.legend()"
   ]
  },
  {
   "cell_type": "code",
   "execution_count": 72,
   "metadata": {},
   "outputs": [
    {
     "data": {
      "text/plain": [
       "<matplotlib.legend.Legend at 0x255ab6c4148>"
      ]
     },
     "execution_count": 72,
     "metadata": {},
     "output_type": "execute_result"
    },
    {
     "data": {
      "image/png": "[encoded data removed]",
      "text/plain": [
       "<Figure size 432x288 with 1 Axes>"
      ]
     },
     "metadata": {
      "needs_background": "light"
     },
     "output_type": "display_data"
    }
   ],
   "source": [
    "history_dict = history.history\n",
    "accuracy_values = history_dict['accuracy']\n",
    "val_accuracy_values = history_dict['val_accuracy']\n",
    "\n",
    "epochs = range(1, len(accuracy_values) + 1)\n",
    "\n",
    "plt.plot(epochs, accuracy_values, 'bo', label = 'Training Accuracy')\n",
    "plt.plot(epochs, val_accuracy_values, 'b', label = 'Validation Accuracy')\n",
    "plt.title('Training and Validation Accuracy')\n",
    "plt.xlabel('Epochs')\n",
    "plt.ylabel('Accuracy')\n",
    "plt.legend()"
   ]
  },
  {
   "cell_type": "code",
   "execution_count": 73,
   "metadata": {},
   "outputs": [
    {
     "data": {
      "text/plain": [
       "<matplotlib.legend.Legend at 0x25589a15dc8>"
      ]
     },
     "execution_count": 73,
     "metadata": {},
     "output_type": "execute_result"
    },
    {
     "data": {
      "image/png": "[encoded data removed]",
      "text/plain": [
       "<Figure size 432x288 with 1 Axes>"
      ]
     },
     "metadata": {
      "needs_background": "light"
     },
     "output_type": "display_data"
    }
   ],
   "source": [
    "history_dict = history.history\n",
    "accuracy_values = history_dict['f1_m']\n",
    "val_accuracy_values = history_dict['val_f1_m']\n",
    "\n",
    "epochs = range(1, len(accuracy_values) + 1)\n",
    "\n",
    "plt.plot(epochs, accuracy_values, 'bo', label = 'Training f1_m')\n",
    "plt.plot(epochs, val_accuracy_values, 'b', label = 'Validation f1_m')\n",
    "plt.title('Training and Validation f1')\n",
    "plt.xlabel('Epochs')\n",
    "plt.ylabel('f1')\n",
    "plt.legend()"
   ]
  },
  {
   "cell_type": "markdown",
   "metadata": {},
   "source": [
    "- Evaluating the model with the test set:"
   ]
  },
  {
   "cell_type": "code",
   "execution_count": 74,
   "metadata": {},
   "outputs": [
    {
     "name": "stdout",
     "output_type": "stream",
     "text": [
      "18727/18727 [==============================] - 1s 37us/sample - loss: 0.3627 - f1_m: 0.8844 - accuracy: 0.8498\n"
     ]
    }
   ],
   "source": [
    "results = model.evaluate(X_test , y_test)"
   ]
  },
  {
   "cell_type": "code",
   "execution_count": 75,
   "metadata": {},
   "outputs": [
    {
     "name": "stdout",
     "output_type": "stream",
     "text": [
      "The loss is:  0.3627166340514797\n",
      "The f1_score is:  0.8843881\n",
      "The accuracy is:  0.8497891\n"
     ]
    }
   ],
   "source": [
    "print('The loss is: ', results[0])\n",
    "print('The f1_score is: ', results[1])\n",
    "print('The accuracy is: ', results[2])"
   ]
  },
  {
   "cell_type": "markdown",
   "metadata": {},
   "source": [
    "                      ##### The model is crearly overfitted. Reducing the number of layers\n",
    "                   and number of elements is not a solution for the overfitting problem ##### "
   ]
  },
  {
   "cell_type": "markdown",
   "metadata": {},
   "source": [
    "##### 2) Apply regularization, which comes down to adding a cost to the loss function for large weights:"
   ]
  },
  {
   "cell_type": "code",
   "execution_count": 76,
   "metadata": {},
   "outputs": [],
   "source": [
    "model = Sequential()\n",
    "\n",
    "model.add(Dense(16,kernel_regularizer=regularizers.l2(0.005),activation = 'relu', input_dim = len(train[1])))\n",
    "model.add(Dense(1,activation = 'sigmoid'))"
   ]
  },
  {
   "cell_type": "code",
   "execution_count": 77,
   "metadata": {},
   "outputs": [
    {
     "name": "stdout",
     "output_type": "stream",
     "text": [
      "Model: \"sequential_3\"\n",
      "_________________________________________________________________\n",
      "Layer (type)                 Output Shape              Param #   \n",
      "=================================================================\n",
      "dense_7 (Dense)              (None, 16)                26272     \n",
      "_________________________________________________________________\n",
      "dense_8 (Dense)              (None, 1)                 17        \n",
      "=================================================================\n",
      "Total params: 26,289\n",
      "Trainable params: 26,289\n",
      "Non-trainable params: 0\n",
      "_________________________________________________________________\n"
     ]
    }
   ],
   "source": [
    "model.summary()"
   ]
  },
  {
   "cell_type": "code",
   "execution_count": 78,
   "metadata": {},
   "outputs": [],
   "source": [
    "model.compile(optimizer = 'adam', loss = 'binary_crossentropy', metrics = [f1_m,'accuracy'] )"
   ]
  },
  {
   "cell_type": "code",
   "execution_count": 79,
   "metadata": {},
   "outputs": [],
   "source": [
    "csv_logger = CSVLogger('model_simple_regularization.log', separator=',', append=False)"
   ]
  },
  {
   "cell_type": "code",
   "execution_count": 80,
   "metadata": {},
   "outputs": [
    {
     "name": "stdout",
     "output_type": "stream",
     "text": [
      "Train on 145650 samples, validate on 43695 samples\n",
      "Epoch 1/50\n",
      "145650/145650 [==============================] - 4s 28us/sample - loss: 0.4909 - f1_m: 0.8679 - accuracy: 0.8131 - val_loss: 0.4425 - val_f1_m: 0.8766 - val_accuracy: 0.8266\n",
      "Epoch 2/50\n",
      "145650/145650 [==============================] - 3s 24us/sample - loss: 0.4271 - f1_m: 0.8811 - accuracy: 0.8352 - val_loss: 0.4169 - val_f1_m: 0.8812 - val_accuracy: 0.8345\n",
      "Epoch 3/50\n",
      "145650/145650 [==============================] - 3s 24us/sample - loss: 0.4070 - f1_m: 0.8850 - accuracy: 0.8421 - val_loss: 0.4037 - val_f1_m: 0.8851 - val_accuracy: 0.8443\n",
      "Epoch 4/50\n",
      "145650/145650 [==============================] - 5s 36us/sample - loss: 0.3972 - f1_m: 0.8868 - accuracy: 0.8455 - val_loss: 0.3951 - val_f1_m: 0.8865 - val_accuracy: 0.8450\n",
      "Epoch 5/50\n",
      "145650/145650 [==============================] - 7s 50us/sample - loss: 0.3915 - f1_m: 0.8879 - accuracy: 0.8475 - val_loss: 0.3947 - val_f1_m: 0.8849 - val_accuracy: 0.8437\n",
      "Epoch 6/50\n",
      "145650/145650 [==============================] - 3s 24us/sample - loss: 0.3871 - f1_m: 0.8888 - accuracy: 0.8491 - val_loss: 0.3878 - val_f1_m: 0.8874 - val_accuracy: 0.8484\n",
      "Epoch 7/50\n",
      "145650/145650 [==============================] - 4s 25us/sample - loss: 0.3831 - f1_m: 0.8895 - accuracy: 0.8502 - val_loss: 0.3878 - val_f1_m: 0.8866 - val_accuracy: 0.8465\n",
      "Epoch 8/50\n",
      "145650/145650 [==============================] - 4s 24us/sample - loss: 0.3804 - f1_m: 0.8897 - accuracy: 0.8508 - val_loss: 0.3851 - val_f1_m: 0.8874 - val_accuracy: 0.8474\n",
      "Epoch 9/50\n",
      "145650/145650 [==============================] - 4s 31us/sample - loss: 0.3784 - f1_m: 0.8899 - accuracy: 0.8513 - val_loss: 0.3862 - val_f1_m: 0.8857 - val_accuracy: 0.8491\n",
      "Epoch 10/50\n",
      "145650/145650 [==============================] - 7s 46us/sample - loss: 0.3763 - f1_m: 0.8906 - accuracy: 0.8525 - val_loss: 0.3836 - val_f1_m: 0.8872 - val_accuracy: 0.8493\n",
      "Epoch 11/50\n",
      "145650/145650 [==============================] - 4s 26us/sample - loss: 0.3744 - f1_m: 0.8909 - accuracy: 0.8530 - val_loss: 0.3800 - val_f1_m: 0.8862 - val_accuracy: 0.8483\n",
      "Epoch 12/50\n",
      "145650/145650 [==============================] - 4s 24us/sample - loss: 0.3727 - f1_m: 0.8917 - accuracy: 0.8541 - val_loss: 0.3802 - val_f1_m: 0.8880 - val_accuracy: 0.8491\n",
      "Epoch 13/50\n",
      "145650/145650 [==============================] - 4s 24us/sample - loss: 0.3716 - f1_m: 0.8922 - accuracy: 0.8549 - val_loss: 0.3825 - val_f1_m: 0.8842 - val_accuracy: 0.8480\n",
      "Epoch 14/50\n",
      "145650/145650 [==============================] - 4s 24us/sample - loss: 0.3707 - f1_m: 0.8920 - accuracy: 0.8548 - val_loss: 0.3776 - val_f1_m: 0.8890 - val_accuracy: 0.8513\n",
      "Epoch 15/50\n",
      "145650/145650 [==============================] - 5s 34us/sample - loss: 0.3694 - f1_m: 0.8925 - accuracy: 0.8556 - val_loss: 0.3799 - val_f1_m: 0.8874 - val_accuracy: 0.8481\n",
      "Epoch 16/50\n",
      "145650/145650 [==============================] - 6s 42us/sample - loss: 0.3689 - f1_m: 0.8930 - accuracy: 0.8561 - val_loss: 0.3811 - val_f1_m: 0.8875 - val_accuracy: 0.8490\n",
      "Epoch 17/50\n",
      "145650/145650 [==============================] - 3s 24us/sample - loss: 0.3681 - f1_m: 0.8932 - accuracy: 0.8566 - val_loss: 0.3789 - val_f1_m: 0.8882 - val_accuracy: 0.8480\n",
      "Epoch 18/50\n",
      "145650/145650 [==============================] - 3s 23us/sample - loss: 0.3672 - f1_m: 0.8928 - accuracy: 0.8560 - val_loss: 0.3775 - val_f1_m: 0.8878 - val_accuracy: 0.8512\n",
      "Epoch 19/50\n",
      "145650/145650 [==============================] - 4s 24us/sample - loss: 0.3661 - f1_m: 0.8937 - accuracy: 0.8572 - val_loss: 0.3772 - val_f1_m: 0.8885 - val_accuracy: 0.8497\n",
      "Epoch 20/50\n",
      "145650/145650 [==============================] - 4s 28us/sample - loss: 0.3655 - f1_m: 0.8932 - accuracy: 0.8568 - val_loss: 0.3766 - val_f1_m: 0.8883 - val_accuracy: 0.8504\n",
      "Epoch 21/50\n",
      "145650/145650 [==============================] - 6s 41us/sample - loss: 0.3657 - f1_m: 0.8934 - accuracy: 0.8572 - val_loss: 0.3780 - val_f1_m: 0.8888 - val_accuracy: 0.8497\n",
      "Epoch 22/50\n",
      "145650/145650 [==============================] - 5s 37us/sample - loss: 0.3656 - f1_m: 0.8938 - accuracy: 0.8579 - val_loss: 0.3774 - val_f1_m: 0.8890 - val_accuracy: 0.8504\n",
      "Epoch 23/50\n",
      "145650/145650 [==============================] - 4s 28us/sample - loss: 0.3644 - f1_m: 0.8943 - accuracy: 0.8585 - val_loss: 0.3777 - val_f1_m: 0.8892 - val_accuracy: 0.8502\n",
      "Epoch 24/50\n",
      "145650/145650 [==============================] - 4s 26us/sample - loss: 0.3643 - f1_m: 0.8941 - accuracy: 0.8581 - val_loss: 0.3781 - val_f1_m: 0.8885 - val_accuracy: 0.8506\n",
      "Epoch 25/50\n",
      "145650/145650 [==============================] - 4s 27us/sample - loss: 0.3639 - f1_m: 0.8939 - accuracy: 0.8581 - val_loss: 0.3758 - val_f1_m: 0.8890 - val_accuracy: 0.8503\n",
      "Epoch 26/50\n",
      "145650/145650 [==============================] - 7s 45us/sample - loss: 0.3644 - f1_m: 0.8951 - accuracy: 0.8597 - val_loss: 0.3748 - val_f1_m: 0.8890 - val_accuracy: 0.8518\n",
      "Epoch 27/50\n",
      "145650/145650 [==============================] - 5s 37us/sample - loss: 0.3628 - f1_m: 0.8947 - accuracy: 0.8590 - val_loss: 0.3789 - val_f1_m: 0.8890 - val_accuracy: 0.8513\n",
      "Epoch 28/50\n",
      "145650/145650 [==============================] - 3s 23us/sample - loss: 0.3629 - f1_m: 0.8956 - accuracy: 0.8603 - val_loss: 0.3758 - val_f1_m: 0.8887 - val_accuracy: 0.8514\n",
      "Epoch 29/50\n",
      "145650/145650 [==============================] - 3s 23us/sample - loss: 0.3626 - f1_m: 0.8949 - accuracy: 0.8594 - val_loss: 0.3740 - val_f1_m: 0.8891 - val_accuracy: 0.8517\n",
      "Epoch 30/50\n",
      "145650/145650 [==============================] - 3s 23us/sample - loss: 0.3623 - f1_m: 0.8949 - accuracy: 0.8594 - val_loss: 0.3771 - val_f1_m: 0.8888 - val_accuracy: 0.8504\n",
      "Epoch 31/50\n",
      "145650/145650 [==============================] - 4s 25us/sample - loss: 0.3618 - f1_m: 0.8951 - accuracy: 0.8594 - val_loss: 0.3763 - val_f1_m: 0.8884 - val_accuracy: 0.8514\n",
      "Epoch 32/50\n",
      "145650/145650 [==============================] - 5s 32us/sample - loss: 0.3612 - f1_m: 0.8956 - accuracy: 0.8603 - val_loss: 0.3779 - val_f1_m: 0.8890 - val_accuracy: 0.8529\n",
      "Epoch 33/50\n",
      "145650/145650 [==============================] - 4s 30us/sample - loss: 0.3613 - f1_m: 0.8956 - accuracy: 0.8605 - val_loss: 0.3753 - val_f1_m: 0.8885 - val_accuracy: 0.8521\n",
      "Epoch 34/50\n",
      "145650/145650 [==============================] - 3s 23us/sample - loss: 0.3614 - f1_m: 0.8956 - accuracy: 0.8604 - val_loss: 0.3762 - val_f1_m: 0.8909 - val_accuracy: 0.8520\n",
      "Epoch 35/50\n",
      "145650/145650 [==============================] - 3s 23us/sample - loss: 0.3609 - f1_m: 0.8953 - accuracy: 0.8599 - val_loss: 0.3777 - val_f1_m: 0.8869 - val_accuracy: 0.8498\n",
      "Epoch 36/50\n",
      "145650/145650 [==============================] - 3s 23us/sample - loss: 0.3613 - f1_m: 0.8953 - accuracy: 0.8599 - val_loss: 0.3749 - val_f1_m: 0.8901 - val_accuracy: 0.8524\n",
      "Epoch 37/50\n",
      "145650/145650 [==============================] - 3s 23us/sample - loss: 0.3600 - f1_m: 0.8955 - accuracy: 0.8603 - val_loss: 0.3758 - val_f1_m: 0.8877 - val_accuracy: 0.8508\n",
      "Epoch 38/50\n",
      "145650/145650 [==============================] - 4s 27us/sample - loss: 0.3608 - f1_m: 0.8952 - accuracy: 0.8598 - val_loss: 0.3766 - val_f1_m: 0.8880 - val_accuracy: 0.8521\n",
      "Epoch 39/50\n",
      "145650/145650 [==============================] - 5s 31us/sample - loss: 0.3599 - f1_m: 0.8952 - accuracy: 0.8599 - val_loss: 0.3724 - val_f1_m: 0.8899 - val_accuracy: 0.8527\n",
      "Epoch 40/50\n",
      "145650/145650 [==============================] - 4s 25us/sample - loss: 0.3595 - f1_m: 0.8957 - accuracy: 0.8605 - val_loss: 0.3743 - val_f1_m: 0.8876 - val_accuracy: 0.8513\n",
      "Epoch 41/50\n",
      "145650/145650 [==============================] - 3s 23us/sample - loss: 0.3604 - f1_m: 0.8953 - accuracy: 0.8602 - val_loss: 0.3729 - val_f1_m: 0.8897 - val_accuracy: 0.8528\n",
      "Epoch 42/50\n",
      "145650/145650 [==============================] - 3s 23us/sample - loss: 0.3593 - f1_m: 0.8961 - accuracy: 0.8610 - val_loss: 0.3755 - val_f1_m: 0.8888 - val_accuracy: 0.8514\n",
      "Epoch 43/50\n",
      "145650/145650 [==============================] - 3s 23us/sample - loss: 0.3599 - f1_m: 0.8958 - accuracy: 0.8608 - val_loss: 0.3779 - val_f1_m: 0.8880 - val_accuracy: 0.8512\n",
      "Epoch 44/50\n",
      "145650/145650 [==============================] - 4s 25us/sample - loss: 0.3591 - f1_m: 0.8958 - accuracy: 0.8608 - val_loss: 0.3753 - val_f1_m: 0.8897 - val_accuracy: 0.8535\n"
     ]
    },
    {
     "name": "stdout",
     "output_type": "stream",
     "text": [
      "Epoch 45/50\n",
      "145650/145650 [==============================] - 4s 29us/sample - loss: 0.3586 - f1_m: 0.8963 - accuracy: 0.8613 - val_loss: 0.3780 - val_f1_m: 0.8861 - val_accuracy: 0.8506\n",
      "Epoch 46/50\n",
      "145650/145650 [==============================] - 5s 33us/sample - loss: 0.3584 - f1_m: 0.8961 - accuracy: 0.8611 - val_loss: 0.3761 - val_f1_m: 0.8896 - val_accuracy: 0.8508\n",
      "Epoch 47/50\n",
      "145650/145650 [==============================] - 4s 25us/sample - loss: 0.3578 - f1_m: 0.8961 - accuracy: 0.8612 - val_loss: 0.3734 - val_f1_m: 0.8896 - val_accuracy: 0.8524\n",
      "Epoch 48/50\n",
      "145650/145650 [==============================] - 4s 26us/sample - loss: 0.3572 - f1_m: 0.8961 - accuracy: 0.8613 - val_loss: 0.3763 - val_f1_m: 0.8890 - val_accuracy: 0.8513\n",
      "Epoch 49/50\n",
      "145650/145650 [==============================] - 4s 24us/sample - loss: 0.3572 - f1_m: 0.8960 - accuracy: 0.8612 - val_loss: 0.3731 - val_f1_m: 0.8892 - val_accuracy: 0.8526\n",
      "Epoch 50/50\n",
      "145650/145650 [==============================] - 4s 26us/sample - loss: 0.3567 - f1_m: 0.8969 - accuracy: 0.8623 - val_loss: 0.3760 - val_f1_m: 0.8882 - val_accuracy: 0.8496\n"
     ]
    }
   ],
   "source": [
    "history = model.fit(X_train,\n",
    "                    y_train,\n",
    "                    epochs = 50,\n",
    "                    batch_size = 200,\n",
    "                    validation_data = (X_val, y_val),\n",
    "                    callbacks=[csv_logger])"
   ]
  },
  {
   "cell_type": "code",
   "execution_count": 81,
   "metadata": {},
   "outputs": [],
   "source": [
    "#Saving the model:\n",
    "model.save('model_simple_regularization.h5')"
   ]
  },
  {
   "cell_type": "markdown",
   "metadata": {},
   "source": [
    "- Plot of the three parameters evaluated in the model:"
   ]
  },
  {
   "cell_type": "code",
   "execution_count": 82,
   "metadata": {},
   "outputs": [
    {
     "data": {
      "text/plain": [
       "<matplotlib.legend.Legend at 0x25591feab08>"
      ]
     },
     "execution_count": 82,
     "metadata": {},
     "output_type": "execute_result"
    },
    {
     "data": {
      "image/png": "[encoded data removed]",
      "text/plain": [
       "<Figure size 432x288 with 1 Axes>"
      ]
     },
     "metadata": {
      "needs_background": "light"
     },
     "output_type": "display_data"
    }
   ],
   "source": [
    "history_dict = history.history\n",
    "loss_values = history_dict['loss']\n",
    "val_loss_values = history_dict['val_loss']\n",
    "\n",
    "epochs = range(1, len(loss_values) + 1)\n",
    "\n",
    "plt.plot(epochs, loss_values, 'bo', label = 'Training Loss')\n",
    "plt.plot(epochs, val_loss_values, 'b', label = 'Validation Loss')\n",
    "plt.title('Training and Validation Loss')\n",
    "plt.xlabel('Epochs')\n",
    "plt.ylabel('Loss')\n",
    "plt.legend()"
   ]
  },
  {
   "cell_type": "code",
   "execution_count": 83,
   "metadata": {},
   "outputs": [
    {
     "data": {
      "text/plain": [
       "<matplotlib.legend.Legend at 0x2559c367e48>"
      ]
     },
     "execution_count": 83,
     "metadata": {},
     "output_type": "execute_result"
    },
    {
     "data": {
      "image/png": "[encoded data removed]",
      "text/plain": [
       "<Figure size 432x288 with 1 Axes>"
      ]
     },
     "metadata": {
      "needs_background": "light"
     },
     "output_type": "display_data"
    }
   ],
   "source": [
    "history_dict = history.history\n",
    "accuracy_values = history_dict['accuracy']\n",
    "val_accuracy_values = history_dict['val_accuracy']\n",
    "\n",
    "epochs = range(1, len(accuracy_values) + 1)\n",
    "\n",
    "plt.plot(epochs, accuracy_values, 'bo', label = 'Training Accuracy')\n",
    "plt.plot(epochs, val_accuracy_values, 'b', label = 'Validation Accuracy')\n",
    "plt.title('Training and Validation Accuracy')\n",
    "plt.xlabel('Epochs')\n",
    "plt.ylabel('Accuracy')\n",
    "plt.legend()"
   ]
  },
  {
   "cell_type": "code",
   "execution_count": 84,
   "metadata": {
    "scrolled": true
   },
   "outputs": [
    {
     "data": {
      "text/plain": [
       "<matplotlib.legend.Legend at 0x255a6710988>"
      ]
     },
     "execution_count": 84,
     "metadata": {},
     "output_type": "execute_result"
    },
    {
     "data": {
      "image/png": "[encoded data removed]",
      "text/plain": [
       "<Figure size 432x288 with 1 Axes>"
      ]
     },
     "metadata": {
      "needs_background": "light"
     },
     "output_type": "display_data"
    }
   ],
   "source": [
    "history_dict = history.history\n",
    "accuracy_values = history_dict['f1_m']\n",
    "val_accuracy_values = history_dict['val_f1_m']\n",
    "\n",
    "epochs = range(1, len(accuracy_values) + 1)\n",
    "\n",
    "plt.plot(epochs, accuracy_values, 'bo', label = 'Training f1_m')\n",
    "plt.plot(epochs, val_accuracy_values, 'b', label = 'Validation f1_m')\n",
    "plt.title('Training and Validation f1')\n",
    "plt.xlabel('Epochs')\n",
    "plt.ylabel('f1')\n",
    "plt.legend()"
   ]
  },
  {
   "cell_type": "markdown",
   "metadata": {},
   "source": [
    "- Evaluating the model with the test set:"
   ]
  },
  {
   "cell_type": "code",
   "execution_count": 85,
   "metadata": {},
   "outputs": [
    {
     "name": "stdout",
     "output_type": "stream",
     "text": [
      "18727/18727 [==============================] - 1s 45us/sample - loss: 0.3715 - f1_m: 0.8894 - accuracy: 0.8539\n"
     ]
    }
   ],
   "source": [
    "results = model.evaluate(X_test , y_test)"
   ]
  },
  {
   "cell_type": "code",
   "execution_count": 86,
   "metadata": {
    "scrolled": true
   },
   "outputs": [
    {
     "name": "stdout",
     "output_type": "stream",
     "text": [
      "The loss is:  0.37145427651410934\n",
      "The f1_score is:  0.8894235\n",
      "The accuracy is:  0.8539008\n"
     ]
    }
   ],
   "source": [
    "print('The loss is: ', results[0])\n",
    "print('The f1_score is: ', results[1])\n",
    "print('The accuracy is: ', results[2])"
   ]
  },
  {
   "cell_type": "markdown",
   "metadata": {},
   "source": [
    "                      ##### The model is still a bit overfitted. But it is possible to observe how \n",
    "                     the difference between the training and the validation values is smaller.It can\n",
    "                     be stopped with less epochs and get a good model. The regularization parameter\n",
    "                                   really works resolving the overfitting problem. ##### "
   ]
  },
  {
   "cell_type": "markdown",
   "metadata": {},
   "source": [
    "##### 3) Use Dropout layers:"
   ]
  },
  {
   "cell_type": "code",
   "execution_count": 87,
   "metadata": {},
   "outputs": [],
   "source": [
    "model = Sequential()\n",
    "\n",
    "model.add(Dense(16,activation = 'relu', input_dim = len(train[1])))\n",
    "model.add(Dropout(0.5))\n",
    "model.add(Dense(1,activation = 'sigmoid'))"
   ]
  },
  {
   "cell_type": "code",
   "execution_count": 88,
   "metadata": {},
   "outputs": [
    {
     "name": "stdout",
     "output_type": "stream",
     "text": [
      "Model: \"sequential_4\"\n",
      "_________________________________________________________________\n",
      "Layer (type)                 Output Shape              Param #   \n",
      "=================================================================\n",
      "dense_9 (Dense)              (None, 16)                26272     \n",
      "_________________________________________________________________\n",
      "dropout (Dropout)            (None, 16)                0         \n",
      "_________________________________________________________________\n",
      "dense_10 (Dense)             (None, 1)                 17        \n",
      "=================================================================\n",
      "Total params: 26,289\n",
      "Trainable params: 26,289\n",
      "Non-trainable params: 0\n",
      "_________________________________________________________________\n"
     ]
    }
   ],
   "source": [
    "model.summary()"
   ]
  },
  {
   "cell_type": "code",
   "execution_count": 89,
   "metadata": {},
   "outputs": [],
   "source": [
    "model.compile(optimizer = 'adam', loss = 'binary_crossentropy', metrics = [f1_m,'accuracy'] )"
   ]
  },
  {
   "cell_type": "code",
   "execution_count": 90,
   "metadata": {},
   "outputs": [],
   "source": [
    "csv_logger = CSVLogger('model_simple_dropout.log', separator=',', append=False)"
   ]
  },
  {
   "cell_type": "code",
   "execution_count": 91,
   "metadata": {},
   "outputs": [
    {
     "name": "stdout",
     "output_type": "stream",
     "text": [
      "Train on 145650 samples, validate on 43695 samples\n",
      "Epoch 1/30\n",
      "145650/145650 [==============================] - 4s 29us/sample - loss: 0.4537 - f1_m: 0.8648 - accuracy: 0.8159 - val_loss: 0.3583 - val_f1_m: 0.8883 - val_accuracy: 0.8487\n",
      "Epoch 2/30\n",
      "145650/145650 [==============================] - 4s 25us/sample - loss: 0.3701 - f1_m: 0.8874 - accuracy: 0.8471 - val_loss: 0.3431 - val_f1_m: 0.8894 - val_accuracy: 0.8512\n",
      "Epoch 3/30\n",
      "145650/145650 [==============================] - 4s 27us/sample - loss: 0.3583 - f1_m: 0.8898 - accuracy: 0.8502 - val_loss: 0.3411 - val_f1_m: 0.8897 - val_accuracy: 0.8501\n",
      "Epoch 4/30\n",
      "145650/145650 [==============================] - 4s 25us/sample - loss: 0.3509 - f1_m: 0.8911 - accuracy: 0.8519 - val_loss: 0.3394 - val_f1_m: 0.8896 - val_accuracy: 0.8504\n",
      "Epoch 5/30\n",
      "145650/145650 [==============================] - 5s 32us/sample - loss: 0.3478 - f1_m: 0.8923 - accuracy: 0.8536 - val_loss: 0.3394 - val_f1_m: 0.8900 - val_accuracy: 0.8505\n",
      "Epoch 6/30\n",
      "145650/145650 [==============================] - 5s 36us/sample - loss: 0.3451 - f1_m: 0.8922 - accuracy: 0.8531 - val_loss: 0.3400 - val_f1_m: 0.8899 - val_accuracy: 0.8503\n",
      "Epoch 7/30\n",
      "145650/145650 [==============================] - 4s 25us/sample - loss: 0.3431 - f1_m: 0.8932 - accuracy: 0.8545 - val_loss: 0.3397 - val_f1_m: 0.8895 - val_accuracy: 0.8498\n",
      "Epoch 8/30\n",
      "145650/145650 [==============================] - 4s 24us/sample - loss: 0.3415 - f1_m: 0.8930 - accuracy: 0.8545 - val_loss: 0.3393 - val_f1_m: 0.8896 - val_accuracy: 0.8502\n",
      "Epoch 9/30\n",
      "145650/145650 [==============================] - 4s 25us/sample - loss: 0.3396 - f1_m: 0.8942 - accuracy: 0.8558 - val_loss: 0.3398 - val_f1_m: 0.8891 - val_accuracy: 0.8506\n",
      "Epoch 10/30\n",
      "145650/145650 [==============================] - 4s 26us/sample - loss: 0.3378 - f1_m: 0.8943 - accuracy: 0.8561 - val_loss: 0.3401 - val_f1_m: 0.8895 - val_accuracy: 0.8512\n",
      "Epoch 11/30\n",
      "145650/145650 [==============================] - 5s 32us/sample - loss: 0.3349 - f1_m: 0.8951 - accuracy: 0.8571 - val_loss: 0.3404 - val_f1_m: 0.8889 - val_accuracy: 0.8491\n",
      "Epoch 12/30\n",
      "145650/145650 [==============================] - 5s 36us/sample - loss: 0.3340 - f1_m: 0.8954 - accuracy: 0.8574 - val_loss: 0.3402 - val_f1_m: 0.8894 - val_accuracy: 0.8503\n",
      "Epoch 13/30\n",
      "145650/145650 [==============================] - 4s 24us/sample - loss: 0.3353 - f1_m: 0.8954 - accuracy: 0.8573 - val_loss: 0.3409 - val_f1_m: 0.8899 - val_accuracy: 0.8519\n",
      "Epoch 14/30\n",
      "145650/145650 [==============================] - 4s 25us/sample - loss: 0.3323 - f1_m: 0.8960 - accuracy: 0.8583 - val_loss: 0.3409 - val_f1_m: 0.8900 - val_accuracy: 0.8510\n",
      "Epoch 15/30\n",
      "145650/145650 [==============================] - 4s 24us/sample - loss: 0.3320 - f1_m: 0.8960 - accuracy: 0.8581 - val_loss: 0.3419 - val_f1_m: 0.8901 - val_accuracy: 0.8511\n",
      "Epoch 16/30\n",
      "145650/145650 [==============================] - 4s 25us/sample - loss: 0.3313 - f1_m: 0.8963 - accuracy: 0.8585 - val_loss: 0.3424 - val_f1_m: 0.8894 - val_accuracy: 0.8507\n",
      "Epoch 17/30\n",
      "145650/145650 [==============================] - 5s 32us/sample - loss: 0.3295 - f1_m: 0.8976 - accuracy: 0.8604 - val_loss: 0.3435 - val_f1_m: 0.8896 - val_accuracy: 0.8507\n",
      "Epoch 18/30\n",
      "145650/145650 [==============================] - 5s 35us/sample - loss: 0.3291 - f1_m: 0.8973 - accuracy: 0.8599 - val_loss: 0.3439 - val_f1_m: 0.8899 - val_accuracy: 0.8507\n",
      "Epoch 19/30\n",
      "145650/145650 [==============================] - 4s 26us/sample - loss: 0.3279 - f1_m: 0.8975 - accuracy: 0.8603 - val_loss: 0.3434 - val_f1_m: 0.8899 - val_accuracy: 0.8508\n",
      "Epoch 20/30\n",
      "145650/145650 [==============================] - 4s 25us/sample - loss: 0.3274 - f1_m: 0.8973 - accuracy: 0.8599 - val_loss: 0.3440 - val_f1_m: 0.8888 - val_accuracy: 0.8492\n",
      "Epoch 21/30\n",
      "145650/145650 [==============================] - 4s 24us/sample - loss: 0.3280 - f1_m: 0.8978 - accuracy: 0.8607 - val_loss: 0.3445 - val_f1_m: 0.8897 - val_accuracy: 0.8507\n",
      "Epoch 22/30\n",
      "145650/145650 [==============================] - 4s 26us/sample - loss: 0.3261 - f1_m: 0.8988 - accuracy: 0.8620 - val_loss: 0.3442 - val_f1_m: 0.8894 - val_accuracy: 0.8501\n",
      "Epoch 23/30\n",
      "145650/145650 [==============================] - 5s 32us/sample - loss: 0.3251 - f1_m: 0.8986 - accuracy: 0.8616 - val_loss: 0.3443 - val_f1_m: 0.8891 - val_accuracy: 0.8493\n",
      "Epoch 24/30\n",
      "145650/145650 [==============================] - 5s 36us/sample - loss: 0.3261 - f1_m: 0.8981 - accuracy: 0.8609 - val_loss: 0.3452 - val_f1_m: 0.8890 - val_accuracy: 0.8495\n",
      "Epoch 25/30\n",
      "145650/145650 [==============================] - 4s 25us/sample - loss: 0.3239 - f1_m: 0.8988 - accuracy: 0.8620 - val_loss: 0.3451 - val_f1_m: 0.8898 - val_accuracy: 0.8510\n",
      "Epoch 26/30\n",
      "145650/145650 [==============================] - 4s 26us/sample - loss: 0.3225 - f1_m: 0.8996 - accuracy: 0.8630 - val_loss: 0.3469 - val_f1_m: 0.8897 - val_accuracy: 0.8510\n",
      "Epoch 27/30\n",
      "145650/145650 [==============================] - 4s 24us/sample - loss: 0.3237 - f1_m: 0.8991 - accuracy: 0.8623 - val_loss: 0.3453 - val_f1_m: 0.8889 - val_accuracy: 0.8488\n",
      "Epoch 28/30\n",
      "145650/145650 [==============================] - 4s 28us/sample - loss: 0.3219 - f1_m: 0.8999 - accuracy: 0.8633 - val_loss: 0.3465 - val_f1_m: 0.8896 - val_accuracy: 0.8504\n",
      "Epoch 29/30\n",
      "145650/145650 [==============================] - 5s 34us/sample - loss: 0.3203 - f1_m: 0.9005 - accuracy: 0.8644 - val_loss: 0.3469 - val_f1_m: 0.8897 - val_accuracy: 0.8510\n",
      "Epoch 30/30\n",
      "145650/145650 [==============================] - 5s 33us/sample - loss: 0.3218 - f1_m: 0.9000 - accuracy: 0.8634 - val_loss: 0.3480 - val_f1_m: 0.8897 - val_accuracy: 0.8506\n"
     ]
    }
   ],
   "source": [
    "history = model.fit(X_train,\n",
    "                    y_train,\n",
    "                    epochs = 30,\n",
    "                    batch_size = 200,\n",
    "                    validation_data = (X_val, y_val),\n",
    "                    callbacks=[csv_logger])"
   ]
  },
  {
   "cell_type": "code",
   "execution_count": 92,
   "metadata": {},
   "outputs": [],
   "source": [
    "#Saving the model:\n",
    "model.save('model_simple_dropout.h5')"
   ]
  },
  {
   "cell_type": "markdown",
   "metadata": {},
   "source": [
    "- Plot of the three parameters evaluated in the model:"
   ]
  },
  {
   "cell_type": "code",
   "execution_count": 93,
   "metadata": {},
   "outputs": [
    {
     "data": {
      "text/plain": [
       "<matplotlib.legend.Legend at 0x25594607e48>"
      ]
     },
     "execution_count": 93,
     "metadata": {},
     "output_type": "execute_result"
    },
    {
     "data": {
      "image/png": "[encoded data removed]",
      "text/plain": [
       "<Figure size 432x288 with 1 Axes>"
      ]
     },
     "metadata": {
      "needs_background": "light"
     },
     "output_type": "display_data"
    }
   ],
   "source": [
    "history_dict = history.history\n",
    "loss_values = history_dict['loss']\n",
    "val_loss_values = history_dict['val_loss']\n",
    "\n",
    "epochs = range(1, len(loss_values) + 1)\n",
    "\n",
    "plt.plot(epochs, loss_values, 'bo', label = 'Training Loss')\n",
    "plt.plot(epochs, val_loss_values, 'b', label = 'Validation Loss')\n",
    "plt.title('Training and Validation Loss')\n",
    "plt.xlabel('Epochs')\n",
    "plt.ylabel('Loss')\n",
    "plt.legend()"
   ]
  },
  {
   "cell_type": "code",
   "execution_count": 94,
   "metadata": {},
   "outputs": [
    {
     "data": {
      "text/plain": [
       "<matplotlib.legend.Legend at 0x2558ed5fb88>"
      ]
     },
     "execution_count": 94,
     "metadata": {},
     "output_type": "execute_result"
    },
    {
     "data": {
      "image/png": "[encoded data removed]",
      "text/plain": [
       "<Figure size 432x288 with 1 Axes>"
      ]
     },
     "metadata": {
      "needs_background": "light"
     },
     "output_type": "display_data"
    }
   ],
   "source": [
    "history_dict = history.history\n",
    "accuracy_values = history_dict['accuracy']\n",
    "val_accuracy_values = history_dict['val_accuracy']\n",
    "\n",
    "epochs = range(1, len(accuracy_values) + 1)\n",
    "\n",
    "plt.plot(epochs, accuracy_values, 'bo', label = 'Training Accuracy')\n",
    "plt.plot(epochs, val_accuracy_values, 'b', label = 'Validation Accuracy')\n",
    "plt.title('Training and Validation Accuracy')\n",
    "plt.xlabel('Epochs')\n",
    "plt.ylabel('Accuracy')\n",
    "plt.legend()"
   ]
  },
  {
   "cell_type": "code",
   "execution_count": 95,
   "metadata": {},
   "outputs": [
    {
     "data": {
      "text/plain": [
       "<matplotlib.legend.Legend at 0x25592392e48>"
      ]
     },
     "execution_count": 95,
     "metadata": {},
     "output_type": "execute_result"
    },
    {
     "data": {
      "image/png": "[encoded data removed]",
      "text/plain": [
       "<Figure size 432x288 with 1 Axes>"
      ]
     },
     "metadata": {
      "needs_background": "light"
     },
     "output_type": "display_data"
    }
   ],
   "source": [
    "history_dict = history.history\n",
    "accuracy_values = history_dict['f1_m']\n",
    "val_accuracy_values = history_dict['val_f1_m']\n",
    "\n",
    "epochs = range(1, len(accuracy_values) + 1)\n",
    "\n",
    "plt.plot(epochs, accuracy_values, 'bo', label = 'Training f1_m')\n",
    "plt.plot(epochs, val_accuracy_values, 'b', label = 'Validation f1_m')\n",
    "plt.title('Training and Validation f1')\n",
    "plt.xlabel('Epochs')\n",
    "plt.ylabel('f1')\n",
    "plt.legend()"
   ]
  },
  {
   "cell_type": "markdown",
   "metadata": {},
   "source": [
    "- Evaluating the model with the test set:"
   ]
  },
  {
   "cell_type": "code",
   "execution_count": 96,
   "metadata": {},
   "outputs": [
    {
     "name": "stdout",
     "output_type": "stream",
     "text": [
      "18727/18727 [==============================] - 1s 40us/sample - loss: 0.3429 - f1_m: 0.8900 - accuracy: 0.8533\n"
     ]
    }
   ],
   "source": [
    "results = model.evaluate(X_test , y_test)"
   ]
  },
  {
   "cell_type": "code",
   "execution_count": 97,
   "metadata": {
    "scrolled": true
   },
   "outputs": [
    {
     "name": "stdout",
     "output_type": "stream",
     "text": [
      "The loss is:  0.34288372316905436\n",
      "The f1_score is:  0.8899779\n",
      "The accuracy is:  0.8533134\n"
     ]
    }
   ],
   "source": [
    "print('The loss is: ', results[0])\n",
    "print('The f1_score is: ', results[1])\n",
    "print('The accuracy is: ', results[2])"
   ]
  },
  {
   "cell_type": "markdown",
   "metadata": {},
   "source": [
    "                      ##### The model is still a bit overfitted. But it is possible to observe how \n",
    "                        the difference between the training and the validation values is smaller. \n",
    "                               Dropout layer works resolving the overfitting problem. ##### "
   ]
  },
  {
   "cell_type": "markdown",
   "metadata": {},
   "source": [
    "#### After try three different methods we can assume that for this problem, the dropout layer and the regularization parameter help us to resolve the overfitting problem. Specially the regularization parameter do a better job about it. Because of it, we are going to try this parameter in more complex models and observe what happen."
   ]
  },
  {
   "cell_type": "code",
   "execution_count": 109,
   "metadata": {},
   "outputs": [],
   "source": [
    "model = Sequential()\n",
    "\n",
    "model.add(Dense(64,kernel_regularizer=regularizers.l2(0.005),activation = 'relu', input_dim = len(train[1])))\n",
    "model.add(Dense(64,kernel_regularizer=regularizers.l2(0.005),activation = 'relu'))\n",
    "model.add(Dense(1,activation = 'sigmoid'))"
   ]
  },
  {
   "cell_type": "code",
   "execution_count": 110,
   "metadata": {},
   "outputs": [
    {
     "name": "stdout",
     "output_type": "stream",
     "text": [
      "Model: \"sequential_6\"\n",
      "_________________________________________________________________\n",
      "Layer (type)                 Output Shape              Param #   \n",
      "=================================================================\n",
      "dense_14 (Dense)             (None, 64)                105088    \n",
      "_________________________________________________________________\n",
      "dense_15 (Dense)             (None, 64)                4160      \n",
      "_________________________________________________________________\n",
      "dense_16 (Dense)             (None, 1)                 65        \n",
      "=================================================================\n",
      "Total params: 109,313\n",
      "Trainable params: 109,313\n",
      "Non-trainable params: 0\n",
      "_________________________________________________________________\n"
     ]
    }
   ],
   "source": [
    "model.summary()"
   ]
  },
  {
   "cell_type": "code",
   "execution_count": 111,
   "metadata": {},
   "outputs": [],
   "source": [
    "model.compile(optimizer = 'adam', loss = 'binary_crossentropy', metrics = [f1_m,'accuracy'] )"
   ]
  },
  {
   "cell_type": "code",
   "execution_count": 112,
   "metadata": {},
   "outputs": [],
   "source": [
    "csv_logger = CSVLogger('model_complex_regularization.log', separator=',', append=False)"
   ]
  },
  {
   "cell_type": "code",
   "execution_count": 113,
   "metadata": {},
   "outputs": [
    {
     "name": "stdout",
     "output_type": "stream",
     "text": [
      "Train on 145650 samples, validate on 43695 samples\n",
      "Epoch 1/50\n",
      "145650/145650 [==============================] - 5s 34us/sample - loss: 0.5125 - f1_m: 0.8750 - accuracy: 0.8260 - val_loss: 0.4236 - val_f1_m: 0.8809 - val_accuracy: 0.8387\n",
      "Epoch 2/50\n",
      "145650/145650 [==============================] - 4s 28us/sample - loss: 0.4118 - f1_m: 0.8864 - accuracy: 0.8464 - val_loss: 0.4038 - val_f1_m: 0.8870 - val_accuracy: 0.8464\n",
      "Epoch 3/50\n",
      "145650/145650 [==============================] - 4s 30us/sample - loss: 0.3988 - f1_m: 0.8883 - accuracy: 0.8494 - val_loss: 0.3968 - val_f1_m: 0.8868 - val_accuracy: 0.8448\n",
      "Epoch 4/50\n",
      "145650/145650 [==============================] - 7s 47us/sample - loss: 0.3883 - f1_m: 0.8900 - accuracy: 0.8517 - val_loss: 0.3941 - val_f1_m: 0.8844 - val_accuracy: 0.8488\n",
      "Epoch 5/50\n",
      "145650/145650 [==============================] - 5s 37us/sample - loss: 0.3816 - f1_m: 0.8906 - accuracy: 0.8530 - val_loss: 0.3837 - val_f1_m: 0.8892 - val_accuracy: 0.8507\n",
      "Epoch 6/50\n",
      "145650/145650 [==============================] - 4s 29us/sample - loss: 0.3766 - f1_m: 0.8922 - accuracy: 0.8547 - val_loss: 0.3821 - val_f1_m: 0.8890 - val_accuracy: 0.8507\n",
      "Epoch 7/50\n",
      "145650/145650 [==============================] - 4s 29us/sample - loss: 0.3725 - f1_m: 0.8929 - accuracy: 0.8562 - val_loss: 0.3815 - val_f1_m: 0.8892 - val_accuracy: 0.8500\n",
      "Epoch 8/50\n",
      "145650/145650 [==============================] - 5s 34us/sample - loss: 0.3711 - f1_m: 0.8927 - accuracy: 0.8559 - val_loss: 0.3774 - val_f1_m: 0.8895 - val_accuracy: 0.8520\n",
      "Epoch 9/50\n",
      "145650/145650 [==============================] - 8s 53us/sample - loss: 0.3694 - f1_m: 0.8932 - accuracy: 0.8566 - val_loss: 0.3747 - val_f1_m: 0.8894 - val_accuracy: 0.8524\n",
      "Epoch 10/50\n",
      "145650/145650 [==============================] - 4s 28us/sample - loss: 0.3677 - f1_m: 0.8932 - accuracy: 0.8567 - val_loss: 0.3755 - val_f1_m: 0.8894 - val_accuracy: 0.8525\n",
      "Epoch 11/50\n",
      "145650/145650 [==============================] - 4s 29us/sample - loss: 0.3664 - f1_m: 0.8936 - accuracy: 0.8574 - val_loss: 0.3738 - val_f1_m: 0.8896 - val_accuracy: 0.8521\n",
      "Epoch 12/50\n",
      "145650/145650 [==============================] - 4s 29us/sample - loss: 0.3650 - f1_m: 0.8945 - accuracy: 0.8586 - val_loss: 0.3731 - val_f1_m: 0.8892 - val_accuracy: 0.8512\n",
      "Epoch 13/50\n",
      "145650/145650 [==============================] - 6s 38us/sample - loss: 0.3640 - f1_m: 0.8949 - accuracy: 0.8592 - val_loss: 0.3716 - val_f1_m: 0.8897 - val_accuracy: 0.8523\n",
      "Epoch 14/50\n",
      "145650/145650 [==============================] - 7s 49us/sample - loss: 0.3634 - f1_m: 0.8940 - accuracy: 0.8581 - val_loss: 0.3712 - val_f1_m: 0.8910 - val_accuracy: 0.8545\n",
      "Epoch 15/50\n",
      "145650/145650 [==============================] - 4s 28us/sample - loss: 0.3629 - f1_m: 0.8943 - accuracy: 0.8583 - val_loss: 0.3722 - val_f1_m: 0.8890 - val_accuracy: 0.8525\n",
      "Epoch 16/50\n",
      "145650/145650 [==============================] - 4s 29us/sample - loss: 0.3618 - f1_m: 0.8949 - accuracy: 0.8593 - val_loss: 0.3718 - val_f1_m: 0.8904 - val_accuracy: 0.8537\n",
      "Epoch 17/50\n",
      "145650/145650 [==============================] - 4s 28us/sample - loss: 0.3617 - f1_m: 0.8944 - accuracy: 0.8585 - val_loss: 0.3717 - val_f1_m: 0.8901 - val_accuracy: 0.8524\n",
      "Epoch 18/50\n",
      "145650/145650 [==============================] - 6s 38us/sample - loss: 0.3612 - f1_m: 0.8940 - accuracy: 0.8582 - val_loss: 0.3698 - val_f1_m: 0.8894 - val_accuracy: 0.8526\n",
      "Epoch 19/50\n",
      "145650/145650 [==============================] - 6s 43us/sample - loss: 0.3603 - f1_m: 0.8946 - accuracy: 0.8591 - val_loss: 0.3720 - val_f1_m: 0.8889 - val_accuracy: 0.8523\n",
      "Epoch 20/50\n",
      "145650/145650 [==============================] - 4s 29us/sample - loss: 0.3595 - f1_m: 0.8950 - accuracy: 0.8595 - val_loss: 0.3676 - val_f1_m: 0.8895 - val_accuracy: 0.8531\n",
      "Epoch 21/50\n",
      "145650/145650 [==============================] - 4s 28us/sample - loss: 0.3593 - f1_m: 0.8947 - accuracy: 0.8590 - val_loss: 0.3708 - val_f1_m: 0.8888 - val_accuracy: 0.8535\n",
      "Epoch 22/50\n",
      "145650/145650 [==============================] - 4s 29us/sample - loss: 0.3591 - f1_m: 0.8950 - accuracy: 0.8594 - val_loss: 0.3727 - val_f1_m: 0.8906 - val_accuracy: 0.8505\n",
      "Epoch 23/50\n",
      "145650/145650 [==============================] - 7s 47us/sample - loss: 0.3584 - f1_m: 0.8950 - accuracy: 0.8597 - val_loss: 0.3681 - val_f1_m: 0.8895 - val_accuracy: 0.8537\n",
      "Epoch 24/50\n",
      "145650/145650 [==============================] - 6s 40us/sample - loss: 0.3580 - f1_m: 0.8945 - accuracy: 0.8588 - val_loss: 0.3683 - val_f1_m: 0.8898 - val_accuracy: 0.8530\n",
      "Epoch 25/50\n",
      "145650/145650 [==============================] - 4s 29us/sample - loss: 0.3579 - f1_m: 0.8948 - accuracy: 0.8592 - val_loss: 0.3719 - val_f1_m: 0.8900 - val_accuracy: 0.8494\n",
      "Epoch 26/50\n",
      "145650/145650 [==============================] - 4s 29us/sample - loss: 0.3573 - f1_m: 0.8949 - accuracy: 0.8595 - val_loss: 0.3661 - val_f1_m: 0.8904 - val_accuracy: 0.8540\n",
      "Epoch 27/50\n",
      "145650/145650 [==============================] - 5s 31us/sample - loss: 0.3571 - f1_m: 0.8956 - accuracy: 0.8604 - val_loss: 0.3736 - val_f1_m: 0.8842 - val_accuracy: 0.8493\n",
      "Epoch 28/50\n",
      "145650/145650 [==============================] - 6s 43us/sample - loss: 0.3570 - f1_m: 0.8949 - accuracy: 0.8595 - val_loss: 0.3666 - val_f1_m: 0.8902 - val_accuracy: 0.8535\n",
      "Epoch 29/50\n",
      "145650/145650 [==============================] - 5s 36us/sample - loss: 0.3567 - f1_m: 0.8948 - accuracy: 0.8593 - val_loss: 0.3683 - val_f1_m: 0.8894 - val_accuracy: 0.8533\n",
      "Epoch 30/50\n",
      "145650/145650 [==============================] - 4s 28us/sample - loss: 0.3573 - f1_m: 0.8948 - accuracy: 0.8593 - val_loss: 0.3738 - val_f1_m: 0.8855 - val_accuracy: 0.8509\n",
      "Epoch 31/50\n",
      "145650/145650 [==============================] - 4s 29us/sample - loss: 0.3567 - f1_m: 0.8952 - accuracy: 0.8599 - val_loss: 0.3701 - val_f1_m: 0.8911 - val_accuracy: 0.8509\n",
      "Epoch 32/50\n",
      "145650/145650 [==============================] - 5s 36us/sample - loss: 0.3567 - f1_m: 0.8949 - accuracy: 0.8596 - val_loss: 0.3650 - val_f1_m: 0.8902 - val_accuracy: 0.8533\n",
      "Epoch 33/50\n",
      "145650/145650 [==============================] - 8s 52us/sample - loss: 0.3557 - f1_m: 0.8954 - accuracy: 0.8602 - val_loss: 0.3667 - val_f1_m: 0.8906 - val_accuracy: 0.8519\n",
      "Epoch 34/50\n",
      "145650/145650 [==============================] - 4s 29us/sample - loss: 0.3560 - f1_m: 0.8951 - accuracy: 0.8597 - val_loss: 0.3654 - val_f1_m: 0.8912 - val_accuracy: 0.8533\n",
      "Epoch 35/50\n",
      "145650/145650 [==============================] - 4s 30us/sample - loss: 0.3564 - f1_m: 0.8948 - accuracy: 0.8595 - val_loss: 0.3631 - val_f1_m: 0.8905 - val_accuracy: 0.8546\n",
      "Epoch 36/50\n",
      "145650/145650 [==============================] - 4s 29us/sample - loss: 0.3556 - f1_m: 0.8948 - accuracy: 0.8595 - val_loss: 0.3639 - val_f1_m: 0.8911 - val_accuracy: 0.8543\n",
      "Epoch 37/50\n",
      "145650/145650 [==============================] - 6s 39us/sample - loss: 0.3557 - f1_m: 0.8949 - accuracy: 0.8595 - val_loss: 0.3686 - val_f1_m: 0.8905 - val_accuracy: 0.8530\n",
      "Epoch 38/50\n",
      "145650/145650 [==============================] - 7s 48us/sample - loss: 0.3553 - f1_m: 0.8957 - accuracy: 0.8605 - val_loss: 0.3658 - val_f1_m: 0.8904 - val_accuracy: 0.8539\n",
      "Epoch 39/50\n",
      "145650/145650 [==============================] - 4s 28us/sample - loss: 0.3558 - f1_m: 0.8950 - accuracy: 0.8600 - val_loss: 0.3643 - val_f1_m: 0.8912 - val_accuracy: 0.8535\n",
      "Epoch 40/50\n",
      "145650/145650 [==============================] - 4s 28us/sample - loss: 0.3552 - f1_m: 0.8953 - accuracy: 0.8601 - val_loss: 0.3638 - val_f1_m: 0.8889 - val_accuracy: 0.8523\n",
      "Epoch 41/50\n",
      "145650/145650 [==============================] - 4s 30us/sample - loss: 0.3549 - f1_m: 0.8952 - accuracy: 0.8600 - val_loss: 0.3666 - val_f1_m: 0.8900 - val_accuracy: 0.8524\n",
      "Epoch 42/50\n",
      "145650/145650 [==============================] - 7s 47us/sample - loss: 0.3549 - f1_m: 0.8957 - accuracy: 0.8606 - val_loss: 0.3641 - val_f1_m: 0.8909 - val_accuracy: 0.8536\n",
      "Epoch 43/50\n",
      "145650/145650 [==============================] - 6s 39us/sample - loss: 0.3548 - f1_m: 0.8949 - accuracy: 0.8596 - val_loss: 0.3643 - val_f1_m: 0.8906 - val_accuracy: 0.8525\n",
      "Epoch 44/50\n",
      "145650/145650 [==============================] - 4s 29us/sample - loss: 0.3552 - f1_m: 0.8956 - accuracy: 0.8607 - val_loss: 0.3655 - val_f1_m: 0.8905 - val_accuracy: 0.8539\n"
     ]
    },
    {
     "name": "stdout",
     "output_type": "stream",
     "text": [
      "Epoch 45/50\n",
      "145650/145650 [==============================] - 4s 28us/sample - loss: 0.3548 - f1_m: 0.8953 - accuracy: 0.8603 - val_loss: 0.3707 - val_f1_m: 0.8908 - val_accuracy: 0.8523\n",
      "Epoch 46/50\n",
      "145650/145650 [==============================] - 4s 31us/sample - loss: 0.3541 - f1_m: 0.8952 - accuracy: 0.8600 - val_loss: 0.3632 - val_f1_m: 0.8908 - val_accuracy: 0.8549\n",
      "Epoch 47/50\n",
      "145650/145650 [==============================] - 6s 44us/sample - loss: 0.3541 - f1_m: 0.8951 - accuracy: 0.8600 - val_loss: 0.3664 - val_f1_m: 0.8875 - val_accuracy: 0.8517\n",
      "Epoch 48/50\n",
      "145650/145650 [==============================] - 5s 34us/sample - loss: 0.3547 - f1_m: 0.8952 - accuracy: 0.8602 - val_loss: 0.3645 - val_f1_m: 0.8892 - val_accuracy: 0.8534\n",
      "Epoch 49/50\n",
      "145650/145650 [==============================] - 4s 28us/sample - loss: 0.3543 - f1_m: 0.8947 - accuracy: 0.8596 - val_loss: 0.3641 - val_f1_m: 0.8914 - val_accuracy: 0.8545\n",
      "Epoch 50/50\n",
      "145650/145650 [==============================] - 4s 29us/sample - loss: 0.3537 - f1_m: 0.8953 - accuracy: 0.8601 - val_loss: 0.3646 - val_f1_m: 0.8907 - val_accuracy: 0.8526\n"
     ]
    }
   ],
   "source": [
    "history = model.fit(X_train,\n",
    "                    y_train,\n",
    "                    epochs = 50,\n",
    "                    batch_size = 200,\n",
    "                    validation_data = (X_val, y_val),\n",
    "                    callbacks=[csv_logger])"
   ]
  },
  {
   "cell_type": "code",
   "execution_count": 114,
   "metadata": {},
   "outputs": [],
   "source": [
    "#Saving the model:\n",
    "model.save('model_complex_regularization.h5')"
   ]
  },
  {
   "cell_type": "markdown",
   "metadata": {},
   "source": [
    "- Plot of the three parameters evaluated in the model:"
   ]
  },
  {
   "cell_type": "code",
   "execution_count": 115,
   "metadata": {},
   "outputs": [
    {
     "data": {
      "text/plain": [
       "<matplotlib.legend.Legend at 0x2559df91e08>"
      ]
     },
     "execution_count": 115,
     "metadata": {},
     "output_type": "execute_result"
    },
    {
     "data": {
      "image/png": "[encoded data removed]",
      "text/plain": [
       "<Figure size 432x288 with 1 Axes>"
      ]
     },
     "metadata": {
      "needs_background": "light"
     },
     "output_type": "display_data"
    }
   ],
   "source": [
    "history_dict = history.history\n",
    "loss_values = history_dict['loss']\n",
    "val_loss_values = history_dict['val_loss']\n",
    "\n",
    "epochs = range(1, len(loss_values) + 1)\n",
    "\n",
    "plt.plot(epochs, loss_values, 'bo', label = 'Training Loss')\n",
    "plt.plot(epochs, val_loss_values, 'b', label = 'Validation Loss')\n",
    "plt.title('Training and Validation Loss')\n",
    "plt.xlabel('Epochs')\n",
    "plt.ylabel('Loss')\n",
    "plt.legend()"
   ]
  },
  {
   "cell_type": "code",
   "execution_count": 116,
   "metadata": {},
   "outputs": [
    {
     "data": {
      "text/plain": [
       "<matplotlib.legend.Legend at 0x255a0f38088>"
      ]
     },
     "execution_count": 116,
     "metadata": {},
     "output_type": "execute_result"
    },
    {
     "data": {
      "image/png": "[encoded data removed]",
      "text/plain": [
       "<Figure size 432x288 with 1 Axes>"
      ]
     },
     "metadata": {
      "needs_background": "light"
     },
     "output_type": "display_data"
    }
   ],
   "source": [
    "history_dict = history.history\n",
    "accuracy_values = history_dict['accuracy']\n",
    "val_accuracy_values = history_dict['val_accuracy']\n",
    "\n",
    "epochs = range(1, len(accuracy_values) + 1)\n",
    "\n",
    "plt.plot(epochs, accuracy_values, 'bo', label = 'Training Accuracy')\n",
    "plt.plot(epochs, val_accuracy_values, 'b', label = 'Validation Accuracy')\n",
    "plt.title('Training and Validation Accuracy')\n",
    "plt.xlabel('Epochs')\n",
    "plt.ylabel('Accuracy')\n",
    "plt.legend()"
   ]
  },
  {
   "cell_type": "code",
   "execution_count": 117,
   "metadata": {},
   "outputs": [
    {
     "data": {
      "text/plain": [
       "<matplotlib.legend.Legend at 0x2559889d048>"
      ]
     },
     "execution_count": 117,
     "metadata": {},
     "output_type": "execute_result"
    },
    {
     "data": {
      "image/png": "[encoded data removed]",
      "text/plain": [
       "<Figure size 432x288 with 1 Axes>"
      ]
     },
     "metadata": {
      "needs_background": "light"
     },
     "output_type": "display_data"
    }
   ],
   "source": [
    "history_dict = history.history\n",
    "accuracy_values = history_dict['f1_m']\n",
    "val_accuracy_values = history_dict['val_f1_m']\n",
    "\n",
    "epochs = range(1, len(accuracy_values) + 1)\n",
    "\n",
    "plt.plot(epochs, accuracy_values, 'bo', label = 'Training f1_m')\n",
    "plt.plot(epochs, val_accuracy_values, 'b', label = 'Validation f1_m')\n",
    "plt.title('Training and Validation f1')\n",
    "plt.xlabel('Epochs')\n",
    "plt.ylabel('f1')\n",
    "plt.legend()"
   ]
  },
  {
   "cell_type": "markdown",
   "metadata": {},
   "source": [
    "- Evaluating the model with the test set:"
   ]
  },
  {
   "cell_type": "code",
   "execution_count": 118,
   "metadata": {},
   "outputs": [
    {
     "name": "stdout",
     "output_type": "stream",
     "text": [
      "18727/18727 [==============================] - 1s 41us/sample - loss: 0.3587 - f1_m: 0.8925 - accuracy: 0.8569\n"
     ]
    }
   ],
   "source": [
    "results = model.evaluate(X_test , y_test)"
   ]
  },
  {
   "cell_type": "code",
   "execution_count": 119,
   "metadata": {
    "scrolled": true
   },
   "outputs": [
    {
     "name": "stdout",
     "output_type": "stream",
     "text": [
      "The loss is:  0.3587223973005665\n",
      "The f1_score is:  0.89248043\n",
      "The accuracy is:  0.8569445\n"
     ]
    }
   ],
   "source": [
    "print('The loss is: ', results[0])\n",
    "print('The f1_score is: ', results[1])\n",
    "print('The accuracy is: ', results[2])"
   ]
  },
  {
   "cell_type": "markdown",
   "metadata": {},
   "source": [
    "                      ##### The model get the best result for the moment. It is possible to observe \n",
    "                       that the difference between the training and the validation values is small. \n",
    "                         Regularization parameter works resolving the overfitting problem. ##### "
   ]
  },
  {
   "cell_type": "markdown",
   "metadata": {},
   "source": [
    "# 6) Data Augmentation"
   ]
  },
  {
   "cell_type": "markdown",
   "metadata": {},
   "source": [
    "## 6.1) Processing:"
   ]
  },
  {
   "cell_type": "markdown",
   "metadata": {},
   "source": [
    "### The results of all the process are saved in the file \"X_train_augmentation.csv\" and  \"y_train_augmentation.csv\" and loaded for train the model."
   ]
  },
  {
   "cell_type": "markdown",
   "metadata": {},
   "source": [
    "- In this section we are going to implement some function found on internet in order to have more data. And investigate if it is possible to improve the accuracy and the f1_score got it."
   ]
  },
  {
   "cell_type": "code",
   "execution_count": 120,
   "metadata": {},
   "outputs": [],
   "source": [
    "import re\n",
    "def get_only_chars(line):\n",
    "\n",
    "    clean_line = \"\"\n",
    "\n",
    "    line = line.replace(\"’\", \"\")\n",
    "    line = line.replace(\"'\", \"\")\n",
    "    line = line.replace(\"-\", \" \") #replace hyphens with spaces\n",
    "    line = line.replace(\"\\t\", \" \")\n",
    "    line = line.replace(\"\\n\", \" \")\n",
    "    line = line.lower()\n",
    "\n",
    "    for char in line:\n",
    "        if char in 'qwertyuiopasdfghjklzxcvbnm ':\n",
    "            clean_line += char\n",
    "        else:\n",
    "            clean_line += ' '\n",
    "\n",
    "    clean_line = re.sub(' +',' ',clean_line) #delete extra spaces\n",
    "    if clean_line[0] == ' ':\n",
    "        clean_line = clean_line[1:]\n",
    "    return clean_line"
   ]
  },
  {
   "cell_type": "code",
   "execution_count": 121,
   "metadata": {},
   "outputs": [],
   "source": [
    "########################################################################\n",
    "# Synonym replacement\n",
    "# Replace n words in the sentence with synonyms from wordnet\n",
    "########################################################################\n",
    "\n",
    "from nltk.corpus import wordnet \n",
    "\n",
    "def synonym_replacement(words, n):\n",
    "    new_words = words.copy()\n",
    "    random_word_list = list(set([word for word in words if word not in stop_words]))\n",
    "    random.shuffle(random_word_list)\n",
    "    num_replaced = 0\n",
    "    for random_word in random_word_list:\n",
    "        synonyms = get_synonyms(random_word)\n",
    "        if len(synonyms) >= 1:\n",
    "            synonym = random.choice(list(synonyms))\n",
    "            new_words = [synonym if word == random_word else word for word in new_words]\n",
    "            #print(\"replaced\", random_word, \"with\", synonym)\n",
    "            num_replaced += 1\n",
    "        if num_replaced >= n: #only replace up to n words\n",
    "            break\n",
    "    \n",
    "    sentence = ' '.join(new_words)\n",
    "    new_words = sentence.split(' ')\n",
    "\n",
    "    return new_words\n",
    "\n",
    "def get_synonyms(word):\n",
    "    synonyms = set()\n",
    "    for syn in wordnet.synsets(word): \n",
    "        for l in syn.lemmas(): \n",
    "            synonym = l.name().replace(\"_\", \" \").replace(\"-\", \" \").lower()\n",
    "            synonym = \"\".join([char for char in synonym if char in ' qwertyuiopasdfghjklzxcvbnm'])\n",
    "            synonyms.add(synonym) \n",
    "    if word in synonyms:\n",
    "        synonyms.remove(word)\n",
    "    return list(synonyms)"
   ]
  },
  {
   "cell_type": "code",
   "execution_count": 122,
   "metadata": {},
   "outputs": [],
   "source": [
    "########################################################################\n",
    "# Random swap\n",
    "# Randomly swap two words in the sentence n times\n",
    "########################################################################\n",
    "\n",
    "def random_swap(words, n):\n",
    "    new_words = words.copy()\n",
    "    for _ in range(n):\n",
    "        new_words = swap_word(new_words)\n",
    "    return new_words\n",
    "\n",
    "def swap_word(new_words):\n",
    "    random_idx_1 = random.randint(0, len(new_words)-1)\n",
    "    random_idx_2 = random_idx_1\n",
    "    counter = 0\n",
    "    while random_idx_2 == random_idx_1:\n",
    "        random_idx_2 = random.randint(0, len(new_words)-1)\n",
    "        counter += 1\n",
    "        if counter > 3:\n",
    "            return new_words\n",
    "    new_words[random_idx_1], new_words[random_idx_2] = new_words[random_idx_2], new_words[random_idx_1] \n",
    "    return new_words"
   ]
  },
  {
   "cell_type": "code",
   "execution_count": 123,
   "metadata": {},
   "outputs": [],
   "source": [
    "########################################################################\n",
    "# main data augmentation function\n",
    "########################################################################\n",
    "\n",
    "def eda(sentence, alpha_sr=0.1, alpha_ri=0.1, alpha_rs=0.1, p_rd=0.1, num_aug=2):\n",
    "\n",
    "    sentence = get_only_chars(sentence)\n",
    "    words = sentence.split(' ')\n",
    "    words = [word for word in words if word is not '']\n",
    "    num_words = len(words)\n",
    "    \n",
    "    augmented_sentences = []\n",
    "    num_new_per_technique = int(num_aug/4)+1\n",
    "    n_sr = max(1, int(alpha_sr*num_words))\n",
    "    n_ri = max(1, int(alpha_ri*num_words))\n",
    "    n_rs = max(1, int(alpha_rs*num_words))\n",
    "\n",
    "    #sr\n",
    "    for _ in range(num_new_per_technique):\n",
    "        a_words = synonym_replacement(words, n_sr)\n",
    "        augmented_sentences.append(' '.join(a_words))\n",
    "\n",
    "    #rs\n",
    "    for _ in range(num_new_per_technique):\n",
    "        a_words = random_swap(words, n_rs)\n",
    "        augmented_sentences.append(' '.join(a_words))\n",
    "\n",
    "    augmented_sentences = [get_only_chars(sentence) for sentence in augmented_sentences]\n",
    "    shuffle(augmented_sentences)\n",
    "\n",
    "    #trim so that we have the desired number of augmented sentences\n",
    "    if num_aug >= 1:\n",
    "        augmented_sentences = augmented_sentences[:num_aug]\n",
    "    else:\n",
    "        keep_prob = num_aug / len(augmented_sentences)\n",
    "        augmented_sentences = [s for s in augmented_sentences if random.uniform(0, 1) < keep_prob]\n",
    "\n",
    "    #append the original sentence\n",
    "    augmented_sentences.append(sentence)\n",
    "\n",
    "    return augmented_sentences"
   ]
  },
  {
   "cell_type": "markdown",
   "metadata": {},
   "source": [
    "- Example of how it works: (It is neccesary to run the piece of code with the stop words in section 2)"
   ]
  },
  {
   "cell_type": "code",
   "execution_count": 124,
   "metadata": {
    "scrolled": true
   },
   "outputs": [
    {
     "data": {
      "text/plain": [
       "['hello i am victor i am from spain and i am years previous',\n",
       " 'hello i am old i am from spain and i am years victor',\n",
       " 'hello i am victor i am from spain and i am years old']"
      ]
     },
     "execution_count": 124,
     "metadata": {},
     "output_type": "execute_result"
    }
   ],
   "source": [
    "eda('Hello, I am Victor. I am from Spain and I am 26 years old')"
   ]
  },
  {
   "cell_type": "markdown",
   "metadata": {},
   "source": [
    "- For this section it is necessary to load again the processed data:"
   ]
  },
  {
   "cell_type": "code",
   "execution_count": 169,
   "metadata": {},
   "outputs": [],
   "source": [
    "data_reviews = pd.read_csv('Data_Processed.csv')"
   ]
  },
  {
   "cell_type": "code",
   "execution_count": 170,
   "metadata": {},
   "outputs": [
    {
     "data": {
      "text/plain": [
       "language\n",
       "en    297246\n",
       "da     13821\n",
       "so     11103\n",
       "no      8531\n",
       "af      7667\n",
       "Name: recommendation, dtype: int64"
      ]
     },
     "execution_count": 170,
     "metadata": {},
     "output_type": "execute_result"
    }
   ],
   "source": [
    "data_reviews.groupby('language').count().sort_values(['recommendation'], ascending=False)['recommendation'].head(5)"
   ]
  },
  {
   "cell_type": "code",
   "execution_count": 171,
   "metadata": {},
   "outputs": [],
   "source": [
    "data_reviewsEN = data_reviews[data_reviews['language'] == 'en']\n",
    "data_reviewsEN.reset_index(drop = True, inplace = True)"
   ]
  },
  {
   "cell_type": "code",
   "execution_count": 172,
   "metadata": {},
   "outputs": [
    {
     "data": {
      "text/plain": [
       "(297246, 11)"
      ]
     },
     "execution_count": 172,
     "metadata": {},
     "output_type": "execute_result"
    }
   ],
   "source": [
    "data_reviewsEN.shape"
   ]
  },
  {
   "cell_type": "code",
   "execution_count": 173,
   "metadata": {},
   "outputs": [
    {
     "data": {
      "text/html": [
       "<div>\n",
       "<style scoped>\n",
       "    .dataframe tbody tr th:only-of-type {\n",
       "        vertical-align: middle;\n",
       "    }\n",
       "\n",
       "    .dataframe tbody tr th {\n",
       "        vertical-align: top;\n",
       "    }\n",
       "\n",
       "    .dataframe thead th {\n",
       "        text-align: right;\n",
       "    }\n",
       "</style>\n",
       "<table border=\"1\" class=\"dataframe\">\n",
       "  <thead>\n",
       "    <tr style=\"text-align: right;\">\n",
       "      <th></th>\n",
       "      <th>date_posted</th>\n",
       "      <th>funny</th>\n",
       "      <th>helpful</th>\n",
       "      <th>hour_played</th>\n",
       "      <th>is_early_access_review</th>\n",
       "      <th>recommendation</th>\n",
       "      <th>review</th>\n",
       "      <th>title</th>\n",
       "      <th>length_review</th>\n",
       "      <th>language</th>\n",
       "      <th>Label</th>\n",
       "    </tr>\n",
       "  </thead>\n",
       "  <tbody>\n",
       "    <tr>\n",
       "      <th>0</th>\n",
       "      <td>2019-02-07</td>\n",
       "      <td>0</td>\n",
       "      <td>0</td>\n",
       "      <td>892</td>\n",
       "      <td>False</td>\n",
       "      <td>Recommended</td>\n",
       "      <td>good game although bit overpriced opinion pref...</td>\n",
       "      <td>Expansion - Hearts of Iron IV: Man the Guns</td>\n",
       "      <td>17</td>\n",
       "      <td>en</td>\n",
       "      <td>1.0</td>\n",
       "    </tr>\n",
       "    <tr>\n",
       "      <th>1</th>\n",
       "      <td>2018-06-14</td>\n",
       "      <td>126</td>\n",
       "      <td>1086</td>\n",
       "      <td>676</td>\n",
       "      <td>False</td>\n",
       "      <td>Recommended</td>\n",
       "      <td>review wrote one probably serious one wrote st...</td>\n",
       "      <td>Dead by Daylight</td>\n",
       "      <td>191</td>\n",
       "      <td>en</td>\n",
       "      <td>1.0</td>\n",
       "    </tr>\n",
       "    <tr>\n",
       "      <th>2</th>\n",
       "      <td>2017-06-20</td>\n",
       "      <td>85</td>\n",
       "      <td>2139</td>\n",
       "      <td>612</td>\n",
       "      <td>False</td>\n",
       "      <td>Recommended</td>\n",
       "      <td>disclaimer survivor main play game fun competi...</td>\n",
       "      <td>Dead by Daylight</td>\n",
       "      <td>132</td>\n",
       "      <td>en</td>\n",
       "      <td>1.0</td>\n",
       "    </tr>\n",
       "    <tr>\n",
       "      <th>3</th>\n",
       "      <td>2017-09-17</td>\n",
       "      <td>12</td>\n",
       "      <td>228</td>\n",
       "      <td>48</td>\n",
       "      <td>False</td>\n",
       "      <td>Recommended</td>\n",
       "      <td>review wrote one probably serious one wrote st...</td>\n",
       "      <td>Dead by Daylight</td>\n",
       "      <td>191</td>\n",
       "      <td>en</td>\n",
       "      <td>1.0</td>\n",
       "    </tr>\n",
       "    <tr>\n",
       "      <th>4</th>\n",
       "      <td>2018-09-21</td>\n",
       "      <td>2</td>\n",
       "      <td>54</td>\n",
       "      <td>400</td>\n",
       "      <td>False</td>\n",
       "      <td>Recommended</td>\n",
       "      <td>longtime dead daylight player know horror game...</td>\n",
       "      <td>Dead by Daylight</td>\n",
       "      <td>164</td>\n",
       "      <td>en</td>\n",
       "      <td>1.0</td>\n",
       "    </tr>\n",
       "  </tbody>\n",
       "</table>\n",
       "</div>"
      ],
      "text/plain": [
       "  date_posted  funny  helpful  hour_played  is_early_access_review  \\\n",
       "0  2019-02-07      0        0          892                   False   \n",
       "1  2018-06-14    126     1086          676                   False   \n",
       "2  2017-06-20     85     2139          612                   False   \n",
       "3  2017-09-17     12      228           48                   False   \n",
       "4  2018-09-21      2       54          400                   False   \n",
       "\n",
       "  recommendation                                             review  \\\n",
       "0    Recommended  good game although bit overpriced opinion pref...   \n",
       "1    Recommended  review wrote one probably serious one wrote st...   \n",
       "2    Recommended  disclaimer survivor main play game fun competi...   \n",
       "3    Recommended  review wrote one probably serious one wrote st...   \n",
       "4    Recommended  longtime dead daylight player know horror game...   \n",
       "\n",
       "                                         title  length_review language  Label  \n",
       "0  Expansion - Hearts of Iron IV: Man the Guns             17       en    1.0  \n",
       "1                             Dead by Daylight            191       en    1.0  \n",
       "2                             Dead by Daylight            132       en    1.0  \n",
       "3                             Dead by Daylight            191       en    1.0  \n",
       "4                             Dead by Daylight            164       en    1.0  "
      ]
     },
     "execution_count": 173,
     "metadata": {},
     "output_type": "execute_result"
    }
   ],
   "source": [
    "data_reviewsEN.head()"
   ]
  },
  {
   "cell_type": "code",
   "execution_count": 174,
   "metadata": {},
   "outputs": [
    {
     "data": {
      "text/plain": [
       "recommendation\n",
       "Not Recommended    101440\n",
       "Recommended        195806\n",
       "Name: Label, dtype: int64"
      ]
     },
     "execution_count": 174,
     "metadata": {},
     "output_type": "execute_result"
    }
   ],
   "source": [
    "data_reviewsEN.groupby('recommendation').count()['Label']"
   ]
  },
  {
   "cell_type": "code",
   "execution_count": 175,
   "metadata": {},
   "outputs": [
    {
     "data": {
      "text/plain": [
       "Index(['date_posted', 'funny', 'helpful', 'hour_played',\n",
       "       'is_early_access_review', 'recommendation', 'review', 'title',\n",
       "       'length_review', 'language', 'Label'],\n",
       "      dtype='object')"
      ]
     },
     "execution_count": 175,
     "metadata": {},
     "output_type": "execute_result"
    }
   ],
   "source": [
    "data_reviewsEN.columns"
   ]
  },
  {
   "cell_type": "markdown",
   "metadata": {},
   "source": [
    "- Split into data and target:"
   ]
  },
  {
   "cell_type": "code",
   "execution_count": 176,
   "metadata": {},
   "outputs": [],
   "source": [
    "data = data_reviewsEN[['date_posted', 'funny', 'helpful', 'hour_played',\n",
    "       'is_early_access_review', 'recommendation', 'review', 'title',\n",
    "       'length_review', 'language']]\n",
    "target = data_reviewsEN['Label']"
   ]
  },
  {
   "cell_type": "markdown",
   "metadata": {},
   "source": [
    "- The data augmentation method is going to be implemented just on the training set:"
   ]
  },
  {
   "cell_type": "code",
   "execution_count": 177,
   "metadata": {},
   "outputs": [],
   "source": [
    "X_train, x_val_test, y_train, y_val_test = train_test_split(data, target,\n",
    "                                                    test_size = 0.3,\n",
    "                                                    random_state = 500\n",
    "                                                    ,stratify = target)"
   ]
  },
  {
   "cell_type": "code",
   "execution_count": 178,
   "metadata": {},
   "outputs": [
    {
     "data": {
      "text/html": [
       "<div>\n",
       "<style scoped>\n",
       "    .dataframe tbody tr th:only-of-type {\n",
       "        vertical-align: middle;\n",
       "    }\n",
       "\n",
       "    .dataframe tbody tr th {\n",
       "        vertical-align: top;\n",
       "    }\n",
       "\n",
       "    .dataframe thead th {\n",
       "        text-align: right;\n",
       "    }\n",
       "</style>\n",
       "<table border=\"1\" class=\"dataframe\">\n",
       "  <thead>\n",
       "    <tr style=\"text-align: right;\">\n",
       "      <th></th>\n",
       "      <th>date_posted</th>\n",
       "      <th>funny</th>\n",
       "      <th>helpful</th>\n",
       "      <th>hour_played</th>\n",
       "      <th>is_early_access_review</th>\n",
       "      <th>recommendation</th>\n",
       "      <th>review</th>\n",
       "      <th>title</th>\n",
       "      <th>length_review</th>\n",
       "      <th>language</th>\n",
       "    </tr>\n",
       "  </thead>\n",
       "  <tbody>\n",
       "    <tr>\n",
       "      <th>171629</th>\n",
       "      <td>2017-08-08</td>\n",
       "      <td>0</td>\n",
       "      <td>0</td>\n",
       "      <td>208</td>\n",
       "      <td>True</td>\n",
       "      <td>Recommended</td>\n",
       "      <td>faster snail speed dayz pace slower h z cartoo...</td>\n",
       "      <td>PLAYERUNKNOWN'S BATTLEGROUNDS</td>\n",
       "      <td>90</td>\n",
       "      <td>en</td>\n",
       "    </tr>\n",
       "    <tr>\n",
       "      <th>114915</th>\n",
       "      <td>2017-02-25</td>\n",
       "      <td>0</td>\n",
       "      <td>0</td>\n",
       "      <td>2</td>\n",
       "      <td>False</td>\n",
       "      <td>Not Recommended</td>\n",
       "      <td>would good game worked laptop refund year ago</td>\n",
       "      <td>Grand Theft Auto V</td>\n",
       "      <td>8</td>\n",
       "      <td>en</td>\n",
       "    </tr>\n",
       "    <tr>\n",
       "      <th>64463</th>\n",
       "      <td>2017-07-16</td>\n",
       "      <td>0</td>\n",
       "      <td>0</td>\n",
       "      <td>1644</td>\n",
       "      <td>False</td>\n",
       "      <td>Recommended</td>\n",
       "      <td>far addicting game ever played literally becom...</td>\n",
       "      <td>Rocket League®</td>\n",
       "      <td>13</td>\n",
       "      <td>en</td>\n",
       "    </tr>\n",
       "    <tr>\n",
       "      <th>61402</th>\n",
       "      <td>2016-12-23</td>\n",
       "      <td>0</td>\n",
       "      <td>0</td>\n",
       "      <td>445</td>\n",
       "      <td>False</td>\n",
       "      <td>Recommended</td>\n",
       "      <td>initially think mix car football could addicti...</td>\n",
       "      <td>Rocket League®</td>\n",
       "      <td>16</td>\n",
       "      <td>en</td>\n",
       "    </tr>\n",
       "    <tr>\n",
       "      <th>94360</th>\n",
       "      <td>2017-12-02</td>\n",
       "      <td>0</td>\n",
       "      <td>0</td>\n",
       "      <td>562</td>\n",
       "      <td>False</td>\n",
       "      <td>Not Recommended</td>\n",
       "      <td>gta v great game gta online full hacker griefe...</td>\n",
       "      <td>Grand Theft Auto V</td>\n",
       "      <td>24</td>\n",
       "      <td>en</td>\n",
       "    </tr>\n",
       "  </tbody>\n",
       "</table>\n",
       "</div>"
      ],
      "text/plain": [
       "       date_posted  funny  helpful  hour_played  is_early_access_review  \\\n",
       "171629  2017-08-08      0        0          208                    True   \n",
       "114915  2017-02-25      0        0            2                   False   \n",
       "64463   2017-07-16      0        0         1644                   False   \n",
       "61402   2016-12-23      0        0          445                   False   \n",
       "94360   2017-12-02      0        0          562                   False   \n",
       "\n",
       "         recommendation                                             review  \\\n",
       "171629      Recommended  faster snail speed dayz pace slower h z cartoo...   \n",
       "114915  Not Recommended      would good game worked laptop refund year ago   \n",
       "64463       Recommended  far addicting game ever played literally becom...   \n",
       "61402       Recommended  initially think mix car football could addicti...   \n",
       "94360   Not Recommended  gta v great game gta online full hacker griefe...   \n",
       "\n",
       "                                title  length_review language  \n",
       "171629  PLAYERUNKNOWN'S BATTLEGROUNDS             90       en  \n",
       "114915             Grand Theft Auto V              8       en  \n",
       "64463                  Rocket League®             13       en  \n",
       "61402                  Rocket League®             16       en  \n",
       "94360              Grand Theft Auto V             24       en  "
      ]
     },
     "execution_count": 178,
     "metadata": {},
     "output_type": "execute_result"
    }
   ],
   "source": [
    "X_train.head()"
   ]
  },
  {
   "cell_type": "code",
   "execution_count": 179,
   "metadata": {},
   "outputs": [
    {
     "data": {
      "text/plain": [
       "(208072, 10)"
      ]
     },
     "execution_count": 179,
     "metadata": {},
     "output_type": "execute_result"
    }
   ],
   "source": [
    "X_train.shape"
   ]
  },
  {
   "cell_type": "code",
   "execution_count": 180,
   "metadata": {},
   "outputs": [],
   "source": [
    "X_train.reset_index(drop = True, inplace = True)"
   ]
  },
  {
   "cell_type": "markdown",
   "metadata": {},
   "source": [
    "- For 10.000 reviews, we are going to apply the data augmentation, keeping the same label."
   ]
  },
  {
   "cell_type": "code",
   "execution_count": 181,
   "metadata": {},
   "outputs": [
    {
     "name": "stderr",
     "output_type": "stream",
     "text": [
      "D:\\Programs_Inst\\Anaconda\\envs\\Deep Learning\\lib\\site-packages\\ipykernel_launcher.py:2: TqdmDeprecationWarning: This function will be removed in tqdm==5.0.0\n",
      "Please use `tqdm.notebook.tqdm` instead of `tqdm.tqdm_notebook`\n",
      "  \n"
     ]
    },
    {
     "data": {
      "application/vnd.jupyter.widget-view+json": {
       "model_id": "62a01af8838c4a14804b28e67ca93e22",
       "version_major": 2,
       "version_minor": 0
      },
      "text/plain": [
       "HBox(children=(FloatProgress(value=0.0, max=10000.0), HTML(value='')))"
      ]
     },
     "metadata": {},
     "output_type": "display_data"
    },
    {
     "name": "stdout",
     "output_type": "stream",
     "text": [
      "\n"
     ]
    }
   ],
   "source": [
    "list_aug = []\n",
    "for i in tqdm(range(10000)):\n",
    "    list_aug.append([eda(X_train['review'][i]),target[i]])"
   ]
  },
  {
   "cell_type": "code",
   "execution_count": 182,
   "metadata": {},
   "outputs": [
    {
     "name": "stderr",
     "output_type": "stream",
     "text": [
      "D:\\Programs_Inst\\Anaconda\\envs\\Deep Learning\\lib\\site-packages\\ipykernel_launcher.py:2: TqdmDeprecationWarning: This function will be removed in tqdm==5.0.0\n",
      "Please use `tqdm.notebook.tqdm` instead of `tqdm.tqdm_notebook`\n",
      "  \n"
     ]
    },
    {
     "data": {
      "application/vnd.jupyter.widget-view+json": {
       "model_id": "067260a12f644c84a445b370af86757e",
       "version_major": 2,
       "version_minor": 0
      },
      "text/plain": [
       "HBox(children=(FloatProgress(value=0.0, max=10000.0), HTML(value='')))"
      ]
     },
     "metadata": {},
     "output_type": "display_data"
    },
    {
     "name": "stdout",
     "output_type": "stream",
     "text": [
      "\n"
     ]
    }
   ],
   "source": [
    "df = pd.DataFrame(columns = data_reviewsEN.columns)\n",
    "for i in tqdm(range(10000)):\n",
    "    d = {'review': list_aug[i][0][0:2], 'Label': [list_aug[i][1],list_aug[i][1]]}\n",
    "    df = pd.concat([df,pd.DataFrame(d, columns = ['review','Label'])], axis = 0)"
   ]
  },
  {
   "cell_type": "code",
   "execution_count": 183,
   "metadata": {},
   "outputs": [],
   "source": [
    "df.reset_index(drop = True, inplace = True)"
   ]
  },
  {
   "cell_type": "code",
   "execution_count": 184,
   "metadata": {},
   "outputs": [],
   "source": [
    "X_train = pd.concat([X_train,df[['date_posted', 'funny', 'helpful', 'hour_played',\n",
    "       'is_early_access_review', 'recommendation', 'review', 'title',\n",
    "       'length_review', 'language']]],axis = 0)\n",
    "X_train.reset_index(drop = True, inplace = True)"
   ]
  },
  {
   "cell_type": "code",
   "execution_count": 185,
   "metadata": {},
   "outputs": [
    {
     "data": {
      "text/html": [
       "<div>\n",
       "<style scoped>\n",
       "    .dataframe tbody tr th:only-of-type {\n",
       "        vertical-align: middle;\n",
       "    }\n",
       "\n",
       "    .dataframe tbody tr th {\n",
       "        vertical-align: top;\n",
       "    }\n",
       "\n",
       "    .dataframe thead th {\n",
       "        text-align: right;\n",
       "    }\n",
       "</style>\n",
       "<table border=\"1\" class=\"dataframe\">\n",
       "  <thead>\n",
       "    <tr style=\"text-align: right;\">\n",
       "      <th></th>\n",
       "      <th>date_posted</th>\n",
       "      <th>funny</th>\n",
       "      <th>helpful</th>\n",
       "      <th>hour_played</th>\n",
       "      <th>is_early_access_review</th>\n",
       "      <th>recommendation</th>\n",
       "      <th>review</th>\n",
       "      <th>title</th>\n",
       "      <th>length_review</th>\n",
       "      <th>language</th>\n",
       "    </tr>\n",
       "  </thead>\n",
       "  <tbody>\n",
       "    <tr>\n",
       "      <th>0</th>\n",
       "      <td>2017-08-08</td>\n",
       "      <td>0</td>\n",
       "      <td>0</td>\n",
       "      <td>208</td>\n",
       "      <td>True</td>\n",
       "      <td>Recommended</td>\n",
       "      <td>faster snail speed dayz pace slower h z cartoo...</td>\n",
       "      <td>PLAYERUNKNOWN'S BATTLEGROUNDS</td>\n",
       "      <td>90</td>\n",
       "      <td>en</td>\n",
       "    </tr>\n",
       "    <tr>\n",
       "      <th>1</th>\n",
       "      <td>2017-02-25</td>\n",
       "      <td>0</td>\n",
       "      <td>0</td>\n",
       "      <td>2</td>\n",
       "      <td>False</td>\n",
       "      <td>Not Recommended</td>\n",
       "      <td>would good game worked laptop refund year ago</td>\n",
       "      <td>Grand Theft Auto V</td>\n",
       "      <td>8</td>\n",
       "      <td>en</td>\n",
       "    </tr>\n",
       "    <tr>\n",
       "      <th>2</th>\n",
       "      <td>2017-07-16</td>\n",
       "      <td>0</td>\n",
       "      <td>0</td>\n",
       "      <td>1644</td>\n",
       "      <td>False</td>\n",
       "      <td>Recommended</td>\n",
       "      <td>far addicting game ever played literally becom...</td>\n",
       "      <td>Rocket League®</td>\n",
       "      <td>13</td>\n",
       "      <td>en</td>\n",
       "    </tr>\n",
       "    <tr>\n",
       "      <th>3</th>\n",
       "      <td>2016-12-23</td>\n",
       "      <td>0</td>\n",
       "      <td>0</td>\n",
       "      <td>445</td>\n",
       "      <td>False</td>\n",
       "      <td>Recommended</td>\n",
       "      <td>initially think mix car football could addicti...</td>\n",
       "      <td>Rocket League®</td>\n",
       "      <td>16</td>\n",
       "      <td>en</td>\n",
       "    </tr>\n",
       "    <tr>\n",
       "      <th>4</th>\n",
       "      <td>2017-12-02</td>\n",
       "      <td>0</td>\n",
       "      <td>0</td>\n",
       "      <td>562</td>\n",
       "      <td>False</td>\n",
       "      <td>Not Recommended</td>\n",
       "      <td>gta v great game gta online full hacker griefe...</td>\n",
       "      <td>Grand Theft Auto V</td>\n",
       "      <td>24</td>\n",
       "      <td>en</td>\n",
       "    </tr>\n",
       "  </tbody>\n",
       "</table>\n",
       "</div>"
      ],
      "text/plain": [
       "  date_posted funny helpful hour_played is_early_access_review  \\\n",
       "0  2017-08-08     0       0         208                   True   \n",
       "1  2017-02-25     0       0           2                  False   \n",
       "2  2017-07-16     0       0        1644                  False   \n",
       "3  2016-12-23     0       0         445                  False   \n",
       "4  2017-12-02     0       0         562                  False   \n",
       "\n",
       "    recommendation                                             review  \\\n",
       "0      Recommended  faster snail speed dayz pace slower h z cartoo...   \n",
       "1  Not Recommended      would good game worked laptop refund year ago   \n",
       "2      Recommended  far addicting game ever played literally becom...   \n",
       "3      Recommended  initially think mix car football could addicti...   \n",
       "4  Not Recommended  gta v great game gta online full hacker griefe...   \n",
       "\n",
       "                           title length_review language  \n",
       "0  PLAYERUNKNOWN'S BATTLEGROUNDS            90       en  \n",
       "1             Grand Theft Auto V             8       en  \n",
       "2                 Rocket League®            13       en  \n",
       "3                 Rocket League®            16       en  \n",
       "4             Grand Theft Auto V            24       en  "
      ]
     },
     "execution_count": 185,
     "metadata": {},
     "output_type": "execute_result"
    }
   ],
   "source": [
    "X_train.head()"
   ]
  },
  {
   "cell_type": "code",
   "execution_count": 186,
   "metadata": {},
   "outputs": [],
   "source": [
    "y_train = pd.concat([y_train,df['Label']],axis = 0)"
   ]
  },
  {
   "cell_type": "code",
   "execution_count": 187,
   "metadata": {},
   "outputs": [
    {
     "data": {
      "text/plain": [
       "(228072, 10)"
      ]
     },
     "execution_count": 187,
     "metadata": {},
     "output_type": "execute_result"
    }
   ],
   "source": [
    "X_train.shape"
   ]
  },
  {
   "cell_type": "code",
   "execution_count": 188,
   "metadata": {},
   "outputs": [
    {
     "data": {
      "text/plain": [
       "(228072,)"
      ]
     },
     "execution_count": 188,
     "metadata": {},
     "output_type": "execute_result"
    }
   ],
   "source": [
    "y_train.shape"
   ]
  },
  {
   "cell_type": "code",
   "execution_count": 189,
   "metadata": {},
   "outputs": [
    {
     "data": {
      "text/html": [
       "<div>\n",
       "<style scoped>\n",
       "    .dataframe tbody tr th:only-of-type {\n",
       "        vertical-align: middle;\n",
       "    }\n",
       "\n",
       "    .dataframe tbody tr th {\n",
       "        vertical-align: top;\n",
       "    }\n",
       "\n",
       "    .dataframe thead th {\n",
       "        text-align: right;\n",
       "    }\n",
       "</style>\n",
       "<table border=\"1\" class=\"dataframe\">\n",
       "  <thead>\n",
       "    <tr style=\"text-align: right;\">\n",
       "      <th></th>\n",
       "      <th>date_posted</th>\n",
       "      <th>funny</th>\n",
       "      <th>helpful</th>\n",
       "      <th>hour_played</th>\n",
       "      <th>is_early_access_review</th>\n",
       "      <th>recommendation</th>\n",
       "      <th>review</th>\n",
       "      <th>title</th>\n",
       "      <th>length_review</th>\n",
       "      <th>language</th>\n",
       "    </tr>\n",
       "  </thead>\n",
       "  <tbody>\n",
       "    <tr>\n",
       "      <th>228067</th>\n",
       "      <td>NaN</td>\n",
       "      <td>NaN</td>\n",
       "      <td>NaN</td>\n",
       "      <td>NaN</td>\n",
       "      <td>NaN</td>\n",
       "      <td>NaN</td>\n",
       "      <td>gta v single player one smart as a whip ambiti...</td>\n",
       "      <td>NaN</td>\n",
       "      <td>NaN</td>\n",
       "      <td>NaN</td>\n",
       "    </tr>\n",
       "    <tr>\n",
       "      <th>228068</th>\n",
       "      <td>NaN</td>\n",
       "      <td>NaN</td>\n",
       "      <td>NaN</td>\n",
       "      <td>NaN</td>\n",
       "      <td>NaN</td>\n",
       "      <td>NaN</td>\n",
       "      <td>cheat fact player wallhacking game get killcam...</td>\n",
       "      <td>NaN</td>\n",
       "      <td>NaN</td>\n",
       "      <td>NaN</td>\n",
       "    </tr>\n",
       "    <tr>\n",
       "      <th>228069</th>\n",
       "      <td>NaN</td>\n",
       "      <td>NaN</td>\n",
       "      <td>NaN</td>\n",
       "      <td>NaN</td>\n",
       "      <td>NaN</td>\n",
       "      <td>NaN</td>\n",
       "      <td>apart fact player wallhacking game scram killc...</td>\n",
       "      <td>NaN</td>\n",
       "      <td>NaN</td>\n",
       "      <td>NaN</td>\n",
       "    </tr>\n",
       "    <tr>\n",
       "      <th>228070</th>\n",
       "      <td>NaN</td>\n",
       "      <td>NaN</td>\n",
       "      <td>NaN</td>\n",
       "      <td>NaN</td>\n",
       "      <td>NaN</td>\n",
       "      <td>NaN</td>\n",
       "      <td>slow pace problem cuz mansion camper everythin...</td>\n",
       "      <td>NaN</td>\n",
       "      <td>NaN</td>\n",
       "      <td>NaN</td>\n",
       "    </tr>\n",
       "    <tr>\n",
       "      <th>228071</th>\n",
       "      <td>NaN</td>\n",
       "      <td>NaN</td>\n",
       "      <td>NaN</td>\n",
       "      <td>NaN</td>\n",
       "      <td>NaN</td>\n",
       "      <td>NaN</td>\n",
       "      <td>slow pace problem cuz house everything camper ...</td>\n",
       "      <td>NaN</td>\n",
       "      <td>NaN</td>\n",
       "      <td>NaN</td>\n",
       "    </tr>\n",
       "  </tbody>\n",
       "</table>\n",
       "</div>"
      ],
      "text/plain": [
       "       date_posted funny helpful hour_played is_early_access_review  \\\n",
       "228067         NaN   NaN     NaN         NaN                    NaN   \n",
       "228068         NaN   NaN     NaN         NaN                    NaN   \n",
       "228069         NaN   NaN     NaN         NaN                    NaN   \n",
       "228070         NaN   NaN     NaN         NaN                    NaN   \n",
       "228071         NaN   NaN     NaN         NaN                    NaN   \n",
       "\n",
       "       recommendation                                             review  \\\n",
       "228067            NaN  gta v single player one smart as a whip ambiti...   \n",
       "228068            NaN  cheat fact player wallhacking game get killcam...   \n",
       "228069            NaN  apart fact player wallhacking game scram killc...   \n",
       "228070            NaN  slow pace problem cuz mansion camper everythin...   \n",
       "228071            NaN  slow pace problem cuz house everything camper ...   \n",
       "\n",
       "       title length_review language  \n",
       "228067   NaN           NaN      NaN  \n",
       "228068   NaN           NaN      NaN  \n",
       "228069   NaN           NaN      NaN  \n",
       "228070   NaN           NaN      NaN  \n",
       "228071   NaN           NaN      NaN  "
      ]
     },
     "execution_count": 189,
     "metadata": {},
     "output_type": "execute_result"
    }
   ],
   "source": [
    "X_train.tail(5)"
   ]
  },
  {
   "cell_type": "code",
   "execution_count": 190,
   "metadata": {},
   "outputs": [],
   "source": [
    "X_train.to_csv('X_train_augmentation.csv', index=False)\n",
    "y_train.to_csv('y_train_augmentation.csv', index=False)"
   ]
  },
  {
   "cell_type": "markdown",
   "metadata": {},
   "source": [
    "## 6.2) Building and training the model:"
   ]
  },
  {
   "cell_type": "code",
   "execution_count": 191,
   "metadata": {},
   "outputs": [
    {
     "name": "stderr",
     "output_type": "stream",
     "text": [
      "D:\\Programs_Inst\\Anaconda\\envs\\Deep Learning\\lib\\site-packages\\IPython\\core\\interactiveshell.py:3063: DtypeWarning: Columns (4) have mixed types.Specify dtype option on import or set low_memory=False.\n",
      "  interactivity=interactivity, compiler=compiler, result=result)\n"
     ]
    }
   ],
   "source": [
    "X_train = pd.read_csv('X_train_augmentation.csv')\n",
    "y_train = pd.read_csv('y_train_augmentation.csv')"
   ]
  },
  {
   "cell_type": "code",
   "execution_count": 192,
   "metadata": {},
   "outputs": [
    {
     "data": {
      "text/html": [
       "<div>\n",
       "<style scoped>\n",
       "    .dataframe tbody tr th:only-of-type {\n",
       "        vertical-align: middle;\n",
       "    }\n",
       "\n",
       "    .dataframe tbody tr th {\n",
       "        vertical-align: top;\n",
       "    }\n",
       "\n",
       "    .dataframe thead th {\n",
       "        text-align: right;\n",
       "    }\n",
       "</style>\n",
       "<table border=\"1\" class=\"dataframe\">\n",
       "  <thead>\n",
       "    <tr style=\"text-align: right;\">\n",
       "      <th></th>\n",
       "      <th>date_posted</th>\n",
       "      <th>funny</th>\n",
       "      <th>helpful</th>\n",
       "      <th>hour_played</th>\n",
       "      <th>is_early_access_review</th>\n",
       "      <th>recommendation</th>\n",
       "      <th>review</th>\n",
       "      <th>title</th>\n",
       "      <th>length_review</th>\n",
       "      <th>language</th>\n",
       "    </tr>\n",
       "  </thead>\n",
       "  <tbody>\n",
       "    <tr>\n",
       "      <th>0</th>\n",
       "      <td>2017-08-08</td>\n",
       "      <td>0.0</td>\n",
       "      <td>0.0</td>\n",
       "      <td>208.0</td>\n",
       "      <td>True</td>\n",
       "      <td>Recommended</td>\n",
       "      <td>faster snail speed dayz pace slower h z cartoo...</td>\n",
       "      <td>PLAYERUNKNOWN'S BATTLEGROUNDS</td>\n",
       "      <td>90.0</td>\n",
       "      <td>en</td>\n",
       "    </tr>\n",
       "    <tr>\n",
       "      <th>1</th>\n",
       "      <td>2017-02-25</td>\n",
       "      <td>0.0</td>\n",
       "      <td>0.0</td>\n",
       "      <td>2.0</td>\n",
       "      <td>False</td>\n",
       "      <td>Not Recommended</td>\n",
       "      <td>would good game worked laptop refund year ago</td>\n",
       "      <td>Grand Theft Auto V</td>\n",
       "      <td>8.0</td>\n",
       "      <td>en</td>\n",
       "    </tr>\n",
       "    <tr>\n",
       "      <th>2</th>\n",
       "      <td>2017-07-16</td>\n",
       "      <td>0.0</td>\n",
       "      <td>0.0</td>\n",
       "      <td>1644.0</td>\n",
       "      <td>False</td>\n",
       "      <td>Recommended</td>\n",
       "      <td>far addicting game ever played literally becom...</td>\n",
       "      <td>Rocket League®</td>\n",
       "      <td>13.0</td>\n",
       "      <td>en</td>\n",
       "    </tr>\n",
       "    <tr>\n",
       "      <th>3</th>\n",
       "      <td>2016-12-23</td>\n",
       "      <td>0.0</td>\n",
       "      <td>0.0</td>\n",
       "      <td>445.0</td>\n",
       "      <td>False</td>\n",
       "      <td>Recommended</td>\n",
       "      <td>initially think mix car football could addicti...</td>\n",
       "      <td>Rocket League®</td>\n",
       "      <td>16.0</td>\n",
       "      <td>en</td>\n",
       "    </tr>\n",
       "    <tr>\n",
       "      <th>4</th>\n",
       "      <td>2017-12-02</td>\n",
       "      <td>0.0</td>\n",
       "      <td>0.0</td>\n",
       "      <td>562.0</td>\n",
       "      <td>False</td>\n",
       "      <td>Not Recommended</td>\n",
       "      <td>gta v great game gta online full hacker griefe...</td>\n",
       "      <td>Grand Theft Auto V</td>\n",
       "      <td>24.0</td>\n",
       "      <td>en</td>\n",
       "    </tr>\n",
       "  </tbody>\n",
       "</table>\n",
       "</div>"
      ],
      "text/plain": [
       "  date_posted  funny  helpful  hour_played is_early_access_review  \\\n",
       "0  2017-08-08    0.0      0.0        208.0                   True   \n",
       "1  2017-02-25    0.0      0.0          2.0                  False   \n",
       "2  2017-07-16    0.0      0.0       1644.0                  False   \n",
       "3  2016-12-23    0.0      0.0        445.0                  False   \n",
       "4  2017-12-02    0.0      0.0        562.0                  False   \n",
       "\n",
       "    recommendation                                             review  \\\n",
       "0      Recommended  faster snail speed dayz pace slower h z cartoo...   \n",
       "1  Not Recommended      would good game worked laptop refund year ago   \n",
       "2      Recommended  far addicting game ever played literally becom...   \n",
       "3      Recommended  initially think mix car football could addicti...   \n",
       "4  Not Recommended  gta v great game gta online full hacker griefe...   \n",
       "\n",
       "                           title  length_review language  \n",
       "0  PLAYERUNKNOWN'S BATTLEGROUNDS           90.0       en  \n",
       "1             Grand Theft Auto V            8.0       en  \n",
       "2                 Rocket League®           13.0       en  \n",
       "3                 Rocket League®           16.0       en  \n",
       "4             Grand Theft Auto V           24.0       en  "
      ]
     },
     "execution_count": 192,
     "metadata": {},
     "output_type": "execute_result"
    }
   ],
   "source": [
    "X_train.head()"
   ]
  },
  {
   "cell_type": "code",
   "execution_count": 193,
   "metadata": {},
   "outputs": [
    {
     "data": {
      "text/plain": [
       "(228072, 10)"
      ]
     },
     "execution_count": 193,
     "metadata": {},
     "output_type": "execute_result"
    }
   ],
   "source": [
    "X_train.shape"
   ]
  },
  {
   "cell_type": "code",
   "execution_count": 194,
   "metadata": {},
   "outputs": [
    {
     "data": {
      "text/plain": [
       "0         1.0\n",
       "1         0.0\n",
       "2         1.0\n",
       "3         1.0\n",
       "4         0.0\n",
       "         ... \n",
       "228067    1.0\n",
       "228068    1.0\n",
       "228069    1.0\n",
       "228070    1.0\n",
       "228071    1.0\n",
       "Name: Label, Length: 228072, dtype: float64"
      ]
     },
     "execution_count": 194,
     "metadata": {},
     "output_type": "execute_result"
    }
   ],
   "source": [
    "y_train = y_train['Label']\n",
    "y_train"
   ]
  },
  {
   "cell_type": "code",
   "execution_count": 195,
   "metadata": {},
   "outputs": [],
   "source": [
    "vectorizer = CountVectorizer(max_df = 0.9, min_df=0.003, max_features= 1500, binary= False, ngram_range=(1, 3))"
   ]
  },
  {
   "cell_type": "code",
   "execution_count": 196,
   "metadata": {},
   "outputs": [
    {
     "data": {
      "text/plain": [
       "(228072, 10)"
      ]
     },
     "execution_count": 196,
     "metadata": {},
     "output_type": "execute_result"
    }
   ],
   "source": [
    "X_train.shape"
   ]
  },
  {
   "cell_type": "code",
   "execution_count": 197,
   "metadata": {},
   "outputs": [],
   "source": [
    "train = vectorizer.fit_transform(X_train['review'])"
   ]
  },
  {
   "cell_type": "code",
   "execution_count": 198,
   "metadata": {},
   "outputs": [],
   "source": [
    "train = train.toarray()"
   ]
  },
  {
   "cell_type": "code",
   "execution_count": 199,
   "metadata": {},
   "outputs": [
    {
     "data": {
      "text/plain": [
       "(228072, 1500)"
      ]
     },
     "execution_count": 199,
     "metadata": {},
     "output_type": "execute_result"
    }
   ],
   "source": [
    "train.shape"
   ]
  },
  {
   "cell_type": "code",
   "execution_count": 200,
   "metadata": {},
   "outputs": [
    {
     "data": {
      "text/plain": [
       "(89174, 10)"
      ]
     },
     "execution_count": 200,
     "metadata": {},
     "output_type": "execute_result"
    }
   ],
   "source": [
    "x_val_test.shape"
   ]
  },
  {
   "cell_type": "code",
   "execution_count": 201,
   "metadata": {},
   "outputs": [],
   "source": [
    "x_val_test = vectorizer.fit_transform(x_val_test['review'])"
   ]
  },
  {
   "cell_type": "code",
   "execution_count": 202,
   "metadata": {},
   "outputs": [],
   "source": [
    "x_val_test = x_val_test.toarray()"
   ]
  },
  {
   "cell_type": "code",
   "execution_count": 203,
   "metadata": {},
   "outputs": [
    {
     "data": {
      "text/plain": [
       "(89174, 1500)"
      ]
     },
     "execution_count": 203,
     "metadata": {},
     "output_type": "execute_result"
    }
   ],
   "source": [
    "x_val_test.shape"
   ]
  },
  {
   "cell_type": "code",
   "execution_count": 204,
   "metadata": {},
   "outputs": [],
   "source": [
    "X_val, X_test, y_val, y_test = train_test_split(x_val_test, y_val_test,\n",
    "                                                    test_size = 0.30,\n",
    "                                                    random_state = 200\n",
    "                                                    ,stratify = y_val_test)"
   ]
  },
  {
   "cell_type": "markdown",
   "metadata": {},
   "source": [
    "- Using this data for the complex model:"
   ]
  },
  {
   "cell_type": "code",
   "execution_count": 205,
   "metadata": {},
   "outputs": [],
   "source": [
    "model = Sequential()\n",
    "\n",
    "model.add(Dense(64,kernel_regularizer=regularizers.l2(0.005),activation = 'relu', input_dim = len(train[1])))\n",
    "model.add(Dense(64,kernel_regularizer=regularizers.l2(0.005),activation = 'relu'))\n",
    "model.add(Dense(1,activation = 'sigmoid'))"
   ]
  },
  {
   "cell_type": "code",
   "execution_count": 206,
   "metadata": {},
   "outputs": [
    {
     "name": "stdout",
     "output_type": "stream",
     "text": [
      "Model: \"sequential_8\"\n",
      "_________________________________________________________________\n",
      "Layer (type)                 Output Shape              Param #   \n",
      "=================================================================\n",
      "dense_20 (Dense)             (None, 64)                96064     \n",
      "_________________________________________________________________\n",
      "dense_21 (Dense)             (None, 64)                4160      \n",
      "_________________________________________________________________\n",
      "dense_22 (Dense)             (None, 1)                 65        \n",
      "=================================================================\n",
      "Total params: 100,289\n",
      "Trainable params: 100,289\n",
      "Non-trainable params: 0\n",
      "_________________________________________________________________\n"
     ]
    }
   ],
   "source": [
    "model.summary()"
   ]
  },
  {
   "cell_type": "code",
   "execution_count": 207,
   "metadata": {},
   "outputs": [],
   "source": [
    "model.compile(optimizer = 'adam', loss = 'binary_crossentropy', metrics = [f1_m,'accuracy'] )"
   ]
  },
  {
   "cell_type": "code",
   "execution_count": 208,
   "metadata": {},
   "outputs": [],
   "source": [
    "csv_logger = CSVLogger('training_model_augmentation.log', separator=',', append=False)"
   ]
  },
  {
   "cell_type": "code",
   "execution_count": 209,
   "metadata": {},
   "outputs": [
    {
     "name": "stdout",
     "output_type": "stream",
     "text": [
      "Train on 228072 samples, validate on 62421 samples\n",
      "Epoch 1/30\n",
      "228072/228072 [==============================] - 7s 31us/sample - loss: 0.5215 - f1_m: 0.8607 - accuracy: 0.8058 - val_loss: 0.6959 - val_f1_m: 0.7682 - val_accuracy: 0.6684\n",
      "Epoch 2/30\n",
      "228072/228072 [==============================] - 6s 27us/sample - loss: 0.4548 - f1_m: 0.8680 - accuracy: 0.8200 - val_loss: 0.6999 - val_f1_m: 0.7404 - val_accuracy: 0.6533\n",
      "Epoch 3/30\n",
      "228072/228072 [==============================] - 6s 27us/sample - loss: 0.4428 - f1_m: 0.8700 - accuracy: 0.8233 - val_loss: 0.7464 - val_f1_m: 0.7014 - val_accuracy: 0.6272\n",
      "Epoch 4/30\n",
      "228072/228072 [==============================] - 6s 28us/sample - loss: 0.4356 - f1_m: 0.8708 - accuracy: 0.8247 - val_loss: 0.7246 - val_f1_m: 0.7402 - val_accuracy: 0.6445\n",
      "Epoch 5/30\n",
      "228072/228072 [==============================] - 7s 31us/sample - loss: 0.4309 - f1_m: 0.8716 - accuracy: 0.8260 - val_loss: 0.6956 - val_f1_m: 0.7683 - val_accuracy: 0.6724\n",
      "Epoch 6/30\n",
      "228072/228072 [==============================] - 9s 39us/sample - loss: 0.4280 - f1_m: 0.8717 - accuracy: 0.8262 - val_loss: 0.7120 - val_f1_m: 0.7441 - val_accuracy: 0.6558\n",
      "Epoch 7/30\n",
      "228072/228072 [==============================] - 7s 29us/sample - loss: 0.4252 - f1_m: 0.8723 - accuracy: 0.8273 - val_loss: 0.7235 - val_f1_m: 0.7079 - val_accuracy: 0.6297\n",
      "Epoch 8/30\n",
      "228072/228072 [==============================] - 7s 29us/sample - loss: 0.4241 - f1_m: 0.8723 - accuracy: 0.8274 - val_loss: 0.7016 - val_f1_m: 0.7583 - val_accuracy: 0.6641\n",
      "Epoch 9/30\n",
      "228072/228072 [==============================] - 9s 40us/sample - loss: 0.4230 - f1_m: 0.8728 - accuracy: 0.8282 - val_loss: 0.7249 - val_f1_m: 0.7564 - val_accuracy: 0.6593\n",
      "Epoch 10/30\n",
      "228072/228072 [==============================] - 6s 28us/sample - loss: 0.4219 - f1_m: 0.8727 - accuracy: 0.8281 - val_loss: 0.7232 - val_f1_m: 0.7151 - val_accuracy: 0.6335\n",
      "Epoch 11/30\n",
      "228072/228072 [==============================] - 6s 28us/sample - loss: 0.4211 - f1_m: 0.8726 - accuracy: 0.8280 - val_loss: 0.7306 - val_f1_m: 0.7267 - val_accuracy: 0.6439\n",
      "Epoch 12/30\n",
      "228072/228072 [==============================] - 9s 41us/sample - loss: 0.4209 - f1_m: 0.8734 - accuracy: 0.8290 - val_loss: 0.7314 - val_f1_m: 0.7288 - val_accuracy: 0.6408\n",
      "Epoch 13/30\n",
      "228072/228072 [==============================] - 7s 30us/sample - loss: 0.4205 - f1_m: 0.8726 - accuracy: 0.8280 - val_loss: 0.7056 - val_f1_m: 0.7465 - val_accuracy: 0.6614\n",
      "Epoch 14/30\n",
      "228072/228072 [==============================] - 7s 29us/sample - loss: 0.4199 - f1_m: 0.8730 - accuracy: 0.8287 - val_loss: 0.7320 - val_f1_m: 0.7367 - val_accuracy: 0.6494\n",
      "Epoch 15/30\n",
      "228072/228072 [==============================] - 9s 37us/sample - loss: 0.4195 - f1_m: 0.8735 - accuracy: 0.8293 - val_loss: 0.7269 - val_f1_m: 0.7398 - val_accuracy: 0.6512\n",
      "Epoch 16/30\n",
      "228072/228072 [==============================] - 8s 36us/sample - loss: 0.4189 - f1_m: 0.8732 - accuracy: 0.8291 - val_loss: 0.7546 - val_f1_m: 0.7227 - val_accuracy: 0.6354\n",
      "Epoch 17/30\n",
      "228072/228072 [==============================] - 6s 28us/sample - loss: 0.4188 - f1_m: 0.8728 - accuracy: 0.8286 - val_loss: 0.7205 - val_f1_m: 0.7454 - val_accuracy: 0.6529\n",
      "Epoch 18/30\n",
      "228072/228072 [==============================] - 8s 36us/sample - loss: 0.4186 - f1_m: 0.8731 - accuracy: 0.8290 - val_loss: 0.7201 - val_f1_m: 0.7282 - val_accuracy: 0.6408\n",
      "Epoch 19/30\n",
      "228072/228072 [==============================] - 8s 36us/sample - loss: 0.4186 - f1_m: 0.8734 - accuracy: 0.8294 - val_loss: 0.7596 - val_f1_m: 0.6824 - val_accuracy: 0.6112\n",
      "Epoch 20/30\n",
      "228072/228072 [==============================] - 6s 27us/sample - loss: 0.4180 - f1_m: 0.8728 - accuracy: 0.8287 - val_loss: 0.7203 - val_f1_m: 0.7336 - val_accuracy: 0.6482\n",
      "Epoch 21/30\n",
      "228072/228072 [==============================] - 7s 29us/sample - loss: 0.4182 - f1_m: 0.8728 - accuracy: 0.8287 - val_loss: 0.7328 - val_f1_m: 0.7547 - val_accuracy: 0.6596\n",
      "Epoch 22/30\n",
      "228072/228072 [==============================] - 10s 43us/sample - loss: 0.4176 - f1_m: 0.8731 - accuracy: 0.8293 - val_loss: 0.7242 - val_f1_m: 0.7744 - val_accuracy: 0.6753\n",
      "Epoch 23/30\n",
      "228072/228072 [==============================] - 6s 27us/sample - loss: 0.4181 - f1_m: 0.8728 - accuracy: 0.8286 - val_loss: 0.7053 - val_f1_m: 0.7343 - val_accuracy: 0.6527\n",
      "Epoch 24/30\n",
      "228072/228072 [==============================] - 6s 27us/sample - loss: 0.4171 - f1_m: 0.8732 - accuracy: 0.8293 - val_loss: 0.7202 - val_f1_m: 0.7414 - val_accuracy: 0.6542\n",
      "Epoch 25/30\n",
      "228072/228072 [==============================] - 9s 41us/sample - loss: 0.4171 - f1_m: 0.8727 - accuracy: 0.8287 - val_loss: 0.7349 - val_f1_m: 0.7405 - val_accuracy: 0.6519\n",
      "Epoch 26/30\n",
      "228072/228072 [==============================] - 6s 28us/sample - loss: 0.4168 - f1_m: 0.8729 - accuracy: 0.8290 - val_loss: 0.7245 - val_f1_m: 0.7213 - val_accuracy: 0.6447\n",
      "Epoch 27/30\n",
      "228072/228072 [==============================] - 6s 27us/sample - loss: 0.4171 - f1_m: 0.8727 - accuracy: 0.8288 - val_loss: 0.7390 - val_f1_m: 0.7421 - val_accuracy: 0.6500\n",
      "Epoch 28/30\n",
      "228072/228072 [==============================] - 7s 33us/sample - loss: 0.4163 - f1_m: 0.8731 - accuracy: 0.8294 - val_loss: 0.7226 - val_f1_m: 0.7318 - val_accuracy: 0.6487\n",
      "Epoch 29/30\n",
      "228072/228072 [==============================] - 8s 36us/sample - loss: 0.4160 - f1_m: 0.8728 - accuracy: 0.8290 - val_loss: 0.7239 - val_f1_m: 0.7216 - val_accuracy: 0.6368\n",
      "Epoch 30/30\n",
      "228072/228072 [==============================] - 6s 27us/sample - loss: 0.4157 - f1_m: 0.8727 - accuracy: 0.8288 - val_loss: 0.7149 - val_f1_m: 0.7551 - val_accuracy: 0.6631\n"
     ]
    }
   ],
   "source": [
    "history = model.fit(train,\n",
    "                    y_train,\n",
    "                    epochs = 30,\n",
    "                    batch_size = 200,\n",
    "                    validation_data = (X_val, y_val),\n",
    "                    callbacks=[csv_logger])"
   ]
  },
  {
   "cell_type": "code",
   "execution_count": 210,
   "metadata": {},
   "outputs": [],
   "source": [
    "#Saving the model:\n",
    "model.save('training_model_augmentation.h5')"
   ]
  },
  {
   "cell_type": "markdown",
   "metadata": {},
   "source": [
    "- Plot of the three parameters evaluated in the model:"
   ]
  },
  {
   "cell_type": "code",
   "execution_count": 211,
   "metadata": {},
   "outputs": [
    {
     "data": {
      "text/plain": [
       "<matplotlib.legend.Legend at 0x256f84cee48>"
      ]
     },
     "execution_count": 211,
     "metadata": {},
     "output_type": "execute_result"
    },
    {
     "data": {
      "image/png": "[encoded data removed]",
      "text/plain": [
       "<Figure size 432x288 with 1 Axes>"
      ]
     },
     "metadata": {
      "needs_background": "light"
     },
     "output_type": "display_data"
    }
   ],
   "source": [
    "history_dict = history.history\n",
    "loss_values = history_dict['loss']\n",
    "val_loss_values = history_dict['val_loss']\n",
    "\n",
    "epochs = range(1, len(loss_values) + 1)\n",
    "\n",
    "plt.plot(epochs, loss_values, 'bo', label = 'Training Loss')\n",
    "plt.plot(epochs, val_loss_values, 'b', label = 'Validation Loss')\n",
    "plt.title('Training and Validation Loss')\n",
    "plt.xlabel('Epochs')\n",
    "plt.ylabel('Loss')\n",
    "plt.legend()"
   ]
  },
  {
   "cell_type": "code",
   "execution_count": 212,
   "metadata": {},
   "outputs": [
    {
     "data": {
      "text/plain": [
       "<matplotlib.legend.Legend at 0x256f8084bc8>"
      ]
     },
     "execution_count": 212,
     "metadata": {},
     "output_type": "execute_result"
    },
    {
     "data": {
      "image/png": "[encoded data removed]",
      "text/plain": [
       "<Figure size 432x288 with 1 Axes>"
      ]
     },
     "metadata": {
      "needs_background": "light"
     },
     "output_type": "display_data"
    }
   ],
   "source": [
    "history_dict = history.history\n",
    "accuracy_values = history_dict['accuracy']\n",
    "val_accuracy_values = history_dict['val_accuracy']\n",
    "\n",
    "epochs = range(1, len(accuracy_values) + 1)\n",
    "\n",
    "plt.plot(epochs, accuracy_values, 'bo', label = 'Training Accuracy')\n",
    "plt.plot(epochs, val_accuracy_values, 'b', label = 'Validation Accuracy')\n",
    "plt.title('Training and Validation Accuracy')\n",
    "plt.xlabel('Epochs')\n",
    "plt.ylabel('Accuracy')\n",
    "plt.legend()"
   ]
  },
  {
   "cell_type": "code",
   "execution_count": 213,
   "metadata": {},
   "outputs": [
    {
     "data": {
      "text/plain": [
       "<matplotlib.legend.Legend at 0x256fc436148>"
      ]
     },
     "execution_count": 213,
     "metadata": {},
     "output_type": "execute_result"
    },
    {
     "data": {
      "image/png": "[encoded data removed]",
      "text/plain": [
       "<Figure size 432x288 with 1 Axes>"
      ]
     },
     "metadata": {
      "needs_background": "light"
     },
     "output_type": "display_data"
    }
   ],
   "source": [
    "history_dict = history.history\n",
    "accuracy_values = history_dict['f1_m']\n",
    "val_accuracy_values = history_dict['val_f1_m']\n",
    "\n",
    "epochs = range(1, len(accuracy_values) + 1)\n",
    "\n",
    "plt.plot(epochs, accuracy_values, 'bo', label = 'Training f1_m')\n",
    "plt.plot(epochs, val_accuracy_values, 'b', label = 'Validation f1_m')\n",
    "plt.title('Training and Validation f1')\n",
    "plt.xlabel('Epochs')\n",
    "plt.ylabel('f1')\n",
    "plt.legend()"
   ]
  },
  {
   "cell_type": "markdown",
   "metadata": {},
   "source": [
    "- Evaluating the model with the test set:"
   ]
  },
  {
   "cell_type": "code",
   "execution_count": 214,
   "metadata": {},
   "outputs": [
    {
     "name": "stdout",
     "output_type": "stream",
     "text": [
      "26753/26753 [==============================] - 1s 42us/sample - loss: 0.7056 - f1_m: 0.7537 - accuracy: 0.6658\n"
     ]
    }
   ],
   "source": [
    "results = model.evaluate(X_test , y_test)"
   ]
  },
  {
   "cell_type": "code",
   "execution_count": 215,
   "metadata": {},
   "outputs": [
    {
     "name": "stdout",
     "output_type": "stream",
     "text": [
      "The loss is:  0.7056212624623317\n",
      "The f1_score is:  0.7537499\n",
      "The accuracy is:  0.6657571\n"
     ]
    }
   ],
   "source": [
    "print('The loss is: ', results[0])\n",
    "print('The f1_score is: ', results[1])\n",
    "print('The accuracy is: ', results[2])"
   ]
  },
  {
   "cell_type": "markdown",
   "metadata": {},
   "source": [
    "                      ##### The model get the worst result. It is clear that this data augmentation\n",
    "                                      method don't works well in this problem. ##### "
   ]
  },
  {
   "cell_type": "markdown",
   "metadata": {},
   "source": [
    "# 6) Modifying the N-Gram"
   ]
  },
  {
   "cell_type": "markdown",
   "metadata": {},
   "source": [
    "- For this section it is necessary to load again the processed data:"
   ]
  },
  {
   "cell_type": "code",
   "execution_count": 23,
   "metadata": {},
   "outputs": [],
   "source": [
    "data_reviews = pd.read_csv('Data_Processed.csv')"
   ]
  },
  {
   "cell_type": "code",
   "execution_count": 24,
   "metadata": {},
   "outputs": [
    {
     "data": {
      "text/plain": [
       "language\n",
       "en    297246\n",
       "da     13821\n",
       "so     11103\n",
       "no      8531\n",
       "af      7667\n",
       "Name: recommendation, dtype: int64"
      ]
     },
     "execution_count": 24,
     "metadata": {},
     "output_type": "execute_result"
    }
   ],
   "source": [
    "data_reviews.groupby('language').count().sort_values(['recommendation'], ascending=False)['recommendation'].head(5)"
   ]
  },
  {
   "cell_type": "code",
   "execution_count": 25,
   "metadata": {},
   "outputs": [],
   "source": [
    "data_reviewsEN = data_reviews[data_reviews['language'] == 'en']"
   ]
  },
  {
   "cell_type": "code",
   "execution_count": 26,
   "metadata": {},
   "outputs": [
    {
     "data": {
      "text/plain": [
       "(297246, 11)"
      ]
     },
     "execution_count": 26,
     "metadata": {},
     "output_type": "execute_result"
    }
   ],
   "source": [
    "data_reviewsEN.shape"
   ]
  },
  {
   "cell_type": "code",
   "execution_count": 27,
   "metadata": {},
   "outputs": [
    {
     "data": {
      "text/html": [
       "<div>\n",
       "<style scoped>\n",
       "    .dataframe tbody tr th:only-of-type {\n",
       "        vertical-align: middle;\n",
       "    }\n",
       "\n",
       "    .dataframe tbody tr th {\n",
       "        vertical-align: top;\n",
       "    }\n",
       "\n",
       "    .dataframe thead th {\n",
       "        text-align: right;\n",
       "    }\n",
       "</style>\n",
       "<table border=\"1\" class=\"dataframe\">\n",
       "  <thead>\n",
       "    <tr style=\"text-align: right;\">\n",
       "      <th></th>\n",
       "      <th>date_posted</th>\n",
       "      <th>funny</th>\n",
       "      <th>helpful</th>\n",
       "      <th>hour_played</th>\n",
       "      <th>is_early_access_review</th>\n",
       "      <th>recommendation</th>\n",
       "      <th>review</th>\n",
       "      <th>title</th>\n",
       "      <th>length_review</th>\n",
       "      <th>language</th>\n",
       "      <th>Label</th>\n",
       "    </tr>\n",
       "  </thead>\n",
       "  <tbody>\n",
       "    <tr>\n",
       "      <th>1</th>\n",
       "      <td>2019-02-07</td>\n",
       "      <td>0</td>\n",
       "      <td>0</td>\n",
       "      <td>892</td>\n",
       "      <td>False</td>\n",
       "      <td>Recommended</td>\n",
       "      <td>good game although bit overpriced opinion pref...</td>\n",
       "      <td>Expansion - Hearts of Iron IV: Man the Guns</td>\n",
       "      <td>17</td>\n",
       "      <td>en</td>\n",
       "      <td>1.0</td>\n",
       "    </tr>\n",
       "    <tr>\n",
       "      <th>2</th>\n",
       "      <td>2018-06-14</td>\n",
       "      <td>126</td>\n",
       "      <td>1086</td>\n",
       "      <td>676</td>\n",
       "      <td>False</td>\n",
       "      <td>Recommended</td>\n",
       "      <td>review wrote one probably serious one wrote st...</td>\n",
       "      <td>Dead by Daylight</td>\n",
       "      <td>191</td>\n",
       "      <td>en</td>\n",
       "      <td>1.0</td>\n",
       "    </tr>\n",
       "    <tr>\n",
       "      <th>3</th>\n",
       "      <td>2017-06-20</td>\n",
       "      <td>85</td>\n",
       "      <td>2139</td>\n",
       "      <td>612</td>\n",
       "      <td>False</td>\n",
       "      <td>Recommended</td>\n",
       "      <td>disclaimer survivor main play game fun competi...</td>\n",
       "      <td>Dead by Daylight</td>\n",
       "      <td>132</td>\n",
       "      <td>en</td>\n",
       "      <td>1.0</td>\n",
       "    </tr>\n",
       "    <tr>\n",
       "      <th>5</th>\n",
       "      <td>2017-09-17</td>\n",
       "      <td>12</td>\n",
       "      <td>228</td>\n",
       "      <td>48</td>\n",
       "      <td>False</td>\n",
       "      <td>Recommended</td>\n",
       "      <td>review wrote one probably serious one wrote st...</td>\n",
       "      <td>Dead by Daylight</td>\n",
       "      <td>191</td>\n",
       "      <td>en</td>\n",
       "      <td>1.0</td>\n",
       "    </tr>\n",
       "    <tr>\n",
       "      <th>7</th>\n",
       "      <td>2018-09-21</td>\n",
       "      <td>2</td>\n",
       "      <td>54</td>\n",
       "      <td>400</td>\n",
       "      <td>False</td>\n",
       "      <td>Recommended</td>\n",
       "      <td>longtime dead daylight player know horror game...</td>\n",
       "      <td>Dead by Daylight</td>\n",
       "      <td>164</td>\n",
       "      <td>en</td>\n",
       "      <td>1.0</td>\n",
       "    </tr>\n",
       "  </tbody>\n",
       "</table>\n",
       "</div>"
      ],
      "text/plain": [
       "  date_posted  funny  helpful  hour_played  is_early_access_review  \\\n",
       "1  2019-02-07      0        0          892                   False   \n",
       "2  2018-06-14    126     1086          676                   False   \n",
       "3  2017-06-20     85     2139          612                   False   \n",
       "5  2017-09-17     12      228           48                   False   \n",
       "7  2018-09-21      2       54          400                   False   \n",
       "\n",
       "  recommendation                                             review  \\\n",
       "1    Recommended  good game although bit overpriced opinion pref...   \n",
       "2    Recommended  review wrote one probably serious one wrote st...   \n",
       "3    Recommended  disclaimer survivor main play game fun competi...   \n",
       "5    Recommended  review wrote one probably serious one wrote st...   \n",
       "7    Recommended  longtime dead daylight player know horror game...   \n",
       "\n",
       "                                         title  length_review language  Label  \n",
       "1  Expansion - Hearts of Iron IV: Man the Guns             17       en    1.0  \n",
       "2                             Dead by Daylight            191       en    1.0  \n",
       "3                             Dead by Daylight            132       en    1.0  \n",
       "5                             Dead by Daylight            191       en    1.0  \n",
       "7                             Dead by Daylight            164       en    1.0  "
      ]
     },
     "execution_count": 27,
     "metadata": {},
     "output_type": "execute_result"
    }
   ],
   "source": [
    "data_reviewsEN.head()"
   ]
  },
  {
   "cell_type": "code",
   "execution_count": 28,
   "metadata": {},
   "outputs": [
    {
     "data": {
      "text/plain": [
       "Label\n",
       "0.0    101440\n",
       "1.0    195806\n",
       "Name: funny, dtype: int64"
      ]
     },
     "execution_count": 28,
     "metadata": {},
     "output_type": "execute_result"
    }
   ],
   "source": [
    "data_reviewsEN.groupby('Label').count()['funny']"
   ]
  },
  {
   "cell_type": "markdown",
   "metadata": {},
   "source": [
    "- Increasing the number from (1,3) to (1,5):"
   ]
  },
  {
   "cell_type": "code",
   "execution_count": 29,
   "metadata": {},
   "outputs": [],
   "source": [
    "English_reviews = data_reviewsEN.sample(frac=0.7, random_state=1)"
   ]
  },
  {
   "cell_type": "code",
   "execution_count": 30,
   "metadata": {},
   "outputs": [],
   "source": [
    "vectorizer = CountVectorizer(max_df = 0.9, min_df=0.003, max_features= 2500, binary= False, ngram_range=(1,5))"
   ]
  },
  {
   "cell_type": "code",
   "execution_count": 31,
   "metadata": {},
   "outputs": [],
   "source": [
    "train = vectorizer.fit_transform(English_reviews['review'])"
   ]
  },
  {
   "cell_type": "code",
   "execution_count": 32,
   "metadata": {},
   "outputs": [],
   "source": [
    "target = English_reviews['Label']"
   ]
  },
  {
   "cell_type": "code",
   "execution_count": 33,
   "metadata": {},
   "outputs": [],
   "source": [
    "train = train.toarray()"
   ]
  },
  {
   "cell_type": "code",
   "execution_count": 34,
   "metadata": {},
   "outputs": [],
   "source": [
    "X_train, x_val_test, y_train, y_val_test = train_test_split(train, target,\n",
    "                                                    test_size = 0.3,\n",
    "                                                    random_state = 500\n",
    "                                                    ,stratify = target)"
   ]
  },
  {
   "cell_type": "code",
   "execution_count": 35,
   "metadata": {},
   "outputs": [],
   "source": [
    "X_val, X_test, y_val, y_test = train_test_split(x_val_test, y_val_test,\n",
    "                                                    test_size = 0.3,\n",
    "                                                    random_state = 200\n",
    "                                                    ,stratify = y_val_test)"
   ]
  },
  {
   "cell_type": "markdown",
   "metadata": {},
   "source": [
    "- Using this data for the complex model:"
   ]
  },
  {
   "cell_type": "code",
   "execution_count": 36,
   "metadata": {},
   "outputs": [],
   "source": [
    "model = Sequential()\n",
    "\n",
    "model.add(Dense(64,kernel_regularizer=regularizers.l2(0.005),activation = 'relu', input_dim = len(train[1])))\n",
    "model.add(Dense(64,kernel_regularizer=regularizers.l2(0.005),activation = 'relu'))\n",
    "model.add(Dense(1,activation = 'sigmoid'))"
   ]
  },
  {
   "cell_type": "code",
   "execution_count": 37,
   "metadata": {},
   "outputs": [
    {
     "name": "stdout",
     "output_type": "stream",
     "text": [
      "Model: \"sequential_1\"\n",
      "_________________________________________________________________\n",
      "Layer (type)                 Output Shape              Param #   \n",
      "=================================================================\n",
      "dense_3 (Dense)              (None, 64)                105536    \n",
      "_________________________________________________________________\n",
      "dense_4 (Dense)              (None, 64)                4160      \n",
      "_________________________________________________________________\n",
      "dense_5 (Dense)              (None, 1)                 65        \n",
      "=================================================================\n",
      "Total params: 109,761\n",
      "Trainable params: 109,761\n",
      "Non-trainable params: 0\n",
      "_________________________________________________________________\n"
     ]
    }
   ],
   "source": [
    "model.summary()"
   ]
  },
  {
   "cell_type": "code",
   "execution_count": 38,
   "metadata": {},
   "outputs": [],
   "source": [
    "model.compile(optimizer = 'adam', loss = 'binary_crossentropy', metrics = [f1_m,'acc'] )"
   ]
  },
  {
   "cell_type": "code",
   "execution_count": 39,
   "metadata": {},
   "outputs": [],
   "source": [
    "csv_logger = CSVLogger('model_complex_gram_5.log', separator=',', append=False)"
   ]
  },
  {
   "cell_type": "code",
   "execution_count": 40,
   "metadata": {},
   "outputs": [
    {
     "name": "stdout",
     "output_type": "stream",
     "text": [
      "Train on 145650 samples, validate on 43695 samples\n",
      "Epoch 1/30\n",
      "145650/145650 [==============================] - 4s 26us/sample - loss: 0.6099 - f1_m: 0.8656 - acc: 0.8112 - val_loss: 0.4383 - val_f1_m: 0.8819 - val_acc: 0.8395\n",
      "Epoch 2/30\n",
      "145650/145650 [==============================] - 3s 20us/sample - loss: 0.4209 - f1_m: 0.8856 - acc: 0.8445 - val_loss: 0.4106 - val_f1_m: 0.8853 - val_acc: 0.8434\n",
      "Epoch 3/30\n",
      "145650/145650 [==============================] - 3s 20us/sample - loss: 0.4049 - f1_m: 0.8882 - acc: 0.8484 - val_loss: 0.4014 - val_f1_m: 0.8875 - val_acc: 0.8475\n",
      "Epoch 4/30\n",
      "145650/145650 [==============================] - 3s 23us/sample - loss: 0.3958 - f1_m: 0.8899 - acc: 0.8510 - val_loss: 0.3969 - val_f1_m: 0.8869 - val_acc: 0.8469\n",
      "Epoch 5/30\n",
      "145650/145650 [==============================] - 4s 28us/sample - loss: 0.3895 - f1_m: 0.8911 - acc: 0.8527 - val_loss: 0.3934 - val_f1_m: 0.8879 - val_acc: 0.8510\n",
      "Epoch 6/30\n",
      "145650/145650 [==============================] - 5s 32us/sample - loss: 0.3836 - f1_m: 0.8922 - acc: 0.8544 - val_loss: 0.3884 - val_f1_m: 0.8891 - val_acc: 0.8500\n",
      "Epoch 7/30\n",
      "145650/145650 [==============================] - 3s 20us/sample - loss: 0.3790 - f1_m: 0.8932 - acc: 0.8559 - val_loss: 0.3847 - val_f1_m: 0.8894 - val_acc: 0.8495\n",
      "Epoch 8/30\n",
      "145650/145650 [==============================] - 3s 21us/sample - loss: 0.3753 - f1_m: 0.8934 - acc: 0.8563 - val_loss: 0.3846 - val_f1_m: 0.8900 - val_acc: 0.8492\n",
      "Epoch 9/30\n",
      "145650/145650 [==============================] - 3s 21us/sample - loss: 0.3718 - f1_m: 0.8951 - acc: 0.8585 - val_loss: 0.3816 - val_f1_m: 0.8877 - val_acc: 0.8506\n",
      "Epoch 10/30\n",
      "145650/145650 [==============================] - 3s 22us/sample - loss: 0.3693 - f1_m: 0.8961 - acc: 0.8599 - val_loss: 0.3799 - val_f1_m: 0.8902 - val_acc: 0.8534\n",
      "Epoch 11/30\n",
      "145650/145650 [==============================] - 4s 28us/sample - loss: 0.3670 - f1_m: 0.8959 - acc: 0.8597 - val_loss: 0.3787 - val_f1_m: 0.8901 - val_acc: 0.8523\n",
      "Epoch 12/30\n",
      "145650/145650 [==============================] - 5s 37us/sample - loss: 0.3648 - f1_m: 0.8959 - acc: 0.8598 - val_loss: 0.3774 - val_f1_m: 0.8903 - val_acc: 0.8523\n",
      "Epoch 13/30\n",
      "145650/145650 [==============================] - 4s 28us/sample - loss: 0.3628 - f1_m: 0.8959 - acc: 0.8599 - val_loss: 0.3747 - val_f1_m: 0.8902 - val_acc: 0.8524\n",
      "Epoch 14/30\n",
      "145650/145650 [==============================] - 3s 21us/sample - loss: 0.3613 - f1_m: 0.8969 - acc: 0.8613 - val_loss: 0.3766 - val_f1_m: 0.8907 - val_acc: 0.8502\n",
      "Epoch 15/30\n",
      "145650/145650 [==============================] - 3s 20us/sample - loss: 0.3600 - f1_m: 0.8969 - acc: 0.8613 - val_loss: 0.3742 - val_f1_m: 0.8904 - val_acc: 0.8522\n",
      "Epoch 16/30\n",
      "145650/145650 [==============================] - 3s 19us/sample - loss: 0.3588 - f1_m: 0.8975 - acc: 0.8622 - val_loss: 0.3733 - val_f1_m: 0.8895 - val_acc: 0.8518\n",
      "Epoch 17/30\n",
      "145650/145650 [==============================] - 3s 20us/sample - loss: 0.3571 - f1_m: 0.8978 - acc: 0.8626 - val_loss: 0.3728 - val_f1_m: 0.8901 - val_acc: 0.8512\n",
      "Epoch 18/30\n",
      "145650/145650 [==============================] - 4s 26us/sample - loss: 0.3564 - f1_m: 0.8980 - acc: 0.8627 - val_loss: 0.3725 - val_f1_m: 0.8894 - val_acc: 0.8508\n",
      "Epoch 19/30\n",
      "145650/145650 [==============================] - 5s 37us/sample - loss: 0.3550 - f1_m: 0.8982 - acc: 0.8630 - val_loss: 0.3724 - val_f1_m: 0.8899 - val_acc: 0.8525\n",
      "Epoch 20/30\n",
      "145650/145650 [==============================] - 4s 25us/sample - loss: 0.3546 - f1_m: 0.8982 - acc: 0.8631 - val_loss: 0.3725 - val_f1_m: 0.8899 - val_acc: 0.8509\n",
      "Epoch 21/30\n",
      "145650/145650 [==============================] - 3s 18us/sample - loss: 0.3540 - f1_m: 0.8985 - acc: 0.8636 - val_loss: 0.3710 - val_f1_m: 0.8906 - val_acc: 0.8525\n",
      "Epoch 22/30\n",
      "145650/145650 [==============================] - 3s 19us/sample - loss: 0.3532 - f1_m: 0.8985 - acc: 0.8637 - val_loss: 0.3712 - val_f1_m: 0.8902 - val_acc: 0.8528\n",
      "Epoch 23/30\n",
      "145650/145650 [==============================] - 3s 19us/sample - loss: 0.3528 - f1_m: 0.8988 - acc: 0.8641 - val_loss: 0.3718 - val_f1_m: 0.8910 - val_acc: 0.8526\n",
      "Epoch 24/30\n",
      "145650/145650 [==============================] - 3s 19us/sample - loss: 0.3523 - f1_m: 0.8991 - acc: 0.8646 - val_loss: 0.3735 - val_f1_m: 0.8883 - val_acc: 0.8531\n",
      "Epoch 25/30\n",
      "145650/145650 [==============================] - 3s 24us/sample - loss: 0.3513 - f1_m: 0.8991 - acc: 0.8646 - val_loss: 0.3699 - val_f1_m: 0.8905 - val_acc: 0.8536\n",
      "Epoch 26/30\n",
      "145650/145650 [==============================] - 4s 29us/sample - loss: 0.3502 - f1_m: 0.8996 - acc: 0.8653 - val_loss: 0.3713 - val_f1_m: 0.8893 - val_acc: 0.8520\n",
      "Epoch 27/30\n",
      "145650/145650 [==============================] - 4s 29us/sample - loss: 0.3501 - f1_m: 0.8992 - acc: 0.8648 - val_loss: 0.3703 - val_f1_m: 0.8896 - val_acc: 0.8526\n",
      "Epoch 28/30\n",
      "145650/145650 [==============================] - 3s 19us/sample - loss: 0.3499 - f1_m: 0.8993 - acc: 0.8647 - val_loss: 0.3711 - val_f1_m: 0.8891 - val_acc: 0.8524\n",
      "Epoch 29/30\n",
      "145650/145650 [==============================] - 3s 20us/sample - loss: 0.3486 - f1_m: 0.8997 - acc: 0.8655 - val_loss: 0.3694 - val_f1_m: 0.8904 - val_acc: 0.8530\n",
      "Epoch 30/30\n",
      "145650/145650 [==============================] - 3s 19us/sample - loss: 0.3488 - f1_m: 0.8994 - acc: 0.8650 - val_loss: 0.3716 - val_f1_m: 0.8907 - val_acc: 0.8512\n"
     ]
    }
   ],
   "source": [
    "history = model.fit(X_train,\n",
    "                    y_train,\n",
    "                    epochs = 30,\n",
    "                    batch_size = 500,\n",
    "                    validation_data = (X_val, y_val),\n",
    "                    callbacks=[csv_logger])"
   ]
  },
  {
   "cell_type": "code",
   "execution_count": 41,
   "metadata": {},
   "outputs": [],
   "source": [
    "#Saving the model:\n",
    "model.save('model_complex_gram_5.h5')"
   ]
  },
  {
   "cell_type": "markdown",
   "metadata": {},
   "source": [
    "- Plot of the three parameters evaluated in the model:"
   ]
  },
  {
   "cell_type": "code",
   "execution_count": 42,
   "metadata": {},
   "outputs": [
    {
     "data": {
      "text/plain": [
       "<matplotlib.legend.Legend at 0x1499491a0c8>"
      ]
     },
     "execution_count": 42,
     "metadata": {},
     "output_type": "execute_result"
    },
    {
     "data": {
      "image/png": "[encoded data removed]",
      "text/plain": [
       "<Figure size 432x288 with 1 Axes>"
      ]
     },
     "metadata": {
      "needs_background": "light"
     },
     "output_type": "display_data"
    }
   ],
   "source": [
    "history_dict = history.history\n",
    "loss_values = history_dict['loss']\n",
    "val_loss_values = history_dict['val_loss']\n",
    "\n",
    "epochs = range(1, len(loss_values) + 1)\n",
    "\n",
    "plt.plot(epochs, loss_values, 'bo', label = 'Training Loss')\n",
    "plt.plot(epochs, val_loss_values, 'b', label = 'Validation Loss')\n",
    "plt.title('Training and Validation Loss')\n",
    "plt.xlabel('Epochs')\n",
    "plt.ylabel('Loss')\n",
    "plt.legend()"
   ]
  },
  {
   "cell_type": "code",
   "execution_count": 43,
   "metadata": {},
   "outputs": [
    {
     "data": {
      "text/plain": [
       "<matplotlib.legend.Legend at 0x14992b20f08>"
      ]
     },
     "execution_count": 43,
     "metadata": {},
     "output_type": "execute_result"
    },
    {
     "data": {
      "image/png": "[encoded data removed]",
      "text/plain": [
       "<Figure size 432x288 with 1 Axes>"
      ]
     },
     "metadata": {
      "needs_background": "light"
     },
     "output_type": "display_data"
    }
   ],
   "source": [
    "history_dict = history.history\n",
    "accuracy_values = history_dict['acc']\n",
    "val_accuracy_values = history_dict['val_acc']\n",
    "\n",
    "epochs = range(1, len(accuracy_values) + 1)\n",
    "\n",
    "plt.plot(epochs, accuracy_values, 'bo', label = 'Training Accuracy')\n",
    "plt.plot(epochs, val_accuracy_values, 'b', label = 'Validation Accuracy')\n",
    "plt.title('Training and Validation Accuracy')\n",
    "plt.xlabel('Epochs')\n",
    "plt.ylabel('Accuracy')\n",
    "plt.legend()"
   ]
  },
  {
   "cell_type": "code",
   "execution_count": 44,
   "metadata": {},
   "outputs": [
    {
     "data": {
      "text/plain": [
       "<matplotlib.legend.Legend at 0x149ab535e88>"
      ]
     },
     "execution_count": 44,
     "metadata": {},
     "output_type": "execute_result"
    },
    {
     "data": {
      "image/png": "[encoded data removed]",
      "text/plain": [
       "<Figure size 432x288 with 1 Axes>"
      ]
     },
     "metadata": {
      "needs_background": "light"
     },
     "output_type": "display_data"
    }
   ],
   "source": [
    "history_dict = history.history\n",
    "accuracy_values = history_dict['f1_m']\n",
    "val_accuracy_values = history_dict['val_f1_m']\n",
    "\n",
    "epochs = range(1, len(accuracy_values) + 1)\n",
    "\n",
    "plt.plot(epochs, accuracy_values, 'bo', label = 'Training f1_m')\n",
    "plt.plot(epochs, val_accuracy_values, 'b', label = 'Validation f1_m')\n",
    "plt.title('Training and Validation f1')\n",
    "plt.xlabel('Epochs')\n",
    "plt.ylabel('f1')\n",
    "plt.legend()"
   ]
  },
  {
   "cell_type": "markdown",
   "metadata": {},
   "source": [
    "- Evaluating the model with the test set:"
   ]
  },
  {
   "cell_type": "code",
   "execution_count": 45,
   "metadata": {},
   "outputs": [
    {
     "name": "stdout",
     "output_type": "stream",
     "text": [
      "18727/18727 [==============================] - 1s 39us/sample - loss: 0.3633 - f1_m: 0.8915 - acc: 0.8549\n"
     ]
    }
   ],
   "source": [
    "results = model.evaluate(X_test , y_test)"
   ]
  },
  {
   "cell_type": "code",
   "execution_count": 46,
   "metadata": {},
   "outputs": [
    {
     "name": "stdout",
     "output_type": "stream",
     "text": [
      "The loss is:  0.36332499676609264\n",
      "The f1_score is:  0.89154375\n",
      "The accuracy is:  0.854862\n"
     ]
    }
   ],
   "source": [
    "print('The loss is: ', results[0])\n",
    "print('The f1_score is: ', results[1])\n",
    "print('The accuracy is: ', results[2])"
   ]
  },
  {
   "cell_type": "markdown",
   "metadata": {},
   "source": [
    "                      ##### The results are really similar to the results got with the original\n",
    "                      configuration. We can assume that the modification of the n-gram parameters\n",
    "                                      are not going to improve our results.##### "
   ]
  },
  {
   "cell_type": "markdown",
   "metadata": {},
   "source": [
    "# 7) Model with a Flatten layer:"
   ]
  },
  {
   "cell_type": "code",
   "execution_count": 47,
   "metadata": {},
   "outputs": [],
   "source": [
    "model = Sequential()\n",
    "\n",
    "model.add(Dense(64,kernel_regularizer=regularizers.l2(0.005),activation = 'relu', input_dim = len(train[1])))\n",
    "model.add(Dense(64,kernel_regularizer=regularizers.l2(0.005),activation = 'relu'))\n",
    "model.add(Flatten())\n",
    "model.add(Dense(1,activation = 'sigmoid'))"
   ]
  },
  {
   "cell_type": "code",
   "execution_count": 48,
   "metadata": {},
   "outputs": [
    {
     "name": "stdout",
     "output_type": "stream",
     "text": [
      "Model: \"sequential_2\"\n",
      "_________________________________________________________________\n",
      "Layer (type)                 Output Shape              Param #   \n",
      "=================================================================\n",
      "dense_6 (Dense)              (None, 64)                105536    \n",
      "_________________________________________________________________\n",
      "dense_7 (Dense)              (None, 64)                4160      \n",
      "_________________________________________________________________\n",
      "flatten (Flatten)            (None, 64)                0         \n",
      "_________________________________________________________________\n",
      "dense_8 (Dense)              (None, 1)                 65        \n",
      "=================================================================\n",
      "Total params: 109,761\n",
      "Trainable params: 109,761\n",
      "Non-trainable params: 0\n",
      "_________________________________________________________________\n"
     ]
    }
   ],
   "source": [
    "model.summary()"
   ]
  },
  {
   "cell_type": "code",
   "execution_count": 49,
   "metadata": {},
   "outputs": [],
   "source": [
    "model.compile(optimizer = 'adam', loss = 'binary_crossentropy', metrics = [f1_m,'accuracy'] )"
   ]
  },
  {
   "cell_type": "code",
   "execution_count": 50,
   "metadata": {},
   "outputs": [],
   "source": [
    "csv_logger = CSVLogger('model_complex_regularization_flatten.log', separator=',', append=False)"
   ]
  },
  {
   "cell_type": "code",
   "execution_count": 51,
   "metadata": {},
   "outputs": [
    {
     "name": "stdout",
     "output_type": "stream",
     "text": [
      "Train on 145650 samples, validate on 43695 samples\n",
      "Epoch 1/30\n",
      "145650/145650 [==============================] - 5s 34us/sample - loss: 0.5202 - f1_m: 0.8741 - accuracy: 0.8275 - val_loss: 0.4216 - val_f1_m: 0.8834 - val_accuracy: 0.8443\n",
      "Epoch 2/30\n",
      "145650/145650 [==============================] - 4s 29us/sample - loss: 0.4134 - f1_m: 0.8859 - accuracy: 0.8457 - val_loss: 0.4059 - val_f1_m: 0.8856 - val_accuracy: 0.8442\n",
      "Epoch 3/30\n",
      "145650/145650 [==============================] - 4s 29us/sample - loss: 0.3999 - f1_m: 0.8885 - accuracy: 0.8495 - val_loss: 0.3985 - val_f1_m: 0.8862 - val_accuracy: 0.8480\n",
      "Epoch 4/30\n",
      "145650/145650 [==============================] - 5s 34us/sample - loss: 0.3916 - f1_m: 0.8892 - accuracy: 0.8507 - val_loss: 0.3938 - val_f1_m: 0.8893 - val_accuracy: 0.8497\n",
      "Epoch 5/30\n",
      "145650/145650 [==============================] - 6s 42us/sample - loss: 0.3846 - f1_m: 0.8907 - accuracy: 0.8530 - val_loss: 0.3928 - val_f1_m: 0.8851 - val_accuracy: 0.8496\n",
      "Epoch 6/30\n",
      "145650/145650 [==============================] - 5s 31us/sample - loss: 0.3806 - f1_m: 0.8910 - accuracy: 0.8537 - val_loss: 0.3878 - val_f1_m: 0.8889 - val_accuracy: 0.8485\n",
      "Epoch 7/30\n",
      "145650/145650 [==============================] - 4s 29us/sample - loss: 0.3766 - f1_m: 0.8920 - accuracy: 0.8551 - val_loss: 0.3847 - val_f1_m: 0.8869 - val_accuracy: 0.8515\n",
      "Epoch 8/30\n",
      "145650/145650 [==============================] - 4s 30us/sample - loss: 0.3735 - f1_m: 0.8922 - accuracy: 0.8555 - val_loss: 0.3822 - val_f1_m: 0.8878 - val_accuracy: 0.8518\n",
      "Epoch 9/30\n",
      "145650/145650 [==============================] - 5s 36us/sample - loss: 0.3722 - f1_m: 0.8924 - accuracy: 0.8560 - val_loss: 0.3781 - val_f1_m: 0.8885 - val_accuracy: 0.8510\n",
      "Epoch 10/30\n",
      "145650/145650 [==============================] - 7s 48us/sample - loss: 0.3697 - f1_m: 0.8927 - accuracy: 0.8563 - val_loss: 0.3765 - val_f1_m: 0.8887 - val_accuracy: 0.8509\n",
      "Epoch 11/30\n",
      "145650/145650 [==============================] - 4s 30us/sample - loss: 0.3685 - f1_m: 0.8922 - accuracy: 0.8559 - val_loss: 0.3767 - val_f1_m: 0.8881 - val_accuracy: 0.8515\n",
      "Epoch 12/30\n",
      "145650/145650 [==============================] - 4s 30us/sample - loss: 0.3673 - f1_m: 0.8926 - accuracy: 0.8564 - val_loss: 0.3765 - val_f1_m: 0.8889 - val_accuracy: 0.8498\n",
      "Epoch 13/30\n",
      "145650/145650 [==============================] - 5s 37us/sample - loss: 0.3653 - f1_m: 0.8928 - accuracy: 0.8565 - val_loss: 0.3763 - val_f1_m: 0.8888 - val_accuracy: 0.8487\n",
      "Epoch 14/30\n",
      "145650/145650 [==============================] - 10s 66us/sample - loss: 0.3649 - f1_m: 0.8931 - accuracy: 0.8570 - val_loss: 0.3731 - val_f1_m: 0.8875 - val_accuracy: 0.8507\n",
      "Epoch 15/30\n",
      "145650/145650 [==============================] - 5s 31us/sample - loss: 0.3634 - f1_m: 0.8933 - accuracy: 0.8572 - val_loss: 0.3757 - val_f1_m: 0.8864 - val_accuracy: 0.8500\n",
      "Epoch 16/30\n",
      "145650/145650 [==============================] - 4s 29us/sample - loss: 0.3630 - f1_m: 0.8929 - accuracy: 0.8567 - val_loss: 0.3713 - val_f1_m: 0.8875 - val_accuracy: 0.8510\n",
      "Epoch 17/30\n",
      "145650/145650 [==============================] - 4s 29us/sample - loss: 0.3621 - f1_m: 0.8928 - accuracy: 0.8568 - val_loss: 0.3732 - val_f1_m: 0.8901 - val_accuracy: 0.8523\n",
      "Epoch 18/30\n",
      "145650/145650 [==============================] - 5s 36us/sample - loss: 0.3607 - f1_m: 0.8936 - accuracy: 0.8577 - val_loss: 0.3720 - val_f1_m: 0.8894 - val_accuracy: 0.8514\n",
      "Epoch 19/30\n",
      "145650/145650 [==============================] - 7s 48us/sample - loss: 0.3606 - f1_m: 0.8935 - accuracy: 0.8576 - val_loss: 0.3719 - val_f1_m: 0.8861 - val_accuracy: 0.8495\n",
      "Epoch 20/30\n",
      "145650/145650 [==============================] - 4s 30us/sample - loss: 0.3602 - f1_m: 0.8933 - accuracy: 0.8574 - val_loss: 0.3691 - val_f1_m: 0.8897 - val_accuracy: 0.8531\n",
      "Epoch 21/30\n",
      "145650/145650 [==============================] - 5s 31us/sample - loss: 0.3602 - f1_m: 0.8933 - accuracy: 0.8575 - val_loss: 0.3694 - val_f1_m: 0.8888 - val_accuracy: 0.8507\n",
      "Epoch 22/30\n",
      "145650/145650 [==============================] - 4s 30us/sample - loss: 0.3594 - f1_m: 0.8936 - accuracy: 0.8578 - val_loss: 0.3720 - val_f1_m: 0.8873 - val_accuracy: 0.8517\n",
      "Epoch 23/30\n",
      "145650/145650 [==============================] - 6s 41us/sample - loss: 0.3597 - f1_m: 0.8934 - accuracy: 0.8575 - val_loss: 0.3690 - val_f1_m: 0.8878 - val_accuracy: 0.8499\n",
      "Epoch 24/30\n",
      "145650/145650 [==============================] - 6s 42us/sample - loss: 0.3592 - f1_m: 0.8929 - accuracy: 0.8571 - val_loss: 0.3704 - val_f1_m: 0.8898 - val_accuracy: 0.8502\n",
      "Epoch 25/30\n",
      "145650/145650 [==============================] - 4s 29us/sample - loss: 0.3580 - f1_m: 0.8931 - accuracy: 0.8572 - val_loss: 0.3723 - val_f1_m: 0.8892 - val_accuracy: 0.8502\n",
      "Epoch 26/30\n",
      "145650/145650 [==============================] - 4s 30us/sample - loss: 0.3582 - f1_m: 0.8937 - accuracy: 0.8580 - val_loss: 0.3713 - val_f1_m: 0.8885 - val_accuracy: 0.8512\n",
      "Epoch 27/30\n",
      "145650/145650 [==============================] - 5s 33us/sample - loss: 0.3576 - f1_m: 0.8941 - accuracy: 0.8584 - val_loss: 0.3691 - val_f1_m: 0.8876 - val_accuracy: 0.8510\n",
      "Epoch 28/30\n",
      "145650/145650 [==============================] - 8s 55us/sample - loss: 0.3573 - f1_m: 0.8935 - accuracy: 0.8577 - val_loss: 0.3692 - val_f1_m: 0.8873 - val_accuracy: 0.8511\n",
      "Epoch 29/30\n",
      "145650/145650 [==============================] - 4s 31us/sample - loss: 0.3568 - f1_m: 0.8936 - accuracy: 0.8581 - val_loss: 0.3676 - val_f1_m: 0.8889 - val_accuracy: 0.8510\n",
      "Epoch 30/30\n",
      "145650/145650 [==============================] - 4s 29us/sample - loss: 0.3576 - f1_m: 0.8935 - accuracy: 0.8577 - val_loss: 0.3678 - val_f1_m: 0.8898 - val_accuracy: 0.8519\n"
     ]
    }
   ],
   "source": [
    "history = model.fit(X_train,\n",
    "                    y_train,\n",
    "                    epochs = 30,\n",
    "                    batch_size = 200,\n",
    "                    validation_data = (X_val, y_val),\n",
    "                    callbacks=[csv_logger])"
   ]
  },
  {
   "cell_type": "code",
   "execution_count": 52,
   "metadata": {},
   "outputs": [],
   "source": [
    "#Saving the model:\n",
    "model.save('model_complex_regularization_flatten.h5')"
   ]
  },
  {
   "cell_type": "markdown",
   "metadata": {},
   "source": [
    "- Plot of the three parameters evaluated in the model:"
   ]
  },
  {
   "cell_type": "code",
   "execution_count": 53,
   "metadata": {},
   "outputs": [
    {
     "data": {
      "text/plain": [
       "<matplotlib.legend.Legend at 0x149b12cfb48>"
      ]
     },
     "execution_count": 53,
     "metadata": {},
     "output_type": "execute_result"
    },
    {
     "data": {
      "image/png": "[encoded data removed]",
      "text/plain": [
       "<Figure size 432x288 with 1 Axes>"
      ]
     },
     "metadata": {
      "needs_background": "light"
     },
     "output_type": "display_data"
    }
   ],
   "source": [
    "history_dict = history.history\n",
    "loss_values = history_dict['loss']\n",
    "val_loss_values = history_dict['val_loss']\n",
    "\n",
    "epochs = range(1, len(loss_values) + 1)\n",
    "\n",
    "plt.plot(epochs, loss_values, 'bo', label = 'Training Loss')\n",
    "plt.plot(epochs, val_loss_values, 'b', label = 'Validation Loss')\n",
    "plt.title('Training and Validation Loss')\n",
    "plt.xlabel('Epochs')\n",
    "plt.ylabel('Loss')\n",
    "plt.legend()"
   ]
  },
  {
   "cell_type": "code",
   "execution_count": 54,
   "metadata": {},
   "outputs": [
    {
     "data": {
      "text/plain": [
       "<matplotlib.legend.Legend at 0x149e54bcf88>"
      ]
     },
     "execution_count": 54,
     "metadata": {},
     "output_type": "execute_result"
    },
    {
     "data": {
      "image/png": "[encoded data removed]",
      "text/plain": [
       "<Figure size 432x288 with 1 Axes>"
      ]
     },
     "metadata": {
      "needs_background": "light"
     },
     "output_type": "display_data"
    }
   ],
   "source": [
    "history_dict = history.history\n",
    "accuracy_values = history_dict['accuracy']\n",
    "val_accuracy_values = history_dict['val_accuracy']\n",
    "\n",
    "epochs = range(1, len(accuracy_values) + 1)\n",
    "\n",
    "plt.plot(epochs, accuracy_values, 'bo', label = 'Training Accuracy')\n",
    "plt.plot(epochs, val_accuracy_values, 'b', label = 'Validation Accuracy')\n",
    "plt.title('Training and Validation Accuracy')\n",
    "plt.xlabel('Epochs')\n",
    "plt.ylabel('Accuracy')\n",
    "plt.legend()"
   ]
  },
  {
   "cell_type": "code",
   "execution_count": 55,
   "metadata": {},
   "outputs": [
    {
     "data": {
      "text/plain": [
       "<matplotlib.legend.Legend at 0x14801fecc48>"
      ]
     },
     "execution_count": 55,
     "metadata": {},
     "output_type": "execute_result"
    },
    {
     "data": {
      "image/png": "[encoded data removed]",
      "text/plain": [
       "<Figure size 432x288 with 1 Axes>"
      ]
     },
     "metadata": {
      "needs_background": "light"
     },
     "output_type": "display_data"
    }
   ],
   "source": [
    "history_dict = history.history\n",
    "accuracy_values = history_dict['f1_m']\n",
    "val_accuracy_values = history_dict['val_f1_m']\n",
    "\n",
    "epochs = range(1, len(accuracy_values) + 1)\n",
    "\n",
    "plt.plot(epochs, accuracy_values, 'bo', label = 'Training f1_m')\n",
    "plt.plot(epochs, val_accuracy_values, 'b', label = 'Validation f1_m')\n",
    "plt.title('Training and Validation f1')\n",
    "plt.xlabel('Epochs')\n",
    "plt.ylabel('f1')\n",
    "plt.legend()"
   ]
  },
  {
   "cell_type": "markdown",
   "metadata": {},
   "source": [
    "- Evaluating the model with the test set:"
   ]
  },
  {
   "cell_type": "code",
   "execution_count": 56,
   "metadata": {},
   "outputs": [
    {
     "name": "stdout",
     "output_type": "stream",
     "text": [
      "18727/18727 [==============================] - 1s 45us/sample - loss: 0.3618 - f1_m: 0.8914 - accuracy: 0.8563\n"
     ]
    }
   ],
   "source": [
    "results = model.evaluate(X_test , y_test)"
   ]
  },
  {
   "cell_type": "code",
   "execution_count": 57,
   "metadata": {
    "scrolled": true
   },
   "outputs": [
    {
     "name": "stdout",
     "output_type": "stream",
     "text": [
      "The loss is:  0.36177264321572555\n",
      "The f1_score is:  0.89143825\n",
      "The accuracy is:  0.85630375\n"
     ]
    }
   ],
   "source": [
    "print('The loss is: ', results[0])\n",
    "print('The f1_score is: ', results[1])\n",
    "print('The accuracy is: ', results[2])"
   ]
  },
  {
   "cell_type": "markdown",
   "metadata": {},
   "source": [
    "                         ##### The model don't improve the best result. The Flatten layers doesn't\n",
    "                                                     improve the results. ##### "
   ]
  },
  {
   "cell_type": "markdown",
   "metadata": {},
   "source": [
    "# 8) BEST MODEL PERFORMANCE"
   ]
  },
  {
   "cell_type": "markdown",
   "metadata": {},
   "source": [
    "- The best model is the one that use:\n",
    "    - (1,3) N-Gram configuration\n",
    "    - Regularization parameter equal to 0.005.\n",
    "    - 2 layers with 32 elements + 1 with sigmoid activation."
   ]
  },
  {
   "cell_type": "markdown",
   "metadata": {},
   "source": [
    "### 8.1) Loading the data:"
   ]
  },
  {
   "cell_type": "code",
   "execution_count": 3,
   "metadata": {},
   "outputs": [],
   "source": [
    "data_reviews = pd.read_csv('Data_Processed.csv')"
   ]
  },
  {
   "cell_type": "code",
   "execution_count": 4,
   "metadata": {},
   "outputs": [
    {
     "data": {
      "text/plain": [
       "language\n",
       "en    297246\n",
       "da     13821\n",
       "so     11103\n",
       "no      8531\n",
       "af      7667\n",
       "Name: recommendation, dtype: int64"
      ]
     },
     "execution_count": 4,
     "metadata": {},
     "output_type": "execute_result"
    }
   ],
   "source": [
    "data_reviews.groupby('language').count().sort_values(['recommendation'], ascending=False)['recommendation'].head(5)"
   ]
  },
  {
   "cell_type": "code",
   "execution_count": 5,
   "metadata": {},
   "outputs": [],
   "source": [
    "data_reviewsEN = data_reviews[data_reviews['language'] == 'en']"
   ]
  },
  {
   "cell_type": "code",
   "execution_count": 6,
   "metadata": {},
   "outputs": [
    {
     "data": {
      "text/plain": [
       "(297246, 11)"
      ]
     },
     "execution_count": 6,
     "metadata": {},
     "output_type": "execute_result"
    }
   ],
   "source": [
    "data_reviewsEN.shape"
   ]
  },
  {
   "cell_type": "code",
   "execution_count": 7,
   "metadata": {},
   "outputs": [
    {
     "data": {
      "text/html": [
       "<div>\n",
       "<style scoped>\n",
       "    .dataframe tbody tr th:only-of-type {\n",
       "        vertical-align: middle;\n",
       "    }\n",
       "\n",
       "    .dataframe tbody tr th {\n",
       "        vertical-align: top;\n",
       "    }\n",
       "\n",
       "    .dataframe thead th {\n",
       "        text-align: right;\n",
       "    }\n",
       "</style>\n",
       "<table border=\"1\" class=\"dataframe\">\n",
       "  <thead>\n",
       "    <tr style=\"text-align: right;\">\n",
       "      <th></th>\n",
       "      <th>date_posted</th>\n",
       "      <th>funny</th>\n",
       "      <th>helpful</th>\n",
       "      <th>hour_played</th>\n",
       "      <th>is_early_access_review</th>\n",
       "      <th>recommendation</th>\n",
       "      <th>review</th>\n",
       "      <th>title</th>\n",
       "      <th>length_review</th>\n",
       "      <th>language</th>\n",
       "      <th>Label</th>\n",
       "    </tr>\n",
       "  </thead>\n",
       "  <tbody>\n",
       "    <tr>\n",
       "      <th>1</th>\n",
       "      <td>2019-02-07</td>\n",
       "      <td>0</td>\n",
       "      <td>0</td>\n",
       "      <td>892</td>\n",
       "      <td>False</td>\n",
       "      <td>Recommended</td>\n",
       "      <td>good game although bit overpriced opinion pref...</td>\n",
       "      <td>Expansion - Hearts of Iron IV: Man the Guns</td>\n",
       "      <td>17</td>\n",
       "      <td>en</td>\n",
       "      <td>1.0</td>\n",
       "    </tr>\n",
       "    <tr>\n",
       "      <th>2</th>\n",
       "      <td>2018-06-14</td>\n",
       "      <td>126</td>\n",
       "      <td>1086</td>\n",
       "      <td>676</td>\n",
       "      <td>False</td>\n",
       "      <td>Recommended</td>\n",
       "      <td>review wrote one probably serious one wrote st...</td>\n",
       "      <td>Dead by Daylight</td>\n",
       "      <td>191</td>\n",
       "      <td>en</td>\n",
       "      <td>1.0</td>\n",
       "    </tr>\n",
       "    <tr>\n",
       "      <th>3</th>\n",
       "      <td>2017-06-20</td>\n",
       "      <td>85</td>\n",
       "      <td>2139</td>\n",
       "      <td>612</td>\n",
       "      <td>False</td>\n",
       "      <td>Recommended</td>\n",
       "      <td>disclaimer survivor main play game fun competi...</td>\n",
       "      <td>Dead by Daylight</td>\n",
       "      <td>132</td>\n",
       "      <td>en</td>\n",
       "      <td>1.0</td>\n",
       "    </tr>\n",
       "    <tr>\n",
       "      <th>5</th>\n",
       "      <td>2017-09-17</td>\n",
       "      <td>12</td>\n",
       "      <td>228</td>\n",
       "      <td>48</td>\n",
       "      <td>False</td>\n",
       "      <td>Recommended</td>\n",
       "      <td>review wrote one probably serious one wrote st...</td>\n",
       "      <td>Dead by Daylight</td>\n",
       "      <td>191</td>\n",
       "      <td>en</td>\n",
       "      <td>1.0</td>\n",
       "    </tr>\n",
       "    <tr>\n",
       "      <th>7</th>\n",
       "      <td>2018-09-21</td>\n",
       "      <td>2</td>\n",
       "      <td>54</td>\n",
       "      <td>400</td>\n",
       "      <td>False</td>\n",
       "      <td>Recommended</td>\n",
       "      <td>longtime dead daylight player know horror game...</td>\n",
       "      <td>Dead by Daylight</td>\n",
       "      <td>164</td>\n",
       "      <td>en</td>\n",
       "      <td>1.0</td>\n",
       "    </tr>\n",
       "  </tbody>\n",
       "</table>\n",
       "</div>"
      ],
      "text/plain": [
       "  date_posted  funny  helpful  hour_played  is_early_access_review  \\\n",
       "1  2019-02-07      0        0          892                   False   \n",
       "2  2018-06-14    126     1086          676                   False   \n",
       "3  2017-06-20     85     2139          612                   False   \n",
       "5  2017-09-17     12      228           48                   False   \n",
       "7  2018-09-21      2       54          400                   False   \n",
       "\n",
       "  recommendation                                             review  \\\n",
       "1    Recommended  good game although bit overpriced opinion pref...   \n",
       "2    Recommended  review wrote one probably serious one wrote st...   \n",
       "3    Recommended  disclaimer survivor main play game fun competi...   \n",
       "5    Recommended  review wrote one probably serious one wrote st...   \n",
       "7    Recommended  longtime dead daylight player know horror game...   \n",
       "\n",
       "                                         title  length_review language  Label  \n",
       "1  Expansion - Hearts of Iron IV: Man the Guns             17       en    1.0  \n",
       "2                             Dead by Daylight            191       en    1.0  \n",
       "3                             Dead by Daylight            132       en    1.0  \n",
       "5                             Dead by Daylight            191       en    1.0  \n",
       "7                             Dead by Daylight            164       en    1.0  "
      ]
     },
     "execution_count": 7,
     "metadata": {},
     "output_type": "execute_result"
    }
   ],
   "source": [
    "data_reviewsEN.head()"
   ]
  },
  {
   "cell_type": "code",
   "execution_count": 8,
   "metadata": {},
   "outputs": [
    {
     "data": {
      "text/plain": [
       "recommendation\n",
       "Not Recommended    121306\n",
       "Recommended        268346\n",
       "Name: Label, dtype: int64"
      ]
     },
     "execution_count": 8,
     "metadata": {},
     "output_type": "execute_result"
    }
   ],
   "source": [
    "data_reviews.groupby('recommendation').count()['Label']"
   ]
  },
  {
   "cell_type": "markdown",
   "metadata": {},
   "source": [
    "### 8.2) Preparing the training, validation and test set:"
   ]
  },
  {
   "cell_type": "code",
   "execution_count": 64,
   "metadata": {},
   "outputs": [],
   "source": [
    "English_reviews = data_reviewsEN.sample(frac=0.7, random_state=1)"
   ]
  },
  {
   "cell_type": "markdown",
   "metadata": {},
   "source": [
    "- Creating vectors with n-grams between 1 and 3 words:"
   ]
  },
  {
   "cell_type": "code",
   "execution_count": 65,
   "metadata": {},
   "outputs": [],
   "source": [
    "vectorizer = CountVectorizer(max_df = 0.9, min_df=0.003, max_features= 2500, binary= False, ngram_range=(1, 3))"
   ]
  },
  {
   "cell_type": "code",
   "execution_count": 66,
   "metadata": {},
   "outputs": [],
   "source": [
    "train = vectorizer.fit_transform(English_reviews['review'])"
   ]
  },
  {
   "cell_type": "code",
   "execution_count": 67,
   "metadata": {},
   "outputs": [],
   "source": [
    "target = English_reviews['Label']"
   ]
  },
  {
   "cell_type": "code",
   "execution_count": 68,
   "metadata": {},
   "outputs": [
    {
     "data": {
      "text/plain": [
       "341269    1.0\n",
       "338420    0.0\n",
       "280475    1.0\n",
       "210089    1.0\n",
       "73039     1.0\n",
       "         ... \n",
       "204180    0.0\n",
       "81900     1.0\n",
       "195257    0.0\n",
       "60691     0.0\n",
       "148883    1.0\n",
       "Name: Label, Length: 208072, dtype: float64"
      ]
     },
     "execution_count": 68,
     "metadata": {},
     "output_type": "execute_result"
    }
   ],
   "source": [
    "target"
   ]
  },
  {
   "cell_type": "code",
   "execution_count": 69,
   "metadata": {},
   "outputs": [],
   "source": [
    "train = train.toarray()"
   ]
  },
  {
   "cell_type": "code",
   "execution_count": 70,
   "metadata": {},
   "outputs": [
    {
     "data": {
      "text/plain": [
       "array([[0, 0, 0, ..., 0, 0, 0],\n",
       "       [0, 0, 0, ..., 0, 0, 0],\n",
       "       [0, 0, 0, ..., 0, 0, 0],\n",
       "       ...,\n",
       "       [0, 0, 0, ..., 0, 0, 0],\n",
       "       [0, 0, 0, ..., 0, 0, 0],\n",
       "       [0, 0, 0, ..., 0, 0, 0]], dtype=int64)"
      ]
     },
     "execution_count": 70,
     "metadata": {},
     "output_type": "execute_result"
    }
   ],
   "source": [
    "train"
   ]
  },
  {
   "cell_type": "markdown",
   "metadata": {},
   "source": [
    "- Spitting the data:"
   ]
  },
  {
   "cell_type": "code",
   "execution_count": 71,
   "metadata": {},
   "outputs": [],
   "source": [
    "X_train, x_val_test, y_train, y_val_test = train_test_split(train, target,\n",
    "                                                    test_size = 0.3,\n",
    "                                                    random_state = 500\n",
    "                                                    ,stratify = target)"
   ]
  },
  {
   "cell_type": "code",
   "execution_count": 72,
   "metadata": {},
   "outputs": [],
   "source": [
    "X_val, X_test, y_val, y_test = train_test_split(x_val_test, y_val_test,\n",
    "                                                    test_size = 0.3,\n",
    "                                                    random_state = 200\n",
    "                                                    ,stratify = y_val_test)"
   ]
  },
  {
   "cell_type": "markdown",
   "metadata": {},
   "source": [
    "### 8.3) Loading the model and the callback:"
   ]
  },
  {
   "cell_type": "code",
   "execution_count": 73,
   "metadata": {},
   "outputs": [],
   "source": [
    "model = load_model('model_complex_regularization.h5',custom_objects= {'f1_m': f1_m})"
   ]
  },
  {
   "cell_type": "code",
   "execution_count": 74,
   "metadata": {},
   "outputs": [],
   "source": [
    "history = pd.read_csv('model_complex_regularization.log', sep=',', engine='python')"
   ]
  },
  {
   "cell_type": "markdown",
   "metadata": {},
   "source": [
    "- Plot of the three parameters evaluated in the model:"
   ]
  },
  {
   "cell_type": "code",
   "execution_count": 75,
   "metadata": {},
   "outputs": [
    {
     "data": {
      "text/plain": [
       "<matplotlib.legend.Legend at 0x1499438adc8>"
      ]
     },
     "execution_count": 75,
     "metadata": {},
     "output_type": "execute_result"
    },
    {
     "data": {
      "image/png": "[encoded data removed]",
      "text/plain": [
       "<Figure size 432x288 with 1 Axes>"
      ]
     },
     "metadata": {
      "needs_background": "light"
     },
     "output_type": "display_data"
    }
   ],
   "source": [
    "history_dict = history\n",
    "loss_values = history_dict['loss']\n",
    "val_loss_values = history_dict['val_loss']\n",
    "\n",
    "epochs = range(1, len(loss_values) + 1)\n",
    "\n",
    "plt.plot(epochs, loss_values, 'bo', label = 'Training Loss')\n",
    "plt.plot(epochs, val_loss_values, 'b', label = 'Validation Loss')\n",
    "plt.title('Training and Validation Loss')\n",
    "plt.xlabel('Epochs')\n",
    "plt.ylabel('Loss')\n",
    "plt.legend()"
   ]
  },
  {
   "cell_type": "code",
   "execution_count": 76,
   "metadata": {},
   "outputs": [
    {
     "data": {
      "text/plain": [
       "<matplotlib.legend.Legend at 0x14991fe0fc8>"
      ]
     },
     "execution_count": 76,
     "metadata": {},
     "output_type": "execute_result"
    },
    {
     "data": {
      "image/png": "[encoded data removed]",
      "text/plain": [
       "<Figure size 432x288 with 1 Axes>"
      ]
     },
     "metadata": {
      "needs_background": "light"
     },
     "output_type": "display_data"
    }
   ],
   "source": [
    "history_dict = history\n",
    "accuracy_values = history_dict['accuracy']\n",
    "val_accuracy_values = history_dict['val_accuracy']\n",
    "\n",
    "epochs = range(1, len(accuracy_values) + 1)\n",
    "\n",
    "plt.plot(epochs, accuracy_values, 'bo', label = 'Training Accuracy')\n",
    "plt.plot(epochs, val_accuracy_values, 'b', label = 'Validation Accuracy')\n",
    "plt.title('Training and Validation Accuracy')\n",
    "plt.xlabel('Epochs')\n",
    "plt.ylabel('Accuracy')\n",
    "plt.legend()"
   ]
  },
  {
   "cell_type": "code",
   "execution_count": 77,
   "metadata": {},
   "outputs": [
    {
     "data": {
      "text/plain": [
       "<matplotlib.legend.Legend at 0x1498c827c08>"
      ]
     },
     "execution_count": 77,
     "metadata": {},
     "output_type": "execute_result"
    },
    {
     "data": {
      "image/png": "[encoded data removed]",
      "text/plain": [
       "<Figure size 432x288 with 1 Axes>"
      ]
     },
     "metadata": {
      "needs_background": "light"
     },
     "output_type": "display_data"
    }
   ],
   "source": [
    "history_dict = history\n",
    "accuracy_values = history_dict['f1_m']\n",
    "val_accuracy_values = history_dict['val_f1_m']\n",
    "\n",
    "epochs = range(1, len(accuracy_values) + 1)\n",
    "\n",
    "plt.plot(epochs, accuracy_values, 'bo', label = 'Training f1_m')\n",
    "plt.plot(epochs, val_accuracy_values, 'b', label = 'Validation f1_m')\n",
    "plt.title('Training and Validation f1')\n",
    "plt.xlabel('Epochs')\n",
    "plt.ylabel('f1')\n",
    "plt.legend()"
   ]
  },
  {
   "cell_type": "markdown",
   "metadata": {},
   "source": [
    "- Evaluating the model with the test set:"
   ]
  },
  {
   "cell_type": "code",
   "execution_count": 78,
   "metadata": {},
   "outputs": [
    {
     "name": "stdout",
     "output_type": "stream",
     "text": [
      "18727/18727 [==============================] - 1s 47us/sample - loss: 0.3587 - f1_m: 0.8925 - accuracy: 0.8569\n"
     ]
    }
   ],
   "source": [
    "results = model.evaluate(X_test , y_test)"
   ]
  },
  {
   "cell_type": "code",
   "execution_count": 79,
   "metadata": {
    "scrolled": true
   },
   "outputs": [
    {
     "name": "stdout",
     "output_type": "stream",
     "text": [
      "The loss is:  0.3587223973005665\n",
      "The f1_score is:  0.89248043\n",
      "The accuracy is:  0.8569445\n"
     ]
    }
   ],
   "source": [
    "print('The loss is: ', results[0])\n",
    "print('The f1_score is: ', results[1])\n",
    "print('The accuracy is: ', results[2])"
   ]
  },
  {
   "cell_type": "markdown",
   "metadata": {},
   "source": [
    "### 8.4) Confusion Matrix"
   ]
  },
  {
   "cell_type": "code",
   "execution_count": 80,
   "metadata": {},
   "outputs": [],
   "source": [
    "predictions = model.predict(X_test)"
   ]
  },
  {
   "cell_type": "code",
   "execution_count": 81,
   "metadata": {},
   "outputs": [],
   "source": [
    "# round predictions \n",
    "predictions = [round(x[0]) for x in predictions]"
   ]
  },
  {
   "cell_type": "code",
   "execution_count": 82,
   "metadata": {},
   "outputs": [],
   "source": [
    "true_classes = y_test"
   ]
  },
  {
   "cell_type": "code",
   "execution_count": 86,
   "metadata": {},
   "outputs": [],
   "source": [
    "import matplotlib.pyplot as plt\n",
    "\n",
    "def plot_cm(confusion_matrix : np.array, \n",
    "            classnames : list):\n",
    "    \"\"\"\n",
    "    Function that creates a confusion matrix plot using the Wikipedia convention for the axis. \n",
    "    :param confusion_matrix: confusion matrix that will be plotted\n",
    "    :param classnames: labels of the classes\n",
    "    \n",
    "    Returns:\n",
    "        - Plot of the Confusion Matrix\n",
    "    \"\"\"\n",
    "    \n",
    "    confusionmatrix = confusion_matrix\n",
    "    class_names = classnames             \n",
    "\n",
    "    fig, ax = plt.subplots()\n",
    "    im = plt.imshow(confusionmatrix, cmap=plt.cm.cividis)\n",
    "    plt.colorbar()\n",
    "\n",
    "    # We want to show all ticks...\n",
    "    ax.set_xticks(np.arange(len(class_names)))\n",
    "    ax.set_yticks(np.arange(len(class_names)))\n",
    "    # ... and label them with the respective list entries\n",
    "    ax.set_xticklabels(class_names)\n",
    "    ax.set_yticklabels(class_names)\n",
    "\n",
    "    # Rotate the tick labels and set their alignment.\n",
    "    plt.setp(ax.get_xticklabels(), rotation=45, ha=\"right\",\n",
    "             rotation_mode=\"anchor\")\n",
    "\n",
    "    # Loop over data dimensions and create text annotations.\n",
    "    for i in range(len(class_names)):\n",
    "        for j in range(len(class_names)):\n",
    "            text = ax.text(j, i, confusionmatrix[i, j],\n",
    "                           ha=\"center\", va=\"center\", color=\"w\",fontdict = {'size': 18})\n",
    "\n",
    "    ax.set_title(\"Confusion Matrix\")\n",
    "    plt.xlabel('Targets')\n",
    "    plt.ylabel('Predictions')\n",
    "    plt.ylim(top=len(class_names)-0.5)  # adjust the top leaving bottom unchanged\n",
    "    plt.ylim(bottom=-0.5)  # adjust the bottom leaving top unchanged\n",
    "    fig.set_size_inches(18.5, 10.5)\n",
    "    return plt.show()"
   ]
  },
  {
   "cell_type": "code",
   "execution_count": 87,
   "metadata": {
    "scrolled": true
   },
   "outputs": [
    {
     "name": "stderr",
     "output_type": "stream",
     "text": [
      "D:\\Programs_Inst\\Anaconda\\envs\\Deep Learning\\lib\\site-packages\\ipykernel_launcher.py:41: UserWarning: Attempting to set identical bottom == top == 1.5 results in singular transformations; automatically expanding.\n"
     ]
    },
    {
     "data": {
      "image/png": "[encoded data removed]",
      "text/plain": [
       "<Figure size 1332x756 with 2 Axes>"
      ]
     },
     "metadata": {
      "needs_background": "light"
     },
     "output_type": "display_data"
    }
   ],
   "source": [
    "from sklearn.metrics import confusion_matrix\n",
    "\n",
    "confusion_matrix(predictions, true_classes)\n",
    "plot_cm(confusion_matrix(predictions, true_classes), ['Not Recommended','Recommended'])"
   ]
  },
  {
   "cell_type": "markdown",
   "metadata": {},
   "source": [
    "# 9) Embeddings"
   ]
  },
  {
   "cell_type": "code",
   "execution_count": 9,
   "metadata": {},
   "outputs": [
    {
     "name": "stderr",
     "output_type": "stream",
     "text": [
      "[nltk_data] Downloading package punkt to\n",
      "[nltk_data]     C:\\Users\\vgonz\\AppData\\Roaming\\nltk_data...\n",
      "[nltk_data]   Package punkt is already up-to-date!\n"
     ]
    },
    {
     "data": {
      "text/plain": [
       "True"
      ]
     },
     "execution_count": 9,
     "metadata": {},
     "output_type": "execute_result"
    }
   ],
   "source": [
    "from numpy import array\n",
    "from keras.preprocessing.text import one_hot\n",
    "from keras.preprocessing.sequence import pad_sequences\n",
    "from keras.models import Sequential\n",
    "from keras.layers import Dense\n",
    "from keras.layers import Flatten\n",
    "from keras.layers.embeddings import Embedding\n",
    "nltk.download('punkt')"
   ]
  },
  {
   "cell_type": "code",
   "execution_count": 10,
   "metadata": {},
   "outputs": [
    {
     "data": {
      "text/html": [
       "<div>\n",
       "<style scoped>\n",
       "    .dataframe tbody tr th:only-of-type {\n",
       "        vertical-align: middle;\n",
       "    }\n",
       "\n",
       "    .dataframe tbody tr th {\n",
       "        vertical-align: top;\n",
       "    }\n",
       "\n",
       "    .dataframe thead th {\n",
       "        text-align: right;\n",
       "    }\n",
       "</style>\n",
       "<table border=\"1\" class=\"dataframe\">\n",
       "  <thead>\n",
       "    <tr style=\"text-align: right;\">\n",
       "      <th></th>\n",
       "      <th>date_posted</th>\n",
       "      <th>funny</th>\n",
       "      <th>helpful</th>\n",
       "      <th>hour_played</th>\n",
       "      <th>is_early_access_review</th>\n",
       "      <th>recommendation</th>\n",
       "      <th>review</th>\n",
       "      <th>title</th>\n",
       "      <th>length_review</th>\n",
       "      <th>language</th>\n",
       "      <th>Label</th>\n",
       "    </tr>\n",
       "  </thead>\n",
       "  <tbody>\n",
       "    <tr>\n",
       "      <th>0</th>\n",
       "      <td>2019-02-10</td>\n",
       "      <td>2</td>\n",
       "      <td>4</td>\n",
       "      <td>578</td>\n",
       "      <td>False</td>\n",
       "      <td>Recommended</td>\n",
       "      <td>gt played german reich gt declare war belgium ...</td>\n",
       "      <td>Expansion - Hearts of Iron IV: Man the Guns</td>\n",
       "      <td>26</td>\n",
       "      <td>nl</td>\n",
       "      <td>1.0</td>\n",
       "    </tr>\n",
       "    <tr>\n",
       "      <th>1</th>\n",
       "      <td>2019-02-07</td>\n",
       "      <td>0</td>\n",
       "      <td>0</td>\n",
       "      <td>892</td>\n",
       "      <td>False</td>\n",
       "      <td>Recommended</td>\n",
       "      <td>good game although bit overpriced opinion pref...</td>\n",
       "      <td>Expansion - Hearts of Iron IV: Man the Guns</td>\n",
       "      <td>17</td>\n",
       "      <td>en</td>\n",
       "      <td>1.0</td>\n",
       "    </tr>\n",
       "    <tr>\n",
       "      <th>2</th>\n",
       "      <td>2018-06-14</td>\n",
       "      <td>126</td>\n",
       "      <td>1086</td>\n",
       "      <td>676</td>\n",
       "      <td>False</td>\n",
       "      <td>Recommended</td>\n",
       "      <td>review wrote one probably serious one wrote st...</td>\n",
       "      <td>Dead by Daylight</td>\n",
       "      <td>191</td>\n",
       "      <td>en</td>\n",
       "      <td>1.0</td>\n",
       "    </tr>\n",
       "    <tr>\n",
       "      <th>3</th>\n",
       "      <td>2017-06-20</td>\n",
       "      <td>85</td>\n",
       "      <td>2139</td>\n",
       "      <td>612</td>\n",
       "      <td>False</td>\n",
       "      <td>Recommended</td>\n",
       "      <td>disclaimer survivor main play game fun competi...</td>\n",
       "      <td>Dead by Daylight</td>\n",
       "      <td>132</td>\n",
       "      <td>en</td>\n",
       "      <td>1.0</td>\n",
       "    </tr>\n",
       "    <tr>\n",
       "      <th>4</th>\n",
       "      <td>2016-12-12</td>\n",
       "      <td>4</td>\n",
       "      <td>55</td>\n",
       "      <td>2694</td>\n",
       "      <td>False</td>\n",
       "      <td>Recommended</td>\n",
       "      <td>english playing two year given task reviewing ...</td>\n",
       "      <td>Dead by Daylight</td>\n",
       "      <td>567</td>\n",
       "      <td>es</td>\n",
       "      <td>1.0</td>\n",
       "    </tr>\n",
       "  </tbody>\n",
       "</table>\n",
       "</div>"
      ],
      "text/plain": [
       "  date_posted  funny  helpful  hour_played  is_early_access_review  \\\n",
       "0  2019-02-10      2        4          578                   False   \n",
       "1  2019-02-07      0        0          892                   False   \n",
       "2  2018-06-14    126     1086          676                   False   \n",
       "3  2017-06-20     85     2139          612                   False   \n",
       "4  2016-12-12      4       55         2694                   False   \n",
       "\n",
       "  recommendation                                             review  \\\n",
       "0    Recommended  gt played german reich gt declare war belgium ...   \n",
       "1    Recommended  good game although bit overpriced opinion pref...   \n",
       "2    Recommended  review wrote one probably serious one wrote st...   \n",
       "3    Recommended  disclaimer survivor main play game fun competi...   \n",
       "4    Recommended  english playing two year given task reviewing ...   \n",
       "\n",
       "                                         title  length_review language  Label  \n",
       "0  Expansion - Hearts of Iron IV: Man the Guns             26       nl    1.0  \n",
       "1  Expansion - Hearts of Iron IV: Man the Guns             17       en    1.0  \n",
       "2                             Dead by Daylight            191       en    1.0  \n",
       "3                             Dead by Daylight            132       en    1.0  \n",
       "4                             Dead by Daylight            567       es    1.0  "
      ]
     },
     "execution_count": 10,
     "metadata": {},
     "output_type": "execute_result"
    }
   ],
   "source": [
    "data_reviews.head()"
   ]
  },
  {
   "cell_type": "code",
   "execution_count": 11,
   "metadata": {},
   "outputs": [],
   "source": [
    "data = list(data_reviews['review'])\n",
    "target = list(data_reviews['Label'])"
   ]
  },
  {
   "cell_type": "markdown",
   "metadata": {},
   "source": [
    "- The first parameter to the Embedding() layer is the vocabulary (number of unique words in the data):"
   ]
  },
  {
   "cell_type": "code",
   "execution_count": 12,
   "metadata": {},
   "outputs": [],
   "source": [
    "all_words = []\n",
    "for review in data:\n",
    "    tokenize_word = word_tokenize(review)\n",
    "    for word in tokenize_word:\n",
    "        all_words.append(word)"
   ]
  },
  {
   "cell_type": "code",
   "execution_count": 13,
   "metadata": {},
   "outputs": [
    {
     "name": "stdout",
     "output_type": "stream",
     "text": [
      "162613\n"
     ]
    }
   ],
   "source": [
    "unique_words = set(all_words)\n",
    "vocabulary_length = len(unique_words)\n",
    "print(vocabulary_length)"
   ]
  },
  {
   "cell_type": "markdown",
   "metadata": {},
   "source": [
    "- Using the \"one_hot\" function. The function takes sentence and the total length of the vocabulary and returns the sentence in numeric form."
   ]
  },
  {
   "cell_type": "code",
   "execution_count": 14,
   "metadata": {},
   "outputs": [
    {
     "name": "stderr",
     "output_type": "stream",
     "text": [
      "IOPub data rate exceeded.\n",
      "The notebook server will temporarily stop sending output\n",
      "to the client in order to avoid crashing it.\n",
      "To change this limit, set the config variable\n",
      "`--NotebookApp.iopub_data_rate_limit`.\n",
      "\n",
      "Current values:\n",
      "NotebookApp.iopub_data_rate_limit=1000000.0 (bytes/sec)\n",
      "NotebookApp.rate_limit_window=3.0 (secs)\n",
      "\n"
     ]
    }
   ],
   "source": [
    "embedded_reviews = [one_hot(review, vocabulary_length) for review in data]\n",
    "print(embedded_reviews)"
   ]
  },
  {
   "cell_type": "markdown",
   "metadata": {},
   "source": [
    "- Due to the limitation of memory in the computers of the group, the maximum size for the vectors is 2500."
   ]
  },
  {
   "cell_type": "code",
   "execution_count": 17,
   "metadata": {},
   "outputs": [],
   "source": [
    "padded_reviews = pad_sequences(embedded_reviews, 2500, padding='post')"
   ]
  },
  {
   "cell_type": "code",
   "execution_count": 18,
   "metadata": {},
   "outputs": [
    {
     "name": "stdout",
     "output_type": "stream",
     "text": [
      "[[ 56803  76021 104196 ...      0      0      0]\n",
      " [ 70181  59981 153485 ...      0      0      0]\n",
      " [105900 111723   8904 ...      0      0      0]\n",
      " ...\n",
      " [ 93113  36308 118195 ...      0      0      0]\n",
      " [161041 154429 104888 ...      0      0      0]\n",
      " [ 77092 105715  13889 ...      0      0      0]]\n"
     ]
    }
   ],
   "source": [
    "print(padded_reviews)"
   ]
  },
  {
   "cell_type": "markdown",
   "metadata": {},
   "source": [
    "- Splitting:"
   ]
  },
  {
   "cell_type": "code",
   "execution_count": 19,
   "metadata": {},
   "outputs": [],
   "source": [
    "X_train, x_val_test, y_train, y_val_test = train_test_split(padded_reviews, target,\n",
    "                                                    test_size = 0.3,\n",
    "                                                    random_state = 500\n",
    "                                                    ,stratify = target)"
   ]
  },
  {
   "cell_type": "code",
   "execution_count": 20,
   "metadata": {},
   "outputs": [],
   "source": [
    "X_val, X_test, y_val, y_test = train_test_split(x_val_test, y_val_test,\n",
    "                                                    test_size = 0.3,\n",
    "                                                    random_state = 200\n",
    "                                                    ,stratify = y_val_test)"
   ]
  },
  {
   "cell_type": "markdown",
   "metadata": {},
   "source": [
    "- Building the model:"
   ]
  },
  {
   "cell_type": "code",
   "execution_count": 21,
   "metadata": {},
   "outputs": [],
   "source": [
    "model = Sequential()\n",
    "\n",
    "model.add(Embedding(vocabulary_length, 20, input_length=2500))\n",
    "model.add(Flatten())\n",
    "model.add(Dense(1, activation='sigmoid'))"
   ]
  },
  {
   "cell_type": "code",
   "execution_count": 22,
   "metadata": {},
   "outputs": [],
   "source": [
    "model.compile(optimizer='adam', loss='binary_crossentropy', metrics=[f1_m,'acc'])"
   ]
  },
  {
   "cell_type": "code",
   "execution_count": 23,
   "metadata": {},
   "outputs": [
    {
     "name": "stdout",
     "output_type": "stream",
     "text": [
      "Model: \"sequential_1\"\n",
      "_________________________________________________________________\n",
      "Layer (type)                 Output Shape              Param #   \n",
      "=================================================================\n",
      "embedding_1 (Embedding)      (None, 2500, 20)          3252260   \n",
      "_________________________________________________________________\n",
      "flatten_1 (Flatten)          (None, 50000)             0         \n",
      "_________________________________________________________________\n",
      "dense_1 (Dense)              (None, 1)                 50001     \n",
      "=================================================================\n",
      "Total params: 3,302,261\n",
      "Trainable params: 3,302,261\n",
      "Non-trainable params: 0\n",
      "_________________________________________________________________\n"
     ]
    }
   ],
   "source": [
    "model.summary()"
   ]
  },
  {
   "cell_type": "code",
   "execution_count": 24,
   "metadata": {},
   "outputs": [],
   "source": [
    "csv_logger = CSVLogger('model_embeddings.log', separator=',', append=False)"
   ]
  },
  {
   "cell_type": "code",
   "execution_count": 25,
   "metadata": {},
   "outputs": [
    {
     "name": "stderr",
     "output_type": "stream",
     "text": [
      "D:\\Programs_Inst\\Anaconda\\envs\\Deep Learning\\lib\\site-packages\\tensorflow_core\\python\\framework\\indexed_slices.py:433: UserWarning: Converting sparse IndexedSlices to a dense Tensor of unknown shape. This may consume a large amount of memory.\n",
      "  \"Converting sparse IndexedSlices to a dense Tensor of unknown shape. \"\n"
     ]
    },
    {
     "name": "stdout",
     "output_type": "stream",
     "text": [
      "Train on 389652 samples, validate on 81827 samples\n",
      "Epoch 1/10\n",
      "389652/389652 [==============================] - 1925s 5ms/step - loss: 0.3420 - f1_m: 0.8966 - acc: 0.8555 - val_loss: 0.2910 - val_f1_m: 0.9122 - val_acc: 0.8761\n",
      "Epoch 2/10\n",
      "389652/389652 [==============================] - 1922s 5ms/step - loss: 0.2969 - f1_m: 0.9119 - acc: 0.8788 - val_loss: 0.2535 - val_f1_m: 0.9267 - val_acc: 0.8994\n",
      "Epoch 3/10\n",
      "389652/389652 [==============================] - 1914s 5ms/step - loss: 0.2606 - f1_m: 0.9235 - acc: 0.8951 - val_loss: 0.2133 - val_f1_m: 0.9395 - val_acc: 0.9173\n",
      "Epoch 4/10\n",
      "389652/389652 [==============================] - 1912s 5ms/step - loss: 0.2231 - f1_m: 0.9355 - acc: 0.9119 - val_loss: 0.1798 - val_f1_m: 0.9495 - val_acc: 0.9310\n",
      "Epoch 5/10\n",
      "389652/389652 [==============================] - 1913s 5ms/step - loss: 0.1925 - f1_m: 0.9450 - acc: 0.9251 - val_loss: 0.1657 - val_f1_m: 0.9519 - val_acc: 0.9330\n",
      "Epoch 6/10\n",
      "389652/389652 [==============================] - 1913s 5ms/step - loss: 0.1700 - f1_m: 0.9519 - acc: 0.9346 - val_loss: 0.1378 - val_f1_m: 0.9623 - val_acc: 0.9489\n",
      "Epoch 7/10\n",
      "389652/389652 [==============================] - 1914s 5ms/step - loss: 0.1535 - f1_m: 0.9567 - acc: 0.9413 - val_loss: 0.1257 - val_f1_m: 0.9659 - val_acc: 0.9537\n",
      "Epoch 8/10\n",
      "389652/389652 [==============================] - 1913s 5ms/step - loss: 0.1413 - f1_m: 0.9604 - acc: 0.9463 - val_loss: 0.1171 - val_f1_m: 0.9681 - val_acc: 0.9567\n",
      "Epoch 9/10\n",
      "389652/389652 [==============================] - 1915s 5ms/step - loss: 0.1328 - f1_m: 0.9629 - acc: 0.9497 - val_loss: 0.1111 - val_f1_m: 0.9700 - val_acc: 0.9594\n",
      "Epoch 10/10\n",
      "389652/389652 [==============================] - 1914s 5ms/step - loss: 0.1260 - f1_m: 0.9648 - acc: 0.9524 - val_loss: 0.1070 - val_f1_m: 0.9708 - val_acc: 0.9605\n"
     ]
    },
    {
     "data": {
      "text/plain": [
       "<keras.callbacks.callbacks.History at 0x24d47905548>"
      ]
     },
     "execution_count": 25,
     "metadata": {},
     "output_type": "execute_result"
    }
   ],
   "source": [
    "model.fit(padded_reviews, target, epochs=10, verbose=1, validation_data = (X_val, y_val), callbacks=[csv_logger])"
   ]
  },
  {
   "cell_type": "code",
   "execution_count": 26,
   "metadata": {},
   "outputs": [],
   "source": [
    "#Saving the model:\n",
    "model.save('model_embeddings.h5')"
   ]
  },
  {
   "cell_type": "markdown",
   "metadata": {},
   "source": [
    "- Plot of the three parameters evaluated in the model:"
   ]
  },
  {
   "cell_type": "code",
   "execution_count": 28,
   "metadata": {},
   "outputs": [],
   "source": [
    "history = pd.read_csv('model_embeddings.log', sep=',', engine='python')"
   ]
  },
  {
   "cell_type": "code",
   "execution_count": 30,
   "metadata": {},
   "outputs": [
    {
     "data": {
      "text/plain": [
       "<matplotlib.legend.Legend at 0x24d47c33a88>"
      ]
     },
     "execution_count": 30,
     "metadata": {},
     "output_type": "execute_result"
    },
    {
     "data": {
      "image/png": "[encoded data removed]",
      "text/plain": [
       "<Figure size 432x288 with 1 Axes>"
      ]
     },
     "metadata": {
      "needs_background": "light"
     },
     "output_type": "display_data"
    }
   ],
   "source": [
    "history_dict = history\n",
    "loss_values = history_dict['loss']\n",
    "val_loss_values = history_dict['val_loss']\n",
    "\n",
    "epochs = range(1, len(loss_values) + 1)\n",
    "\n",
    "plt.plot(epochs, loss_values, 'bo', label = 'Training Loss')\n",
    "plt.plot(epochs, val_loss_values, 'b', label = 'Validation Loss')\n",
    "plt.title('Training and Validation Loss')\n",
    "plt.xlabel('Epochs')\n",
    "plt.ylabel('Loss')\n",
    "plt.legend()"
   ]
  },
  {
   "cell_type": "code",
   "execution_count": 32,
   "metadata": {},
   "outputs": [
    {
     "data": {
      "text/plain": [
       "<matplotlib.legend.Legend at 0x24d47cdaf08>"
      ]
     },
     "execution_count": 32,
     "metadata": {},
     "output_type": "execute_result"
    },
    {
     "data": {
      "image/png": "[encoded data removed]",
      "text/plain": [
       "<Figure size 432x288 with 1 Axes>"
      ]
     },
     "metadata": {
      "needs_background": "light"
     },
     "output_type": "display_data"
    }
   ],
   "source": [
    "history_dict = history\n",
    "accuracy_values = history_dict['acc']\n",
    "val_accuracy_values = history_dict['val_acc']\n",
    "\n",
    "epochs = range(1, len(accuracy_values) + 1)\n",
    "\n",
    "plt.plot(epochs, accuracy_values, 'bo', label = 'Training Accuracy')\n",
    "plt.plot(epochs, val_accuracy_values, 'b', label = 'Validation Accuracy')\n",
    "plt.title('Training and Validation Accuracy')\n",
    "plt.xlabel('Epochs')\n",
    "plt.ylabel('Accuracy')\n",
    "plt.legend()"
   ]
  },
  {
   "cell_type": "code",
   "execution_count": 33,
   "metadata": {},
   "outputs": [
    {
     "data": {
      "text/plain": [
       "<matplotlib.legend.Legend at 0x24d47d40108>"
      ]
     },
     "execution_count": 33,
     "metadata": {},
     "output_type": "execute_result"
    },
    {
     "data": {
      "image/png": "[encoded data removed]",
      "text/plain": [
       "<Figure size 432x288 with 1 Axes>"
      ]
     },
     "metadata": {
      "needs_background": "light"
     },
     "output_type": "display_data"
    }
   ],
   "source": [
    "history_dict = history\n",
    "accuracy_values = history_dict['f1_m']\n",
    "val_accuracy_values = history_dict['val_f1_m']\n",
    "\n",
    "epochs = range(1, len(accuracy_values) + 1)\n",
    "\n",
    "plt.plot(epochs, accuracy_values, 'bo', label = 'Training f1_m')\n",
    "plt.plot(epochs, val_accuracy_values, 'b', label = 'Validation f1_m')\n",
    "plt.title('Training and Validation f1')\n",
    "plt.xlabel('Epochs')\n",
    "plt.ylabel('f1')\n",
    "plt.legend()"
   ]
  },
  {
   "cell_type": "markdown",
   "metadata": {},
   "source": [
    "- Evaluating the model with the test set:"
   ]
  },
  {
   "cell_type": "code",
   "execution_count": 34,
   "metadata": {},
   "outputs": [
    {
     "name": "stdout",
     "output_type": "stream",
     "text": [
      "35069/35069 [==============================] - 15s 439us/step\n"
     ]
    }
   ],
   "source": [
    "results = model.evaluate(X_test , y_test)"
   ]
  },
  {
   "cell_type": "code",
   "execution_count": 35,
   "metadata": {},
   "outputs": [
    {
     "name": "stdout",
     "output_type": "stream",
     "text": [
      "The loss is:  0.10382410962129394\n",
      "The f1_score is:  0.9711053371429443\n",
      "The accuracy is:  0.9609912037849426\n"
     ]
    }
   ],
   "source": [
    "print('The loss is: ', results[0])\n",
    "print('The f1_score is: ', results[1])\n",
    "print('The accuracy is: ', results[2])"
   ]
  },
  {
   "cell_type": "markdown",
   "metadata": {},
   "source": [
    "                      ##### The results are the highest got it. It shows how the embedding approach \n",
    "                is a computational expensive solution but it get the best results. Due to the limitation of\n",
    "                      the computers of the team, we are not able to try deeper networks but it is \n",
    "                   enough to demostrate that it is the best possible approach in terms of accuracy ##### "
   ]
  },
  {
   "cell_type": "markdown",
   "metadata": {},
   "source": [
    "- Confusion Matrix"
   ]
  },
  {
   "cell_type": "code",
   "execution_count": 36,
   "metadata": {},
   "outputs": [],
   "source": [
    "predictions = model.predict(X_test)"
   ]
  },
  {
   "cell_type": "code",
   "execution_count": 37,
   "metadata": {},
   "outputs": [],
   "source": [
    "# round predictions \n",
    "predictions = [round(x[0]) for x in predictions]"
   ]
  },
  {
   "cell_type": "code",
   "execution_count": 38,
   "metadata": {},
   "outputs": [],
   "source": [
    "true_classes = y_test"
   ]
  },
  {
   "cell_type": "code",
   "execution_count": 39,
   "metadata": {},
   "outputs": [],
   "source": [
    "import matplotlib.pyplot as plt\n",
    "\n",
    "def plot_cm(confusion_matrix : np.array, \n",
    "            classnames : list):\n",
    "    \"\"\"\n",
    "    Function that creates a confusion matrix plot using the Wikipedia convention for the axis. \n",
    "    :param confusion_matrix: confusion matrix that will be plotted\n",
    "    :param classnames: labels of the classes\n",
    "    \n",
    "    Returns:\n",
    "        - Plot of the Confusion Matrix\n",
    "    \"\"\"\n",
    "    \n",
    "    confusionmatrix = confusion_matrix\n",
    "    class_names = classnames             \n",
    "\n",
    "    fig, ax = plt.subplots()\n",
    "    im = plt.imshow(confusionmatrix, cmap=plt.cm.cividis)\n",
    "    plt.colorbar()\n",
    "\n",
    "    # We want to show all ticks...\n",
    "    ax.set_xticks(np.arange(len(class_names)))\n",
    "    ax.set_yticks(np.arange(len(class_names)))\n",
    "    # ... and label them with the respective list entries\n",
    "    ax.set_xticklabels(class_names)\n",
    "    ax.set_yticklabels(class_names)\n",
    "\n",
    "    # Rotate the tick labels and set their alignment.\n",
    "    plt.setp(ax.get_xticklabels(), rotation=45, ha=\"right\",\n",
    "             rotation_mode=\"anchor\")\n",
    "\n",
    "    # Loop over data dimensions and create text annotations.\n",
    "    for i in range(len(class_names)):\n",
    "        for j in range(len(class_names)):\n",
    "            text = ax.text(j, i, confusionmatrix[i, j],\n",
    "                           ha=\"center\", va=\"center\", color=\"w\",fontdict = {'size': 18})\n",
    "\n",
    "    ax.set_title(\"Confusion Matrix\")\n",
    "    plt.xlabel('Targets')\n",
    "    plt.ylabel('Predictions')\n",
    "    plt.ylim(top=len(class_names)-0.5)  # adjust the top leaving bottom unchanged\n",
    "    plt.ylim(bottom=-0.5)  # adjust the bottom leaving top unchanged\n",
    "    fig.set_size_inches(18.5, 10.5)\n",
    "    return plt.show()"
   ]
  },
  {
   "cell_type": "code",
   "execution_count": 40,
   "metadata": {},
   "outputs": [
    {
     "name": "stderr",
     "output_type": "stream",
     "text": [
      "D:\\Programs_Inst\\Anaconda\\envs\\Deep Learning\\lib\\site-packages\\ipykernel_launcher.py:41: UserWarning: Attempting to set identical bottom == top == 1.5 results in singular transformations; automatically expanding.\n"
     ]
    },
    {
     "data": {
      "image/png": "[encoded data removed]",
      "text/plain": [
       "<Figure size 1332x756 with 2 Axes>"
      ]
     },
     "metadata": {
      "needs_background": "light"
     },
     "output_type": "display_data"
    }
   ],
   "source": [
    "from sklearn.metrics import confusion_matrix\n",
    "\n",
    "confusion_matrix(predictions, true_classes)\n",
    "plot_cm(confusion_matrix(predictions, true_classes), ['Not Recommended','Recommended'])"
   ]
  },
  {
   "cell_type": "code",
   "execution_count": null,
   "metadata": {},
   "outputs": [],
   "source": []
  }
 ],
 "metadata": {
  "kernelspec": {
   "display_name": "Python 3",
   "language": "python",
   "name": "python3"
  },
  "language_info": {
   "codemirror_mode": {
    "name": "ipython",
    "version": 3
   },
   "file_extension": ".py",
   "mimetype": "text/x-python",
   "name": "python",
   "nbconvert_exporter": "python",
   "pygments_lexer": "ipython3",
   "version": "3.7.6"
  }
 },
 "nbformat": 4,
 "nbformat_minor": 4
}
