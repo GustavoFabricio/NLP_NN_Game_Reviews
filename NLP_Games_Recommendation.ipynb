{
 "cells": [
  {
   "cell_type": "markdown",
   "metadata": {},
   "source": [
    "# 1. Import Libraries"
   ]
  },
  {
   "cell_type": "code",
   "execution_count": 1,
   "metadata": {},
   "outputs": [
    {
     "name": "stderr",
     "output_type": "stream",
     "text": [
      "Using TensorFlow backend.\n"
     ]
    }
   ],
   "source": [
    "import numpy as np\n",
    "import pandas as pd\n",
    "\n",
    "from keras import models\n",
    "from keras import layers\n",
    "\n",
    "import matplotlib.pyplot as plt\n",
    "\n",
    "import re\n",
    "import os\n",
    "from tqdm import tqdm_notebook as tqdm\n",
    "from nltk.corpus import stopwords\n",
    "from nltk.stem.wordnet import WordNetLemmatizer\n",
    "from nltk.tokenize import word_tokenize\n",
    "from nltk.corpus import wordnet\n",
    "from nltk.stem import SnowballStemmer\n",
    "from bs4 import BeautifulSoup\n",
    "import string\n",
    "import nltk\n",
    "from sklearn.feature_extraction.text import CountVectorizer\n",
    "import numpy as np\n",
    "from sklearn.metrics import classification_report\n",
    "from sklearn.metrics import confusion_matrix\n",
    "from sklearn.model_selection import train_test_split\n",
    "\n",
    "\n",
    "from langdetect import detect"
   ]
  },
  {
   "cell_type": "markdown",
   "metadata": {},
   "source": [
    "# 2. Import Data, Overview and Filters"
   ]
  },
  {
   "cell_type": "code",
   "execution_count": 2,
   "metadata": {},
   "outputs": [],
   "source": [
    "data_reviews = pd.read_csv('steam_reviews.csv')"
   ]
  },
  {
   "cell_type": "code",
   "execution_count": 3,
   "metadata": {},
   "outputs": [
    {
     "data": {
      "text/html": [
       "<div>\n",
       "<style scoped>\n",
       "    .dataframe tbody tr th:only-of-type {\n",
       "        vertical-align: middle;\n",
       "    }\n",
       "\n",
       "    .dataframe tbody tr th {\n",
       "        vertical-align: top;\n",
       "    }\n",
       "\n",
       "    .dataframe thead th {\n",
       "        text-align: right;\n",
       "    }\n",
       "</style>\n",
       "<table border=\"1\" class=\"dataframe\">\n",
       "  <thead>\n",
       "    <tr style=\"text-align: right;\">\n",
       "      <th></th>\n",
       "      <th>date_posted</th>\n",
       "      <th>funny</th>\n",
       "      <th>helpful</th>\n",
       "      <th>hour_played</th>\n",
       "      <th>is_early_access_review</th>\n",
       "      <th>recommendation</th>\n",
       "      <th>review</th>\n",
       "      <th>title</th>\n",
       "    </tr>\n",
       "  </thead>\n",
       "  <tbody>\n",
       "    <tr>\n",
       "      <th>0</th>\n",
       "      <td>2019-02-10</td>\n",
       "      <td>2</td>\n",
       "      <td>4</td>\n",
       "      <td>578</td>\n",
       "      <td>False</td>\n",
       "      <td>Recommended</td>\n",
       "      <td>&amp;gt Played as German Reich&amp;gt Declare war on B...</td>\n",
       "      <td>Expansion - Hearts of Iron IV: Man the Guns</td>\n",
       "    </tr>\n",
       "    <tr>\n",
       "      <th>1</th>\n",
       "      <td>2019-02-10</td>\n",
       "      <td>0</td>\n",
       "      <td>0</td>\n",
       "      <td>184</td>\n",
       "      <td>False</td>\n",
       "      <td>Recommended</td>\n",
       "      <td>yes.</td>\n",
       "      <td>Expansion - Hearts of Iron IV: Man the Guns</td>\n",
       "    </tr>\n",
       "    <tr>\n",
       "      <th>2</th>\n",
       "      <td>2019-02-07</td>\n",
       "      <td>0</td>\n",
       "      <td>0</td>\n",
       "      <td>892</td>\n",
       "      <td>False</td>\n",
       "      <td>Recommended</td>\n",
       "      <td>Very good game although a bit overpriced in my...</td>\n",
       "      <td>Expansion - Hearts of Iron IV: Man the Guns</td>\n",
       "    </tr>\n",
       "    <tr>\n",
       "      <th>3</th>\n",
       "      <td>2018-06-14</td>\n",
       "      <td>126</td>\n",
       "      <td>1086</td>\n",
       "      <td>676</td>\n",
       "      <td>False</td>\n",
       "      <td>Recommended</td>\n",
       "      <td>Out of all the reviews I wrote This one is pro...</td>\n",
       "      <td>Dead by Daylight</td>\n",
       "    </tr>\n",
       "    <tr>\n",
       "      <th>4</th>\n",
       "      <td>2017-06-20</td>\n",
       "      <td>85</td>\n",
       "      <td>2139</td>\n",
       "      <td>612</td>\n",
       "      <td>False</td>\n",
       "      <td>Recommended</td>\n",
       "      <td>Disclaimer I survivor main. I play games for f...</td>\n",
       "      <td>Dead by Daylight</td>\n",
       "    </tr>\n",
       "    <tr>\n",
       "      <th>...</th>\n",
       "      <td>...</td>\n",
       "      <td>...</td>\n",
       "      <td>...</td>\n",
       "      <td>...</td>\n",
       "      <td>...</td>\n",
       "      <td>...</td>\n",
       "      <td>...</td>\n",
       "      <td>...</td>\n",
       "    </tr>\n",
       "    <tr>\n",
       "      <th>434886</th>\n",
       "      <td>2018-11-17</td>\n",
       "      <td>1</td>\n",
       "      <td>37</td>\n",
       "      <td>10</td>\n",
       "      <td>False</td>\n",
       "      <td>Recommended</td>\n",
       "      <td>YOUR FLESH WILL ROT AND DECAY.STEEL IS IMMORTA...</td>\n",
       "      <td>Warhammer 40,000: Mechanicus</td>\n",
       "    </tr>\n",
       "    <tr>\n",
       "      <th>434887</th>\n",
       "      <td>2018-11-17</td>\n",
       "      <td>3</td>\n",
       "      <td>41</td>\n",
       "      <td>38</td>\n",
       "      <td>False</td>\n",
       "      <td>Recommended</td>\n",
       "      <td>Domini and Dominae I believe what we are deali...</td>\n",
       "      <td>Warhammer 40,000: Mechanicus</td>\n",
       "    </tr>\n",
       "    <tr>\n",
       "      <th>434888</th>\n",
       "      <td>2018-11-20</td>\n",
       "      <td>0</td>\n",
       "      <td>0</td>\n",
       "      <td>36</td>\n",
       "      <td>False</td>\n",
       "      <td>Recommended</td>\n",
       "      <td>First off if you like X Com style of games you...</td>\n",
       "      <td>Warhammer 40,000: Mechanicus</td>\n",
       "    </tr>\n",
       "    <tr>\n",
       "      <th>434889</th>\n",
       "      <td>2018-11-18</td>\n",
       "      <td>1</td>\n",
       "      <td>44</td>\n",
       "      <td>12</td>\n",
       "      <td>False</td>\n",
       "      <td>Recommended</td>\n",
       "      <td>As a disclaimer I'm an AdMech player on the ta...</td>\n",
       "      <td>Warhammer 40,000: Mechanicus</td>\n",
       "    </tr>\n",
       "    <tr>\n",
       "      <th>434890</th>\n",
       "      <td>2019-01-21</td>\n",
       "      <td>1</td>\n",
       "      <td>28</td>\n",
       "      <td>20</td>\n",
       "      <td>False</td>\n",
       "      <td>Recommended</td>\n",
       "      <td>Don't listen to people who claim it's the game...</td>\n",
       "      <td>Warhammer 40,000: Mechanicus</td>\n",
       "    </tr>\n",
       "  </tbody>\n",
       "</table>\n",
       "<p>434891 rows × 8 columns</p>\n",
       "</div>"
      ],
      "text/plain": [
       "       date_posted  funny  helpful  hour_played  is_early_access_review  \\\n",
       "0       2019-02-10      2        4          578                   False   \n",
       "1       2019-02-10      0        0          184                   False   \n",
       "2       2019-02-07      0        0          892                   False   \n",
       "3       2018-06-14    126     1086          676                   False   \n",
       "4       2017-06-20     85     2139          612                   False   \n",
       "...            ...    ...      ...          ...                     ...   \n",
       "434886  2018-11-17      1       37           10                   False   \n",
       "434887  2018-11-17      3       41           38                   False   \n",
       "434888  2018-11-20      0        0           36                   False   \n",
       "434889  2018-11-18      1       44           12                   False   \n",
       "434890  2019-01-21      1       28           20                   False   \n",
       "\n",
       "       recommendation                                             review  \\\n",
       "0         Recommended  &gt Played as German Reich&gt Declare war on B...   \n",
       "1         Recommended                                               yes.   \n",
       "2         Recommended  Very good game although a bit overpriced in my...   \n",
       "3         Recommended  Out of all the reviews I wrote This one is pro...   \n",
       "4         Recommended  Disclaimer I survivor main. I play games for f...   \n",
       "...               ...                                                ...   \n",
       "434886    Recommended  YOUR FLESH WILL ROT AND DECAY.STEEL IS IMMORTA...   \n",
       "434887    Recommended  Domini and Dominae I believe what we are deali...   \n",
       "434888    Recommended  First off if you like X Com style of games you...   \n",
       "434889    Recommended  As a disclaimer I'm an AdMech player on the ta...   \n",
       "434890    Recommended  Don't listen to people who claim it's the game...   \n",
       "\n",
       "                                              title  \n",
       "0       Expansion - Hearts of Iron IV: Man the Guns  \n",
       "1       Expansion - Hearts of Iron IV: Man the Guns  \n",
       "2       Expansion - Hearts of Iron IV: Man the Guns  \n",
       "3                                  Dead by Daylight  \n",
       "4                                  Dead by Daylight  \n",
       "...                                             ...  \n",
       "434886                 Warhammer 40,000: Mechanicus  \n",
       "434887                 Warhammer 40,000: Mechanicus  \n",
       "434888                 Warhammer 40,000: Mechanicus  \n",
       "434889                 Warhammer 40,000: Mechanicus  \n",
       "434890                 Warhammer 40,000: Mechanicus  \n",
       "\n",
       "[434891 rows x 8 columns]"
      ]
     },
     "execution_count": 3,
     "metadata": {},
     "output_type": "execute_result"
    }
   ],
   "source": [
    "data_reviews"
   ]
  },
  {
   "cell_type": "code",
   "execution_count": 4,
   "metadata": {},
   "outputs": [
    {
     "data": {
      "text/html": [
       "<div>\n",
       "<style scoped>\n",
       "    .dataframe tbody tr th:only-of-type {\n",
       "        vertical-align: middle;\n",
       "    }\n",
       "\n",
       "    .dataframe tbody tr th {\n",
       "        vertical-align: top;\n",
       "    }\n",
       "\n",
       "    .dataframe thead th {\n",
       "        text-align: right;\n",
       "    }\n",
       "</style>\n",
       "<table border=\"1\" class=\"dataframe\">\n",
       "  <thead>\n",
       "    <tr style=\"text-align: right;\">\n",
       "      <th></th>\n",
       "      <th>funny</th>\n",
       "      <th>helpful</th>\n",
       "      <th>hour_played</th>\n",
       "    </tr>\n",
       "  </thead>\n",
       "  <tbody>\n",
       "    <tr>\n",
       "      <th>count</th>\n",
       "      <td>4.348910e+05</td>\n",
       "      <td>434891.000000</td>\n",
       "      <td>434891.000000</td>\n",
       "    </tr>\n",
       "    <tr>\n",
       "      <th>mean</th>\n",
       "      <td>5.333024e+05</td>\n",
       "      <td>1.004114</td>\n",
       "      <td>364.130773</td>\n",
       "    </tr>\n",
       "    <tr>\n",
       "      <th>std</th>\n",
       "      <td>4.785640e+07</td>\n",
       "      <td>59.462935</td>\n",
       "      <td>545.961198</td>\n",
       "    </tr>\n",
       "    <tr>\n",
       "      <th>min</th>\n",
       "      <td>0.000000e+00</td>\n",
       "      <td>0.000000</td>\n",
       "      <td>0.000000</td>\n",
       "    </tr>\n",
       "    <tr>\n",
       "      <th>25%</th>\n",
       "      <td>0.000000e+00</td>\n",
       "      <td>0.000000</td>\n",
       "      <td>62.000000</td>\n",
       "    </tr>\n",
       "    <tr>\n",
       "      <th>50%</th>\n",
       "      <td>0.000000e+00</td>\n",
       "      <td>0.000000</td>\n",
       "      <td>190.000000</td>\n",
       "    </tr>\n",
       "    <tr>\n",
       "      <th>75%</th>\n",
       "      <td>0.000000e+00</td>\n",
       "      <td>0.000000</td>\n",
       "      <td>450.000000</td>\n",
       "    </tr>\n",
       "    <tr>\n",
       "      <th>max</th>\n",
       "      <td>4.294967e+09</td>\n",
       "      <td>28171.000000</td>\n",
       "      <td>31962.000000</td>\n",
       "    </tr>\n",
       "  </tbody>\n",
       "</table>\n",
       "</div>"
      ],
      "text/plain": [
       "              funny        helpful    hour_played\n",
       "count  4.348910e+05  434891.000000  434891.000000\n",
       "mean   5.333024e+05       1.004114     364.130773\n",
       "std    4.785640e+07      59.462935     545.961198\n",
       "min    0.000000e+00       0.000000       0.000000\n",
       "25%    0.000000e+00       0.000000      62.000000\n",
       "50%    0.000000e+00       0.000000     190.000000\n",
       "75%    0.000000e+00       0.000000     450.000000\n",
       "max    4.294967e+09   28171.000000   31962.000000"
      ]
     },
     "execution_count": 4,
     "metadata": {},
     "output_type": "execute_result"
    }
   ],
   "source": [
    "data_reviews.describe()"
   ]
  },
  {
   "cell_type": "code",
   "execution_count": 5,
   "metadata": {},
   "outputs": [
    {
     "data": {
      "text/plain": [
       "date_posted                  0\n",
       "funny                        0\n",
       "helpful                      0\n",
       "hour_played                  0\n",
       "is_early_access_review       0\n",
       "recommendation               0\n",
       "review                    1516\n",
       "title                        0\n",
       "dtype: int64"
      ]
     },
     "execution_count": 5,
     "metadata": {},
     "output_type": "execute_result"
    }
   ],
   "source": [
    "data_reviews.isna().sum()"
   ]
  },
  {
   "cell_type": "code",
   "execution_count": 6,
   "metadata": {},
   "outputs": [],
   "source": [
    "data_reviews.dropna(inplace = True)\n",
    "data_reviews.reset_index(drop = True, inplace = True)"
   ]
  },
  {
   "cell_type": "code",
   "execution_count": 7,
   "metadata": {},
   "outputs": [
    {
     "data": {
      "text/plain": [
       "433375"
      ]
     },
     "execution_count": 7,
     "metadata": {},
     "output_type": "execute_result"
    }
   ],
   "source": [
    "len(data_reviews)"
   ]
  },
  {
   "cell_type": "markdown",
   "metadata": {},
   "source": [
    "# 3. Preprocessing"
   ]
  },
  {
   "cell_type": "code",
   "execution_count": 8,
   "metadata": {},
   "outputs": [],
   "source": [
    "def clean(text_list, lemmatize, stemmer, stop_word):\n",
    "    \"\"\"\n",
    "    Function that a receives a list of strings and preprocesses it.\n",
    "    \n",
    "    :param text_list: List of strings.\n",
    "    :param lemmatize: Tag to apply lemmatization if True.\n",
    "    :param stemmer: Tag to apply the stemmer if True.\n",
    "    \"\"\"\n",
    "    updates = []\n",
    "    \n",
    "    for j in tqdm(range(len(text_list))):\n",
    "        \n",
    "        text = text_list[j]\n",
    "        \n",
    "        #LOWERCASE TEXT\n",
    "        text = text.lower()\n",
    "        \n",
    "        #REMOVE NUMERICAL DATA AND PUNCTUATION\n",
    "        text = re.sub(\"[^a-zA-Z-zÀ-ÿ]\", ' ', text)\n",
    "        \n",
    "        #REMOVE TAGS\n",
    "        text = BeautifulSoup(text).get_text()\n",
    "        \n",
    "        if lemmatize:\n",
    "            text = \" \".join(lemma.lemmatize(word) for word in text.split())\n",
    "        \n",
    "        if stemmer:\n",
    "            text = \" \".join(snowball_stemmer.stem(word) for word in text.split())\n",
    "            \n",
    "        if stop_word:\n",
    "            text = [w for w in text.split() if not w in stop]\n",
    "            text = \" \".join(text)\n",
    "        \n",
    "        updates.append(text)\n",
    "        \n",
    "    return updates\n",
    "\n",
    "def update_df(dataframe, list_updated):\n",
    "    dataframe.update(pd.DataFrame({\"Text\": list_updated}))"
   ]
  },
  {
   "cell_type": "code",
   "execution_count": 10,
   "metadata": {},
   "outputs": [],
   "source": [
    "stop = set(stopwords.words('english'))\n",
    "exclude = set(string.punctuation)\n",
    "lemma = WordNetLemmatizer()"
   ]
  },
  {
   "cell_type": "code",
   "execution_count": 11,
   "metadata": {},
   "outputs": [],
   "source": [
    "stop = {'a',\n",
    " 'about',\n",
    " 'above',\n",
    " 'after',\n",
    " 'again',\n",
    " 'against',\n",
    " 'ain',\n",
    " 'all',\n",
    " 'am',\n",
    " 'an',\n",
    " 'and',\n",
    " 'any',\n",
    " 'are',\n",
    " 'aren',\n",
    " 'as',\n",
    " 'at',\n",
    " 'be',\n",
    " 'because',\n",
    " 'been',\n",
    " 'before',\n",
    " 'being',\n",
    " 'below',\n",
    " 'between',\n",
    " 'both',\n",
    " 'but',\n",
    " 'by',\n",
    " 'can',\n",
    " 'd',\n",
    " 'did',\n",
    " 'didn',\n",
    " 'do',\n",
    " 'does',\n",
    " 'doing',\n",
    " 'don',\n",
    " 'down',\n",
    " 'during',\n",
    " 'each',\n",
    " 'few',\n",
    " 'for',\n",
    " 'from',\n",
    " 'further',\n",
    " 'had',\n",
    " 'has',\n",
    " 'hasn',\n",
    " 'have',\n",
    " 'haven',\n",
    " 'having',\n",
    " 'he',\n",
    " 'her',\n",
    " 'here',\n",
    " 'hers',\n",
    " 'herself',\n",
    " 'him',\n",
    " 'himself',\n",
    " 'his',\n",
    " 'how',\n",
    " 'i',\n",
    " 'if',\n",
    " 'in',\n",
    " 'into',\n",
    " 'is',\n",
    " 'it',\n",
    " \"it's\",\n",
    " 'its',\n",
    " 'itself',\n",
    " 'just',\n",
    " 'll',\n",
    " 'm',\n",
    " 'ma',\n",
    " 'me',\n",
    " 'mightn',\n",
    " 'more',\n",
    " 'most',\n",
    " 'mustn',\n",
    " 'my',\n",
    " 'myself',\n",
    " 'no',\n",
    " 'nor',\n",
    " 'now',\n",
    " 'o',\n",
    " 'of',\n",
    " 'off',\n",
    " 'on',\n",
    " 'once',\n",
    " 'only',\n",
    " 'or',\n",
    " 'other', 'our', 'ours', 'ourselves', 'out', 'over', 'own', 're',\n",
    " 's', 'same', 'shan', \"shan't\", 'she', \"she's\", 'should', \"should've\", 'so', 'some', 'such', 't', 'than',\n",
    " 'that', \"that'll\", 'the', 'their', 'theirs', 'them', 'themselves', 'then', 'there', 'these', 'they', 'this', 'those', 'through',\n",
    " 'to', 'too', 'under', 'until', 'up', 've', 'very', 'was', 'we', 'were', 'weren', 'what', 'when', 'where', 'which', 'while', 'who', 'whom',\n",
    " 'why', 'will', 'with', 'won', 'y', 'you', \"you'd\", \"you'll\", \"you're\", \"you've\", 'your', 'yours', 'yourself', 'yourselves'}"
   ]
  },
  {
   "cell_type": "code",
   "execution_count": 12,
   "metadata": {},
   "outputs": [
    {
     "name": "stderr",
     "output_type": "stream",
     "text": [
      "C:\\Users\\gsmfa\\Anaconda3\\lib\\site-packages\\ipykernel_launcher.py:11: TqdmDeprecationWarning: This function will be removed in tqdm==5.0.0\n",
      "Please use `tqdm.notebook.tqdm` instead of `tqdm.tqdm_notebook`\n",
      "  # This is added back by InteractiveShellApp.init_path()\n"
     ]
    },
    {
     "data": {
      "application/vnd.jupyter.widget-view+json": {
       "model_id": "8d5d41b5210f4201b987ce75edf1c228",
       "version_major": 2,
       "version_minor": 0
      },
      "text/plain": [
       "HBox(children=(FloatProgress(value=0.0, max=433375.0), HTML(value='')))"
      ]
     },
     "metadata": {},
     "output_type": "display_data"
    },
    {
     "name": "stdout",
     "output_type": "stream",
     "text": [
      "\n"
     ]
    }
   ],
   "source": [
    "clean_reviews = clean(data_reviews['review'], lemmatize = True, stemmer = False, stop_word = True)"
   ]
  },
  {
   "cell_type": "code",
   "execution_count": 13,
   "metadata": {},
   "outputs": [],
   "source": [
    "length_review = []\n",
    "for i in range(0, len(data_reviews)):\n",
    "    length_review.append(len(clean_reviews[i]))"
   ]
  },
  {
   "cell_type": "code",
   "execution_count": 14,
   "metadata": {},
   "outputs": [],
   "source": [
    "data_reviews['length_review'] = length_review\n",
    "data_reviews['clean_reviews'] = clean_reviews"
   ]
  },
  {
   "cell_type": "code",
   "execution_count": 15,
   "metadata": {},
   "outputs": [
    {
     "data": {
      "text/plain": [
       "length_review\n",
       "0     8727\n",
       "1      710\n",
       "2     2964\n",
       "3     7311\n",
       "4    11986\n",
       "5     3675\n",
       "6     2645\n",
       "7     5545\n",
       "8     6595\n",
       "9    15447\n",
       "Name: recommendation, dtype: int64"
      ]
     },
     "execution_count": 15,
     "metadata": {},
     "output_type": "execute_result"
    }
   ],
   "source": [
    "data_reviews.groupby('length_review')['recommendation'].count().head(10)"
   ]
  },
  {
   "cell_type": "code",
   "execution_count": 16,
   "metadata": {},
   "outputs": [],
   "source": [
    "data_reviews = data_reviews[data_reviews['length_review'] > 3].reset_index(drop = True)"
   ]
  },
  {
   "cell_type": "code",
   "execution_count": 17,
   "metadata": {},
   "outputs": [],
   "source": [
    "#reviews_words = []\n",
    "#for i in range (0, len(data_reviews)):\n",
    "#    reviews_words.append(data_reviews['clean_reviews'][i].split())\n",
    "#data_reviews['clean_reviews'] = reviews_words"
   ]
  },
  {
   "cell_type": "code",
   "execution_count": 18,
   "metadata": {},
   "outputs": [
    {
     "data": {
      "text/html": [
       "<div>\n",
       "<style scoped>\n",
       "    .dataframe tbody tr th:only-of-type {\n",
       "        vertical-align: middle;\n",
       "    }\n",
       "\n",
       "    .dataframe tbody tr th {\n",
       "        vertical-align: top;\n",
       "    }\n",
       "\n",
       "    .dataframe thead th {\n",
       "        text-align: right;\n",
       "    }\n",
       "</style>\n",
       "<table border=\"1\" class=\"dataframe\">\n",
       "  <thead>\n",
       "    <tr style=\"text-align: right;\">\n",
       "      <th></th>\n",
       "      <th>date_posted</th>\n",
       "      <th>funny</th>\n",
       "      <th>helpful</th>\n",
       "      <th>hour_played</th>\n",
       "      <th>is_early_access_review</th>\n",
       "      <th>recommendation</th>\n",
       "      <th>review</th>\n",
       "      <th>title</th>\n",
       "      <th>length_review</th>\n",
       "      <th>clean_reviews</th>\n",
       "    </tr>\n",
       "  </thead>\n",
       "  <tbody>\n",
       "    <tr>\n",
       "      <th>0</th>\n",
       "      <td>2019-02-10</td>\n",
       "      <td>2</td>\n",
       "      <td>4</td>\n",
       "      <td>578</td>\n",
       "      <td>False</td>\n",
       "      <td>Recommended</td>\n",
       "      <td>&amp;gt Played as German Reich&amp;gt Declare war on B...</td>\n",
       "      <td>Expansion - Hearts of Iron IV: Man the Guns</td>\n",
       "      <td>159</td>\n",
       "      <td>gt played german reich gt declare war belgium ...</td>\n",
       "    </tr>\n",
       "    <tr>\n",
       "      <th>1</th>\n",
       "      <td>2019-02-07</td>\n",
       "      <td>0</td>\n",
       "      <td>0</td>\n",
       "      <td>892</td>\n",
       "      <td>False</td>\n",
       "      <td>Recommended</td>\n",
       "      <td>Very good game although a bit overpriced in my...</td>\n",
       "      <td>Expansion - Hearts of Iron IV: Man the Guns</td>\n",
       "      <td>122</td>\n",
       "      <td>good game although bit overpriced opinion pref...</td>\n",
       "    </tr>\n",
       "    <tr>\n",
       "      <th>2</th>\n",
       "      <td>2018-06-14</td>\n",
       "      <td>126</td>\n",
       "      <td>1086</td>\n",
       "      <td>676</td>\n",
       "      <td>False</td>\n",
       "      <td>Recommended</td>\n",
       "      <td>Out of all the reviews I wrote This one is pro...</td>\n",
       "      <td>Dead by Daylight</td>\n",
       "      <td>1155</td>\n",
       "      <td>review wrote one probably serious one wrote st...</td>\n",
       "    </tr>\n",
       "    <tr>\n",
       "      <th>3</th>\n",
       "      <td>2017-06-20</td>\n",
       "      <td>85</td>\n",
       "      <td>2139</td>\n",
       "      <td>612</td>\n",
       "      <td>False</td>\n",
       "      <td>Recommended</td>\n",
       "      <td>Disclaimer I survivor main. I play games for f...</td>\n",
       "      <td>Dead by Daylight</td>\n",
       "      <td>803</td>\n",
       "      <td>disclaimer survivor main play game fun not com...</td>\n",
       "    </tr>\n",
       "    <tr>\n",
       "      <th>4</th>\n",
       "      <td>2016-12-12</td>\n",
       "      <td>4</td>\n",
       "      <td>55</td>\n",
       "      <td>2694</td>\n",
       "      <td>False</td>\n",
       "      <td>Recommended</td>\n",
       "      <td>ENGLISH After playing for more than two years ...</td>\n",
       "      <td>Dead by Daylight</td>\n",
       "      <td>3764</td>\n",
       "      <td>english playing two year given task reviewing ...</td>\n",
       "    </tr>\n",
       "    <tr>\n",
       "      <th>5</th>\n",
       "      <td>2017-09-17</td>\n",
       "      <td>12</td>\n",
       "      <td>228</td>\n",
       "      <td>48</td>\n",
       "      <td>False</td>\n",
       "      <td>Recommended</td>\n",
       "      <td>Out of all the reviews I wrote This one is pro...</td>\n",
       "      <td>Dead by Daylight</td>\n",
       "      <td>1155</td>\n",
       "      <td>review wrote one probably serious one wrote st...</td>\n",
       "    </tr>\n",
       "    <tr>\n",
       "      <th>6</th>\n",
       "      <td>2018-12-24</td>\n",
       "      <td>295</td>\n",
       "      <td>219</td>\n",
       "      <td>71</td>\n",
       "      <td>False</td>\n",
       "      <td>Recommended</td>\n",
       "      <td>I have never been told to kill myself more tha...</td>\n",
       "      <td>Dead by Daylight</td>\n",
       "      <td>28</td>\n",
       "      <td>never told kill playing game</td>\n",
       "    </tr>\n",
       "    <tr>\n",
       "      <th>7</th>\n",
       "      <td>2018-09-21</td>\n",
       "      <td>2</td>\n",
       "      <td>54</td>\n",
       "      <td>400</td>\n",
       "      <td>False</td>\n",
       "      <td>Recommended</td>\n",
       "      <td>Any longtime Dead by Daylight player knows tha...</td>\n",
       "      <td>Dead by Daylight</td>\n",
       "      <td>1133</td>\n",
       "      <td>longtime dead daylight player know isn horror ...</td>\n",
       "    </tr>\n",
       "    <tr>\n",
       "      <th>8</th>\n",
       "      <td>2018-12-05</td>\n",
       "      <td>380</td>\n",
       "      <td>271</td>\n",
       "      <td>414</td>\n",
       "      <td>False</td>\n",
       "      <td>Recommended</td>\n",
       "      <td>if you think cs go is toxic try this game</td>\n",
       "      <td>Dead by Daylight</td>\n",
       "      <td>25</td>\n",
       "      <td>think c go toxic try game</td>\n",
       "    </tr>\n",
       "    <tr>\n",
       "      <th>9</th>\n",
       "      <td>2018-12-04</td>\n",
       "      <td>11</td>\n",
       "      <td>106</td>\n",
       "      <td>900</td>\n",
       "      <td>False</td>\n",
       "      <td>Recommended</td>\n",
       "      <td>This is simultaneously the most fun and most i...</td>\n",
       "      <td>Dead by Daylight</td>\n",
       "      <td>1181</td>\n",
       "      <td>simultaneously fun infuriating game played lon...</td>\n",
       "    </tr>\n",
       "  </tbody>\n",
       "</table>\n",
       "</div>"
      ],
      "text/plain": [
       "  date_posted  funny  helpful  hour_played  is_early_access_review  \\\n",
       "0  2019-02-10      2        4          578                   False   \n",
       "1  2019-02-07      0        0          892                   False   \n",
       "2  2018-06-14    126     1086          676                   False   \n",
       "3  2017-06-20     85     2139          612                   False   \n",
       "4  2016-12-12      4       55         2694                   False   \n",
       "5  2017-09-17     12      228           48                   False   \n",
       "6  2018-12-24    295      219           71                   False   \n",
       "7  2018-09-21      2       54          400                   False   \n",
       "8  2018-12-05    380      271          414                   False   \n",
       "9  2018-12-04     11      106          900                   False   \n",
       "\n",
       "  recommendation                                             review  \\\n",
       "0    Recommended  &gt Played as German Reich&gt Declare war on B...   \n",
       "1    Recommended  Very good game although a bit overpriced in my...   \n",
       "2    Recommended  Out of all the reviews I wrote This one is pro...   \n",
       "3    Recommended  Disclaimer I survivor main. I play games for f...   \n",
       "4    Recommended  ENGLISH After playing for more than two years ...   \n",
       "5    Recommended  Out of all the reviews I wrote This one is pro...   \n",
       "6    Recommended  I have never been told to kill myself more tha...   \n",
       "7    Recommended  Any longtime Dead by Daylight player knows tha...   \n",
       "8    Recommended          if you think cs go is toxic try this game   \n",
       "9    Recommended  This is simultaneously the most fun and most i...   \n",
       "\n",
       "                                         title  length_review  \\\n",
       "0  Expansion - Hearts of Iron IV: Man the Guns            159   \n",
       "1  Expansion - Hearts of Iron IV: Man the Guns            122   \n",
       "2                             Dead by Daylight           1155   \n",
       "3                             Dead by Daylight            803   \n",
       "4                             Dead by Daylight           3764   \n",
       "5                             Dead by Daylight           1155   \n",
       "6                             Dead by Daylight             28   \n",
       "7                             Dead by Daylight           1133   \n",
       "8                             Dead by Daylight             25   \n",
       "9                             Dead by Daylight           1181   \n",
       "\n",
       "                                       clean_reviews  \n",
       "0  gt played german reich gt declare war belgium ...  \n",
       "1  good game although bit overpriced opinion pref...  \n",
       "2  review wrote one probably serious one wrote st...  \n",
       "3  disclaimer survivor main play game fun not com...  \n",
       "4  english playing two year given task reviewing ...  \n",
       "5  review wrote one probably serious one wrote st...  \n",
       "6                       never told kill playing game  \n",
       "7  longtime dead daylight player know isn horror ...  \n",
       "8                          think c go toxic try game  \n",
       "9  simultaneously fun infuriating game played lon...  "
      ]
     },
     "execution_count": 18,
     "metadata": {},
     "output_type": "execute_result"
    }
   ],
   "source": [
    "data_reviews.head(10)"
   ]
  },
  {
   "cell_type": "code",
   "execution_count": 19,
   "metadata": {},
   "outputs": [
    {
     "name": "stderr",
     "output_type": "stream",
     "text": [
      "C:\\Users\\gsmfa\\Anaconda3\\lib\\site-packages\\ipykernel_launcher.py:2: TqdmDeprecationWarning: This function will be removed in tqdm==5.0.0\n",
      "Please use `tqdm.notebook.tqdm` instead of `tqdm.tqdm_notebook`\n",
      "  \n"
     ]
    },
    {
     "data": {
      "application/vnd.jupyter.widget-view+json": {
       "model_id": "b232a9d994ff4aaea50fe5aee6b909bb",
       "version_major": 2,
       "version_minor": 0
      },
      "text/plain": [
       "HBox(children=(FloatProgress(value=0.0, max=413663.0), HTML(value='')))"
      ]
     },
     "metadata": {},
     "output_type": "display_data"
    },
    {
     "name": "stdout",
     "output_type": "stream",
     "text": [
      "\n"
     ]
    }
   ],
   "source": [
    "language = []\n",
    "for i in tqdm(range(0,len(data_reviews))):\n",
    "    language.append(detect(data_reviews['clean_reviews'][i]))"
   ]
  },
  {
   "cell_type": "code",
   "execution_count": 20,
   "metadata": {},
   "outputs": [],
   "source": [
    "data_reviews['language'] = language"
   ]
  },
  {
   "cell_type": "code",
   "execution_count": 21,
   "metadata": {},
   "outputs": [],
   "source": [
    "data_reviews.to_csv('data_reviews.csv', index=False)"
   ]
  },
  {
   "cell_type": "code",
   "execution_count": 2,
   "metadata": {},
   "outputs": [],
   "source": [
    "data_reviews = pd.read_csv('data_reviews.csv')"
   ]
  },
  {
   "cell_type": "code",
   "execution_count": 3,
   "metadata": {},
   "outputs": [
    {
     "data": {
      "text/plain": [
       "language\n",
       "af      9571\n",
       "ca      2860\n",
       "cs       450\n",
       "cy      5703\n",
       "da     13863\n",
       "de      1362\n",
       "en    300204\n",
       "es      3968\n",
       "et      2446\n",
       "fi      1273\n",
       "fr      3248\n",
       "hr      1963\n",
       "hu       738\n",
       "id      2232\n",
       "it      4066\n",
       "lt       680\n",
       "lv       430\n",
       "nl      4236\n",
       "no      9009\n",
       "pl      5619\n",
       "pt      1736\n",
       "ro      4154\n",
       "sk       549\n",
       "sl      3692\n",
       "so     16137\n",
       "sq      1394\n",
       "sv      2439\n",
       "sw      1886\n",
       "tl      6243\n",
       "tr      1265\n",
       "vi       247\n",
       "Name: recommendation, dtype: int64"
      ]
     },
     "execution_count": 3,
     "metadata": {},
     "output_type": "execute_result"
    }
   ],
   "source": [
    "data_reviews.groupby('language')['recommendation'].count()"
   ]
  },
  {
   "cell_type": "code",
   "execution_count": 4,
   "metadata": {},
   "outputs": [],
   "source": [
    "data_reviewsEN = data_reviews[data_reviews['language'] == 'en']"
   ]
  },
  {
   "cell_type": "code",
   "execution_count": 82,
   "metadata": {},
   "outputs": [],
   "source": [
    "Sample_data_reviewsEN = data_reviewsEN.sample(frac=0.7, random_state=1)"
   ]
  },
  {
   "cell_type": "code",
   "execution_count": 83,
   "metadata": {},
   "outputs": [
    {
     "data": {
      "text/plain": [
       "recommendation\n",
       "Not Recommended     71728\n",
       "Recommended        138415\n",
       "Name: language, dtype: int64"
      ]
     },
     "execution_count": 83,
     "metadata": {},
     "output_type": "execute_result"
    }
   ],
   "source": [
    "Sample_data_reviewsEN.groupby('recommendation')['language'].count()"
   ]
  },
  {
   "cell_type": "code",
   "execution_count": 99,
   "metadata": {},
   "outputs": [],
   "source": [
    "vectorizer = CountVectorizer(max_df = 0.9, min_df=0.003, max_features= 1900, binary= False, ngram_range=(1, 3))\n",
    "X = vectorizer.fit_transform(Sample_data_reviewsEN['clean_reviews'])"
   ]
  },
  {
   "cell_type": "code",
   "execution_count": 100,
   "metadata": {},
   "outputs": [],
   "source": [
    "reviews_vec = X.toarray()"
   ]
  },
  {
   "cell_type": "code",
   "execution_count": 101,
   "metadata": {},
   "outputs": [],
   "source": [
    "Sample_data_reviewsEN.loc[Sample_data_reviewsEN['recommendation'] == 'Not Recommended', 'rec'] = 0\n",
    "Sample_data_reviewsEN.loc[Sample_data_reviewsEN['recommendation'] == 'Recommended', 'rec'] = 1\n",
    "y = Sample_data_reviewsEN['rec']"
   ]
  },
  {
   "cell_type": "code",
   "execution_count": 118,
   "metadata": {},
   "outputs": [
    {
     "name": "stdout",
     "output_type": "stream",
     "text": [
      "['aaa', 'ability', 'able', 'able play', 'absolute', 'absolutely', 'access', 'access game', 'account', 'across', 'act', 'action', 'active', 'activity', 'actual', 'actually', 'add', 'added', 'addicted', 'addicting', 'addicting game', 'addictive', 'addictive game', 'adding', 'adding new', 'addition', 'admit', 'adrenaline', 'advantage', 'adventure', 'advice', 'af', 'affect', 'afford', 'age', 'ago', 'agree', 'ahead', 'ai', 'aim', 'aiming', 'air', 'ak', 'alive', 'allow', 'allowed', 'allowing', 'allows', 'almost', 'almost every', 'almost hour', 'alone', 'along', 'alot', 'alot fun', 'alpha', 'already', 'alright', 'also', 'although', 'always', 'amazing', 'amazing game', 'amd', 'american', 'ammo', 'amount', 'amount time', 'amp', 'andreas', 'angry', 'animal', 'animation', 'annoying', 'another', 'another game', 'answer', 'anti', 'anti cheat', 'anybody', 'anymore', 'anyone', 'anything', 'anyway', 'anyways', 'anywhere', 'apart', 'apparently', 'appeal', 'area', 'arent', 'arma', 'armor', 'around', 'art', 'asian', 'aside', 'ask', 'asked', 'asking', 'aspect', 'aspect game', 'aswell', 'atleast', 'atmosphere', 'attack', 'attempt', 'attention', 'audience', 'audio', 'auto', 'available', 'average', 'avoid', 'award', 'aware', 'away', 'awesome', 'awesome game', 'awful', 'awsome', 'baby', 'back', 'back game', 'bad', 'bad game', 'bad review', 'bad thing', 'badly', 'bag', 'balance', 'balanced', 'ball', 'ban', 'bank', 'banned', 'banned reason', 'banning', 'bar', 'barely', 'base', 'based', 'basic', 'basically', 'battle', 'battle royal', 'battle royal game', 'battle royale', 'battle royale game', 'battlefield', 'battleground', 'beach', 'bear', 'beat', 'beautiful', 'became', 'become', 'becomes', 'becoming', 'begin', 'beginning', 'behavior', 'behind', 'believe', 'besides', 'best', 'best battle', 'best battle royale', 'best game', 'best game ever', 'best game played', 'best survival', 'best survival game', 'beta', 'better', 'better game', 'beyond', 'big', 'bigger', 'biggest', 'bike', 'bit', 'black', 'blame', 'blast', 'block', 'blood', 'blow', 'blue', 'bluehole', 'blueprint', 'body', 'boost', 'bored', 'boring', 'bos', 'bot', 'bother', 'bought', 'bought game', 'bow', 'box', 'boy', 'bp', 'br', 'brain', 'break', 'breaking', 'brilliant', 'bring', 'bring back', 'brings', 'broke', 'broken', 'brought', 'btw', 'buck', 'buddy', 'bug', 'bug fix', 'bug game', 'bug glitch', 'buggy', 'build', 'build base', 'building', 'built', 'bullet', 'bunch', 'business', 'busy', 'button', 'buy', 'buy game', 'buy shark', 'buy shark card', 'buying', 'buying game', 'call', 'called', 'cam', 'came', 'camera', 'camp', 'campaign', 'camper', 'camping', 'cancer', 'cannot', 'cannot recommend', 'cant', 'cant even', 'cant play', 'cant wait', 'capcom', 'car', 'car soccer', 'card', 'care', 'case', 'cash', 'cash grab', 'casual', 'catch', 'cause', 'cease', 'cease desist', 'ceo', 'certain', 'certainly', 'challenge', 'challenging', 'chance', 'change', 'changed', 'changing', 'character', 'charge', 'chase', 'chased', 'chasing', 'chat', 'cheap', 'cheat', 'cheater', 'cheating', 'check', 'chicken', 'chicken dinner', 'child', 'china', 'chinese', 'chinese hacker', 'chinese player', 'choice', 'choose', 'circle', 'city', 'ck', 'claim', 'clan', 'classic', 'clear', 'clearly', 'click', 'client', 'close', 'closed', 'clothes', 'clothing', 'club', 'clunky', 'co', 'co op', 'cod', 'code', 'collect', 'com', 'com watch', 'combat', 'come', 'come back', 'coming', 'coming back', 'comment', 'common', 'communication', 'community', 'community toxic', 'company', 'compared', 'competitive', 'competitive game', 'complain', 'complaining', 'complaint', 'complete', 'completed', 'completely', 'computer', 'con', 'concept', 'conclusion', 'connect', 'connection', 'connection issue', 'connectivity', 'consider', 'considering', 'console', 'constant', 'constantly', 'consumer', 'content', 'continue', 'continues', 'control', 'controller', 'cool', 'cool game', 'cop', 'copy', 'core', 'corner', 'cosmetic', 'cost', 'could', 'could get', 'could not', 'could play', 'couldn', 'count', 'counter', 'countless', 'couple', 'course', 'cover', 'cpu', 'craft', 'crafting', 'crap', 'crappy', 'crash', 'crashed', 'crashing', 'crate', 'crazy', 'create', 'created', 'creating', 'creative', 'creator', 'cross', 'cry', 'csgo', 'currency', 'current', 'current state', 'currently', 'curve', 'custom', 'customer', 'customization', 'cut', 'cuz', 'daily', 'damage', 'damn', 'dark', 'dark soul', 'date', 'day', 'daylight', 'dayz', 'dead', 'dead daylight', 'deal', 'death', 'decent', 'decide', 'decided', 'decision', 'dedicated', 'deep', 'defend', 'definitely', 'definitely recommend', 'definitely worth', 'delay', 'depending', 'depth', 'desert', 'deserve', 'deserves', 'design', 'designed', 'desist', 'despite', 'destroy', 'destroyed', 'destroying', 'desync', 'detail', 'detailed', 'dev', 'dev team', 'developed', 'developer', 'development', 'devs', 'didnt', 'die', 'died', 'difference', 'different', 'difficult', 'difficulty', 'dinner', 'direction', 'disappointed', 'disconnect', 'disconnected', 'dislike', 'distance', 'dlc', 'dlcs', 'doe', 'doe not', 'doesn', 'doesnt', 'dog', 'dollar', 'done', 'dont', 'dont buy', 'dont buy game', 'dont even', 'dont get', 'dont know', 'dont like', 'dont play', 'door', 'double', 'doubt', 'download', 'downside', 'dr', 'dream', 'drive', 'driver', 'driving', 'drop', 'dropped', 'dropping', 'dude', 'due', 'dumb', 'duo', 'duo squad', 'dy', 'dying', 'ea', 'early', 'early access', 'early access game', 'earn', 'earned', 'easier', 'easily', 'easy', 'easy learn', 'easy learn hard', 'eat', 'ed', 'edge', 'edit', 'edition', 'effect', 'effort', 'either', 'element', 'else', 'empty', 'encounter', 'encountered', 'end', 'end game', 'end pc', 'ended', 'ending', 'endless', 'enemy', 'engine', 'english', 'enjoy', 'enjoy game', 'enjoy playing', 'enjoyable', 'enjoyed', 'enjoying', 'enjoyment', 'enough', 'enter', 'entertaining', 'entire', 'entirely', 'environment', 'epic', 'equipment', 'error', 'escape', 'especially', 'especially friend', 'essentially', 'etc', 'eu', 'euro', 'even', 'even better', 'even get', 'even play', 'even though', 'event', 'eventually', 'ever', 'ever made', 'ever played', 'ever seen', 'ever since', 'every', 'every day', 'every game', 'every match', 'every penny', 'every single', 'every time', 'every update', 'every week', 'everybody', 'everyday', 'everyone', 'everyone else', 'everything', 'everything game', 'everytime', 'everywhere', 'exactly', 'example', 'excellent', 'except', 'excited', 'exciting', 'excuse', 'exist', 'expect', 'expected', 'expensive', 'experience', 'experience game', 'experienced', 'explain', 'explore', 'extra', 'extremely', 'extremely fun', 'eye', 'face', 'facepunch', 'fact', 'factor', 'fail', 'failed', 'fair', 'fairly', 'fall', 'family', 'fan', 'fantastic', 'fantastic game', 'far', 'farm', 'farming', 'fast', 'fast paced', 'faster', 'fault', 'favor', 'favorite', 'favorite game', 'favourite', 'favourite game', 'fear', 'feature', 'feedback', 'feel', 'feel like', 'feeling', 'felt', 'field', 'fight', 'fighting', 'figure', 'file', 'filled', 'final', 'finally', 'find', 'find game', 'finding', 'fine', 'finish', 'finished', 'fire', 'first', 'first game', 'first hour', 'first person', 'first time', 'fit', 'five', 'fix', 'fix bug', 'fix game', 'fix issue', 'fix problem', 'fixed', 'fixing', 'flaw', 'flip', 'floor', 'fly', 'flying', 'focus', 'focused', 'follow', 'following', 'food', 'foot', 'football', 'force', 'forced', 'forcing', 'forever', 'forget', 'form', 'fortnite', 'forum', 'forward', 'found', 'four', 'fps', 'fps drop', 'fps game', 'frame', 'framerate', 'franchise', 'freaking', 'free', 'free best', 'free game', 'free good', 'free good game', 'free nice', 'free play', 'freedom', 'freeze', 'frequent', 'frequently', 'fresh', 'friend', 'friend game', 'friend get', 'friend not', 'friend play', 'friendly', 'front', 'frustrated', 'frustrating', 'frustration', 'full', 'full hacker', 'full price', 'full release', 'fully', 'fun', 'fun even', 'fun friend', 'fun game', 'fun game play', 'fun get', 'fun not', 'fun play', 'fun play friend', 'fun playing', 'fun time', 'funny', 'future', 'gain', 'game', 'game absolutely', 'game actually', 'game almost', 'game alot', 'game already', 'game also', 'game always', 'game amazing', 'game anymore', 'game anyone', 'game awesome', 'game bad', 'game best', 'game better', 'game bought', 'game breaking', 'game bug', 'game buy', 'game cant', 'game come', 'game community', 'game could', 'game crash', 'game current', 'game day', 'game definitely', 'game developer', 'game devs', 'game doe', 'game doesn', 'game dont', 'game early', 'game early access', 'game easy', 'game enjoy', 'game especially', 'game even', 'game ever', 'game ever played', 'game every', 'game everyone', 'game experience', 'game extremely', 'game far', 'game feel', 'game find', 'game first', 'game fix', 'game friend', 'game full', 'game fun', 'game fun play', 'game game', 'game get', 'game getting', 'game give', 'game go', 'game going', 'game good', 'game got', 'game graphic', 'game great', 'game ha', 'game ha lot', 'game hard', 'game highly', 'game hope', 'game hour', 'game however', 'game im', 'game ing', 'game isn', 'game ive', 'game keep', 'game know', 'game like', 'game long', 'game look', 'game lot', 'game lot fun', 'game love', 'game made', 'game make', 'game many', 'game mechanic', 'game mode', 'game money', 'game much', 'game much fun', 'game must', 'game need', 'game never', 'game new', 'game nice', 'game not', 'game one', 'game online', 'game overall', 'game pc', 'game people', 'game perfect', 'game play', 'game play friend', 'game played', 'game player', 'game playing', 'game please', 'game pretty', 'game probably', 'game quite', 'game really', 'game really fun', 'game recommend', 'game right', 'game rockstar', 'game run', 'game say', 'game see', 'game seems', 'game server', 'game since', 'game start', 'game steam', 'game still', 'game suck', 'game super', 'game take', 'game think', 'game though', 'game time', 'game try', 'game unless', 'game unplayable', 'game update', 'game used', 'game wa', 'game want', 'game way', 'game well', 'game without', 'game work', 'game worth', 'game would', 'game would recommend', 'game year', 'game yes', 'game yet', 'gameplay', 'gamer', 'gamers', 'gaming', 'garbage', 'garry', 'gather', 'gathering', 'gave', 'gb', 'gb ram', 'gear', 'gen', 'general', 'generally', 'generator', 'genre', 'get', 'get back', 'get banned', 'get better', 'get bored', 'get boring', 'get fps', 'get game', 'get good', 'get killed', 'get money', 'get raided', 'get rid', 'get shot', 'get stuck', 'get used', 'get wrong', 'getting', 'getting banned', 'getting better', 'getting game', 'getting killed', 'gg', 'ghz', 'giant', 'give', 'give game', 'given', 'giving', 'glad', 'glitch', 'glitchy', 'go', 'go back', 'go play', 'goal', 'god', 'going', 'gone', 'gonna', 'good', 'good enough', 'good fun', 'good game', 'good graphic', 'good job', 'good luck', 'good pc', 'good thing', 'good time', 'got', 'got banned', 'got game', 'gotta', 'gotten', 'gpu', 'grab', 'grand', 'grand theft', 'grand theft auto', 'graphic', 'graphic card', 'grass', 'great', 'great fun', 'great game', 'great game play', 'great graphic', 'great job', 'great time', 'greatest', 'greed', 'greedy', 'grind', 'grinding', 'grindy', 'ground', 'group', 'group friend', 'grow', 'gt', 'gta', 'gta game', 'gta iv', 'gta online', 'gtav', 'gtx', 'gtx gb', 'gud', 'guess', 'gun', 'gunplay', 'guy', 'ha', 'ha become', 'ha good', 'ha great', 'ha lot', 'ha made', 'ha many', 'hack', 'hacker', 'hacker game', 'hacking', 'half', 'hand', 'handle', 'hang', 'happen', 'happened', 'happening', 'happens', 'happy', 'hard', 'hard get', 'hard master', 'hardcore', 'harder', 'hardware', 'hat', 'hate', 'hate game', 'havent', 'head', 'headshot', 'health', 'hear', 'heard', 'heart', 'heavily', 'heavy', 'heist', 'helicopter', 'hell', 'help', 'helped', 'hey', 'hide', 'hiding', 'high', 'high end', 'higher', 'highest', 'highly', 'highly recommend', 'highly recommend game', 'highly recommended', 'hilarious', 'hill', 'history', 'hit', 'hit ball', 'hitting', 'hold', 'holding', 'hole', 'holy', 'home', 'honest', 'honestly', 'hook', 'hooked', 'hope', 'hopefully', 'hoping', 'horrible', 'horror', 'horror game', 'host', 'hot', 'hour', 'hour fun', 'hour game', 'hour gameplay', 'hour hour', 'hour played', 'hour playing', 'hour still', 'house', 'however', 'hr', 'http', 'http www', 'http www youtube', 'huge', 'human', 'hundred', 'hundred hour', 'hunger', 'hunt', 'hunter', 'hunter game', 'hunter world', 'hunting', 'hurt', 'hype', 'id', 'idea', 'idiot', 'idk', 'ign', 'ignore', 'ill', 'illegal', 'im', 'im not', 'imagine', 'immediately', 'immersive', 'imo', 'implemented', 'important', 'impossible', 'improve', 'improved', 'improvement', 'improving', 'including', 'increase', 'incredible', 'incredibly', 'infinite', 'ing', 'ing game', 'ingame', 'initial', 'insane', 'insanely', 'inside', 'install', 'installed', 'instant', 'instantly', 'instead', 'intense', 'interaction', 'interactive', 'interest', 'interested', 'interesting', 'internet', 'inventory', 'invite', 'involved', 'island', 'isn', 'isnt', 'issue', 'issue game', 'item', 'iv', 'ive', 'ive played', 'job', 'join', 'join server', 'joined', 'joining', 'joke', 'joy', 'jump', 'jumping', 'keep', 'keep coming', 'keep getting', 'keep mind', 'keep playing', 'keeping', 'kept', 'key', 'keyboard', 'kick', 'kicked', 'kid', 'kill', 'killed', 'killer', 'killer survivor', 'killing', 'kind', 'kinda', 'king', 'knew', 'know', 'know game', 'knowing', 'known', 'lack', 'lacking', 'lag', 'lagging', 'laggy', 'land', 'landing', 'language', 'laptop', 'large', 'last', 'late', 'later', 'latest', 'laugh', 'launch', 'lazy', 'le', 'lead', 'leaf', 'league', 'learn', 'learn hard', 'learn hard master', 'learned', 'learning', 'learning curve', 'least', 'leave', 'leaving', 'left', 'legacy', 'legit', 'let', 'level', 'library', 'lie', 'life', 'light', 'like', 'like game', 'like play', 'like playing', 'liked', 'likely', 'limit', 'limited', 'line', 'list', 'listen', 'listening', 'literally', 'little', 'little bit', 'live', 'living', 'load', 'load time', 'loaded', 'loading', 'loading screen', 'loading time', 'lobby', 'location', 'lock', 'locked', 'log', 'logged', 'lol', 'long', 'long time', 'longer', 'look', 'look like', 'looked', 'looking', 'looking forward', 'loot', 'loot box', 'looting', 'los', 'los santos', 'lose', 'losing', 'loss', 'lost', 'lot', 'lot bug', 'lot fun', 'lot game', 'lot people', 'lot potential', 'lot time', 'love', 'love game', 'loved', 'loved game', 'loving', 'low', 'low setting', 'lower', 'lowest', 'lt', 'luck', 'lucky', 'machine', 'mad', 'made', 'made game', 'main', 'mainly', 'major', 'majority', 'make', 'make feel', 'make game', 'make money', 'make sense', 'make sure', 'make want', 'making', 'making game', 'man', 'manage', 'managed', 'many', 'many bug', 'many cheater', 'many game', 'many hacker', 'many hour', 'many people', 'many thing', 'many time', 'map', 'market', 'massive', 'master', 'masterpiece', 'match', 'matchmaking', 'mate', 'material', 'matter', 'max', 'may', 'may not', 'maybe', 'mean', 'meaning', 'meant', 'mechanic', 'medium', 'meet', 'meh', 'member', 'memory', 'men', 'mention', 'mentioned', 'menu', 'mess', 'message', 'met', 'metal', 'mh', 'mic', 'micro', 'micro transaction', 'microtransactions', 'mid', 'middle', 'might', 'million', 'min', 'mind', 'mine', 'minecraft', 'minimum', 'minor', 'minute', 'miss', 'missing', 'mission', 'mistake', 'mix', 'mixed', 'mobile', 'mod', 'mod game', 'modded', 'modder', 'modders', 'modding', 'modding community', 'mode', 'model', 'moment', 'money', 'money back', 'money buy', 'money game', 'monster', 'monster hunter', 'monster hunter game', 'monster hunter world', 'month', 'month ago', 'mostly', 'motorcycle', 'mountain', 'mouse', 'move', 'movement', 'movie', 'moving', 'mp', 'much', 'much better', 'much fun', 'much game', 'much money', 'much time', 'multiplayer', 'multiplayer game', 'multiple', 'music', 'must', 'must buy', 'na', 'na server', 'naked', 'name', 'nd', 'near', 'nearly', 'need', 'need fix', 'need lot', 'need work', 'needed', 'negative', 'negative review', 'net', 'netcode', 'network', 'never', 'never get', 'never played', 'new', 'new content', 'new game', 'new map', 'new player', 'new update', 'next', 'nice', 'nice game', 'night', 'nobody', 'non', 'none', 'noob', 'normal', 'normally', 'not', 'not able', 'not bad', 'not best', 'not buy', 'not buy game', 'not enough', 'not even', 'not fun', 'not game', 'not get', 'not going', 'not good', 'not like', 'not mention', 'not much', 'not play', 'not really', 'not recommend', 'not recommend game', 'not recommended', 'not sure', 'not worth', 'note', 'nothing', 'notice', 'noticed', 'nowhere', 'npc', 'number', 'nvidia', 'object', 'objective', 'obvious', 'obviously', 'occasional', 'offer', 'official', 'offline', 'often', 'oh', 'ok', 'okay', 'old', 'older', 'one', 'one best', 'one best game', 'one day', 'one favorite', 'one favorite game', 'one game', 'one thing', 'one time', 'online', 'online game', 'online mode', 'online play', 'onto', 'op', 'open', 'open iv', 'open world', 'open world game', 'opening', 'openiv', 'opinion', 'opponent', 'optimisation', 'optimised', 'optimization', 'optimize', 'optimized', 'option', 'order', 'original', 'others', 'otherwise', 'outside', 'overall', 'overall game', 'overall great', 'overpriced', 'owned', 'paced', 'pack', 'paid', 'pain', 'pan', 'parachute', 'part', 'part game', 'party', 'pas', 'past', 'patch', 'patience', 'pay', 'pay win', 'paying', 'pc', 'pc game', 'pc port', 'pc version', 'penny', 'people', 'people game', 'people get', 'people like', 'people play', 'people playing', 'people want', 'per', 'perfect', 'perfect game', 'perfectly', 'performance', 'performance issue', 'perhaps', 'period', 'perk', 'person', 'personal', 'personally', 'physic', 'pick', 'picked', 'picking', 'piece', 'pile', 'ping', 'pistol', 'place', 'plain', 'plan', 'plane', 'platform', 'play', 'play alone', 'play fortnite', 'play friend', 'play game', 'play gta', 'play hour', 'play like', 'play not', 'play online', 'play solo', 'play time', 'playable', 'played', 'played friend', 'played game', 'played hour', 'player', 'player base', 'player game', 'player get', 'player mod', 'player not', 'playerbase', 'playerunknown', 'playing', 'playing friend', 'playing game', 'playing online', 'playing solo', 'playtime', 'please', 'please fix', 'plenty', 'pls', 'plus', 'plz', 'point', 'point game', 'pointless', 'policy', 'polished', 'poor', 'poorly', 'poorly optimized', 'pop', 'popular', 'port', 'portion', 'position', 'positive', 'positive review', 'possible', 'possibly', 'post', 'potato', 'potential', 'power', 'powered', 'powerful', 'ppl', 'practice', 'pre', 'prefer', 'prepare', 'prepared', 'present', 'press', 'pretty', 'pretty fun', 'pretty good', 'pretty good game', 'pretty much', 'prevent', 'previous', 'price', 'private', 'pro', 'probably', 'problem', 'problem game', 'process', 'product', 'product received', 'product received free', 'profit', 'program', 'progress', 'progression', 'promise', 'proper', 'properly', 'provide', 'psyonix', 'pubg', 'public', 'publisher', 'pull', 'purchase', 'purchased', 'purchasing', 'pure', 'purpose', 'push', 'put', 'put game', 'putting', 'pve', 'pvp', 'quality', 'quest', 'question', 'queue', 'quick', 'quickly', 'quit', 'quite', 'race', 'racing', 'rage', 'raid', 'raided', 'raiding', 'ram', 'rampant', 'ran', 'random', 'randomly', 'range', 'rank', 'ranked', 'ranking', 'rare', 'rarely', 'rate', 'rather', 'rating', 'rd', 'reach', 'read', 'reading', 'ready', 'real', 'real life', 'real money', 'realistic', 'reality', 'realize', 'really', 'really bad', 'really enjoy', 'really fun', 'really fun game', 'really good', 'really good game', 'really great', 'really like', 'really love', 'really need', 'really nice', 'really really', 'really want', 'realy', 'reason', 'reccomend', 'reccomend game', 'received', 'received free', 'received free best', 'received free game', 'received free good', 'received free nice', 'recent', 'recently', 'recoil', 'recomend', 'recomend game', 'recommend', 'recommend anyone', 'recommend buying', 'recommend game', 'recommend game anyone', 'recommendation', 'recommended', 'record', 'red', 'refund', 'refuse', 'regardless', 'region', 'region lock', 'regret', 'regular', 'release', 'release game', 'released', 'releasing', 'remember', 'remove', 'removed', 'removing', 'repeat', 'repetitive', 'replay', 'replayability', 'report', 'require', 'required', 'requirement', 'requires', 'research', 'reset', 'resolution', 'resource', 'respect', 'response', 'rest', 'restart', 'result', 'return', 'review', 'review game', 'reward', 'rewarding', 'rich', 'rid', 'ridiculous', 'rifle', 'rig', 'right', 'rip', 'risk', 'rng', 'road', 'rock', 'rocket', 'rocket league', 'rockstar', 'rockstar game', 'rockstar ha', 'rockstar take', 'room', 'round', 'row', 'royal', 'royal game', 'royale', 'royale game', 'ruin', 'ruin game', 'ruined', 'ruining', 'rule', 'run', 'run around', 'run game', 'run like', 'run well', 'running', 'running around', 'rush', 'russian', 'rust', 'sad', 'sadly', 'safe', 'said', 'sale', 'salt', 'salty', 'san', 'san andreas', 'sandbox', 'santos', 'satisfying', 'save', 'save money', 'saw', 'say', 'say game', 'saying', 'scary', 'scene', 'school', 'scope', 'score', 'scream', 'screaming', 'screen', 'screw', 'screwed', 'search', 'season', 'second', 'see', 'see game', 'seeing', 'seem', 'seemed', 'seems', 'seems like', 'seen', 'selection', 'self', 'sell', 'selling', 'semi', 'send', 'sense', 'sent', 'series', 'serious', 'seriously', 'server', 'server issue', 'server lag', 'service', 'session', 'set', 'setting', 'setup', 'several', 'sh', 'shame', 'share', 'shark', 'shark card', 'shoot', 'shooter', 'shooting', 'short', 'shot', 'shotgun', 'shouldn', 'show', 'shut', 'sick', 'side', 'sight', 'sign', 'similar', 'simple', 'simply', 'simulator', 'since', 'since game', 'since release', 'single', 'single player', 'single player game', 'single player mod', 'singleplayer', 'sit', 'sitting', 'situation', 'size', 'skill', 'skin', 'sky', 'skyrim', 'sleep', 'slightly', 'slow', 'slowly', 'small', 'smaller', 'smooth', 'smoothly', 'sniper', 'soccer', 'soccer car', 'social', 'social club', 'software', 'sold', 'solid', 'solo', 'solo player', 'solution', 'somebody', 'somehow', 'someone', 'something', 'something else', 'something like', 'sometimes', 'somewhat', 'somewhere', 'soon', 'sorry', 'sort', 'soul', 'sound', 'soundtrack', 'sp', 'space', 'spawn', 'spawned', 'speak', 'speaking', 'spec', 'special', 'specific', 'speed', 'spend', 'spend hour', 'spend money', 'spend time', 'spending', 'spent', 'spent hour', 'spike', 'sport', 'sport game', 'spot', 'squad', 'ssd', 'st', 'stable', 'stage', 'stand', 'standard', 'standing', 'star', 'start', 'start game', 'start playing', 'started', 'started playing', 'starting', 'state', 'stay', 'stay away', 'steal', 'steam', 'step', 'stick', 'still', 'still alpha', 'still early', 'still early access', 'still fun', 'still get', 'still good', 'still ha', 'still need', 'still not', 'still play', 'stone', 'stop', 'stop playing', 'stopped', 'store', 'story', 'story mode', 'storyline', 'straight', 'strategy', 'stream', 'streamer', 'strong', 'strongly', 'struggle', 'stuck', 'stuff', 'stupid', 'style', 'suck', 'suddenly', 'suggest', 'super', 'super fun', 'supply', 'support', 'supporting', 'supposed', 'sure', 'survival', 'survival game', 'survive', 'surviving', 'survivor', 'survivor killer', 'sweet', 'switch', 'system', 'tactic', 'tactical', 'tag', 'take', 'take away', 'take long', 'take time', 'take two', 'take two interactive', 'taken', 'taking', 'talk', 'talking', 'tank', 'target', 'task', 'tbh', 'team', 'teammate', 'teamwork', 'technical', 'tell', 'telling', 'ten', 'tend', 'term', 'terrible', 'test', 'texture', 'th', 'thank', 'thanks', 'thats', 'theft', 'theft auto', 'thing', 'thing game', 'thing like', 'think', 'think game', 'thinking', 'third', 'third person', 'tho', 'though', 'thought', 'thought wa', 'thousand', 'three', 'throughout', 'throw', 'thumb', 'thus', 'ti', 'tier', 'till', 'time', 'time game', 'time get', 'time money', 'time not', 'time play', 'time playing', 'time time', 'time wa', 'tip', 'tired', 'title', 'tl', 'tl dr', 'today', 'together', 'told', 'ton', 'ton fun', 'took', 'tool', 'top', 'total', 'totally', 'touch', 'tough', 'towards', 'town', 'toxic', 'toxic community', 'track', 'transaction', 'trap', 'trash', 'trash game', 'tree', 'trevor', 'tried', 'troll', 'trouble', 'true', 'truly', 'trust', 'try', 'trying', 'trying get', 'turn', 'turned', 'turning', 'tutorial', 'twice', 'twitch', 'two', 'two interactive', 'type', 'type game', 'ui', 'ultra', 'unable', 'unbalanced', 'understand', 'unfair', 'unfinished', 'unfortunately', 'uninstall', 'uninstalled', 'unique', 'unknown', 'unless', 'unlike', 'unlock', 'unoptimized', 'unplayable', 'untill', 'update', 'update game', 'updated', 'updating', 'upgrade', 'upon', 'ur', 'us', 'use', 'used', 'useless', 'user', 'using', 'usually', 'value', 'variety', 'various', 'vehicle', 'version', 'version game', 'veteran', 'via', 'video', 'video game', 'view', 'visuals', 'voice', 'voice chat', 'wa', 'wa fun', 'wa good', 'wa great', 'wa not', 'wa really', 'wa released', 'wait', 'wait sale', 'wait see', 'waited', 'waiting', 'wake', 'walk', 'walking', 'wall', 'wanna', 'want', 'want buy', 'want game', 'want get', 'want money', 'want play', 'want play game', 'wanted', 'wanting', 'war', 'warning', 'wasn', 'waste', 'waste money', 'waste time', 'wasted', 'wasting', 'watch', 'watched', 'watching', 'water', 'way', 'way better', 'way game', 'way get', 'way play', 'weapon', 'week', 'weekend', 'weekly', 'weird', 'welcome', 'well', 'well done', 'well game', 'well made', 'well worth', 'went', 'whatever', 'whats', 'wheel', 'whenever', 'whether', 'whilst', 'white', 'whole', 'whole game', 'wide', 'willing', 'win', 'win game', 'window', 'winning', 'wipe', 'wise', 'wish', 'wish could', 'within', 'without', 'wolf', 'wonder', 'wonderful', 'wont', 'wood', 'word', 'work', 'worked', 'working', 'world', 'world game', 'worry', 'worse', 'worst', 'worst game', 'worst game ever', 'worth', 'worth buy', 'worth buying', 'worth every', 'worth every penny', 'worth money', 'worth price', 'would', 'would buy', 'would get', 'would like', 'would love', 'would not', 'would not recommend', 'would play', 'would reccomend', 'would recommend', 'would recommend game', 'would say', 'wouldn', 'wouldnt', 'wow', 'write', 'write review', 'writing', 'wrong', 'wtf', 'www', 'www youtube', 'www youtube com', 'xbox', 'xbox one', 'xd', 'xp', 'ya', 'yeah', 'year', 'year ago', 'year old', 'yes', 'yet', 'youre', 'youtube', 'youtube com', 'youtube com watch', 'zero', 'zombie', 'zone']\n"
     ]
    }
   ],
   "source": [
    "print(vectorizer.get_feature_names())"
   ]
  },
  {
   "cell_type": "code",
   "execution_count": 103,
   "metadata": {},
   "outputs": [
    {
     "data": {
      "text/plain": [
       "2376"
      ]
     },
     "execution_count": 103,
     "metadata": {},
     "output_type": "execute_result"
    }
   ],
   "source": [
    "len(reviews_vec[1])"
   ]
  },
  {
   "cell_type": "markdown",
   "metadata": {},
   "source": [
    "# Train Test"
   ]
  },
  {
   "cell_type": "code",
   "execution_count": 104,
   "metadata": {},
   "outputs": [],
   "source": [
    "X_train, X_test, y_train, y_test = train_test_split(X, y,\n",
    "                                                    test_size = 0.2,\n",
    "                                                    random_state = 1998\n",
    "                                                    ,stratify = y)"
   ]
  },
  {
   "cell_type": "code",
   "execution_count": 105,
   "metadata": {},
   "outputs": [],
   "source": [
    "X_train_M, X_val, y_train_M, y_val = train_test_split(X_train, y_train,\n",
    "                                                    test_size = 0.15,\n",
    "                                                    random_state = 98\n",
    "                                                    ,stratify = y_train)\n"
   ]
  },
  {
   "cell_type": "code",
   "execution_count": 106,
   "metadata": {},
   "outputs": [],
   "source": [
    "model = models.Sequential()\n",
    "model.add(layers.Dense(10,activation = 'tanh', input_dim = len(reviews_vec[1])))\n",
    "#model.add(layers.Dense(10,activation = 'tanh'))\n",
    "model.add(layers.Dense(1,activation = 'sigmoid'))"
   ]
  },
  {
   "cell_type": "code",
   "execution_count": 107,
   "metadata": {},
   "outputs": [],
   "source": [
    "model.compile(optimizer = 'rmsprop', loss = 'binary_crossentropy', metrics = ['accuracy'] )"
   ]
  },
  {
   "cell_type": "code",
   "execution_count": 108,
   "metadata": {},
   "outputs": [
    {
     "name": "stdout",
     "output_type": "stream",
     "text": [
      "Train on 142896 samples, validate on 25218 samples\n",
      "Epoch 1/10\n",
      "142896/142896 [==============================] - 10s 69us/step - loss: 0.3656 - accuracy: 0.8455 - val_loss: 0.3290 - val_accuracy: 0.8588\n",
      "Epoch 2/10\n",
      "142896/142896 [==============================] - 6s 44us/step - loss: 0.3195 - accuracy: 0.8650 - val_loss: 0.3254 - val_accuracy: 0.8621\n",
      "Epoch 3/10\n",
      "142896/142896 [==============================] - 6s 45us/step - loss: 0.3137 - accuracy: 0.8678 - val_loss: 0.3270 - val_accuracy: 0.8614\n",
      "Epoch 4/10\n",
      "142896/142896 [==============================] - 7s 48us/step - loss: 0.3115 - accuracy: 0.8693 - val_loss: 0.3253 - val_accuracy: 0.8618\n",
      "Epoch 5/10\n",
      "142896/142896 [==============================] - 6s 44us/step - loss: 0.3097 - accuracy: 0.8702 - val_loss: 0.3262 - val_accuracy: 0.8627\n",
      "Epoch 6/10\n",
      "142896/142896 [==============================] - 7s 48us/step - loss: 0.3084 - accuracy: 0.8713 - val_loss: 0.3262 - val_accuracy: 0.8639\n",
      "Epoch 7/10\n",
      "142896/142896 [==============================] - 7s 47us/step - loss: 0.3075 - accuracy: 0.8718 - val_loss: 0.3264 - val_accuracy: 0.8632\n",
      "Epoch 8/10\n",
      "142896/142896 [==============================] - 7s 49us/step - loss: 0.3065 - accuracy: 0.8720 - val_loss: 0.3267 - val_accuracy: 0.8630\n",
      "Epoch 9/10\n",
      "142896/142896 [==============================] - 7s 48us/step - loss: 0.3056 - accuracy: 0.8725 - val_loss: 0.3276 - val_accuracy: 0.8632\n",
      "Epoch 10/10\n",
      "142896/142896 [==============================] - 7s 50us/step - loss: 0.3050 - accuracy: 0.8733 - val_loss: 0.3277 - val_accuracy: 0.8630\n"
     ]
    }
   ],
   "source": [
    "history = model.fit(X_train_M, y_train_M, epochs = 10, batch_size = 128, validation_data = (X_val, y_val))"
   ]
  },
  {
   "cell_type": "code",
   "execution_count": 110,
   "metadata": {},
   "outputs": [
    {
     "data": {
      "text/plain": [
       "<matplotlib.legend.Legend at 0x1e94e5e70c8>"
      ]
     },
     "execution_count": 110,
     "metadata": {},
     "output_type": "execute_result"
    },
    {
     "data": {
      "image/png": "[encoded data removed]",
      "text/plain": [
       "<Figure size 432x288 with 1 Axes>"
      ]
     },
     "metadata": {
      "needs_background": "light"
     },
     "output_type": "display_data"
    }
   ],
   "source": [
    "history_dict = history.history\n",
    "loss_values = history_dict['loss']\n",
    "val_loss_values = history_dict['val_loss']\n",
    "\n",
    "epochs = range(1, len(loss_values) + 1)\n",
    "\n",
    "plt.plot(epochs, loss_values, 'bo', label = 'Training Loss')\n",
    "plt.plot(epochs, val_loss_values, 'b', label = 'Validation Loss')\n",
    "plt.title('Training and Validation Loss')\n",
    "plt.xlabel('Epochs')\n",
    "plt.ylabel('Loss')\n",
    "plt.legend()"
   ]
  },
  {
   "cell_type": "code",
   "execution_count": 111,
   "metadata": {},
   "outputs": [
    {
     "data": {
      "text/plain": [
       "<matplotlib.legend.Legend at 0x1e8a3828fc8>"
      ]
     },
     "execution_count": 111,
     "metadata": {},
     "output_type": "execute_result"
    },
    {
     "data": {
      "image/png": "[encoded data removed]",
      "text/plain": [
       "<Figure size 432x288 with 1 Axes>"
      ]
     },
     "metadata": {
      "needs_background": "light"
     },
     "output_type": "display_data"
    }
   ],
   "source": [
    "history_dict = history.history\n",
    "accuracy_values = history_dict['accuracy']\n",
    "val_accuracy_values = history_dict['val_accuracy']\n",
    "\n",
    "epochs = range(1, len(accuracy_values) + 1)\n",
    "\n",
    "plt.plot(epochs, accuracy_values, 'bo', label = 'Training Accuracy')\n",
    "plt.plot(epochs, val_accuracy_values, 'b', label = 'Validation Accuracy')\n",
    "plt.title('Training and Validation Loss')\n",
    "plt.xlabel('Epochs')\n",
    "plt.ylabel('Accuracy')\n",
    "plt.legend()"
   ]
  },
  {
   "cell_type": "code",
   "execution_count": 112,
   "metadata": {},
   "outputs": [
    {
     "name": "stdout",
     "output_type": "stream",
     "text": [
      "42029/42029 [==============================] - 3s 60us/step\n"
     ]
    },
    {
     "data": {
      "text/plain": [
       "[0.3270096271335277, 0.8643555641174316]"
      ]
     },
     "execution_count": 112,
     "metadata": {},
     "output_type": "execute_result"
    }
   ],
   "source": [
    "model.evaluate(X_test , y_test)"
   ]
  },
  {
   "cell_type": "markdown",
   "metadata": {},
   "source": [
    "## Predicting New Data"
   ]
  },
  {
   "cell_type": "code",
   "execution_count": 113,
   "metadata": {},
   "outputs": [],
   "source": [
    "teste = data_reviewsEN.sample(frac=0.1, random_state=25)"
   ]
  },
  {
   "cell_type": "code",
   "execution_count": 114,
   "metadata": {},
   "outputs": [],
   "source": [
    "vectors = vectorizer.transform(teste['clean_reviews'])"
   ]
  },
  {
   "cell_type": "code",
   "execution_count": 115,
   "metadata": {},
   "outputs": [],
   "source": [
    "pred = model.predict(vectors)"
   ]
  },
  {
   "cell_type": "code",
   "execution_count": 116,
   "metadata": {},
   "outputs": [],
   "source": [
    "teste['Predicted'] = np.around(pred, 2)"
   ]
  },
  {
   "cell_type": "code",
   "execution_count": 117,
   "metadata": {},
   "outputs": [
    {
     "data": {
      "text/html": [
       "<div>\n",
       "<style scoped>\n",
       "    .dataframe tbody tr th:only-of-type {\n",
       "        vertical-align: middle;\n",
       "    }\n",
       "\n",
       "    .dataframe tbody tr th {\n",
       "        vertical-align: top;\n",
       "    }\n",
       "\n",
       "    .dataframe thead th {\n",
       "        text-align: right;\n",
       "    }\n",
       "</style>\n",
       "<table border=\"1\" class=\"dataframe\">\n",
       "  <thead>\n",
       "    <tr style=\"text-align: right;\">\n",
       "      <th></th>\n",
       "      <th>date_posted</th>\n",
       "      <th>funny</th>\n",
       "      <th>helpful</th>\n",
       "      <th>hour_played</th>\n",
       "      <th>is_early_access_review</th>\n",
       "      <th>recommendation</th>\n",
       "      <th>review</th>\n",
       "      <th>title</th>\n",
       "      <th>length_review</th>\n",
       "      <th>clean_reviews</th>\n",
       "      <th>language</th>\n",
       "      <th>Predicted</th>\n",
       "    </tr>\n",
       "  </thead>\n",
       "  <tbody>\n",
       "    <tr>\n",
       "      <th>108647</th>\n",
       "      <td>2017-06-17</td>\n",
       "      <td>0</td>\n",
       "      <td>0</td>\n",
       "      <td>1014</td>\n",
       "      <td>False</td>\n",
       "      <td>Not Recommended</td>\n",
       "      <td>Did you think GTA 4 is the worst game of whole...</td>\n",
       "      <td>Grand Theft Auto V</td>\n",
       "      <td>1055</td>\n",
       "      <td>think gta worst game whole series gta much wor...</td>\n",
       "      <td>en</td>\n",
       "      <td>0.02</td>\n",
       "    </tr>\n",
       "    <tr>\n",
       "      <th>368567</th>\n",
       "      <td>2018-06-24</td>\n",
       "      <td>0</td>\n",
       "      <td>0</td>\n",
       "      <td>13</td>\n",
       "      <td>False</td>\n",
       "      <td>Not Recommended</td>\n",
       "      <td>Product received for free. dont try itit got b...</td>\n",
       "      <td>Rust</td>\n",
       "      <td>88</td>\n",
       "      <td>product received free dont try itit got blue s...</td>\n",
       "      <td>en</td>\n",
       "      <td>0.16</td>\n",
       "    </tr>\n",
       "    <tr>\n",
       "      <th>158144</th>\n",
       "      <td>2015-04-30</td>\n",
       "      <td>3</td>\n",
       "      <td>2</td>\n",
       "      <td>871</td>\n",
       "      <td>False</td>\n",
       "      <td>Recommended</td>\n",
       "      <td>I Sold all CS GO skins to buy this games.And y...</td>\n",
       "      <td>Grand Theft Auto V</td>\n",
       "      <td>79</td>\n",
       "      <td>sold c go skin buy game know worth game simply...</td>\n",
       "      <td>en</td>\n",
       "      <td>0.90</td>\n",
       "    </tr>\n",
       "    <tr>\n",
       "      <th>7048</th>\n",
       "      <td>2018-09-18</td>\n",
       "      <td>0</td>\n",
       "      <td>0</td>\n",
       "      <td>388</td>\n",
       "      <td>False</td>\n",
       "      <td>Not Recommended</td>\n",
       "      <td>New killer is pretty much a bag of But you can...</td>\n",
       "      <td>Dead by Daylight</td>\n",
       "      <td>55</td>\n",
       "      <td>new killer pretty much bag throw rock survivor...</td>\n",
       "      <td>en</td>\n",
       "      <td>0.84</td>\n",
       "    </tr>\n",
       "    <tr>\n",
       "      <th>86333</th>\n",
       "      <td>2015-12-08</td>\n",
       "      <td>0</td>\n",
       "      <td>0</td>\n",
       "      <td>527</td>\n",
       "      <td>False</td>\n",
       "      <td>Recommended</td>\n",
       "      <td>One of the best games i played!!Pro Unbelievab...</td>\n",
       "      <td>Rocket League®</td>\n",
       "      <td>240</td>\n",
       "      <td>one best game played pro unbelievable fun frie...</td>\n",
       "      <td>en</td>\n",
       "      <td>0.99</td>\n",
       "    </tr>\n",
       "    <tr>\n",
       "      <th>208173</th>\n",
       "      <td>2018-04-11</td>\n",
       "      <td>0</td>\n",
       "      <td>0</td>\n",
       "      <td>67</td>\n",
       "      <td>False</td>\n",
       "      <td>Recommended</td>\n",
       "      <td>Let's just say the game ain't easy. It took me...</td>\n",
       "      <td>PLAYERUNKNOWN'S BATTLEGROUNDS</td>\n",
       "      <td>163</td>\n",
       "      <td>let say game easy took game exact get win game...</td>\n",
       "      <td>en</td>\n",
       "      <td>0.91</td>\n",
       "    </tr>\n",
       "    <tr>\n",
       "      <th>236871</th>\n",
       "      <td>2017-10-05</td>\n",
       "      <td>0</td>\n",
       "      <td>0</td>\n",
       "      <td>15</td>\n",
       "      <td>True</td>\n",
       "      <td>Not Recommended</td>\n",
       "      <td>Product received for free. worst game ever</td>\n",
       "      <td>PLAYERUNKNOWN'S BATTLEGROUNDS</td>\n",
       "      <td>37</td>\n",
       "      <td>product received free worst game ever</td>\n",
       "      <td>en</td>\n",
       "      <td>0.03</td>\n",
       "    </tr>\n",
       "    <tr>\n",
       "      <th>404375</th>\n",
       "      <td>2018-06-07</td>\n",
       "      <td>0</td>\n",
       "      <td>0</td>\n",
       "      <td>2265</td>\n",
       "      <td>False</td>\n",
       "      <td>Recommended</td>\n",
       "      <td>If you want a new full time job here is the pe...</td>\n",
       "      <td>Rust</td>\n",
       "      <td>35</td>\n",
       "      <td>want new full time job perfect game</td>\n",
       "      <td>en</td>\n",
       "      <td>0.95</td>\n",
       "    </tr>\n",
       "    <tr>\n",
       "      <th>307778</th>\n",
       "      <td>2017-12-22</td>\n",
       "      <td>0</td>\n",
       "      <td>0</td>\n",
       "      <td>37</td>\n",
       "      <td>False</td>\n",
       "      <td>Recommended</td>\n",
       "      <td>Its ok there is alot of glitches and things th...</td>\n",
       "      <td>PLAYERUNKNOWN'S BATTLEGROUNDS</td>\n",
       "      <td>56</td>\n",
       "      <td>ok alot glitch thing make mad friend like game...</td>\n",
       "      <td>en</td>\n",
       "      <td>0.92</td>\n",
       "    </tr>\n",
       "    <tr>\n",
       "      <th>394857</th>\n",
       "      <td>2016-08-27</td>\n",
       "      <td>0</td>\n",
       "      <td>0</td>\n",
       "      <td>1668</td>\n",
       "      <td>True</td>\n",
       "      <td>Not Recommended</td>\n",
       "      <td>THIS GAME SUCKS UNLESS YOU JOIN A LARGE CLAN W...</td>\n",
       "      <td>Rust</td>\n",
       "      <td>199</td>\n",
       "      <td>game suck unless join large clan hacker hacker...</td>\n",
       "      <td>en</td>\n",
       "      <td>0.11</td>\n",
       "    </tr>\n",
       "    <tr>\n",
       "      <th>292261</th>\n",
       "      <td>2017-07-27</td>\n",
       "      <td>0</td>\n",
       "      <td>0</td>\n",
       "      <td>26</td>\n",
       "      <td>True</td>\n",
       "      <td>Recommended</td>\n",
       "      <td>This game is great. Mostly when you've scaveng...</td>\n",
       "      <td>PLAYERUNKNOWN'S BATTLEGROUNDS</td>\n",
       "      <td>64</td>\n",
       "      <td>game great mostly scavenged building die pisto...</td>\n",
       "      <td>en</td>\n",
       "      <td>0.89</td>\n",
       "    </tr>\n",
       "    <tr>\n",
       "      <th>169013</th>\n",
       "      <td>2016-04-05</td>\n",
       "      <td>0</td>\n",
       "      <td>0</td>\n",
       "      <td>320</td>\n",
       "      <td>False</td>\n",
       "      <td>Recommended</td>\n",
       "      <td>Awesome game way better on PC )</td>\n",
       "      <td>Grand Theft Auto V</td>\n",
       "      <td>26</td>\n",
       "      <td>awesome game way better pc</td>\n",
       "      <td>en</td>\n",
       "      <td>0.98</td>\n",
       "    </tr>\n",
       "    <tr>\n",
       "      <th>73272</th>\n",
       "      <td>2016-09-12</td>\n",
       "      <td>0</td>\n",
       "      <td>0</td>\n",
       "      <td>627</td>\n",
       "      <td>False</td>\n",
       "      <td>Recommended</td>\n",
       "      <td>Just a perfect game. That's all I've got to sa...</td>\n",
       "      <td>Rocket League®</td>\n",
       "      <td>27</td>\n",
       "      <td>perfect game got say matter</td>\n",
       "      <td>en</td>\n",
       "      <td>0.98</td>\n",
       "    </tr>\n",
       "    <tr>\n",
       "      <th>333560</th>\n",
       "      <td>2017-10-12</td>\n",
       "      <td>0</td>\n",
       "      <td>0</td>\n",
       "      <td>255</td>\n",
       "      <td>False</td>\n",
       "      <td>Not Recommended</td>\n",
       "      <td>They made millions of dollars and I still take...</td>\n",
       "      <td>PLAYERUNKNOWN'S BATTLEGROUNDS</td>\n",
       "      <td>58</td>\n",
       "      <td>made million dollar still take year load see d...</td>\n",
       "      <td>en</td>\n",
       "      <td>0.17</td>\n",
       "    </tr>\n",
       "    <tr>\n",
       "      <th>212579</th>\n",
       "      <td>2017-07-18</td>\n",
       "      <td>0</td>\n",
       "      <td>0</td>\n",
       "      <td>132</td>\n",
       "      <td>True</td>\n",
       "      <td>Recommended</td>\n",
       "      <td>Okey First things first obviously game craves ...</td>\n",
       "      <td>PLAYERUNKNOWN'S BATTLEGROUNDS</td>\n",
       "      <td>1969</td>\n",
       "      <td>okey first thing first obviously game craves o...</td>\n",
       "      <td>en</td>\n",
       "      <td>0.94</td>\n",
       "    </tr>\n",
       "    <tr>\n",
       "      <th>230578</th>\n",
       "      <td>2017-11-14</td>\n",
       "      <td>1</td>\n",
       "      <td>2</td>\n",
       "      <td>947</td>\n",
       "      <td>True</td>\n",
       "      <td>Not Recommended</td>\n",
       "      <td>Ruined by hackers 2 mil players how many of th...</td>\n",
       "      <td>PLAYERUNKNOWN'S BATTLEGROUNDS</td>\n",
       "      <td>57</td>\n",
       "      <td>ruined hacker mil player many playing without ...</td>\n",
       "      <td>en</td>\n",
       "      <td>0.03</td>\n",
       "    </tr>\n",
       "    <tr>\n",
       "      <th>388202</th>\n",
       "      <td>2014-04-20</td>\n",
       "      <td>0</td>\n",
       "      <td>0</td>\n",
       "      <td>333</td>\n",
       "      <td>True</td>\n",
       "      <td>Recommended</td>\n",
       "      <td>Arch Linux 3.14 kerneli3 Window ManagernVIDIA ...</td>\n",
       "      <td>Rust</td>\n",
       "      <td>248</td>\n",
       "      <td>arch linux kerneli window managernvidia driver...</td>\n",
       "      <td>en</td>\n",
       "      <td>0.41</td>\n",
       "    </tr>\n",
       "    <tr>\n",
       "      <th>2857</th>\n",
       "      <td>2017-11-06</td>\n",
       "      <td>0</td>\n",
       "      <td>0</td>\n",
       "      <td>762</td>\n",
       "      <td>False</td>\n",
       "      <td>Recommended</td>\n",
       "      <td>Product received for free. I really enjoy this...</td>\n",
       "      <td>Dead by Daylight</td>\n",
       "      <td>293</td>\n",
       "      <td>product received free really enjoy game really...</td>\n",
       "      <td>en</td>\n",
       "      <td>0.99</td>\n",
       "    </tr>\n",
       "    <tr>\n",
       "      <th>188266</th>\n",
       "      <td>2015-04-14</td>\n",
       "      <td>0</td>\n",
       "      <td>0</td>\n",
       "      <td>60</td>\n",
       "      <td>False</td>\n",
       "      <td>Not Recommended</td>\n",
       "      <td>+Good Graphics+decent/good missions+good chara...</td>\n",
       "      <td>Grand Theft Auto V</td>\n",
       "      <td>269</td>\n",
       "      <td>good graphic decent good mission good characte...</td>\n",
       "      <td>en</td>\n",
       "      <td>0.19</td>\n",
       "    </tr>\n",
       "    <tr>\n",
       "      <th>353377</th>\n",
       "      <td>2015-06-18</td>\n",
       "      <td>0</td>\n",
       "      <td>0</td>\n",
       "      <td>503</td>\n",
       "      <td>True</td>\n",
       "      <td>Recommended</td>\n",
       "      <td>Very fun had over 200 hours in legacy and many...</td>\n",
       "      <td>Rust</td>\n",
       "      <td>34</td>\n",
       "      <td>fun hour legacy many come new rust</td>\n",
       "      <td>en</td>\n",
       "      <td>0.81</td>\n",
       "    </tr>\n",
       "  </tbody>\n",
       "</table>\n",
       "</div>"
      ],
      "text/plain": [
       "       date_posted  funny  helpful  hour_played  is_early_access_review  \\\n",
       "108647  2017-06-17      0        0         1014                   False   \n",
       "368567  2018-06-24      0        0           13                   False   \n",
       "158144  2015-04-30      3        2          871                   False   \n",
       "7048    2018-09-18      0        0          388                   False   \n",
       "86333   2015-12-08      0        0          527                   False   \n",
       "208173  2018-04-11      0        0           67                   False   \n",
       "236871  2017-10-05      0        0           15                    True   \n",
       "404375  2018-06-07      0        0         2265                   False   \n",
       "307778  2017-12-22      0        0           37                   False   \n",
       "394857  2016-08-27      0        0         1668                    True   \n",
       "292261  2017-07-27      0        0           26                    True   \n",
       "169013  2016-04-05      0        0          320                   False   \n",
       "73272   2016-09-12      0        0          627                   False   \n",
       "333560  2017-10-12      0        0          255                   False   \n",
       "212579  2017-07-18      0        0          132                    True   \n",
       "230578  2017-11-14      1        2          947                    True   \n",
       "388202  2014-04-20      0        0          333                    True   \n",
       "2857    2017-11-06      0        0          762                   False   \n",
       "188266  2015-04-14      0        0           60                   False   \n",
       "353377  2015-06-18      0        0          503                    True   \n",
       "\n",
       "         recommendation                                             review  \\\n",
       "108647  Not Recommended  Did you think GTA 4 is the worst game of whole...   \n",
       "368567  Not Recommended  Product received for free. dont try itit got b...   \n",
       "158144      Recommended  I Sold all CS GO skins to buy this games.And y...   \n",
       "7048    Not Recommended  New killer is pretty much a bag of But you can...   \n",
       "86333       Recommended  One of the best games i played!!Pro Unbelievab...   \n",
       "208173      Recommended  Let's just say the game ain't easy. It took me...   \n",
       "236871  Not Recommended         Product received for free. worst game ever   \n",
       "404375      Recommended  If you want a new full time job here is the pe...   \n",
       "307778      Recommended  Its ok there is alot of glitches and things th...   \n",
       "394857  Not Recommended  THIS GAME SUCKS UNLESS YOU JOIN A LARGE CLAN W...   \n",
       "292261      Recommended  This game is great. Mostly when you've scaveng...   \n",
       "169013      Recommended                    Awesome game way better on PC )   \n",
       "73272       Recommended  Just a perfect game. That's all I've got to sa...   \n",
       "333560  Not Recommended  They made millions of dollars and I still take...   \n",
       "212579      Recommended  Okey First things first obviously game craves ...   \n",
       "230578  Not Recommended  Ruined by hackers 2 mil players how many of th...   \n",
       "388202      Recommended  Arch Linux 3.14 kerneli3 Window ManagernVIDIA ...   \n",
       "2857        Recommended  Product received for free. I really enjoy this...   \n",
       "188266  Not Recommended  +Good Graphics+decent/good missions+good chara...   \n",
       "353377      Recommended  Very fun had over 200 hours in legacy and many...   \n",
       "\n",
       "                                title  length_review  \\\n",
       "108647             Grand Theft Auto V           1055   \n",
       "368567                           Rust             88   \n",
       "158144             Grand Theft Auto V             79   \n",
       "7048                 Dead by Daylight             55   \n",
       "86333                  Rocket League®            240   \n",
       "208173  PLAYERUNKNOWN'S BATTLEGROUNDS            163   \n",
       "236871  PLAYERUNKNOWN'S BATTLEGROUNDS             37   \n",
       "404375                           Rust             35   \n",
       "307778  PLAYERUNKNOWN'S BATTLEGROUNDS             56   \n",
       "394857                           Rust            199   \n",
       "292261  PLAYERUNKNOWN'S BATTLEGROUNDS             64   \n",
       "169013             Grand Theft Auto V             26   \n",
       "73272                  Rocket League®             27   \n",
       "333560  PLAYERUNKNOWN'S BATTLEGROUNDS             58   \n",
       "212579  PLAYERUNKNOWN'S BATTLEGROUNDS           1969   \n",
       "230578  PLAYERUNKNOWN'S BATTLEGROUNDS             57   \n",
       "388202                           Rust            248   \n",
       "2857                 Dead by Daylight            293   \n",
       "188266             Grand Theft Auto V            269   \n",
       "353377                           Rust             34   \n",
       "\n",
       "                                            clean_reviews language  Predicted  \n",
       "108647  think gta worst game whole series gta much wor...       en       0.02  \n",
       "368567  product received free dont try itit got blue s...       en       0.16  \n",
       "158144  sold c go skin buy game know worth game simply...       en       0.90  \n",
       "7048    new killer pretty much bag throw rock survivor...       en       0.84  \n",
       "86333   one best game played pro unbelievable fun frie...       en       0.99  \n",
       "208173  let say game easy took game exact get win game...       en       0.91  \n",
       "236871              product received free worst game ever       en       0.03  \n",
       "404375                want new full time job perfect game       en       0.95  \n",
       "307778  ok alot glitch thing make mad friend like game...       en       0.92  \n",
       "394857  game suck unless join large clan hacker hacker...       en       0.11  \n",
       "292261  game great mostly scavenged building die pisto...       en       0.89  \n",
       "169013                         awesome game way better pc       en       0.98  \n",
       "73272                         perfect game got say matter       en       0.98  \n",
       "333560  made million dollar still take year load see d...       en       0.17  \n",
       "212579  okey first thing first obviously game craves o...       en       0.94  \n",
       "230578  ruined hacker mil player many playing without ...       en       0.03  \n",
       "388202  arch linux kerneli window managernvidia driver...       en       0.41  \n",
       "2857    product received free really enjoy game really...       en       0.99  \n",
       "188266  good graphic decent good mission good characte...       en       0.19  \n",
       "353377                 fun hour legacy many come new rust       en       0.81  "
      ]
     },
     "execution_count": 117,
     "metadata": {},
     "output_type": "execute_result"
    }
   ],
   "source": [
    "teste.sample(n=20)"
   ]
  },
  {
   "cell_type": "code",
   "execution_count": null,
   "metadata": {},
   "outputs": [],
   "source": []
  }
 ],
 "metadata": {
  "kernelspec": {
   "display_name": "Python 3",
   "language": "python",
   "name": "python3"
  },
  "language_info": {
   "codemirror_mode": {
    "name": "ipython",
    "version": 3
   },
   "file_extension": ".py",
   "mimetype": "text/x-python",
   "name": "python",
   "nbconvert_exporter": "python",
   "pygments_lexer": "ipython3",
   "version": "3.7.7"
  }
 },
 "nbformat": 4,
 "nbformat_minor": 4
}
