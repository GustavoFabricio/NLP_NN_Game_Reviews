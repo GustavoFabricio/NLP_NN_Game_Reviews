{
 "cells": [
  {
   "cell_type": "markdown",
   "metadata": {},
   "source": [
    "# 1. Import Libraries"
   ]
  },
  {
   "cell_type": "code",
   "execution_count": 5,
   "metadata": {},
   "outputs": [
    {
     "name": "stderr",
     "output_type": "stream",
     "text": [
      "Using TensorFlow backend.\n"
     ]
    }
   ],
   "source": [
    "import warnings\n",
    "warnings.filterwarnings('ignore')\n",
    "from numba import jit, cuda \n",
    "\n",
    "\n",
    "from sklearn.utils import resample\n",
    "import numpy as np\n",
    "import pandas as pd\n",
    "import matplotlib.pyplot as plt\n",
    "import seaborn as sns\n",
    "import re\n",
    "import os\n",
    "from tqdm import tqdm_notebook as tqdm\n",
    "from nltk.corpus import stopwords\n",
    "from nltk.stem.wordnet import WordNetLemmatizer\n",
    "from nltk.tokenize import word_tokenize\n",
    "from nltk.corpus import wordnet\n",
    "from nltk.stem import SnowballStemmer\n",
    "from bs4 import BeautifulSoup\n",
    "import string\n",
    "import nltk\n",
    "from sklearn.feature_extraction.text import CountVectorizer\n",
    "from sklearn.metrics import classification_report, confusion_matrix\n",
    "from sklearn.model_selection import train_test_split\n",
    "from langdetect import detect\n",
    "import random\n",
    "from random import shuffle\n",
    "import pandas as pd\n",
    "from sklearn.feature_extraction.text import CountVectorizer\n",
    "from sklearn.model_selection import train_test_split\n",
    "from tensorflow.keras.callbacks import CSVLogger\n",
    "from keras import backend as K\n",
    "from tensorflow import keras\n",
    "from keras.layers import Dense\n",
    "from keras.models import Sequential\n",
    "from keras import regularizers\n",
    "from keras.layers import Dropout\n",
    "from keras.layers import Flatten\n",
    "from keras.models import load_model\n",
    "from keras.models import model_from_json\n",
    "from keras.preprocessing.text import one_hot\n",
    "from keras.preprocessing.sequence import pad_sequences\n",
    "from keras.layers import Embedding\n",
    "\n",
    "\n",
    "import json\n",
    "\n",
    "\n"
   ]
  },
  {
   "cell_type": "code",
   "execution_count": 1,
   "metadata": {},
   "outputs": [],
   "source": [
    "def Plot_Metrics(history):\n",
    "    history_dict = history.history\n",
    "    history_dict = pd.DataFrame(history_dict)\n",
    "\n",
    "    variables = history_dict.columns\n",
    "    scores = pd.DataFrame(columns = ['scores'])\n",
    "\n",
    "    x= []\n",
    "    epochs = []\n",
    "    \n",
    "    for i in variables:\n",
    "        x.append(list(history_dict[i]))\n",
    "        epochs.append(list(range(1,len(history_dict)+1)))\n",
    "\n",
    "    epochs = np.array(epochs).flatten()\n",
    "    x = np.array(x).flatten()   \n",
    "    \n",
    "    y = [['loss']*int(len(x)/6), ['f1_m']*int(len(x)/6), ['acc']*int(len(x)/6)]*2\n",
    "    y = [item for sublist in y for item in sublist]\n",
    " \n",
    "    j = [['Train']*int(len(x)/2), ['val']*int(len(x)/2)]\n",
    "    j = [item for sublist in j for item in sublist]\n",
    "    \n",
    "    df = pd.concat([pd.DataFrame(data=x, columns=['score']),\n",
    "                pd.DataFrame(data=y,columns=['score_type']),\n",
    "                pd.DataFrame(data=j,columns=['set_type']),\n",
    "                pd.DataFrame(data=epochs,columns=['epochs'])],\n",
    "                axis=1)\n",
    "    \n",
    "    f, axes = plt.subplots(3, figsize=(10, 8), sharex=True)\n",
    "    \n",
    "    sns.lineplot(x=\"epochs\", y=\"score\", hue=\"set_type\", data=df[df['score_type']=='acc'],\n",
    "                 ax=axes[0],style=\"set_type\", markers=True).set(ylabel='acc')\n",
    "    sns.lineplot(x=\"epochs\", y=\"score\", hue=\"set_type\", data=df[df['score_type']=='f1_m'],\n",
    "                 ax=axes[1],style=\"set_type\", markers=True).set(ylabel='f1_m')\n",
    "    sns.lineplot(x=\"epochs\", y=\"score\", hue=\"set_type\", data=df[df['score_type']=='loss'],\n",
    "                 ax=axes[2],style=\"set_type\", markers=True).set(ylabel='loss')\n",
    "    \n",
    "    plt.tight_layout()"
   ]
  },
  {
   "cell_type": "code",
   "execution_count": 89,
   "metadata": {},
   "outputs": [],
   "source": [
    "def metrics(y_train, pred_train , y_val, pred_val):\n",
    "    print('___________________________________________________________________________________________________________')\n",
    "    print('                                                VAL                                                        ')\n",
    "    print('-----------------------------------------------------------------------------------------------------------')\n",
    "    print(classification_report(y_train, pred_train))\n",
    "    print(confusion_matrix(y_train, pred_train))\n",
    "\n",
    "\n",
    "    print('___________________________________________________________________________________________________________')\n",
    "    print('                                                TEST                                                       ')\n",
    "    print('-----------------------------------------------------------------------------------------------------------')\n",
    "    print(classification_report(y_val, pred_val))\n",
    "    print(confusion_matrix(y_val, pred_val))"
   ]
  },
  {
   "cell_type": "code",
   "execution_count": 3,
   "metadata": {},
   "outputs": [],
   "source": [
    "def recall_m(y_true, y_pred):\n",
    "    true_positives = K.sum(K.round(K.clip(y_true * y_pred, 0, 1)))\n",
    "    possible_positives = K.sum(K.round(K.clip(y_true, 0, 1)))\n",
    "    recall = true_positives / (possible_positives + K.epsilon())\n",
    "    return recall\n",
    "\n",
    "def precision_m(y_true, y_pred):\n",
    "    true_positives = K.sum(K.round(K.clip(y_true * y_pred, 0, 1)))\n",
    "    predicted_positives = K.sum(K.round(K.clip(y_pred, 0, 1)))\n",
    "    precision = true_positives / (predicted_positives + K.epsilon())\n",
    "    return precision\n",
    "\n",
    "def f1_m(y_true, y_pred):\n",
    "    precision = precision_m(y_true, y_pred)\n",
    "    recall = recall_m(y_true, y_pred)\n",
    "    return 2*((precision*recall)/(precision+recall+K.epsilon()))"
   ]
  },
  {
   "cell_type": "code",
   "execution_count": 74,
   "metadata": {},
   "outputs": [],
   "source": [
    "def plot_cm(confusion_matrix : np.array, \n",
    "            classnames : list):\n",
    "    \"\"\"\n",
    "    Function that creates a confusion matrix plot using the Wikipedia convention for the axis. \n",
    "    :param confusion_matrix: confusion matrix that will be plotted\n",
    "    :param classnames: labels of the classes\n",
    "    \n",
    "    Returns:\n",
    "        - Plot of the Confusion Matrix\n",
    "    \"\"\"\n",
    "    \n",
    "    confusionmatrix = confusion_matrix\n",
    "    class_names = classnames             \n",
    "\n",
    "    fig, ax = plt.subplots()\n",
    "    im = plt.imshow(confusionmatrix, cmap=plt.cm.cividis)\n",
    "    plt.colorbar()\n",
    "\n",
    "    # We want to show all ticks...\n",
    "    ax.set_xticks(np.arange(len(class_names)))\n",
    "    ax.set_yticks(np.arange(len(class_names)))\n",
    "    # ... and label them with the respective list entries\n",
    "    ax.set_xticklabels(class_names)\n",
    "    ax.set_yticklabels(class_names)\n",
    "\n",
    "    # Rotate the tick labels and set their alignment.\n",
    "    plt.setp(ax.get_xticklabels(), rotation=45, ha=\"right\",\n",
    "             rotation_mode=\"anchor\")\n",
    "\n",
    "    # Loop over data dimensions and create text annotations.\n",
    "    for i in range(len(class_names)):\n",
    "        for j in range(len(class_names)):\n",
    "            text = ax.text(j, i, confusionmatrix[i, j],\n",
    "                           ha=\"center\", va=\"center\", color=\"w\",fontdict = {'size': 18})\n",
    "\n",
    "    ax.set_title(\"Confusion Matrix\")\n",
    "    plt.xlabel('Targets')\n",
    "    plt.ylabel('Predictions')\n",
    "    plt.ylim(top=len(class_names)-0.5)  # adjust the top leaving bottom unchanged\n",
    "    plt.ylim(bottom=-0.5)  # adjust the bottom leaving top unchanged\n",
    "    fig.set_size_inches(9, 6)\n",
    "    return plt.show()"
   ]
  },
  {
   "cell_type": "markdown",
   "metadata": {},
   "source": [
    "# 2. Import Data, Overview"
   ]
  },
  {
   "cell_type": "code",
   "execution_count": null,
   "metadata": {},
   "outputs": [],
   "source": [
    "data_reviews = pd.read_csv('steam_reviews.csv')"
   ]
  },
  {
   "cell_type": "code",
   "execution_count": null,
   "metadata": {},
   "outputs": [],
   "source": [
    "data_reviews.head()"
   ]
  },
  {
   "cell_type": "code",
   "execution_count": null,
   "metadata": {},
   "outputs": [],
   "source": [
    "data_reviews.describe()"
   ]
  },
  {
   "cell_type": "markdown",
   "metadata": {},
   "source": [
    "#### Checking if there are rows with empty cells:"
   ]
  },
  {
   "cell_type": "code",
   "execution_count": null,
   "metadata": {},
   "outputs": [],
   "source": [
    "data_reviews.isna().sum()"
   ]
  },
  {
   "cell_type": "code",
   "execution_count": null,
   "metadata": {},
   "outputs": [],
   "source": [
    "data_reviews.dropna(inplace = True)\n",
    "data_reviews.reset_index(drop = True, inplace = True)"
   ]
  },
  {
   "cell_type": "code",
   "execution_count": null,
   "metadata": {},
   "outputs": [],
   "source": [
    "data_reviews.shape"
   ]
  },
  {
   "cell_type": "markdown",
   "metadata": {},
   "source": [
    "# 3. Preprocessing"
   ]
  },
  {
   "cell_type": "markdown",
   "metadata": {},
   "source": [
    "## The result of all the pre-processing is saved in the file \"Data_Processed.csv\" and loaded in chapter 4"
   ]
  },
  {
   "cell_type": "markdown",
   "metadata": {},
   "source": [
    "- The fisrt step is clean the reviews of the dataset of words that are not important for the analysis, remove every numerical data and puctuation, transform all the text into lowercase...etc"
   ]
  },
  {
   "cell_type": "code",
   "execution_count": null,
   "metadata": {},
   "outputs": [],
   "source": [
    "def clean(text_list, lemmatize, stemmer, stop_word):\n",
    "    \"\"\"\n",
    "    Function that a receives a list of strings and preprocesses it.\n",
    "    \n",
    "    :param text_list: List of strings.\n",
    "    :param lemmatize: Tag to apply lemmatization if True.\n",
    "    :param stemmer: Tag to apply the stemmer if True.\n",
    "    \"\"\"\n",
    "    updates = []\n",
    "    \n",
    "    for j in tqdm(range(len(text_list))):\n",
    "        \n",
    "        text = text_list[j]\n",
    "        \n",
    "        #LOWERCASE TEXT\n",
    "        text = text.lower()\n",
    "        \n",
    "        #REMOVE NUMERICAL DATA AND PUNCTUATION\n",
    "        text = re.sub(\"[^a-zA-Z-zÀ-ÿ]\", ' ', text)\n",
    "        \n",
    "        #REMOVE TAGS\n",
    "        text = BeautifulSoup(text).get_text()\n",
    "        \n",
    "        if lemmatize:\n",
    "            text = \" \".join(lemma.lemmatize(word) for word in text.split())\n",
    "        \n",
    "        if stemmer:\n",
    "            text = \" \".join(snowball_stemmer.stem(word) for word in text.split())\n",
    "            \n",
    "        if stop_word:\n",
    "            text = [w for w in text.split() if not w in stop]\n",
    "            text = \" \".join(text)\n",
    "        \n",
    "        updates.append(text)\n",
    "        \n",
    "    return updates\n",
    "\n",
    "def update_df(dataframe, list_updated):\n",
    "    dataframe.update(pd.DataFrame({\"review\": list_updated}))"
   ]
  },
  {
   "cell_type": "markdown",
   "metadata": {},
   "source": [
    "- Here is a collection of English words that are considered as non important:"
   ]
  },
  {
   "cell_type": "code",
   "execution_count": null,
   "metadata": {},
   "outputs": [],
   "source": [
    "stop = set(stopwords.words('english'))\n",
    "exclude = set(string.punctuation)\n",
    "lemma = WordNetLemmatizer()"
   ]
  },
  {
   "cell_type": "code",
   "execution_count": null,
   "metadata": {},
   "outputs": [],
   "source": [
    "stop_words = {'a', 'about', 'above', 'after', 'again', 'against', 'ain', 'all', 'am', 'an', 'and', 'any',\n",
    " 'are', 'aren', 'as', 'at', 'be', 'because', 'been', 'before',\n",
    " 'being', 'below', 'between', 'both', 'but', 'by', 'can', 'd', 'did', 'didn', 'do', 'does', 'doing', 'don', 'down', 'during', 'each',\n",
    " 'few', 'for', 'from', 'further', 'had', 'has', 'hasn', 'have', 'haven', 'having', 'he', 'her', 'here',\n",
    " 'hers', 'herself', 'him', 'himself', 'his', 'how', 'i', 'if', 'in', 'into', 'is', 'it', \"it's\", 'its', 'itself',\n",
    " 'just', 'll', 'm', 'ma', 'me', 'mightn', 'more',\n",
    " 'most', 'mustn', 'my', 'myself', 'no', 'nor', 'now', 'o', 'of', 'off', 'on', 'once', 'only', 'or',\n",
    " 'other', 'our', 'ours', 'ourselves', 'out', 'over', 'own', 're',\n",
    " 's', 'same', 'shan', \"shan't\", 'she', \"she's\", 'should', \"should've\", 'so', 'some', 'such', 't', 'than',\n",
    " 'that', \"that'll\", 'the', 'their', 'theirs', 'them', 'themselves', 'then', 'there', 'these', 'they', 'this', 'those', 'through',\n",
    " 'to', 'too', 'under', 'until', 'up', 've', 'very', 'was', 'we', 'were', 'weren', 'what', 'when', 'where', 'which', 'while', 'who', 'whom',\n",
    " 'why', 'will', 'with', 'won', 'y', 'you', \"you'd\", \"you'll\", \"you're\", \"you've\", 'your', 'yours', 'yourself', 'yourselves'}"
   ]
  },
  {
   "cell_type": "code",
   "execution_count": null,
   "metadata": {},
   "outputs": [],
   "source": [
    "updates = clean(data_reviews['review'], lemmatize = True, stemmer = False, stop_word = True)"
   ]
  },
  {
   "cell_type": "code",
   "execution_count": null,
   "metadata": {},
   "outputs": [],
   "source": [
    "update_df(data_reviews, updates)"
   ]
  },
  {
   "cell_type": "markdown",
   "metadata": {},
   "source": [
    "- Next step is to calculate the number of words per review. With that values we are going to remove the reviews with just one word.\n",
    "- The goal is to identify the reviews that are writed in English and simplify the data. It is neccesary more that one word in order to identify the language."
   ]
  },
  {
   "cell_type": "code",
   "execution_count": null,
   "metadata": {},
   "outputs": [],
   "source": [
    "length_review = []\n",
    "for i in range(0, len(data_reviews)):\n",
    "    length_review.append(len(data_reviews['review'][i].split(' ')))"
   ]
  },
  {
   "cell_type": "code",
   "execution_count": null,
   "metadata": {},
   "outputs": [],
   "source": [
    "data_reviews['length_review'] = length_review"
   ]
  },
  {
   "cell_type": "code",
   "execution_count": null,
   "metadata": {},
   "outputs": [],
   "source": [
    "data_reviews.groupby('length_review').head()"
   ]
  },
  {
   "cell_type": "code",
   "execution_count": null,
   "metadata": {},
   "outputs": [],
   "source": [
    "data_reviews.groupby('length_review')['recommendation'].count().head(10)"
   ]
  },
  {
   "cell_type": "code",
   "execution_count": null,
   "metadata": {},
   "outputs": [],
   "source": [
    "data_reviews = data_reviews[data_reviews['length_review'] > 1].reset_index(drop = True)"
   ]
  },
  {
   "cell_type": "code",
   "execution_count": null,
   "metadata": {},
   "outputs": [],
   "source": [
    "data_reviews.head(10)"
   ]
  },
  {
   "cell_type": "markdown",
   "metadata": {},
   "source": [
    "- Next step is to detect the reviews writed in English. This process is slow. It takes around an hour..."
   ]
  },
  {
   "cell_type": "code",
   "execution_count": null,
   "metadata": {},
   "outputs": [],
   "source": [
    "language = []\n",
    "for i in tqdm(range(0,len(data_reviews))):\n",
    "    language.append(detect(data_reviews['review'][i]))"
   ]
  },
  {
   "cell_type": "code",
   "execution_count": null,
   "metadata": {},
   "outputs": [],
   "source": [
    "data_reviews['language'] = language"
   ]
  },
  {
   "cell_type": "code",
   "execution_count": null,
   "metadata": {
    "scrolled": true
   },
   "outputs": [],
   "source": [
    "data_reviews.head(5)"
   ]
  },
  {
   "cell_type": "markdown",
   "metadata": {},
   "source": [
    "- Transforming into a binary classification:"
   ]
  },
  {
   "cell_type": "code",
   "execution_count": null,
   "metadata": {},
   "outputs": [],
   "source": [
    "data_reviews.loc[data_reviews['recommendation'] == 'Not Recommended', 'Label'] = 0\n",
    "data_reviews.loc[data_reviews['recommendation'] == 'Recommended', 'Label'] = 1"
   ]
  },
  {
   "cell_type": "markdown",
   "metadata": {},
   "source": [
    "- Saving the processed dataset into a .csv file:"
   ]
  },
  {
   "cell_type": "code",
   "execution_count": null,
   "metadata": {},
   "outputs": [],
   "source": [
    "data_reviews.to_csv('Data_Processed.csv', index=False)"
   ]
  },
  {
   "cell_type": "markdown",
   "metadata": {},
   "source": [
    "# 4) MODELS"
   ]
  },
  {
   "cell_type": "markdown",
   "metadata": {},
   "source": [
    "### Every model created and trained during this notebook is saved in a .h5 file in order to be loaded when it is necessary with its history saved in a .csv file."
   ]
  },
  {
   "cell_type": "markdown",
   "metadata": {},
   "source": [
    "- Analyzing which is the most common language and keeping just the reviews writed in that language:"
   ]
  },
  {
   "cell_type": "code",
   "execution_count": 6,
   "metadata": {},
   "outputs": [],
   "source": [
    "data_reviews = pd.read_csv('Data_Processed.csv')"
   ]
  },
  {
   "cell_type": "code",
   "execution_count": 7,
   "metadata": {},
   "outputs": [
    {
     "data": {
      "text/plain": [
       "language\n",
       "en    297246\n",
       "da     13821\n",
       "so     11103\n",
       "no      8531\n",
       "af      7667\n",
       "Name: recommendation, dtype: int64"
      ]
     },
     "execution_count": 7,
     "metadata": {},
     "output_type": "execute_result"
    }
   ],
   "source": [
    "data_reviews.groupby('language').count().sort_values(['recommendation'], ascending=False)['recommendation'].head(5)"
   ]
  },
  {
   "cell_type": "code",
   "execution_count": 8,
   "metadata": {},
   "outputs": [],
   "source": [
    "data_reviewsEN = data_reviews[data_reviews['language'] == 'en']"
   ]
  },
  {
   "cell_type": "code",
   "execution_count": 9,
   "metadata": {},
   "outputs": [
    {
     "data": {
      "text/plain": [
       "(297246, 11)"
      ]
     },
     "execution_count": 9,
     "metadata": {},
     "output_type": "execute_result"
    }
   ],
   "source": [
    "data_reviewsEN.shape"
   ]
  },
  {
   "cell_type": "code",
   "execution_count": 10,
   "metadata": {},
   "outputs": [
    {
     "data": {
      "text/html": [
       "<div>\n",
       "<style scoped>\n",
       "    .dataframe tbody tr th:only-of-type {\n",
       "        vertical-align: middle;\n",
       "    }\n",
       "\n",
       "    .dataframe tbody tr th {\n",
       "        vertical-align: top;\n",
       "    }\n",
       "\n",
       "    .dataframe thead th {\n",
       "        text-align: right;\n",
       "    }\n",
       "</style>\n",
       "<table border=\"1\" class=\"dataframe\">\n",
       "  <thead>\n",
       "    <tr style=\"text-align: right;\">\n",
       "      <th></th>\n",
       "      <th>date_posted</th>\n",
       "      <th>funny</th>\n",
       "      <th>helpful</th>\n",
       "      <th>hour_played</th>\n",
       "      <th>is_early_access_review</th>\n",
       "      <th>recommendation</th>\n",
       "      <th>review</th>\n",
       "      <th>title</th>\n",
       "      <th>length_review</th>\n",
       "      <th>language</th>\n",
       "      <th>Label</th>\n",
       "    </tr>\n",
       "  </thead>\n",
       "  <tbody>\n",
       "    <tr>\n",
       "      <th>1</th>\n",
       "      <td>2019-02-07</td>\n",
       "      <td>0</td>\n",
       "      <td>0</td>\n",
       "      <td>892</td>\n",
       "      <td>False</td>\n",
       "      <td>Recommended</td>\n",
       "      <td>good game although bit overpriced opinion pref...</td>\n",
       "      <td>Expansion - Hearts of Iron IV: Man the Guns</td>\n",
       "      <td>17</td>\n",
       "      <td>en</td>\n",
       "      <td>1.0</td>\n",
       "    </tr>\n",
       "    <tr>\n",
       "      <th>2</th>\n",
       "      <td>2018-06-14</td>\n",
       "      <td>126</td>\n",
       "      <td>1086</td>\n",
       "      <td>676</td>\n",
       "      <td>False</td>\n",
       "      <td>Recommended</td>\n",
       "      <td>review wrote one probably serious one wrote st...</td>\n",
       "      <td>Dead by Daylight</td>\n",
       "      <td>191</td>\n",
       "      <td>en</td>\n",
       "      <td>1.0</td>\n",
       "    </tr>\n",
       "    <tr>\n",
       "      <th>3</th>\n",
       "      <td>2017-06-20</td>\n",
       "      <td>85</td>\n",
       "      <td>2139</td>\n",
       "      <td>612</td>\n",
       "      <td>False</td>\n",
       "      <td>Recommended</td>\n",
       "      <td>disclaimer survivor main play game fun competi...</td>\n",
       "      <td>Dead by Daylight</td>\n",
       "      <td>132</td>\n",
       "      <td>en</td>\n",
       "      <td>1.0</td>\n",
       "    </tr>\n",
       "    <tr>\n",
       "      <th>5</th>\n",
       "      <td>2017-09-17</td>\n",
       "      <td>12</td>\n",
       "      <td>228</td>\n",
       "      <td>48</td>\n",
       "      <td>False</td>\n",
       "      <td>Recommended</td>\n",
       "      <td>review wrote one probably serious one wrote st...</td>\n",
       "      <td>Dead by Daylight</td>\n",
       "      <td>191</td>\n",
       "      <td>en</td>\n",
       "      <td>1.0</td>\n",
       "    </tr>\n",
       "    <tr>\n",
       "      <th>7</th>\n",
       "      <td>2018-09-21</td>\n",
       "      <td>2</td>\n",
       "      <td>54</td>\n",
       "      <td>400</td>\n",
       "      <td>False</td>\n",
       "      <td>Recommended</td>\n",
       "      <td>longtime dead daylight player know horror game...</td>\n",
       "      <td>Dead by Daylight</td>\n",
       "      <td>164</td>\n",
       "      <td>en</td>\n",
       "      <td>1.0</td>\n",
       "    </tr>\n",
       "  </tbody>\n",
       "</table>\n",
       "</div>"
      ],
      "text/plain": [
       "  date_posted  funny  helpful  hour_played  is_early_access_review  \\\n",
       "1  2019-02-07      0        0          892                   False   \n",
       "2  2018-06-14    126     1086          676                   False   \n",
       "3  2017-06-20     85     2139          612                   False   \n",
       "5  2017-09-17     12      228           48                   False   \n",
       "7  2018-09-21      2       54          400                   False   \n",
       "\n",
       "  recommendation                                             review  \\\n",
       "1    Recommended  good game although bit overpriced opinion pref...   \n",
       "2    Recommended  review wrote one probably serious one wrote st...   \n",
       "3    Recommended  disclaimer survivor main play game fun competi...   \n",
       "5    Recommended  review wrote one probably serious one wrote st...   \n",
       "7    Recommended  longtime dead daylight player know horror game...   \n",
       "\n",
       "                                         title  length_review language  Label  \n",
       "1  Expansion - Hearts of Iron IV: Man the Guns             17       en    1.0  \n",
       "2                             Dead by Daylight            191       en    1.0  \n",
       "3                             Dead by Daylight            132       en    1.0  \n",
       "5                             Dead by Daylight            191       en    1.0  \n",
       "7                             Dead by Daylight            164       en    1.0  "
      ]
     },
     "execution_count": 10,
     "metadata": {},
     "output_type": "execute_result"
    }
   ],
   "source": [
    "data_reviewsEN.head()"
   ]
  },
  {
   "cell_type": "code",
   "execution_count": 11,
   "metadata": {},
   "outputs": [
    {
     "data": {
      "text/plain": [
       "recommendation\n",
       "Not Recommended    101440\n",
       "Recommended        195806\n",
       "Name: Label, dtype: int64"
      ]
     },
     "execution_count": 11,
     "metadata": {},
     "output_type": "execute_result"
    }
   ],
   "source": [
    "data_reviewsEN.groupby('recommendation').count()['Label']"
   ]
  },
  {
   "cell_type": "markdown",
   "metadata": {},
   "source": [
    "## 4.1) Embeddings with ReSample"
   ]
  },
  {
   "cell_type": "code",
   "execution_count": 12,
   "metadata": {},
   "outputs": [
    {
     "data": {
      "text/plain": [
       "244.0"
      ]
     },
     "execution_count": 12,
     "metadata": {},
     "output_type": "execute_result"
    }
   ],
   "source": [
    "data_reviewsEN.length_review.quantile(q=0.99) "
   ]
  },
  {
   "cell_type": "code",
   "execution_count": 13,
   "metadata": {},
   "outputs": [],
   "source": [
    "data = list(data_reviewsEN['review'])\n",
    "target = list(data_reviewsEN['Label'])"
   ]
  },
  {
   "cell_type": "markdown",
   "metadata": {},
   "source": [
    "- The first parameter to the Embedding() layer is the vocabulary (number of unique words in the data):"
   ]
  },
  {
   "cell_type": "code",
   "execution_count": 14,
   "metadata": {},
   "outputs": [],
   "source": [
    "all_words = []\n",
    "for review in data:\n",
    "    tokenize_word = word_tokenize(review)\n",
    "    for word in tokenize_word:\n",
    "        all_words.append(word)"
   ]
  },
  {
   "cell_type": "code",
   "execution_count": 15,
   "metadata": {},
   "outputs": [
    {
     "name": "stdout",
     "output_type": "stream",
     "text": [
      "135979\n"
     ]
    }
   ],
   "source": [
    "unique_words = set(all_words)\n",
    "vocabulary_length = len(unique_words)\n",
    "print(vocabulary_length)"
   ]
  },
  {
   "cell_type": "markdown",
   "metadata": {},
   "source": [
    "- Using the \"one_hot\" function. The function takes sentence and the total length of the vocabulary and returns the sentence in numeric form."
   ]
  },
  {
   "cell_type": "code",
   "execution_count": 16,
   "metadata": {},
   "outputs": [],
   "source": [
    "embedded_reviews = [one_hot(review, vocabulary_length) for review in data]"
   ]
  },
  {
   "cell_type": "code",
   "execution_count": 17,
   "metadata": {},
   "outputs": [
    {
     "name": "stdout",
     "output_type": "stream",
     "text": [
      "[9881, 36128, 79901, 112772, 48640]\n",
      "think pretty good job far\n"
     ]
    }
   ],
   "source": [
    "print(embedded_reviews[12])\n",
    "print(data[12])"
   ]
  },
  {
   "cell_type": "code",
   "execution_count": 18,
   "metadata": {},
   "outputs": [],
   "source": [
    "padded_reviews = pad_sequences(embedded_reviews, 250, padding='post')"
   ]
  },
  {
   "cell_type": "code",
   "execution_count": 19,
   "metadata": {},
   "outputs": [
    {
     "name": "stdout",
     "output_type": "stream",
     "text": [
      "[  9881  36128  79901 112772  48640      0      0      0      0      0\n",
      "      0      0      0      0      0      0      0      0      0      0\n",
      "      0      0      0      0      0      0      0      0      0      0\n",
      "      0      0      0      0      0      0      0      0      0      0\n",
      "      0      0      0      0      0      0      0      0      0      0\n",
      "      0      0      0      0      0      0      0      0      0      0\n",
      "      0      0      0      0      0      0      0      0      0      0\n",
      "      0      0      0      0      0      0      0      0      0      0\n",
      "      0      0      0      0      0      0      0      0      0      0\n",
      "      0      0      0      0      0      0      0      0      0      0\n",
      "      0      0      0      0      0      0      0      0      0      0\n",
      "      0      0      0      0      0      0      0      0      0      0\n",
      "      0      0      0      0      0      0      0      0      0      0\n",
      "      0      0      0      0      0      0      0      0      0      0\n",
      "      0      0      0      0      0      0      0      0      0      0\n",
      "      0      0      0      0      0      0      0      0      0      0\n",
      "      0      0      0      0      0      0      0      0      0      0\n",
      "      0      0      0      0      0      0      0      0      0      0\n",
      "      0      0      0      0      0      0      0      0      0      0\n",
      "      0      0      0      0      0      0      0      0      0      0\n",
      "      0      0      0      0      0      0      0      0      0      0\n",
      "      0      0      0      0      0      0      0      0      0      0\n",
      "      0      0      0      0      0      0      0      0      0      0\n",
      "      0      0      0      0      0      0      0      0      0      0\n",
      "      0      0      0      0      0      0      0      0      0      0]\n"
     ]
    }
   ],
   "source": [
    "print(padded_reviews[12])"
   ]
  },
  {
   "cell_type": "markdown",
   "metadata": {},
   "source": [
    "- Splitting:"
   ]
  },
  {
   "cell_type": "code",
   "execution_count": 20,
   "metadata": {},
   "outputs": [],
   "source": [
    "X_train, x_test, y_train, y_test = train_test_split(padded_reviews, target,\n",
    "                                                    test_size = 0.15,\n",
    "                                                    random_state = 500\n",
    "                                                    ,stratify = target)"
   ]
  },
  {
   "cell_type": "code",
   "execution_count": null,
   "metadata": {},
   "outputs": [],
   "source": [
    "#X_val, X_test, y_val, y_test = train_test_split(x_val_test, y_val_test,\n",
    "#                                                    test_size = 0.5,\n",
    "#                                                    random_state = 200\n",
    "#                                                    ,stratify = y_val_test)"
   ]
  },
  {
   "cell_type": "markdown",
   "metadata": {},
   "source": [
    "#### Upsampling The Training Data"
   ]
  },
  {
   "cell_type": "code",
   "execution_count": 21,
   "metadata": {},
   "outputs": [],
   "source": [
    "X = pd.concat([pd.DataFrame(data=X_train), pd.Series(y_train, name = 'Label')], axis=1)\n",
    "not_recommended = X[X.Label==0]\n",
    "recommended = X[X.Label==1]"
   ]
  },
  {
   "cell_type": "code",
   "execution_count": 22,
   "metadata": {},
   "outputs": [],
   "source": [
    "# upsample minority\n",
    "not_recommended_upsampled = resample(not_recommended,\n",
    "                            replace=True, # sample with replacement\n",
    "                            n_samples=len(recommended), # match number in majority class\n",
    "                            random_state=27) # reproducible results"
   ]
  },
  {
   "cell_type": "code",
   "execution_count": 23,
   "metadata": {},
   "outputs": [
    {
     "data": {
      "text/plain": [
       "0.0    166435\n",
       "1.0    166435\n",
       "Name: Label, dtype: int64"
      ]
     },
     "execution_count": 23,
     "metadata": {},
     "output_type": "execute_result"
    }
   ],
   "source": [
    "upsampled = pd.concat([recommended, not_recommended_upsampled])\n",
    "upsampled.Label.value_counts()"
   ]
  },
  {
   "cell_type": "code",
   "execution_count": 24,
   "metadata": {},
   "outputs": [],
   "source": [
    "X_train_up = upsampled.drop(['Label'], axis=1)\n",
    "y_train_up = upsampled['Label']"
   ]
  },
  {
   "cell_type": "code",
   "execution_count": 25,
   "metadata": {},
   "outputs": [],
   "source": [
    "X_train_up = X_train_up.to_numpy()\n",
    "y_train_up = list(y_train_up)"
   ]
  },
  {
   "cell_type": "code",
   "execution_count": 26,
   "metadata": {},
   "outputs": [
    {
     "name": "stdout",
     "output_type": "stream",
     "text": [
      "332870\n"
     ]
    }
   ],
   "source": [
    "print(len(X_train_up))"
   ]
  },
  {
   "cell_type": "code",
   "execution_count": 27,
   "metadata": {},
   "outputs": [],
   "source": [
    "X_train_up, X_val, y_train_up, y_val = train_test_split(X_train_up, y_train_up,\n",
    "                                                    test_size = 0.15,\n",
    "                                                    random_state = 200\n",
    "                                                    ,stratify = y_train_up)"
   ]
  },
  {
   "cell_type": "markdown",
   "metadata": {},
   "source": [
    "#### model 01:"
   ]
  },
  {
   "cell_type": "code",
   "execution_count": 35,
   "metadata": {},
   "outputs": [],
   "source": [
    "model = Sequential()\n",
    "model.add(Embedding(input_dim = vocabulary_length, output_dim = 40, input_length=250))\n",
    "model.add(Flatten())\n",
    "model.add(Dense(5, kernel_regularizer=regularizers.l2(0.15), activation = 'relu'))\n",
    "model.add(Dropout(.1))\n",
    "model.add(Dense(1, activation='sigmoid'))"
   ]
  },
  {
   "cell_type": "code",
   "execution_count": 36,
   "metadata": {},
   "outputs": [],
   "source": [
    "opt = keras.optimizers.Adam(learning_rate=0.001)\n",
    "model.compile(optimizer=opt, loss='binary_crossentropy', metrics=[f1_m,'acc'])"
   ]
  },
  {
   "cell_type": "code",
   "execution_count": 37,
   "metadata": {},
   "outputs": [
    {
     "name": "stdout",
     "output_type": "stream",
     "text": [
      "Model: \"sequential_2\"\n",
      "_________________________________________________________________\n",
      "Layer (type)                 Output Shape              Param #   \n",
      "=================================================================\n",
      "embedding_2 (Embedding)      (None, 250, 40)           5439160   \n",
      "_________________________________________________________________\n",
      "flatten_2 (Flatten)          (None, 10000)             0         \n",
      "_________________________________________________________________\n",
      "dense_3 (Dense)              (None, 5)                 50005     \n",
      "_________________________________________________________________\n",
      "dropout_2 (Dropout)          (None, 5)                 0         \n",
      "_________________________________________________________________\n",
      "dense_4 (Dense)              (None, 1)                 6         \n",
      "=================================================================\n",
      "Total params: 5,489,171\n",
      "Trainable params: 5,489,171\n",
      "Non-trainable params: 0\n",
      "_________________________________________________________________\n"
     ]
    }
   ],
   "source": [
    "model.summary()"
   ]
  },
  {
   "cell_type": "code",
   "execution_count": 38,
   "metadata": {},
   "outputs": [],
   "source": [
    "import tensorflow as tf\n",
    "from keras.callbacks import TensorBoard\n",
    "import datetime\n",
    "log_dir = os.path.join(\"logs\", datetime.datetime.now().strftime(\"%Y%m%d-%H%M%S\"))\n",
    "tensorboard_callback = TensorBoard(log_dir=log_dir, histogram_freq=1)"
   ]
  },
  {
   "cell_type": "code",
   "execution_count": 39,
   "metadata": {},
   "outputs": [
    {
     "name": "stdout",
     "output_type": "stream",
     "text": [
      "Train on 282939 samples, validate on 49931 samples\n",
      "Epoch 1/50\n",
      "282939/282939 [==============================] - 76s 269us/step - loss: 0.5883 - f1_m: 0.7680 - acc: 0.7440 - val_loss: 0.4609 - val_f1_m: 0.8251 - val_acc: 0.8306\n",
      "Epoch 2/50\n",
      "282939/282939 [==============================] - 55s 194us/step - loss: 0.4418 - f1_m: 0.8317 - acc: 0.8314 - val_loss: 0.4095 - val_f1_m: 0.8465 - val_acc: 0.8446\n",
      "Epoch 3/50\n",
      "282939/282939 [==============================] - 53s 189us/step - loss: 0.4099 - f1_m: 0.8447 - acc: 0.8453 - val_loss: 0.3964 - val_f1_m: 0.8484 - val_acc: 0.8485\n",
      "Epoch 4/50\n",
      "282939/282939 [==============================] - 56s 198us/step - loss: 0.3934 - f1_m: 0.8512 - acc: 0.8523 - val_loss: 0.3875 - val_f1_m: 0.8550 - val_acc: 0.8503\n",
      "Epoch 5/50\n",
      "282939/282939 [==============================] - 56s 199us/step - loss: 0.3821 - f1_m: 0.8561 - acc: 0.8573 - val_loss: 0.3769 - val_f1_m: 0.8562 - val_acc: 0.8567\n",
      "Epoch 6/50\n",
      "282939/282939 [==============================] - 56s 199us/step - loss: 0.3731 - f1_m: 0.8609 - acc: 0.8622 - val_loss: 0.3713 - val_f1_m: 0.8589 - val_acc: 0.8593\n",
      "Epoch 7/50\n",
      "282939/282939 [==============================] - 55s 196us/step - loss: 0.3647 - f1_m: 0.8653 - acc: 0.8670 - val_loss: 0.3704 - val_f1_m: 0.8618 - val_acc: 0.8604\n",
      "Epoch 8/50\n",
      "282939/282939 [==============================] - 56s 199us/step - loss: 0.3572 - f1_m: 0.8692 - acc: 0.8709 - val_loss: 0.3656 - val_f1_m: 0.8615 - val_acc: 0.8628\n",
      "Epoch 9/50\n",
      "282939/282939 [==============================] - 54s 191us/step - loss: 0.3488 - f1_m: 0.8737 - acc: 0.8754 - val_loss: 0.3614 - val_f1_m: 0.8626 - val_acc: 0.8642\n",
      "Epoch 10/50\n",
      "282939/282939 [==============================] - 54s 190us/step - loss: 0.3424 - f1_m: 0.8779 - acc: 0.8796 - val_loss: 0.3598 - val_f1_m: 0.8664 - val_acc: 0.8679\n",
      "Epoch 11/50\n",
      "282939/282939 [==============================] - 53s 187us/step - loss: 0.3360 - f1_m: 0.8822 - acc: 0.8839 - val_loss: 0.3575 - val_f1_m: 0.8676 - val_acc: 0.8701\n",
      "Epoch 12/50\n",
      "282939/282939 [==============================] - 56s 197us/step - loss: 0.3295 - f1_m: 0.8865 - acc: 0.8883 - val_loss: 0.3521 - val_f1_m: 0.8675 - val_acc: 0.8710\n",
      "Epoch 13/50\n",
      "282939/282939 [==============================] - 52s 184us/step - loss: 0.3211 - f1_m: 0.8914 - acc: 0.8931 - val_loss: 0.3491 - val_f1_m: 0.8735 - val_acc: 0.8758\n",
      "Epoch 14/50\n",
      "282939/282939 [==============================] - 50s 177us/step - loss: 0.3134 - f1_m: 0.8963 - acc: 0.8980 - val_loss: 0.3547 - val_f1_m: 0.8725 - val_acc: 0.8763\n",
      "Epoch 15/50\n",
      "282939/282939 [==============================] - 50s 177us/step - loss: 0.3050 - f1_m: 0.9020 - acc: 0.9035 - val_loss: 0.3492 - val_f1_m: 0.8780 - val_acc: 0.8786\n",
      "Epoch 16/50\n",
      "282939/282939 [==============================] - 52s 185us/step - loss: 0.2956 - f1_m: 0.9078 - acc: 0.9093 - val_loss: 0.3537 - val_f1_m: 0.8774 - val_acc: 0.8794\n",
      "Epoch 17/50\n",
      "282939/282939 [==============================] - 56s 197us/step - loss: 0.2873 - f1_m: 0.9124 - acc: 0.9138 - val_loss: 0.3473 - val_f1_m: 0.8812 - val_acc: 0.8849\n",
      "Epoch 18/50\n",
      "282939/282939 [==============================] - 54s 190us/step - loss: 0.2787 - f1_m: 0.9183 - acc: 0.9196 - val_loss: 0.3482 - val_f1_m: 0.8804 - val_acc: 0.8842\n",
      "Epoch 19/50\n",
      "282939/282939 [==============================] - 52s 184us/step - loss: 0.2711 - f1_m: 0.9224 - acc: 0.9237 - val_loss: 0.3447 - val_f1_m: 0.8843 - val_acc: 0.8865\n",
      "Epoch 20/50\n",
      "282939/282939 [==============================] - 53s 187us/step - loss: 0.2633 - f1_m: 0.9258 - acc: 0.9269 - val_loss: 0.3400 - val_f1_m: 0.8866 - val_acc: 0.8890\n",
      "Epoch 21/50\n",
      "282939/282939 [==============================] - 51s 180us/step - loss: 0.2570 - f1_m: 0.9297 - acc: 0.9308 - val_loss: 0.3526 - val_f1_m: 0.8869 - val_acc: 0.8881\n",
      "Epoch 22/50\n",
      "282939/282939 [==============================] - 56s 199us/step - loss: 0.2493 - f1_m: 0.9332 - acc: 0.9342 - val_loss: 0.3488 - val_f1_m: 0.8871 - val_acc: 0.8897\n",
      "Epoch 23/50\n",
      "282939/282939 [==============================] - 58s 205us/step - loss: 0.2432 - f1_m: 0.9359 - acc: 0.9368 - val_loss: 0.3496 - val_f1_m: 0.8881 - val_acc: 0.8911\n",
      "Epoch 24/50\n",
      "282939/282939 [==============================] - 58s 205us/step - loss: 0.2393 - f1_m: 0.9383 - acc: 0.9391 - val_loss: 0.3503 - val_f1_m: 0.8862 - val_acc: 0.8899\n",
      "Epoch 25/50\n",
      "282939/282939 [==============================] - 61s 214us/step - loss: 0.2327 - f1_m: 0.9409 - acc: 0.9417 - val_loss: 0.3582 - val_f1_m: 0.8853 - val_acc: 0.8901\n",
      "Epoch 26/50\n",
      "282939/282939 [==============================] - 57s 201us/step - loss: 0.2294 - f1_m: 0.9426 - acc: 0.9434 - val_loss: 0.3556 - val_f1_m: 0.8862 - val_acc: 0.8906\n",
      "Epoch 27/50\n",
      "282939/282939 [==============================] - 59s 210us/step - loss: 0.2206 - f1_m: 0.9454 - acc: 0.9462 - val_loss: 0.3548 - val_f1_m: 0.8882 - val_acc: 0.8926\n",
      "Epoch 28/50\n",
      "282939/282939 [==============================] - 57s 202us/step - loss: 0.2185 - f1_m: 0.9474 - acc: 0.9481 - val_loss: 0.3537 - val_f1_m: 0.8914 - val_acc: 0.8941\n",
      "Epoch 29/50\n",
      "282939/282939 [==============================] - 59s 209us/step - loss: 0.2153 - f1_m: 0.9484 - acc: 0.9491 - val_loss: 0.3523 - val_f1_m: 0.8915 - val_acc: 0.8945\n",
      "Epoch 30/50\n",
      "282939/282939 [==============================] - 57s 202us/step - loss: 0.2082 - f1_m: 0.9506 - acc: 0.9512 - val_loss: 0.3605 - val_f1_m: 0.8906 - val_acc: 0.8944\n",
      "Epoch 31/50\n",
      "282939/282939 [==============================] - 55s 195us/step - loss: 0.2084 - f1_m: 0.9517 - acc: 0.9523 - val_loss: 0.3677 - val_f1_m: 0.8917 - val_acc: 0.8951\n",
      "Epoch 32/50\n",
      "282939/282939 [==============================] - 56s 198us/step - loss: 0.2067 - f1_m: 0.9524 - acc: 0.9530 - val_loss: 0.3619 - val_f1_m: 0.8926 - val_acc: 0.8955\n",
      "Epoch 33/50\n",
      "282939/282939 [==============================] - 55s 196us/step - loss: 0.2012 - f1_m: 0.9544 - acc: 0.9550 - val_loss: 0.3844 - val_f1_m: 0.8870 - val_acc: 0.8926\n",
      "Epoch 34/50\n",
      "282939/282939 [==============================] - 57s 201us/step - loss: 0.1986 - f1_m: 0.9555 - acc: 0.9560 - val_loss: 0.3773 - val_f1_m: 0.8924 - val_acc: 0.8959\n",
      "Epoch 35/50\n",
      "282939/282939 [==============================] - 60s 212us/step - loss: 0.1964 - f1_m: 0.9566 - acc: 0.9571 - val_loss: 0.3774 - val_f1_m: 0.8902 - val_acc: 0.8942\n",
      "Epoch 36/50\n",
      "282939/282939 [==============================] - 58s 204us/step - loss: 0.1932 - f1_m: 0.9574 - acc: 0.9579 - val_loss: 0.3792 - val_f1_m: 0.8939 - val_acc: 0.8966\n",
      "Epoch 37/50\n",
      "282939/282939 [==============================] - 53s 188us/step - loss: 0.1919 - f1_m: 0.9578 - acc: 0.9583 - val_loss: 0.3820 - val_f1_m: 0.8936 - val_acc: 0.8955\n",
      "Epoch 38/50\n",
      "282939/282939 [==============================] - 54s 190us/step - loss: 0.1910 - f1_m: 0.9588 - acc: 0.9592 - val_loss: 0.3868 - val_f1_m: 0.8911 - val_acc: 0.8946\n",
      "Epoch 39/50\n",
      "282939/282939 [==============================] - 55s 196us/step - loss: 0.1846 - f1_m: 0.9601 - acc: 0.9605 - val_loss: 0.3812 - val_f1_m: 0.8938 - val_acc: 0.8969\n",
      "Epoch 40/50\n",
      "282939/282939 [==============================] - 58s 206us/step - loss: 0.1876 - f1_m: 0.9606 - acc: 0.9609 - val_loss: 0.3731 - val_f1_m: 0.8897 - val_acc: 0.8938\n",
      "Epoch 41/50\n",
      "282939/282939 [==============================] - 58s 205us/step - loss: 0.1861 - f1_m: 0.9616 - acc: 0.9620 - val_loss: 0.3713 - val_f1_m: 0.8933 - val_acc: 0.8968\n",
      "Epoch 42/50\n",
      "282939/282939 [==============================] - 55s 196us/step - loss: 0.1812 - f1_m: 0.9622 - acc: 0.9626 - val_loss: 0.3858 - val_f1_m: 0.8895 - val_acc: 0.8936\n",
      "Epoch 43/50\n",
      "282939/282939 [==============================] - 57s 203us/step - loss: 0.1827 - f1_m: 0.9628 - acc: 0.9631 - val_loss: 0.3763 - val_f1_m: 0.8931 - val_acc: 0.8963\n",
      "Epoch 44/50\n",
      "282939/282939 [==============================] - 56s 197us/step - loss: 0.1797 - f1_m: 0.9635 - acc: 0.9638 - val_loss: 0.3895 - val_f1_m: 0.8904 - val_acc: 0.8945\n",
      "Epoch 45/50\n",
      "282939/282939 [==============================] - 56s 199us/step - loss: 0.1803 - f1_m: 0.9637 - acc: 0.9641 - val_loss: 0.3865 - val_f1_m: 0.8903 - val_acc: 0.8938\n",
      "Epoch 46/50\n",
      "282939/282939 [==============================] - 60s 213us/step - loss: 0.1754 - f1_m: 0.9645 - acc: 0.9648 - val_loss: 0.4029 - val_f1_m: 0.8891 - val_acc: 0.8934\n",
      "Epoch 47/50\n"
     ]
    },
    {
     "name": "stdout",
     "output_type": "stream",
     "text": [
      "282939/282939 [==============================] - 56s 198us/step - loss: 0.1781 - f1_m: 0.9646 - acc: 0.9650 - val_loss: 0.4213 - val_f1_m: 0.8906 - val_acc: 0.8944\n",
      "Epoch 48/50\n",
      "282939/282939 [==============================] - 55s 194us/step - loss: 0.1763 - f1_m: 0.9652 - acc: 0.9655 - val_loss: 0.3978 - val_f1_m: 0.8897 - val_acc: 0.8937\n",
      "Epoch 49/50\n",
      "282939/282939 [==============================] - 56s 198us/step - loss: 0.1778 - f1_m: 0.9650 - acc: 0.9653 - val_loss: 0.4332 - val_f1_m: 0.8868 - val_acc: 0.8913\n",
      "Epoch 50/50\n",
      "282939/282939 [==============================] - 56s 197us/step - loss: 0.1745 - f1_m: 0.9661 - acc: 0.9664 - val_loss: 0.4219 - val_f1_m: 0.8874 - val_acc: 0.8925\n"
     ]
    },
    {
     "data": {
      "text/plain": [
       "<keras.callbacks.callbacks.History at 0x192395cc7c8>"
      ]
     },
     "execution_count": 39,
     "metadata": {},
     "output_type": "execute_result"
    }
   ],
   "source": [
    "model.fit(X_train_up, \n",
    "          y_train_up, \n",
    "          epochs= 50, \n",
    "          verbose=1, \n",
    "          validation_data = (X_val, y_val), \n",
    "          callbacks=[tensorboard_callback], \n",
    "          batch_size = 500)"
   ]
  },
  {
   "cell_type": "code",
   "execution_count": 40,
   "metadata": {},
   "outputs": [],
   "source": [
    "#Saving the model:\n",
    "model.save('model_embeddings01.h5')"
   ]
  },
  {
   "cell_type": "code",
   "execution_count": 28,
   "metadata": {},
   "outputs": [],
   "source": [
    "#from keras.models import load_model\n",
    "#model = load_model('model_embeddings.h5')"
   ]
  },
  {
   "cell_type": "markdown",
   "metadata": {},
   "source": [
    "#### TensorBoard"
   ]
  },
  {
   "cell_type": "code",
   "execution_count": 41,
   "metadata": {},
   "outputs": [],
   "source": [
    "from keras.callbacks import TensorBoard"
   ]
  },
  {
   "cell_type": "code",
   "execution_count": 42,
   "metadata": {},
   "outputs": [],
   "source": [
    "%load_ext tensorboard.notebook"
   ]
  },
  {
   "cell_type": "code",
   "execution_count": 44,
   "metadata": {},
   "outputs": [
    {
     "data": {
      "text/plain": [
       "Reusing TensorBoard on port 6006 (pid 12084), started 23:50:24 ago. (Use '!kill 12084' to kill it.)"
      ]
     },
     "metadata": {},
     "output_type": "display_data"
    },
    {
     "data": {
      "text/html": [
       "\n",
       "        <iframe\n",
       "            width=\"100%\"\n",
       "            height=\"800\"\n",
       "            src=\"http://localhost:6006\"\n",
       "            frameborder=\"0\"\n",
       "            allowfullscreen\n",
       "        ></iframe>\n",
       "        "
      ],
      "text/plain": [
       "<IPython.lib.display.IFrame at 0x192bfc8b088>"
      ]
     },
     "metadata": {},
     "output_type": "display_data"
    }
   ],
   "source": [
    "%tensorboard --logdir logs #'!kill 12084'"
   ]
  },
  {
   "cell_type": "markdown",
   "metadata": {},
   "source": [
    "- Plot of the three parameters evaluated in the model:"
   ]
  },
  {
   "cell_type": "code",
   "execution_count": 45,
   "metadata": {},
   "outputs": [
    {
     "data": {
      "image/png": "[encoded data removed]",
      "text/plain": [
       "<Figure size 720x576 with 3 Axes>"
      ]
     },
     "metadata": {
      "needs_background": "light"
     },
     "output_type": "display_data"
    }
   ],
   "source": [
    "Plot_Metrics(model.history)"
   ]
  },
  {
   "cell_type": "markdown",
   "metadata": {},
   "source": [
    "#### Model 02"
   ]
  },
  {
   "cell_type": "code",
   "execution_count": 46,
   "metadata": {},
   "outputs": [],
   "source": [
    "model02 = Sequential()\n",
    "model02.add(Embedding(input_dim = vocabulary_length, output_dim = 30, input_length=250))\n",
    "model02.add(Flatten())\n",
    "model02.add(Dense(5, kernel_regularizer=regularizers.l2(0.3), activation = 'relu'))\n",
    "model02.add(Dropout(.3))\n",
    "model02.add(Dense(1, activation='sigmoid'))"
   ]
  },
  {
   "cell_type": "code",
   "execution_count": 47,
   "metadata": {},
   "outputs": [],
   "source": [
    "opt = keras.optimizers.Adam(learning_rate=0.001)\n",
    "model02.compile(optimizer=opt, loss='binary_crossentropy', metrics=[f1_m,'acc'])"
   ]
  },
  {
   "cell_type": "code",
   "execution_count": 50,
   "metadata": {},
   "outputs": [
    {
     "name": "stdout",
     "output_type": "stream",
     "text": [
      "Model: \"sequential_3\"\n",
      "_________________________________________________________________\n",
      "Layer (type)                 Output Shape              Param #   \n",
      "=================================================================\n",
      "embedding_3 (Embedding)      (None, 250, 30)           4079370   \n",
      "_________________________________________________________________\n",
      "flatten_3 (Flatten)          (None, 7500)              0         \n",
      "_________________________________________________________________\n",
      "dense_5 (Dense)              (None, 5)                 37505     \n",
      "_________________________________________________________________\n",
      "dropout_3 (Dropout)          (None, 5)                 0         \n",
      "_________________________________________________________________\n",
      "dense_6 (Dense)              (None, 1)                 6         \n",
      "=================================================================\n",
      "Total params: 4,116,881\n",
      "Trainable params: 4,116,881\n",
      "Non-trainable params: 0\n",
      "_________________________________________________________________\n"
     ]
    }
   ],
   "source": [
    "model02.summary()"
   ]
  },
  {
   "cell_type": "code",
   "execution_count": 48,
   "metadata": {},
   "outputs": [
    {
     "name": "stdout",
     "output_type": "stream",
     "text": [
      "Train on 282939 samples, validate on 49931 samples\n",
      "Epoch 1/50\n",
      "282939/282939 [==============================] - 32s 114us/step - loss: 0.7303 - f1_m: 0.6373 - acc: 0.6634 - val_loss: 0.5536 - val_f1_m: 0.8178 - val_acc: 0.8034\n",
      "Epoch 2/50\n",
      "282939/282939 [==============================] - 26s 93us/step - loss: 0.5208 - f1_m: 0.8028 - acc: 0.8036 - val_loss: 0.4673 - val_f1_m: 0.8358 - val_acc: 0.8364\n",
      "Epoch 3/50\n",
      "282939/282939 [==============================] - 27s 96us/step - loss: 0.4754 - f1_m: 0.8249 - acc: 0.8230 - val_loss: 0.4376 - val_f1_m: 0.8462 - val_acc: 0.8432\n",
      "Epoch 4/50\n",
      "282939/282939 [==============================] - 27s 96us/step - loss: 0.4524 - f1_m: 0.8341 - acc: 0.8314 - val_loss: 0.4214 - val_f1_m: 0.8473 - val_acc: 0.8449\n",
      "Epoch 5/50\n",
      "282939/282939 [==============================] - 26s 93us/step - loss: 0.4400 - f1_m: 0.8383 - acc: 0.8349 - val_loss: 0.4086 - val_f1_m: 0.8486 - val_acc: 0.8480\n",
      "Epoch 6/50\n",
      "282939/282939 [==============================] - 26s 94us/step - loss: 0.4302 - f1_m: 0.8415 - acc: 0.8377 - val_loss: 0.4014 - val_f1_m: 0.8529 - val_acc: 0.8524\n",
      "Epoch 7/50\n",
      "282939/282939 [==============================] - 28s 98us/step - loss: 0.4221 - f1_m: 0.8452 - acc: 0.8413 - val_loss: 0.3946 - val_f1_m: 0.8544 - val_acc: 0.8527\n",
      "Epoch 8/50\n",
      "282939/282939 [==============================] - 27s 95us/step - loss: 0.4167 - f1_m: 0.8466 - acc: 0.8425 - val_loss: 0.3922 - val_f1_m: 0.8574 - val_acc: 0.8552\n",
      "Epoch 9/50\n",
      "282939/282939 [==============================] - 27s 97us/step - loss: 0.4120 - f1_m: 0.8496 - acc: 0.8457 - val_loss: 0.3888 - val_f1_m: 0.8564 - val_acc: 0.8563\n",
      "Epoch 10/50\n",
      "282939/282939 [==============================] - 29s 103us/step - loss: 0.4069 - f1_m: 0.8516 - acc: 0.8475 - val_loss: 0.3843 - val_f1_m: 0.8581 - val_acc: 0.8572\n",
      "Epoch 11/50\n",
      "282939/282939 [==============================] - 27s 97us/step - loss: 0.4037 - f1_m: 0.8531 - acc: 0.8491 - val_loss: 0.3817 - val_f1_m: 0.8593 - val_acc: 0.8576\n",
      "Epoch 12/50\n",
      "282939/282939 [==============================] - 28s 97us/step - loss: 0.3998 - f1_m: 0.8551 - acc: 0.8512 - val_loss: 0.3828 - val_f1_m: 0.8601 - val_acc: 0.8610\n",
      "Epoch 13/50\n",
      "282939/282939 [==============================] - 31s 110us/step - loss: 0.3971 - f1_m: 0.8573 - acc: 0.8536 - val_loss: 0.3777 - val_f1_m: 0.8619 - val_acc: 0.8605\n",
      "Epoch 14/50\n",
      "282939/282939 [==============================] - 31s 109us/step - loss: 0.3915 - f1_m: 0.8595 - acc: 0.8557 - val_loss: 0.3814 - val_f1_m: 0.8603 - val_acc: 0.8589\n",
      "Epoch 15/50\n",
      "282939/282939 [==============================] - 30s 107us/step - loss: 0.3895 - f1_m: 0.8616 - acc: 0.8581 - val_loss: 0.3806 - val_f1_m: 0.8621 - val_acc: 0.8615\n",
      "Epoch 16/50\n",
      "282939/282939 [==============================] - 30s 105us/step - loss: 0.3861 - f1_m: 0.8637 - acc: 0.8603 - val_loss: 0.3784 - val_f1_m: 0.8620 - val_acc: 0.8608\n",
      "Epoch 17/50\n",
      "282939/282939 [==============================] - 30s 108us/step - loss: 0.3823 - f1_m: 0.8658 - acc: 0.8625 - val_loss: 0.3748 - val_f1_m: 0.8637 - val_acc: 0.8646\n",
      "Epoch 18/50\n",
      "282939/282939 [==============================] - 29s 102us/step - loss: 0.3784 - f1_m: 0.8686 - acc: 0.8653 - val_loss: 0.3738 - val_f1_m: 0.8644 - val_acc: 0.8640\n",
      "Epoch 19/50\n",
      "282939/282939 [==============================] - 29s 104us/step - loss: 0.3742 - f1_m: 0.8703 - acc: 0.8672 - val_loss: 0.3717 - val_f1_m: 0.8685 - val_acc: 0.8678\n",
      "Epoch 20/50\n",
      "282939/282939 [==============================] - 28s 101us/step - loss: 0.3706 - f1_m: 0.8723 - acc: 0.8692 - val_loss: 0.3771 - val_f1_m: 0.8672 - val_acc: 0.8671\n",
      "Epoch 21/50\n",
      "282939/282939 [==============================] - 28s 99us/step - loss: 0.3667 - f1_m: 0.8748 - acc: 0.8719 - val_loss: 0.3705 - val_f1_m: 0.8676 - val_acc: 0.8676\n",
      "Epoch 22/50\n",
      "282939/282939 [==============================] - 29s 102us/step - loss: 0.3640 - f1_m: 0.8766 - acc: 0.8738 - val_loss: 0.3705 - val_f1_m: 0.8680 - val_acc: 0.8661\n",
      "Epoch 23/50\n",
      "282939/282939 [==============================] - 30s 107us/step - loss: 0.3619 - f1_m: 0.8784 - acc: 0.8756 - val_loss: 0.3693 - val_f1_m: 0.8712 - val_acc: 0.8719\n",
      "Epoch 24/50\n",
      "282939/282939 [==============================] - 30s 106us/step - loss: 0.3564 - f1_m: 0.8817 - acc: 0.8791 - val_loss: 0.3684 - val_f1_m: 0.8705 - val_acc: 0.8708\n",
      "Epoch 25/50\n",
      "282939/282939 [==============================] - 30s 106us/step - loss: 0.3521 - f1_m: 0.8844 - acc: 0.8818 - val_loss: 0.3669 - val_f1_m: 0.8736 - val_acc: 0.8734\n",
      "Epoch 26/50\n",
      "282939/282939 [==============================] - 31s 109us/step - loss: 0.3481 - f1_m: 0.8869 - acc: 0.8845 - val_loss: 0.3718 - val_f1_m: 0.8739 - val_acc: 0.8746\n",
      "Epoch 27/50\n",
      "282939/282939 [==============================] - 30s 108us/step - loss: 0.3433 - f1_m: 0.8896 - acc: 0.8872 - val_loss: 0.3659 - val_f1_m: 0.8729 - val_acc: 0.8742\n",
      "Epoch 28/50\n",
      "282939/282939 [==============================] - 29s 104us/step - loss: 0.3389 - f1_m: 0.8925 - acc: 0.8903 - val_loss: 0.3684 - val_f1_m: 0.8729 - val_acc: 0.8738\n",
      "Epoch 29/50\n",
      "282939/282939 [==============================] - 31s 108us/step - loss: 0.3346 - f1_m: 0.8957 - acc: 0.8937 - val_loss: 0.3696 - val_f1_m: 0.8751 - val_acc: 0.8755\n",
      "Epoch 30/50\n",
      "282939/282939 [==============================] - 31s 109us/step - loss: 0.3303 - f1_m: 0.8985 - acc: 0.8965 - val_loss: 0.3630 - val_f1_m: 0.8782 - val_acc: 0.8791\n",
      "Epoch 31/50\n",
      "282939/282939 [==============================] - 28s 99us/step - loss: 0.3256 - f1_m: 0.9014 - acc: 0.8995 - val_loss: 0.3704 - val_f1_m: 0.8753 - val_acc: 0.8784\n",
      "Epoch 32/50\n",
      "282939/282939 [==============================] - 26s 93us/step - loss: 0.3227 - f1_m: 0.9032 - acc: 0.9014 - val_loss: 0.3621 - val_f1_m: 0.8787 - val_acc: 0.8791\n",
      "Epoch 33/50\n",
      "282939/282939 [==============================] - 26s 94us/step - loss: 0.3159 - f1_m: 0.9064 - acc: 0.9046 - val_loss: 0.3710 - val_f1_m: 0.8792 - val_acc: 0.8800\n",
      "Epoch 34/50\n",
      "282939/282939 [==============================] - 27s 95us/step - loss: 0.3100 - f1_m: 0.9098 - acc: 0.9082 - val_loss: 0.3704 - val_f1_m: 0.8794 - val_acc: 0.8816\n",
      "Epoch 35/50\n",
      "282939/282939 [==============================] - 27s 95us/step - loss: 0.3069 - f1_m: 0.9116 - acc: 0.9099 - val_loss: 0.3712 - val_f1_m: 0.8816 - val_acc: 0.8820\n",
      "Epoch 36/50\n",
      "282939/282939 [==============================] - 27s 95us/step - loss: 0.3042 - f1_m: 0.9129 - acc: 0.9114 - val_loss: 0.3670 - val_f1_m: 0.8825 - val_acc: 0.8849\n",
      "Epoch 37/50\n",
      "282939/282939 [==============================] - 28s 97us/step - loss: 0.2979 - f1_m: 0.9157 - acc: 0.9142 - val_loss: 0.3672 - val_f1_m: 0.8812 - val_acc: 0.8833\n",
      "Epoch 38/50\n",
      "282939/282939 [==============================] - 27s 97us/step - loss: 0.2943 - f1_m: 0.9180 - acc: 0.9166 - val_loss: 0.3650 - val_f1_m: 0.8830 - val_acc: 0.8843\n",
      "Epoch 39/50\n",
      "282939/282939 [==============================] - 27s 94us/step - loss: 0.2905 - f1_m: 0.9196 - acc: 0.9182 - val_loss: 0.3755 - val_f1_m: 0.8826 - val_acc: 0.8858\n",
      "Epoch 40/50\n",
      "282939/282939 [==============================] - 28s 101us/step - loss: 0.2886 - f1_m: 0.9211 - acc: 0.9197 - val_loss: 0.3694 - val_f1_m: 0.8822 - val_acc: 0.8843\n",
      "Epoch 41/50\n",
      "282939/282939 [==============================] - 29s 102us/step - loss: 0.2804 - f1_m: 0.9242 - acc: 0.9229 - val_loss: 0.3721 - val_f1_m: 0.8840 - val_acc: 0.8856\n",
      "Epoch 42/50\n",
      "282939/282939 [==============================] - 28s 100us/step - loss: 0.2789 - f1_m: 0.9258 - acc: 0.9246 - val_loss: 0.3661 - val_f1_m: 0.8859 - val_acc: 0.8868\n",
      "Epoch 43/50\n",
      "282939/282939 [==============================] - 26s 93us/step - loss: 0.2753 - f1_m: 0.9269 - acc: 0.9257 - val_loss: 0.3902 - val_f1_m: 0.8819 - val_acc: 0.8858\n",
      "Epoch 44/50\n",
      "282939/282939 [==============================] - 27s 94us/step - loss: 0.2702 - f1_m: 0.9292 - acc: 0.9281 - val_loss: 0.3732 - val_f1_m: 0.8852 - val_acc: 0.8876\n",
      "Epoch 45/50\n",
      "282939/282939 [==============================] - 26s 92us/step - loss: 0.2677 - f1_m: 0.9302 - acc: 0.9290 - val_loss: 0.3737 - val_f1_m: 0.8857 - val_acc: 0.8879\n",
      "Epoch 46/50\n",
      "282939/282939 [==============================] - 26s 93us/step - loss: 0.2649 - f1_m: 0.9315 - acc: 0.9303 - val_loss: 0.3697 - val_f1_m: 0.8864 - val_acc: 0.8876\n",
      "Epoch 47/50\n"
     ]
    },
    {
     "name": "stdout",
     "output_type": "stream",
     "text": [
      "282939/282939 [==============================] - 28s 98us/step - loss: 0.2594 - f1_m: 0.9334 - acc: 0.9323 - val_loss: 0.3832 - val_f1_m: 0.8848 - val_acc: 0.8883\n",
      "Epoch 48/50\n",
      "282939/282939 [==============================] - 27s 97us/step - loss: 0.2580 - f1_m: 0.9347 - acc: 0.9336 - val_loss: 0.3858 - val_f1_m: 0.8846 - val_acc: 0.8882\n",
      "Epoch 49/50\n",
      "282939/282939 [==============================] - 29s 102us/step - loss: 0.2561 - f1_m: 0.9354 - acc: 0.9343 - val_loss: 0.3874 - val_f1_m: 0.8827 - val_acc: 0.8866\n",
      "Epoch 50/50\n",
      "282939/282939 [==============================] - 28s 99us/step - loss: 0.2539 - f1_m: 0.9367 - acc: 0.9357 - val_loss: 0.3911 - val_f1_m: 0.8839 - val_acc: 0.8876\n"
     ]
    },
    {
     "data": {
      "text/plain": [
       "<keras.callbacks.callbacks.History at 0x192be392908>"
      ]
     },
     "execution_count": 48,
     "metadata": {},
     "output_type": "execute_result"
    }
   ],
   "source": [
    "model02.fit(X_train_up, \n",
    "          y_train_up, \n",
    "          epochs= 50, \n",
    "          verbose=1, \n",
    "          validation_data = (X_val, y_val), \n",
    "          callbacks=[tensorboard_callback], \n",
    "          batch_size = 1000)"
   ]
  },
  {
   "cell_type": "code",
   "execution_count": 49,
   "metadata": {},
   "outputs": [
    {
     "data": {
      "image/png": "[encoded data removed]",
      "text/plain": [
       "<Figure size 720x576 with 3 Axes>"
      ]
     },
     "metadata": {
      "needs_background": "light"
     },
     "output_type": "display_data"
    }
   ],
   "source": [
    "Plot_Metrics(model02.history)"
   ]
  },
  {
   "cell_type": "markdown",
   "metadata": {},
   "source": [
    "#### Modelo03"
   ]
  },
  {
   "cell_type": "code",
   "execution_count": 59,
   "metadata": {},
   "outputs": [],
   "source": [
    "model03 = Sequential()\n",
    "model03.add(Embedding(input_dim = vocabulary_length, output_dim = 30, input_length=250))\n",
    "model03.add(Flatten())\n",
    "model03.add(Dense(5, kernel_regularizer=regularizers.l2(0.4), activation = 'relu'))\n",
    "model03.add(Dropout(.3))\n",
    "model03.add(Dense(1, activation='sigmoid'))"
   ]
  },
  {
   "cell_type": "code",
   "execution_count": 60,
   "metadata": {},
   "outputs": [],
   "source": [
    "opt = keras.optimizers.Adam(learning_rate=0.001)\n",
    "model03.compile(optimizer=opt, loss='binary_crossentropy', metrics=[f1_m,'acc'])"
   ]
  },
  {
   "cell_type": "code",
   "execution_count": 61,
   "metadata": {},
   "outputs": [
    {
     "name": "stdout",
     "output_type": "stream",
     "text": [
      "Model: \"sequential_5\"\n",
      "_________________________________________________________________\n",
      "Layer (type)                 Output Shape              Param #   \n",
      "=================================================================\n",
      "embedding_5 (Embedding)      (None, 250, 30)           4079370   \n",
      "_________________________________________________________________\n",
      "flatten_5 (Flatten)          (None, 7500)              0         \n",
      "_________________________________________________________________\n",
      "dense_9 (Dense)              (None, 5)                 37505     \n",
      "_________________________________________________________________\n",
      "dropout_5 (Dropout)          (None, 5)                 0         \n",
      "_________________________________________________________________\n",
      "dense_10 (Dense)             (None, 1)                 6         \n",
      "=================================================================\n",
      "Total params: 4,116,881\n",
      "Trainable params: 4,116,881\n",
      "Non-trainable params: 0\n",
      "_________________________________________________________________\n"
     ]
    }
   ],
   "source": [
    "model03.summary()"
   ]
  },
  {
   "cell_type": "code",
   "execution_count": 62,
   "metadata": {},
   "outputs": [],
   "source": [
    "log_dir = os.path.join(\"logs\", datetime.datetime.now().strftime(\"%Y%m%d-%H%M%S\"))\n",
    "tensorboard_callback = TensorBoard(log_dir=log_dir, histogram_freq=1)"
   ]
  },
  {
   "cell_type": "code",
   "execution_count": 63,
   "metadata": {},
   "outputs": [
    {
     "name": "stdout",
     "output_type": "stream",
     "text": [
      "Train on 282939 samples, validate on 49931 samples\n",
      "Epoch 1/100\n",
      "282939/282939 [==============================] - 31s 108us/step - loss: 0.7816 - f1_m: 0.5681 - acc: 0.6405 - val_loss: 0.5945 - val_f1_m: 0.7729 - val_acc: 0.7991\n",
      "Epoch 2/100\n",
      "282939/282939 [==============================] - 29s 104us/step - loss: 0.5643 - f1_m: 0.7955 - acc: 0.7982 - val_loss: 0.5134 - val_f1_m: 0.8330 - val_acc: 0.8372\n",
      "Epoch 3/100\n",
      "282939/282939 [==============================] - 30s 106us/step - loss: 0.5149 - f1_m: 0.8176 - acc: 0.8136 - val_loss: 0.4735 - val_f1_m: 0.8398 - val_acc: 0.8408\n",
      "Epoch 4/100\n",
      "282939/282939 [==============================] - 30s 106us/step - loss: 0.4877 - f1_m: 0.8256 - acc: 0.8191 - val_loss: 0.4504 - val_f1_m: 0.8465 - val_acc: 0.8446\n",
      "Epoch 5/100\n",
      "282939/282939 [==============================] - 30s 104us/step - loss: 0.4724 - f1_m: 0.8285 - acc: 0.8208 - val_loss: 0.4346 - val_f1_m: 0.8485 - val_acc: 0.8475\n",
      "Epoch 6/100\n",
      "282939/282939 [==============================] - 30s 104us/step - loss: 0.4601 - f1_m: 0.8323 - acc: 0.8241 - val_loss: 0.4222 - val_f1_m: 0.8523 - val_acc: 0.8501\n",
      "Epoch 7/100\n",
      "282939/282939 [==============================] - 30s 106us/step - loss: 0.4536 - f1_m: 0.8335 - acc: 0.8248 - val_loss: 0.4152 - val_f1_m: 0.8547 - val_acc: 0.8538\n",
      "Epoch 8/100\n",
      "282939/282939 [==============================] - 30s 105us/step - loss: 0.4469 - f1_m: 0.8354 - acc: 0.8268 - val_loss: 0.4118 - val_f1_m: 0.8546 - val_acc: 0.8523\n",
      "Epoch 9/100\n",
      "282939/282939 [==============================] - 31s 109us/step - loss: 0.4424 - f1_m: 0.8372 - acc: 0.8286 - val_loss: 0.4094 - val_f1_m: 0.8541 - val_acc: 0.8540\n",
      "Epoch 10/100\n",
      "282939/282939 [==============================] - 30s 107us/step - loss: 0.4379 - f1_m: 0.8398 - acc: 0.8313 - val_loss: 0.4032 - val_f1_m: 0.8569 - val_acc: 0.8547\n",
      "Epoch 11/100\n",
      "282939/282939 [==============================] - 30s 106us/step - loss: 0.4329 - f1_m: 0.8417 - acc: 0.8332 - val_loss: 0.4011 - val_f1_m: 0.8591 - val_acc: 0.8578\n",
      "Epoch 12/100\n",
      "282939/282939 [==============================] - 30s 106us/step - loss: 0.4302 - f1_m: 0.8436 - acc: 0.8355 - val_loss: 0.4007 - val_f1_m: 0.8585 - val_acc: 0.8553\n",
      "Epoch 13/100\n",
      "282939/282939 [==============================] - 30s 106us/step - loss: 0.4273 - f1_m: 0.8451 - acc: 0.8370 - val_loss: 0.3961 - val_f1_m: 0.8587 - val_acc: 0.8567\n",
      "Epoch 14/100\n",
      "282939/282939 [==============================] - 30s 106us/step - loss: 0.4240 - f1_m: 0.8470 - acc: 0.8390 - val_loss: 0.3946 - val_f1_m: 0.8598 - val_acc: 0.8575\n",
      "Epoch 15/100\n",
      "282939/282939 [==============================] - 30s 107us/step - loss: 0.4192 - f1_m: 0.8494 - acc: 0.8418 - val_loss: 0.3935 - val_f1_m: 0.8619 - val_acc: 0.8608\n",
      "Epoch 16/100\n",
      "282939/282939 [==============================] - 33s 117us/step - loss: 0.4177 - f1_m: 0.8501 - acc: 0.8423 - val_loss: 0.3932 - val_f1_m: 0.8618 - val_acc: 0.8614\n",
      "Epoch 17/100\n",
      "282939/282939 [==============================] - 31s 109us/step - loss: 0.4139 - f1_m: 0.8527 - acc: 0.8452 - val_loss: 0.3914 - val_f1_m: 0.8625 - val_acc: 0.8603\n",
      "Epoch 18/100\n",
      "282939/282939 [==============================] - 30s 106us/step - loss: 0.4114 - f1_m: 0.8545 - acc: 0.8472 - val_loss: 0.3884 - val_f1_m: 0.8661 - val_acc: 0.8641\n",
      "Epoch 19/100\n",
      "282939/282939 [==============================] - 50s 176us/step - loss: 0.4087 - f1_m: 0.8560 - acc: 0.8488 - val_loss: 0.3867 - val_f1_m: 0.8652 - val_acc: 0.8628:  \n",
      "Epoch 20/100\n",
      "282939/282939 [==============================] - 50s 178us/step - loss: 0.4058 - f1_m: 0.8578 - acc: 0.8507 - val_loss: 0.3869 - val_f1_m: 0.8669 - val_acc: 0.8647\n",
      "Epoch 21/100\n",
      "282939/282939 [==============================] - 50s 178us/step - loss: 0.4032 - f1_m: 0.8596 - acc: 0.8527 - val_loss: 0.3861 - val_f1_m: 0.8682 - val_acc: 0.8662\n",
      "Epoch 22/100\n",
      "282939/282939 [==============================] - 50s 178us/step - loss: 0.3994 - f1_m: 0.8615 - acc: 0.8547 - val_loss: 0.3882 - val_f1_m: 0.8637 - val_acc: 0.8620\n",
      "Epoch 23/100\n",
      "282939/282939 [==============================] - 32s 113us/step - loss: 0.3951 - f1_m: 0.8637 - acc: 0.8571 - val_loss: 0.3810 - val_f1_m: 0.8671 - val_acc: 0.8660\n",
      "Epoch 24/100\n",
      "282939/282939 [==============================] - 36s 129us/step - loss: 0.3930 - f1_m: 0.8648 - acc: 0.8582 - val_loss: 0.3861 - val_f1_m: 0.8664 - val_acc: 0.8651\n",
      "Epoch 25/100\n",
      "282939/282939 [==============================] - 40s 143us/step - loss: 0.3885 - f1_m: 0.8672 - acc: 0.8610 - val_loss: 0.3855 - val_f1_m: 0.8677 - val_acc: 0.8656\n",
      "Epoch 26/100\n",
      "282939/282939 [==============================] - 47s 167us/step - loss: 0.3867 - f1_m: 0.8692 - acc: 0.8631 - val_loss: 0.3870 - val_f1_m: 0.8709 - val_acc: 0.8691\n",
      "Epoch 27/100\n",
      "282939/282939 [==============================] - 42s 148us/step - loss: 0.3827 - f1_m: 0.8709 - acc: 0.8648 - val_loss: 0.3854 - val_f1_m: 0.8693 - val_acc: 0.8697\n",
      "Epoch 28/100\n",
      "282939/282939 [==============================] - 49s 173us/step - loss: 0.3806 - f1_m: 0.8730 - acc: 0.8671 - val_loss: 0.3927 - val_f1_m: 0.8699 - val_acc: 0.8705\n",
      "Epoch 29/100\n",
      "282939/282939 [==============================] - 45s 158us/step - loss: 0.3785 - f1_m: 0.8741 - acc: 0.8682 - val_loss: 0.3832 - val_f1_m: 0.8719 - val_acc: 0.8699\n",
      "Epoch 30/100\n",
      "282939/282939 [==============================] - 48s 169us/step - loss: 0.3732 - f1_m: 0.8770 - acc: 0.8714 - val_loss: 0.3835 - val_f1_m: 0.8714 - val_acc: 0.8726\n",
      "Epoch 31/100\n",
      "282939/282939 [==============================] - 50s 177us/step - loss: 0.3703 - f1_m: 0.8795 - acc: 0.8742 - val_loss: 0.3874 - val_f1_m: 0.8709 - val_acc: 0.8705\n",
      "Epoch 32/100\n",
      "282939/282939 [==============================] - 50s 178us/step - loss: 0.3678 - f1_m: 0.8807 - acc: 0.8754 - val_loss: 0.3812 - val_f1_m: 0.8744 - val_acc: 0.8744\n",
      "Epoch 33/100\n",
      "282939/282939 [==============================] - 50s 177us/step - loss: 0.3634 - f1_m: 0.8839 - acc: 0.8789 - val_loss: 0.3816 - val_f1_m: 0.8758 - val_acc: 0.8750\n",
      "Epoch 34/100\n",
      "282939/282939 [==============================] - 50s 177us/step - loss: 0.3608 - f1_m: 0.8859 - acc: 0.8809 - val_loss: 0.3829 - val_f1_m: 0.8760 - val_acc: 0.8760\n",
      "Epoch 35/100\n",
      "282939/282939 [==============================] - 36s 126us/step - loss: 0.3568 - f1_m: 0.8877 - acc: 0.8829 - val_loss: 0.3873 - val_f1_m: 0.8741 - val_acc: 0.8756\n",
      "Epoch 36/100\n",
      "282939/282939 [==============================] - 31s 110us/step - loss: 0.3508 - f1_m: 0.8909 - acc: 0.8862 - val_loss: 0.3774 - val_f1_m: 0.8766 - val_acc: 0.8759\n",
      "Epoch 37/100\n",
      "282939/282939 [==============================] - 32s 114us/step - loss: 0.3487 - f1_m: 0.8926 - acc: 0.8881 - val_loss: 0.3790 - val_f1_m: 0.8778 - val_acc: 0.8790\n",
      "Epoch 38/100\n",
      "282939/282939 [==============================] - 32s 114us/step - loss: 0.3451 - f1_m: 0.8947 - acc: 0.8903 - val_loss: 0.3843 - val_f1_m: 0.8778 - val_acc: 0.8783\n",
      "Epoch 39/100\n",
      "282939/282939 [==============================] - 32s 113us/step - loss: 0.3414 - f1_m: 0.8965 - acc: 0.8923 - val_loss: 0.3942 - val_f1_m: 0.8766 - val_acc: 0.8783\n",
      "Epoch 40/100\n",
      "282939/282939 [==============================] - 32s 114us/step - loss: 0.3364 - f1_m: 0.8998 - acc: 0.8958 - val_loss: 0.3917 - val_f1_m: 0.8799 - val_acc: 0.8806\n",
      "Epoch 41/100\n",
      "282939/282939 [==============================] - 32s 113us/step - loss: 0.3333 - f1_m: 0.9015 - acc: 0.8975 - val_loss: 0.3865 - val_f1_m: 0.8782 - val_acc: 0.8792\n",
      "Epoch 42/100\n",
      "282939/282939 [==============================] - 32s 115us/step - loss: 0.3287 - f1_m: 0.9027 - acc: 0.8988 - val_loss: 0.3930 - val_f1_m: 0.8791 - val_acc: 0.8803\n",
      "Epoch 43/100\n",
      "282939/282939 [==============================] - 31s 111us/step - loss: 0.3272 - f1_m: 0.9048 - acc: 0.9011 - val_loss: 0.3859 - val_f1_m: 0.8794 - val_acc: 0.8806\n",
      "Epoch 44/100\n",
      "282939/282939 [==============================] - 31s 110us/step - loss: 0.3245 - f1_m: 0.9061 - acc: 0.9024 - val_loss: 0.3842 - val_f1_m: 0.8808 - val_acc: 0.8814\n",
      "Epoch 45/100\n",
      "282939/282939 [==============================] - 31s 109us/step - loss: 0.3204 - f1_m: 0.9078 - acc: 0.9042 - val_loss: 0.3876 - val_f1_m: 0.8798 - val_acc: 0.8820\n",
      "Epoch 46/100\n",
      "282939/282939 [==============================] - 30s 107us/step - loss: 0.3188 - f1_m: 0.9095 - acc: 0.9060 - val_loss: 0.3965 - val_f1_m: 0.8784 - val_acc: 0.8816\n",
      "Epoch 47/100\n"
     ]
    },
    {
     "name": "stdout",
     "output_type": "stream",
     "text": [
      "282939/282939 [==============================] - 31s 108us/step - loss: 0.3150 - f1_m: 0.9115 - acc: 0.9081 - val_loss: 0.3876 - val_f1_m: 0.8814 - val_acc: 0.8826\n",
      "Epoch 48/100\n",
      "282939/282939 [==============================] - 31s 108us/step - loss: 0.3124 - f1_m: 0.9122 - acc: 0.9089 - val_loss: 0.3929 - val_f1_m: 0.8793 - val_acc: 0.8818\n",
      "Epoch 49/100\n",
      "282939/282939 [==============================] - 31s 108us/step - loss: 0.3086 - f1_m: 0.9145 - acc: 0.9113 - val_loss: 0.3901 - val_f1_m: 0.8802 - val_acc: 0.8823\n",
      "Epoch 50/100\n",
      "282939/282939 [==============================] - 30s 107us/step - loss: 0.3068 - f1_m: 0.9150 - acc: 0.9118 - val_loss: 0.3924 - val_f1_m: 0.8788 - val_acc: 0.8809\n",
      "Epoch 51/100\n",
      "282939/282939 [==============================] - 31s 109us/step - loss: 0.3039 - f1_m: 0.9171 - acc: 0.9140 - val_loss: 0.3903 - val_f1_m: 0.8805 - val_acc: 0.8834\n",
      "Epoch 52/100\n",
      "282939/282939 [==============================] - 30s 107us/step - loss: 0.2993 - f1_m: 0.9183 - acc: 0.9154 - val_loss: 0.3954 - val_f1_m: 0.8817 - val_acc: 0.8842\n",
      "Epoch 53/100\n",
      "282939/282939 [==============================] - 31s 109us/step - loss: 0.2979 - f1_m: 0.9195 - acc: 0.9166 - val_loss: 0.4049 - val_f1_m: 0.8813 - val_acc: 0.8829\n",
      "Epoch 54/100\n",
      "282939/282939 [==============================] - 30s 107us/step - loss: 0.2957 - f1_m: 0.9197 - acc: 0.9168 - val_loss: 0.4011 - val_f1_m: 0.8816 - val_acc: 0.8841\n",
      "Epoch 55/100\n",
      "282939/282939 [==============================] - 31s 109us/step - loss: 0.2950 - f1_m: 0.9214 - acc: 0.9185 - val_loss: 0.4129 - val_f1_m: 0.8807 - val_acc: 0.8833\n",
      "Epoch 56/100\n",
      "282939/282939 [==============================] - 30s 107us/step - loss: 0.2907 - f1_m: 0.9226 - acc: 0.9198 - val_loss: 0.3958 - val_f1_m: 0.8828 - val_acc: 0.8849\n",
      "Epoch 57/100\n",
      "282939/282939 [==============================] - 30s 107us/step - loss: 0.2870 - f1_m: 0.9240 - acc: 0.9213 - val_loss: 0.4031 - val_f1_m: 0.8817 - val_acc: 0.8847\n",
      "Epoch 58/100\n",
      "282939/282939 [==============================] - 30s 107us/step - loss: 0.2849 - f1_m: 0.9256 - acc: 0.9230 - val_loss: 0.4155 - val_f1_m: 0.8835 - val_acc: 0.8863\n",
      "Epoch 59/100\n",
      "282939/282939 [==============================] - 30s 106us/step - loss: 0.2858 - f1_m: 0.9250 - acc: 0.9224 - val_loss: 0.4095 - val_f1_m: 0.8837 - val_acc: 0.8859\n",
      "Epoch 60/100\n",
      "282939/282939 [==============================] - 31s 109us/step - loss: 0.2798 - f1_m: 0.9269 - acc: 0.9243 - val_loss: 0.4089 - val_f1_m: 0.8841 - val_acc: 0.8862\n",
      "Epoch 61/100\n",
      "282939/282939 [==============================] - 31s 111us/step - loss: 0.2819 - f1_m: 0.9274 - acc: 0.9249 - val_loss: 0.4148 - val_f1_m: 0.8822 - val_acc: 0.8854\n",
      "Epoch 62/100\n",
      "282939/282939 [==============================] - 30s 108us/step - loss: 0.2777 - f1_m: 0.9282 - acc: 0.9257 - val_loss: 0.3955 - val_f1_m: 0.8840 - val_acc: 0.8863\n",
      "Epoch 63/100\n",
      "282939/282939 [==============================] - 30s 107us/step - loss: 0.2755 - f1_m: 0.9292 - acc: 0.9268 - val_loss: 0.4036 - val_f1_m: 0.8840 - val_acc: 0.8862\n",
      "Epoch 64/100\n",
      "282939/282939 [==============================] - 30s 107us/step - loss: 0.2734 - f1_m: 0.9305 - acc: 0.9281 - val_loss: 0.4271 - val_f1_m: 0.8828 - val_acc: 0.8860\n",
      "Epoch 65/100\n",
      "282939/282939 [==============================] - 34s 119us/step - loss: 0.2704 - f1_m: 0.9312 - acc: 0.9289 - val_loss: 0.4092 - val_f1_m: 0.8827 - val_acc: 0.8850\n",
      "Epoch 66/100\n",
      "282939/282939 [==============================] - 51s 179us/step - loss: 0.2735 - f1_m: 0.9313 - acc: 0.9290 - val_loss: 0.4227 - val_f1_m: 0.8816 - val_acc: 0.8849\n",
      "Epoch 67/100\n",
      "282939/282939 [==============================] - 41s 146us/step - loss: 0.2682 - f1_m: 0.9321 - acc: 0.9298 - val_loss: 0.4136 - val_f1_m: 0.8812 - val_acc: 0.8856\n",
      "Epoch 68/100\n",
      "282939/282939 [==============================] - 50s 177us/step - loss: 0.2681 - f1_m: 0.9329 - acc: 0.9306 - val_loss: 0.4269 - val_f1_m: 0.8825 - val_acc: 0.8858\n",
      "Epoch 69/100\n",
      "282939/282939 [==============================] - 50s 178us/step - loss: 0.2650 - f1_m: 0.9338 - acc: 0.9317 - val_loss: 0.4134 - val_f1_m: 0.8837 - val_acc: 0.8867\n",
      "Epoch 70/100\n",
      "282939/282939 [==============================] - 33s 116us/step - loss: 0.2650 - f1_m: 0.9341 - acc: 0.9320 - val_loss: 0.4269 - val_f1_m: 0.8836 - val_acc: 0.8866\n",
      "Epoch 71/100\n",
      "282939/282939 [==============================] - 47s 167us/step - loss: 0.2674 - f1_m: 0.9340 - acc: 0.9318 - val_loss: 0.4330 - val_f1_m: 0.8844 - val_acc: 0.8868\n",
      "Epoch 72/100\n",
      "282939/282939 [==============================] - 50s 177us/step - loss: 0.2593 - f1_m: 0.9349 - acc: 0.9328 - val_loss: 0.4272 - val_f1_m: 0.8818 - val_acc: 0.8853\n",
      "Epoch 73/100\n",
      "282939/282939 [==============================] - 50s 177us/step - loss: 0.2640 - f1_m: 0.9359 - acc: 0.9338 - val_loss: 0.4382 - val_f1_m: 0.8804 - val_acc: 0.8848\n",
      "Epoch 74/100\n",
      "282939/282939 [==============================] - 47s 167us/step - loss: 0.2562 - f1_m: 0.9370 - acc: 0.9349 - val_loss: 0.4413 - val_f1_m: 0.8797 - val_acc: 0.8839\n",
      "Epoch 75/100\n",
      "282939/282939 [==============================] - 42s 150us/step - loss: 0.2606 - f1_m: 0.9363 - acc: 0.9343 - val_loss: 0.4223 - val_f1_m: 0.8837 - val_acc: 0.8862\n",
      "Epoch 76/100\n",
      "282939/282939 [==============================] - 50s 178us/step - loss: 0.2603 - f1_m: 0.9374 - acc: 0.9353 - val_loss: 0.4438 - val_f1_m: 0.8803 - val_acc: 0.8849\n",
      "Epoch 77/100\n",
      "282939/282939 [==============================] - 40s 141us/step - loss: 0.2545 - f1_m: 0.9383 - acc: 0.9363 - val_loss: 0.4314 - val_f1_m: 0.8826 - val_acc: 0.8861\n",
      "Epoch 78/100\n",
      "282939/282939 [==============================] - 32s 115us/step - loss: 0.2536 - f1_m: 0.9384 - acc: 0.9364 - val_loss: 0.4585 - val_f1_m: 0.8788 - val_acc: 0.8833\n",
      "Epoch 79/100\n",
      "282939/282939 [==============================] - 33s 118us/step - loss: 0.2522 - f1_m: 0.9395 - acc: 0.9376 - val_loss: 0.4603 - val_f1_m: 0.8794 - val_acc: 0.8836\n",
      "Epoch 80/100\n",
      "282939/282939 [==============================] - 33s 117us/step - loss: 0.2561 - f1_m: 0.9386 - acc: 0.9367 - val_loss: 0.4472 - val_f1_m: 0.8818 - val_acc: 0.8853\n",
      "Epoch 81/100\n",
      "282939/282939 [==============================] - 32s 115us/step - loss: 0.2524 - f1_m: 0.9393 - acc: 0.9374 - val_loss: 0.4597 - val_f1_m: 0.8825 - val_acc: 0.8863\n",
      "Epoch 82/100\n",
      "282939/282939 [==============================] - 43s 151us/step - loss: 0.2519 - f1_m: 0.9401 - acc: 0.9382 - val_loss: 0.4464 - val_f1_m: 0.8814 - val_acc: 0.8847\n",
      "Epoch 83/100\n",
      "282939/282939 [==============================] - 33s 115us/step - loss: 0.2494 - f1_m: 0.9409 - acc: 0.9390 - val_loss: 0.4527 - val_f1_m: 0.8847 - val_acc: 0.8881\n",
      "Epoch 84/100\n",
      "282939/282939 [==============================] - 32s 112us/step - loss: 0.2516 - f1_m: 0.9409 - acc: 0.9391 - val_loss: 0.4688 - val_f1_m: 0.8828 - val_acc: 0.8869\n",
      "Epoch 85/100\n",
      "282939/282939 [==============================] - 50s 175us/step - loss: 0.2478 - f1_m: 0.9418 - acc: 0.9400 - val_loss: 0.4374 - val_f1_m: 0.8835 - val_acc: 0.8870\n",
      "Epoch 86/100\n",
      "282939/282939 [==============================] - 42s 149us/step - loss: 0.2480 - f1_m: 0.9419 - acc: 0.9401 - val_loss: 0.4587 - val_f1_m: 0.8816 - val_acc: 0.8858\n",
      "Epoch 87/100\n",
      "282939/282939 [==============================] - 39s 138us/step - loss: 0.2469 - f1_m: 0.9420 - acc: 0.9402 - val_loss: 0.4544 - val_f1_m: 0.8843 - val_acc: 0.8879\n",
      "Epoch 88/100\n",
      "282939/282939 [==============================] - 50s 177us/step - loss: 0.2433 - f1_m: 0.9425 - acc: 0.9407 - val_loss: 0.4502 - val_f1_m: 0.8844 - val_acc: 0.8870\n",
      "Epoch 89/100\n",
      "282939/282939 [==============================] - 49s 175us/step - loss: 0.2428 - f1_m: 0.9430 - acc: 0.9412 - val_loss: 0.4810 - val_f1_m: 0.8820 - val_acc: 0.8864\n",
      "Epoch 90/100\n",
      "282939/282939 [==============================] - 49s 172us/step - loss: 0.2423 - f1_m: 0.9429 - acc: 0.9411 - val_loss: 0.4626 - val_f1_m: 0.8813 - val_acc: 0.8848\n",
      "Epoch 91/100\n",
      "282939/282939 [==============================] - 41s 144us/step - loss: 0.2484 - f1_m: 0.9428 - acc: 0.9410 - val_loss: 0.4647 - val_f1_m: 0.8819 - val_acc: 0.8857\n",
      "Epoch 92/100\n",
      "282939/282939 [==============================] - 50s 178us/step - loss: 0.2430 - f1_m: 0.9431 - acc: 0.9414 - val_loss: 0.4930 - val_f1_m: 0.8820 - val_acc: 0.8856\n",
      "Epoch 93/100\n"
     ]
    },
    {
     "name": "stdout",
     "output_type": "stream",
     "text": [
      "282939/282939 [==============================] - 51s 179us/step - loss: 0.2501 - f1_m: 0.9444 - acc: 0.9427 - val_loss: 0.4596 - val_f1_m: 0.8805 - val_acc: 0.8849\n",
      "Epoch 94/100\n",
      "282939/282939 [==============================] - 50s 178us/step - loss: 0.2399 - f1_m: 0.9441 - acc: 0.9423 - val_loss: 0.4678 - val_f1_m: 0.8837 - val_acc: 0.8864\n",
      "Epoch 95/100\n",
      "282939/282939 [==============================] - 51s 180us/step - loss: 0.2422 - f1_m: 0.9445 - acc: 0.9428 - val_loss: 0.5006 - val_f1_m: 0.8793 - val_acc: 0.8842\n",
      "Epoch 96/100\n",
      "282939/282939 [==============================] - 50s 178us/step - loss: 0.2426 - f1_m: 0.9442 - acc: 0.9424 - val_loss: 0.4840 - val_f1_m: 0.8821 - val_acc: 0.8855\n",
      "Epoch 97/100\n",
      "282939/282939 [==============================] - 40s 141us/step - loss: 0.2440 - f1_m: 0.9446 - acc: 0.9429 - val_loss: 0.4859 - val_f1_m: 0.8819 - val_acc: 0.8857\n",
      "Epoch 98/100\n",
      "282939/282939 [==============================] - 50s 177us/step - loss: 0.2451 - f1_m: 0.9443 - acc: 0.9426 - val_loss: 0.4974 - val_f1_m: 0.8796 - val_acc: 0.8850\n",
      "Epoch 99/100\n",
      "282939/282939 [==============================] - 51s 179us/step - loss: 0.2388 - f1_m: 0.9458 - acc: 0.9441 - val_loss: 0.4973 - val_f1_m: 0.8793 - val_acc: 0.8841\n",
      "Epoch 100/100\n",
      "282939/282939 [==============================] - 51s 179us/step - loss: 0.2441 - f1_m: 0.9458 - acc: 0.9442 - val_loss: 0.5064 - val_f1_m: 0.8788 - val_acc: 0.8837\n"
     ]
    },
    {
     "data": {
      "text/plain": [
       "<keras.callbacks.callbacks.History at 0x192be5b0688>"
      ]
     },
     "execution_count": 63,
     "metadata": {},
     "output_type": "execute_result"
    }
   ],
   "source": [
    "model03.fit(X_train_up, \n",
    "          y_train_up, \n",
    "          epochs= 100, \n",
    "          verbose=1, \n",
    "          validation_data = (X_val, y_val), \n",
    "          callbacks=[tensorboard_callback], \n",
    "          batch_size = 1000)"
   ]
  },
  {
   "cell_type": "code",
   "execution_count": 64,
   "metadata": {},
   "outputs": [
    {
     "data": {
      "image/png": "[encoded data removed]",
      "text/plain": [
       "<Figure size 720x576 with 3 Axes>"
      ]
     },
     "metadata": {
      "needs_background": "light"
     },
     "output_type": "display_data"
    }
   ],
   "source": [
    "Plot_Metrics(model03.history)"
   ]
  },
  {
   "cell_type": "markdown",
   "metadata": {},
   "source": [
    "#### Modelo 02 for 30 epochs"
   ]
  },
  {
   "cell_type": "code",
   "execution_count": 65,
   "metadata": {},
   "outputs": [],
   "source": [
    "modelFinal = Sequential()\n",
    "modelFinal.add(Embedding(input_dim = vocabulary_length, output_dim = 30, input_length=250))\n",
    "modelFinal.add(Flatten())\n",
    "modelFinal.add(Dense(5, kernel_regularizer=regularizers.l2(0.3), activation = 'relu'))\n",
    "modelFinal.add(Dropout(.3))\n",
    "modelFinal.add(Dense(1, activation='sigmoid'))"
   ]
  },
  {
   "cell_type": "code",
   "execution_count": 66,
   "metadata": {},
   "outputs": [],
   "source": [
    "opt = keras.optimizers.Adam(learning_rate=0.001)\n",
    "modelFinal.compile(optimizer=opt, loss='binary_crossentropy', metrics=[f1_m,'acc'])"
   ]
  },
  {
   "cell_type": "code",
   "execution_count": 67,
   "metadata": {},
   "outputs": [
    {
     "name": "stdout",
     "output_type": "stream",
     "text": [
      "Model: \"sequential_6\"\n",
      "_________________________________________________________________\n",
      "Layer (type)                 Output Shape              Param #   \n",
      "=================================================================\n",
      "embedding_6 (Embedding)      (None, 250, 30)           4079370   \n",
      "_________________________________________________________________\n",
      "flatten_6 (Flatten)          (None, 7500)              0         \n",
      "_________________________________________________________________\n",
      "dense_11 (Dense)             (None, 5)                 37505     \n",
      "_________________________________________________________________\n",
      "dropout_6 (Dropout)          (None, 5)                 0         \n",
      "_________________________________________________________________\n",
      "dense_12 (Dense)             (None, 1)                 6         \n",
      "=================================================================\n",
      "Total params: 4,116,881\n",
      "Trainable params: 4,116,881\n",
      "Non-trainable params: 0\n",
      "_________________________________________________________________\n"
     ]
    }
   ],
   "source": [
    "modelFinal.summary()"
   ]
  },
  {
   "cell_type": "code",
   "execution_count": 68,
   "metadata": {},
   "outputs": [],
   "source": [
    "log_dir = os.path.join(\"logs\", datetime.datetime.now().strftime(\"%Y%m%d-%H%M%S\"))\n",
    "tensorboard_callback = TensorBoard(log_dir=log_dir, histogram_freq=1)"
   ]
  },
  {
   "cell_type": "code",
   "execution_count": 71,
   "metadata": {},
   "outputs": [
    {
     "name": "stdout",
     "output_type": "stream",
     "text": [
      "Train on 282939 samples, validate on 49931 samples\n",
      "Epoch 1/10\n",
      "282939/282939 [==============================] - 31s 110us/step - loss: 0.3466 - f1_m: 0.8616 - acc: 0.8684 - val_loss: 0.3513 - val_f1_m: 0.8754 - val_acc: 0.8769\n",
      "Epoch 2/10\n",
      "282939/282939 [==============================] - 31s 109us/step - loss: 0.3433 - f1_m: 0.8646 - acc: 0.8713 - val_loss: 0.3460 - val_f1_m: 0.8767 - val_acc: 0.8795\n",
      "Epoch 3/10\n",
      "282939/282939 [==============================] - 30s 106us/step - loss: 0.3372 - f1_m: 0.8665 - acc: 0.8731 - val_loss: 0.3442 - val_f1_m: 0.8784 - val_acc: 0.8805\n",
      "Epoch 4/10\n",
      "282939/282939 [==============================] - 29s 104us/step - loss: 0.3352 - f1_m: 0.8676 - acc: 0.8743 - val_loss: 0.3473 - val_f1_m: 0.8776 - val_acc: 0.8812\n",
      "Epoch 5/10\n",
      "282939/282939 [==============================] - 31s 108us/step - loss: 0.3306 - f1_m: 0.8707 - acc: 0.8770 - val_loss: 0.3448 - val_f1_m: 0.8802 - val_acc: 0.8831\n",
      "Epoch 6/10\n",
      "282939/282939 [==============================] - 30s 106us/step - loss: 0.3285 - f1_m: 0.8725 - acc: 0.8789 - val_loss: 0.3441 - val_f1_m: 0.8793 - val_acc: 0.8823\n",
      "Epoch 7/10\n",
      "282939/282939 [==============================] - 29s 104us/step - loss: 0.3242 - f1_m: 0.8754 - acc: 0.8815 - val_loss: 0.3423 - val_f1_m: 0.8821 - val_acc: 0.8839\n",
      "Epoch 8/10\n",
      "282939/282939 [==============================] - 31s 109us/step - loss: 0.3210 - f1_m: 0.8765 - acc: 0.8827 - val_loss: 0.3466 - val_f1_m: 0.8819 - val_acc: 0.8848\n",
      "Epoch 9/10\n",
      "282939/282939 [==============================] - 32s 112us/step - loss: 0.3178 - f1_m: 0.8791 - acc: 0.8850 - val_loss: 0.3468 - val_f1_m: 0.8821 - val_acc: 0.8851\n",
      "Epoch 10/10\n",
      "282939/282939 [==============================] - 30s 106us/step - loss: 0.3141 - f1_m: 0.8806 - acc: 0.8864 - val_loss: 0.3455 - val_f1_m: 0.8819 - val_acc: 0.8847\n"
     ]
    },
    {
     "data": {
      "text/plain": [
       "<keras.callbacks.callbacks.History at 0x192c1432bc8>"
      ]
     },
     "execution_count": 71,
     "metadata": {},
     "output_type": "execute_result"
    }
   ],
   "source": [
    "modelFinal.fit(X_train_up, \n",
    "          y_train_up, \n",
    "          epochs= 40, \n",
    "          verbose=1, \n",
    "          validation_data = (X_val, y_val), \n",
    "          callbacks=[tensorboard_callback], \n",
    "          batch_size = 1000)"
   ]
  },
  {
   "cell_type": "code",
   "execution_count": 73,
   "metadata": {},
   "outputs": [
    {
     "data": {
      "image/png": "[encoded data removed]",
      "text/plain": [
       "<Figure size 720x576 with 3 Axes>"
      ]
     },
     "metadata": {
      "needs_background": "light"
     },
     "output_type": "display_data"
    }
   ],
   "source": [
    "Plot_Metrics(modelFinal.history)"
   ]
  },
  {
   "cell_type": "code",
   "execution_count": 72,
   "metadata": {},
   "outputs": [],
   "source": [
    "#Saving the model:\n",
    "modelFinal.save('model_embeddingsFinal.h5')"
   ]
  },
  {
   "cell_type": "code",
   "execution_count": null,
   "metadata": {},
   "outputs": [],
   "source": [
    "## Estimating"
   ]
  },
  {
   "cell_type": "code",
   "execution_count": 82,
   "metadata": {},
   "outputs": [
    {
     "data": {
      "text/plain": [
       "[1.0, 1.0, 1.0, 0.0, 1.0]"
      ]
     },
     "execution_count": 82,
     "metadata": {},
     "output_type": "execute_result"
    }
   ],
   "source": [
    "predictions = model.predict(x_test)\n",
    "predictions = [round(x[0]) for x in predictions]\n",
    "predictions[:5]"
   ]
  },
  {
   "cell_type": "code",
   "execution_count": 86,
   "metadata": {},
   "outputs": [
    {
     "data": {
      "text/plain": [
       "[1.0, 1.0, 0.0, 0.0, 1.0]"
      ]
     },
     "execution_count": 86,
     "metadata": {},
     "output_type": "execute_result"
    }
   ],
   "source": [
    "predictions_val = model.predict(X_val)\n",
    "predictions_val = [round(x[0]) for x in predictions_val]\n",
    "predictions_val[:5]"
   ]
  },
  {
   "cell_type": "code",
   "execution_count": 83,
   "metadata": {},
   "outputs": [
    {
     "data": {
      "text/plain": [
       "[0.0, 1.0, 1.0, 0.0, 1.0]"
      ]
     },
     "execution_count": 83,
     "metadata": {},
     "output_type": "execute_result"
    }
   ],
   "source": [
    "y_test[:5]"
   ]
  },
  {
   "cell_type": "code",
   "execution_count": 84,
   "metadata": {},
   "outputs": [
    {
     "data": {
      "image/png": "[encoded data removed]",
      "text/plain": [
       "<Figure size 648x432 with 2 Axes>"
      ]
     },
     "metadata": {
      "needs_background": "light"
     },
     "output_type": "display_data"
    }
   ],
   "source": [
    "from sklearn.metrics import confusion_matrix\n",
    "\n",
    "plot_cm(confusion_matrix(predictions, y_test), ['Not Recommended','Recommended'])"
   ]
  },
  {
   "cell_type": "code",
   "execution_count": 90,
   "metadata": {},
   "outputs": [
    {
     "name": "stdout",
     "output_type": "stream",
     "text": [
      "___________________________________________________________________________________________________________\n",
      "                                                VAL                                                        \n",
      "-----------------------------------------------------------------------------------------------------------\n",
      "              precision    recall  f1-score   support\n",
      "\n",
      "         0.0       0.86      0.93      0.90     24966\n",
      "         1.0       0.93      0.85      0.89     24965\n",
      "\n",
      "    accuracy                           0.89     49931\n",
      "   macro avg       0.90      0.89      0.89     49931\n",
      "weighted avg       0.90      0.89      0.89     49931\n",
      "\n",
      "[[23322  1644]\n",
      " [ 3725 21240]]\n",
      "___________________________________________________________________________________________________________\n",
      "                                                TEST                                                       \n",
      "-----------------------------------------------------------------------------------------------------------\n",
      "              precision    recall  f1-score   support\n",
      "\n",
      "         0.0       0.73      0.76      0.74     15216\n",
      "         1.0       0.87      0.85      0.86     29371\n",
      "\n",
      "    accuracy                           0.82     44587\n",
      "   macro avg       0.80      0.81      0.80     44587\n",
      "weighted avg       0.82      0.82      0.82     44587\n",
      "\n",
      "[[11493  3723]\n",
      " [ 4265 25106]]\n"
     ]
    }
   ],
   "source": [
    "metrics(y_val, predictions_val , y_test, predictions) "
   ]
  }
 ],
 "metadata": {
  "kernelspec": {
   "display_name": "Python 3",
   "language": "python",
   "name": "python3"
  },
  "language_info": {
   "codemirror_mode": {
    "name": "ipython",
    "version": 3
   },
   "file_extension": ".py",
   "mimetype": "text/x-python",
   "name": "python",
   "nbconvert_exporter": "python",
   "pygments_lexer": "ipython3",
   "version": "3.7.6"
  }
 },
 "nbformat": 4,
 "nbformat_minor": 4
}
